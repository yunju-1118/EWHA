{
  "cells": [
    {
      "cell_type": "markdown",
      "metadata": {
        "id": "view-in-github",
        "colab_type": "text"
      },
      "source": [
        "<a href=\"https://colab.research.google.com/github/yunju-1118/EWHA/blob/2025-1-Statistical-Methods-for-Big-Data-Analysis/HW4.ipynb\" target=\"_parent\"><img src=\"https://colab.research.google.com/assets/colab-badge.svg\" alt=\"Open In Colab\"/></a>"
      ]
    },
    {
      "cell_type": "markdown",
      "metadata": {
        "id": "i_QlA3N5vskQ"
      },
      "source": [
        "#**HW#4 - 2329031 정윤주**\n",
        "##**Problem 1. Short Question**"
      ]
    },
    {
      "cell_type": "markdown",
      "metadata": {
        "id": "ZM8efEOkv2rP"
      },
      "source": [
        "**(a) CNN 모델은 크게 3가지 종류의 층으로 구성된다. 3가지 층에 대하여 그 이름과 각 층의\n",
        "역할에 대해 서술하시오.**"
      ]
    },
    {
      "cell_type": "markdown",
      "metadata": {
        "id": "tQFV0I__w66D"
      },
      "source": [
        "CNN 모델은 **Convolution layer, Pooling layer, Fully-connected layer**로 구성된다. Convolution layer는 일정한 사이즈로 입력된 데이터를 구분한 후 필터와 곱연산을 통해 특성 맵을 추출한다. 이후, pooling layer에서는 지정한 사이즈로 구분해 각 구역당 max pooling 또는 average pooling 하나만을 남겨 크기를 축소한다. 마지막으로 Fuly connected layer에서는 flatten된 데이터에서 각 클래스에 속할 확률을 계산한다."
      ]
    },
    {
      "cell_type": "markdown",
      "metadata": {
        "id": "mK7dC3Oov7PT"
      },
      "source": [
        "**(b) 합성곱 층(convolutional layer)의 2가지 핵심 파라미터에 대해 서술하시오.**"
      ]
    },
    {
      "cell_type": "markdown",
      "metadata": {
        "id": "REQ0pIuix_A6"
      },
      "source": [
        "**filters**와 **kernel_size**이다. filters의 경우 몇 개의 filter를 이용할지 결정하고, kernel_size는 filter의 사이즈를 결정한다."
      ]
    },
    {
      "cell_type": "markdown",
      "metadata": {
        "id": "cYJGX6TGv-nK"
      },
      "source": [
        "**(c) 딥러닝 모델에서 이미지를 분석하기 위해서는 이미지 데이터를 컴퓨터가 이해할 수 있는 형태로 변환하는 과정이 필요하다. 이 과정에 대해 서술하시오.**"
      ]
    },
    {
      "cell_type": "markdown",
      "metadata": {
        "id": "5xmsTQdWyNbQ"
      },
      "source": [
        "이미지를 pixel 단위로 나누어 각 pixel의 값을 [0,255] 사이의 숫자로 변환한 후, matrix로 변환함으로써 컴퓨터가 이해할 수 있는 형태로 변환한다. 컬러 이미지의 경우 각 pixel의 값을 RGB를 이용해 3가지 숫자로 나눈다. 즉, 컴퓨터에서는 3차원 data matrix를 인식하게 된다."
      ]
    },
    {
      "cell_type": "markdown",
      "metadata": {
        "id": "U5W97vm0wAk6"
      },
      "source": [
        "**(d) 이미지가 filter를 지나가면서 input size와 output size가 달라지거나 그대로 유지된다. 이미\n",
        "지의 input size와 output size가 같아지도록 만드는 convolution layer의 hyper-parameter에 대\n",
        "해 서술하시오.**"
      ]
    },
    {
      "cell_type": "markdown",
      "metadata": {
        "id": "biQ1vI9AyuZo"
      },
      "source": [
        "input size와 output size를 동일하게 만드는 하이퍼 파라미터는 **padding**이다. padding은 이미지의 가장자리에 0을 추가하여 이미지가 down scale 되는 것을 막고 input size와 output size를 동일하게 만든다. padding을 하지 않을 경우 convolution layer를 거칠수록 feature map의 크기는 감소한다."
      ]
    },
    {
      "cell_type": "markdown",
      "metadata": {
        "id": "ZDdnkLbxwFRz"
      },
      "source": [
        "## **Problem2. MNIST**"
      ]
    },
    {
      "cell_type": "markdown",
      "metadata": {
        "id": "533-MKAbwLCr"
      },
      "source": [
        "**(a) Keras에 내장된 mnist dataset을 불러들인 후 train data와 test data로 분리하시오.**"
      ]
    },
    {
      "cell_type": "code",
      "execution_count": null,
      "metadata": {
        "colab": {
          "background_save": true
        },
        "id": "Py4iE2NFzGtp"
      },
      "outputs": [],
      "source": [
        "# import library\n",
        "import sys\n",
        "import tensorflow as tf\n",
        "from tensorflow.keras import layers\n",
        "\n",
        "import keras\n",
        "from keras.models import Sequential\n",
        "from keras.layers import Dense, Dropout, Flatten, Conv2D, MaxPooling2D\n",
        "from tensorflow.keras.utils import to_categorical\n",
        "\n",
        "import numpy as np\n",
        "import matplotlib.pyplot as plt\n",
        "import pandas as pd"
      ]
    },
    {
      "cell_type": "code",
      "execution_count": null,
      "metadata": {
        "colab": {
          "base_uri": "https://localhost:8080/"
        },
        "id": "HH8ZEyCZzrcP",
        "outputId": "1386ec63-b453-452d-e913-ea08ca51fd46"
      },
      "outputs": [
        {
          "name": "stdout",
          "output_type": "stream",
          "text": [
            "Downloading data from https://storage.googleapis.com/tensorflow/tf-keras-datasets/mnist.npz\n",
            "\u001b[1m11490434/11490434\u001b[0m \u001b[32m━━━━━━━━━━━━━━━━━━━━\u001b[0m\u001b[37m\u001b[0m \u001b[1m1s\u001b[0m 0us/step\n"
          ]
        }
      ],
      "source": [
        "(x_train, y_train), (x_test,y_test) = keras.datasets.mnist.load_data()"
      ]
    },
    {
      "cell_type": "code",
      "execution_count": null,
      "metadata": {
        "colab": {
          "base_uri": "https://localhost:8080/"
        },
        "id": "vpTj-heDz5WX",
        "outputId": "fb8c2f0f-5e02-40f9-ecd2-24e187929570"
      },
      "outputs": [
        {
          "name": "stdout",
          "output_type": "stream",
          "text": [
            "x_train : (60000, 28, 28)\n",
            "y_train : (60000,)\n",
            "x_test : (10000, 28, 28)\n",
            "y_test : (10000,)\n"
          ]
        }
      ],
      "source": [
        "print(f'x_train : {x_train.shape}')\n",
        "print(f'y_train : {y_train.shape}')\n",
        "print(f'x_test : {x_test.shape}')\n",
        "print(f'y_test : {y_test.shape}')"
      ]
    },
    {
      "cell_type": "markdown",
      "metadata": {
        "id": "yujNabtSwOwk"
      },
      "source": [
        "**(b) 이미지를 model에 넣기 위해 각 pixel의 값을 숫자로 변형시키는 전처리 과정을 수행하고,\n",
        "data normalization을 하시오.**"
      ]
    },
    {
      "cell_type": "code",
      "execution_count": null,
      "metadata": {
        "id": "eKi0I0nuz9C7"
      },
      "outputs": [],
      "source": [
        "img_rows = 28\n",
        "img_cols = 28\n",
        "\n",
        "input_shape = (img_rows, img_cols, 1)\n",
        "\n",
        "x_train = x_train.reshape(x_train.shape[0], img_rows, img_cols, 1).astype('float32')\n",
        "x_test = x_test.reshape(x_test.shape[0], img_rows, img_cols, 1).astype('float32')\n",
        "\n",
        "# normalization\n",
        "x_train /= 255\n",
        "x_test /= 255"
      ]
    },
    {
      "cell_type": "markdown",
      "metadata": {
        "id": "qZ_SwMVfwQ8p"
      },
      "source": [
        "**(c) 필요한 변수에 대하여 one-hot encoding을 하시오.**"
      ]
    },
    {
      "cell_type": "code",
      "execution_count": null,
      "metadata": {
        "id": "9UplqZaa0KuF"
      },
      "outputs": [],
      "source": [
        "y_train = to_categorical(y_train, 10)\n",
        "y_test = to_categorical(y_test, 10)"
      ]
    },
    {
      "cell_type": "markdown",
      "metadata": {
        "id": "fphSTuwmwU6U"
      },
      "source": [
        "**(d) 딥러닝 모델을 정의할 때 모델의 하이퍼 파라미터는 모델의 성능에 영향을 준다. 따라서,\n",
        "좋은 성능의 모델을 찾기 위해선 은닉층의 개수, 층마다 있는 뉴런의 개수, 각 층에서 사용하는 활성화 함수, 가중치 초기화, 에포트, 배치 사이즈 등 다양한 하이퍼 파라미터에\n",
        "변화를 주며 최적의 조합을 찾아내야 한다. Keras를 이용하여 모델을 정의하도록 하며, 위에서 언급한 하이퍼 파라미터의 설정에 변화를 주어 각각 다른 5개의 모델을 정의하시오.\n",
        "이때, 모든 모델은 pooling layer를 반드시 포함하며, 적어도 하나의 모델은 drop out을 하이\n",
        "퍼 파라미터로 설정하시오. (모델에 대한 코드를 반드시 첨부할 것.)**"
      ]
    },
    {
      "cell_type": "code",
      "execution_count": null,
      "metadata": {
        "colab": {
          "base_uri": "https://localhost:8080/"
        },
        "id": "V7jCIcDo0iFS",
        "outputId": "236c5a4c-2324-444a-851a-bed2aa02f511"
      },
      "outputs": [
        {
          "name": "stderr",
          "output_type": "stream",
          "text": [
            "/usr/local/lib/python3.11/dist-packages/keras/src/layers/convolutional/base_conv.py:107: UserWarning: Do not pass an `input_shape`/`input_dim` argument to a layer. When using Sequential models, prefer using an `Input(shape)` object as the first layer in the model instead.\n",
            "  super().__init__(activity_regularizer=activity_regularizer, **kwargs)\n"
          ]
        },
        {
          "name": "stdout",
          "output_type": "stream",
          "text": [
            "Epoch 1/10\n",
            "\u001b[1m469/469\u001b[0m \u001b[32m━━━━━━━━━━━━━━━━━━━━\u001b[0m\u001b[37m\u001b[0m \u001b[1m41s\u001b[0m 84ms/step - accuracy: 0.7665 - loss: 0.7524 - val_accuracy: 0.9758 - val_loss: 0.0857\n",
            "Epoch 2/10\n",
            "\u001b[1m469/469\u001b[0m \u001b[32m━━━━━━━━━━━━━━━━━━━━\u001b[0m\u001b[37m\u001b[0m \u001b[1m39s\u001b[0m 82ms/step - accuracy: 0.9645 - loss: 0.1228 - val_accuracy: 0.9815 - val_loss: 0.0633\n",
            "Epoch 3/10\n",
            "\u001b[1m469/469\u001b[0m \u001b[32m━━━━━━━━━━━━━━━━━━━━\u001b[0m\u001b[37m\u001b[0m \u001b[1m39s\u001b[0m 84ms/step - accuracy: 0.9729 - loss: 0.0914 - val_accuracy: 0.9852 - val_loss: 0.0453\n",
            "Epoch 4/10\n",
            "\u001b[1m469/469\u001b[0m \u001b[32m━━━━━━━━━━━━━━━━━━━━\u001b[0m\u001b[37m\u001b[0m \u001b[1m40s\u001b[0m 82ms/step - accuracy: 0.9773 - loss: 0.0744 - val_accuracy: 0.9875 - val_loss: 0.0388\n",
            "Epoch 5/10\n",
            "\u001b[1m469/469\u001b[0m \u001b[32m━━━━━━━━━━━━━━━━━━━━\u001b[0m\u001b[37m\u001b[0m \u001b[1m37s\u001b[0m 78ms/step - accuracy: 0.9810 - loss: 0.0648 - val_accuracy: 0.9881 - val_loss: 0.0386\n",
            "Epoch 6/10\n",
            "\u001b[1m469/469\u001b[0m \u001b[32m━━━━━━━━━━━━━━━━━━━━\u001b[0m\u001b[37m\u001b[0m \u001b[1m43s\u001b[0m 81ms/step - accuracy: 0.9829 - loss: 0.0556 - val_accuracy: 0.9895 - val_loss: 0.0333\n",
            "Epoch 7/10\n",
            "\u001b[1m469/469\u001b[0m \u001b[32m━━━━━━━━━━━━━━━━━━━━\u001b[0m\u001b[37m\u001b[0m \u001b[1m39s\u001b[0m 78ms/step - accuracy: 0.9852 - loss: 0.0500 - val_accuracy: 0.9889 - val_loss: 0.0298\n",
            "Epoch 8/10\n",
            "\u001b[1m469/469\u001b[0m \u001b[32m━━━━━━━━━━━━━━━━━━━━\u001b[0m\u001b[37m\u001b[0m \u001b[1m36s\u001b[0m 77ms/step - accuracy: 0.9855 - loss: 0.0471 - val_accuracy: 0.9895 - val_loss: 0.0298\n",
            "Epoch 9/10\n",
            "\u001b[1m469/469\u001b[0m \u001b[32m━━━━━━━━━━━━━━━━━━━━\u001b[0m\u001b[37m\u001b[0m \u001b[1m41s\u001b[0m 77ms/step - accuracy: 0.9858 - loss: 0.0465 - val_accuracy: 0.9896 - val_loss: 0.0316\n",
            "Epoch 10/10\n",
            "\u001b[1m469/469\u001b[0m \u001b[32m━━━━━━━━━━━━━━━━━━━━\u001b[0m\u001b[37m\u001b[0m \u001b[1m41s\u001b[0m 78ms/step - accuracy: 0.9860 - loss: 0.0435 - val_accuracy: 0.9907 - val_loss: 0.0261\n"
          ]
        },
        {
          "data": {
            "text/plain": [
              "<keras.src.callbacks.history.History at 0x7b26f1f0bc10>"
            ]
          },
          "execution_count": 6,
          "metadata": {},
          "output_type": "execute_result"
        }
      ],
      "source": [
        "model1 = keras.Sequential([\n",
        "  layers.Conv2D(32, kernel_size = (5, 5), strides = 1, activation = 'relu',\n",
        "                input_shape = input_shape),\n",
        "  layers.MaxPooling2D(pool_size = (2, 2), strides = 2),\n",
        "  layers.Conv2D(64, kernel_size = (2, 2), activation = 'relu'),\n",
        "  layers.MaxPooling2D(pool_size = (2, 2), strides = 2),\n",
        "  layers.Flatten(),\n",
        "  layers.Dropout(0.5),\n",
        "  layers.Dense(10, activation = 'softmax')\n",
        "])\n",
        "\n",
        "model1.compile(loss='categorical_crossentropy', optimizer='adam', metrics=['accuracy'])\n",
        "\n",
        "model1.fit(x_train, y_train, batch_size=128, epochs=10, verbose=1,\n",
        "                 validation_data=(x_test, y_test))"
      ]
    },
    {
      "cell_type": "code",
      "execution_count": null,
      "metadata": {
        "colab": {
          "base_uri": "https://localhost:8080/"
        },
        "id": "1bwIPi651tvl",
        "outputId": "924cea9e-75ab-4395-ea88-528772cf0e93"
      },
      "outputs": [
        {
          "name": "stdout",
          "output_type": "stream",
          "text": [
            "Epoch 1/5\n",
            "\u001b[1m469/469\u001b[0m \u001b[32m━━━━━━━━━━━━━━━━━━━━\u001b[0m\u001b[37m\u001b[0m \u001b[1m31s\u001b[0m 62ms/step - accuracy: 0.8764 - loss: 0.4302 - val_accuracy: 0.9758 - val_loss: 0.0804\n",
            "Epoch 2/5\n",
            "\u001b[1m469/469\u001b[0m \u001b[32m━━━━━━━━━━━━━━━━━━━━\u001b[0m\u001b[37m\u001b[0m \u001b[1m38s\u001b[0m 57ms/step - accuracy: 0.9776 - loss: 0.0776 - val_accuracy: 0.9802 - val_loss: 0.0625\n",
            "Epoch 3/5\n",
            "\u001b[1m469/469\u001b[0m \u001b[32m━━━━━━━━━━━━━━━━━━━━\u001b[0m\u001b[37m\u001b[0m \u001b[1m42s\u001b[0m 59ms/step - accuracy: 0.9858 - loss: 0.0484 - val_accuracy: 0.9820 - val_loss: 0.0529\n",
            "Epoch 4/5\n",
            "\u001b[1m469/469\u001b[0m \u001b[32m━━━━━━━━━━━━━━━━━━━━\u001b[0m\u001b[37m\u001b[0m \u001b[1m40s\u001b[0m 57ms/step - accuracy: 0.9911 - loss: 0.0323 - val_accuracy: 0.9842 - val_loss: 0.0479\n",
            "Epoch 5/5\n",
            "\u001b[1m469/469\u001b[0m \u001b[32m━━━━━━━━━━━━━━━━━━━━\u001b[0m\u001b[37m\u001b[0m \u001b[1m41s\u001b[0m 57ms/step - accuracy: 0.9934 - loss: 0.0231 - val_accuracy: 0.9844 - val_loss: 0.0481\n"
          ]
        },
        {
          "data": {
            "text/plain": [
              "<keras.src.callbacks.history.History at 0x7b26ef3ace50>"
            ]
          },
          "execution_count": 7,
          "metadata": {},
          "output_type": "execute_result"
        }
      ],
      "source": [
        "model2 = Sequential([\n",
        "    Conv2D(32, kernel_size=(3, 3), activation='relu', input_shape=input_shape),\n",
        "    MaxPooling2D(pool_size=(2, 2)),\n",
        "    Flatten(),\n",
        "    Dense(128, activation='relu'),\n",
        "    Dense(10, activation='softmax')\n",
        "])\n",
        "\n",
        "model2.compile(optimizer='adam', loss='categorical_crossentropy', metrics=['accuracy'])\n",
        "\n",
        "model2.fit(x_train, y_train, epochs=5, batch_size=128, validation_data=(x_test, y_test))"
      ]
    },
    {
      "cell_type": "code",
      "execution_count": null,
      "metadata": {
        "colab": {
          "base_uri": "https://localhost:8080/"
        },
        "id": "sSmHVPb6173o",
        "outputId": "96a28b21-eca4-43c7-9ed2-52b5cbd808a0"
      },
      "outputs": [
        {
          "name": "stdout",
          "output_type": "stream",
          "text": [
            "Epoch 1/7\n",
            "\u001b[1m938/938\u001b[0m \u001b[32m━━━━━━━━━━━━━━━━━━━━\u001b[0m\u001b[37m\u001b[0m \u001b[1m86s\u001b[0m 89ms/step - accuracy: 0.9019 - loss: 0.3437 - val_accuracy: 0.9839 - val_loss: 0.0545\n",
            "Epoch 2/7\n",
            "\u001b[1m938/938\u001b[0m \u001b[32m━━━━━━━━━━━━━━━━━━━━\u001b[0m\u001b[37m\u001b[0m \u001b[1m82s\u001b[0m 88ms/step - accuracy: 0.9867 - loss: 0.0481 - val_accuracy: 0.9869 - val_loss: 0.0433\n",
            "Epoch 3/7\n",
            "\u001b[1m938/938\u001b[0m \u001b[32m━━━━━━━━━━━━━━━━━━━━\u001b[0m\u001b[37m\u001b[0m \u001b[1m83s\u001b[0m 88ms/step - accuracy: 0.9912 - loss: 0.0304 - val_accuracy: 0.9888 - val_loss: 0.0342\n",
            "Epoch 4/7\n",
            "\u001b[1m938/938\u001b[0m \u001b[32m━━━━━━━━━━━━━━━━━━━━\u001b[0m\u001b[37m\u001b[0m \u001b[1m140s\u001b[0m 86ms/step - accuracy: 0.9935 - loss: 0.0232 - val_accuracy: 0.9891 - val_loss: 0.0339\n",
            "Epoch 5/7\n",
            "\u001b[1m938/938\u001b[0m \u001b[32m━━━━━━━━━━━━━━━━━━━━\u001b[0m\u001b[37m\u001b[0m \u001b[1m87s\u001b[0m 91ms/step - accuracy: 0.9946 - loss: 0.0181 - val_accuracy: 0.9873 - val_loss: 0.0393\n",
            "Epoch 6/7\n",
            "\u001b[1m938/938\u001b[0m \u001b[32m━━━━━━━━━━━━━━━━━━━━\u001b[0m\u001b[37m\u001b[0m \u001b[1m84s\u001b[0m 90ms/step - accuracy: 0.9963 - loss: 0.0134 - val_accuracy: 0.9870 - val_loss: 0.0427\n",
            "Epoch 7/7\n",
            "\u001b[1m938/938\u001b[0m \u001b[32m━━━━━━━━━━━━━━━━━━━━\u001b[0m\u001b[37m\u001b[0m \u001b[1m84s\u001b[0m 89ms/step - accuracy: 0.9972 - loss: 0.0112 - val_accuracy: 0.9868 - val_loss: 0.0409\n"
          ]
        },
        {
          "data": {
            "text/plain": [
              "<keras.src.callbacks.history.History at 0x7b26ef1c4810>"
            ]
          },
          "execution_count": 8,
          "metadata": {},
          "output_type": "execute_result"
        }
      ],
      "source": [
        "model3 = Sequential([\n",
        "    Conv2D(64, (3, 3), activation='tanh', input_shape=input_shape),\n",
        "    MaxPooling2D(pool_size=(2, 2)),\n",
        "    Conv2D(64, (3, 3), activation='tanh'),\n",
        "    MaxPooling2D(pool_size=(2, 2)),\n",
        "    Flatten(),\n",
        "    Dense(64, activation='tanh'),\n",
        "    Dense(10, activation='softmax')\n",
        "])\n",
        "\n",
        "model3.compile(optimizer='adam', loss='categorical_crossentropy', metrics=['accuracy'])\n",
        "\n",
        "model3.fit(x_train, y_train, epochs=7, batch_size=64, validation_data=(x_test, y_test))"
      ]
    },
    {
      "cell_type": "code",
      "execution_count": null,
      "metadata": {
        "colab": {
          "base_uri": "https://localhost:8080/"
        },
        "id": "SAOS7BP212fE",
        "outputId": "68e31822-f0bf-4e37-c6dc-b903b982d6a7"
      },
      "outputs": [
        {
          "name": "stdout",
          "output_type": "stream",
          "text": [
            "Epoch 1/10\n",
            "\u001b[1m600/600\u001b[0m \u001b[32m━━━━━━━━━━━━━━━━━━━━\u001b[0m\u001b[37m\u001b[0m \u001b[1m33s\u001b[0m 53ms/step - accuracy: 0.8327 - loss: 0.5584 - val_accuracy: 0.9749 - val_loss: 0.0818\n",
            "Epoch 2/10\n",
            "\u001b[1m600/600\u001b[0m \u001b[32m━━━━━━━━━━━━━━━━━━━━\u001b[0m\u001b[37m\u001b[0m \u001b[1m34s\u001b[0m 57ms/step - accuracy: 0.9615 - loss: 0.1305 - val_accuracy: 0.9808 - val_loss: 0.0593\n",
            "Epoch 3/10\n",
            "\u001b[1m600/600\u001b[0m \u001b[32m━━━━━━━━━━━━━━━━━━━━\u001b[0m\u001b[37m\u001b[0m \u001b[1m38s\u001b[0m 53ms/step - accuracy: 0.9699 - loss: 0.0985 - val_accuracy: 0.9836 - val_loss: 0.0499\n",
            "Epoch 4/10\n",
            "\u001b[1m600/600\u001b[0m \u001b[32m━━━━━━━━━━━━━━━━━━━━\u001b[0m\u001b[37m\u001b[0m \u001b[1m40s\u001b[0m 51ms/step - accuracy: 0.9753 - loss: 0.0804 - val_accuracy: 0.9839 - val_loss: 0.0497\n",
            "Epoch 5/10\n",
            "\u001b[1m600/600\u001b[0m \u001b[32m━━━━━━━━━━━━━━━━━━━━\u001b[0m\u001b[37m\u001b[0m \u001b[1m43s\u001b[0m 54ms/step - accuracy: 0.9779 - loss: 0.0731 - val_accuracy: 0.9859 - val_loss: 0.0432\n",
            "Epoch 6/10\n",
            "\u001b[1m600/600\u001b[0m \u001b[32m━━━━━━━━━━━━━━━━━━━━\u001b[0m\u001b[37m\u001b[0m \u001b[1m41s\u001b[0m 55ms/step - accuracy: 0.9800 - loss: 0.0635 - val_accuracy: 0.9862 - val_loss: 0.0390\n",
            "Epoch 7/10\n",
            "\u001b[1m600/600\u001b[0m \u001b[32m━━━━━━━━━━━━━━━━━━━━\u001b[0m\u001b[37m\u001b[0m \u001b[1m32s\u001b[0m 53ms/step - accuracy: 0.9816 - loss: 0.0574 - val_accuracy: 0.9852 - val_loss: 0.0434\n",
            "Epoch 8/10\n",
            "\u001b[1m600/600\u001b[0m \u001b[32m━━━━━━━━━━━━━━━━━━━━\u001b[0m\u001b[37m\u001b[0m \u001b[1m32s\u001b[0m 53ms/step - accuracy: 0.9844 - loss: 0.0483 - val_accuracy: 0.9876 - val_loss: 0.0374\n",
            "Epoch 9/10\n",
            "\u001b[1m600/600\u001b[0m \u001b[32m━━━━━━━━━━━━━━━━━━━━\u001b[0m\u001b[37m\u001b[0m \u001b[1m41s\u001b[0m 52ms/step - accuracy: 0.9851 - loss: 0.0465 - val_accuracy: 0.9887 - val_loss: 0.0350\n",
            "Epoch 10/10\n",
            "\u001b[1m600/600\u001b[0m \u001b[32m━━━━━━━━━━━━━━━━━━━━\u001b[0m\u001b[37m\u001b[0m \u001b[1m40s\u001b[0m 51ms/step - accuracy: 0.9861 - loss: 0.0438 - val_accuracy: 0.9871 - val_loss: 0.0408\n"
          ]
        },
        {
          "data": {
            "text/plain": [
              "<keras.src.callbacks.history.History at 0x7b26eeee6750>"
            ]
          },
          "execution_count": 9,
          "metadata": {},
          "output_type": "execute_result"
        }
      ],
      "source": [
        "# drop out 포함\n",
        "model4 = Sequential([\n",
        "    Conv2D(32, (3, 3), activation='relu', input_shape=input_shape),\n",
        "    MaxPooling2D(pool_size=(2, 2)),\n",
        "    Dropout(0.25),\n",
        "    Flatten(),\n",
        "    Dense(128, activation='relu'),\n",
        "    Dropout(0.5),\n",
        "    Dense(10, activation='softmax')\n",
        "])\n",
        "\n",
        "model4.compile(optimizer='adam', loss='categorical_crossentropy', metrics=['accuracy'])\n",
        "\n",
        "model4.fit(x_train, y_train, epochs=10, batch_size=100, validation_data=(x_test, y_test))"
      ]
    },
    {
      "cell_type": "code",
      "execution_count": null,
      "metadata": {
        "colab": {
          "base_uri": "https://localhost:8080/"
        },
        "id": "MatF4fVN2ZKA",
        "outputId": "ad2bd456-6e67-4774-9ad0-e4e37053fa06"
      },
      "outputs": [
        {
          "name": "stdout",
          "output_type": "stream",
          "text": [
            "Epoch 1/5\n",
            "\u001b[1m1875/1875\u001b[0m \u001b[32m━━━━━━━━━━━━━━━━━━━━\u001b[0m\u001b[37m\u001b[0m \u001b[1m28s\u001b[0m 14ms/step - accuracy: 0.5021 - loss: 1.5619 - val_accuracy: 0.9099 - val_loss: 0.3328\n",
            "Epoch 2/5\n",
            "\u001b[1m1875/1875\u001b[0m \u001b[32m━━━━━━━━━━━━━━━━━━━━\u001b[0m\u001b[37m\u001b[0m \u001b[1m27s\u001b[0m 14ms/step - accuracy: 0.9101 - loss: 0.3213 - val_accuracy: 0.9217 - val_loss: 0.2615\n",
            "Epoch 3/5\n",
            "\u001b[1m1875/1875\u001b[0m \u001b[32m━━━━━━━━━━━━━━━━━━━━\u001b[0m\u001b[37m\u001b[0m \u001b[1m41s\u001b[0m 14ms/step - accuracy: 0.9249 - loss: 0.2533 - val_accuracy: 0.9319 - val_loss: 0.2263\n",
            "Epoch 4/5\n",
            "\u001b[1m1875/1875\u001b[0m \u001b[32m━━━━━━━━━━━━━━━━━━━━\u001b[0m\u001b[37m\u001b[0m \u001b[1m41s\u001b[0m 14ms/step - accuracy: 0.9359 - loss: 0.2159 - val_accuracy: 0.9454 - val_loss: 0.1925\n",
            "Epoch 5/5\n",
            "\u001b[1m1875/1875\u001b[0m \u001b[32m━━━━━━━━━━━━━━━━━━━━\u001b[0m\u001b[37m\u001b[0m \u001b[1m26s\u001b[0m 14ms/step - accuracy: 0.9452 - loss: 0.1820 - val_accuracy: 0.9479 - val_loss: 0.1773\n"
          ]
        },
        {
          "data": {
            "text/plain": [
              "<keras.src.callbacks.history.History at 0x7b26eebe4e50>"
            ]
          },
          "execution_count": 10,
          "metadata": {},
          "output_type": "execute_result"
        }
      ],
      "source": [
        "model5 = Sequential([\n",
        "    Conv2D(16, (3, 3), activation='sigmoid', input_shape=input_shape),\n",
        "    MaxPooling2D(pool_size=(2, 2)),\n",
        "    Flatten(),\n",
        "    Dense(64, activation='sigmoid'),\n",
        "    Dense(10, activation='softmax')\n",
        "])\n",
        "\n",
        "model5.compile(optimizer='adam', loss='categorical_crossentropy', metrics=['accuracy'])\n",
        "\n",
        "model5.fit(x_train, y_train, epochs=5, batch_size=32, validation_data=(x_test, y_test))"
      ]
    },
    {
      "cell_type": "markdown",
      "metadata": {
        "id": "L-PZr9gpwXwG"
      },
      "source": [
        "**(e) (d)의 결과에 대하여 모델별로 confution matrix를 구하시오. 어떤 모델의 성능이 가장 좋은\n",
        "가?**"
      ]
    },
    {
      "cell_type": "code",
      "execution_count": null,
      "metadata": {
        "id": "p0emlfrW-d5Y"
      },
      "outputs": [],
      "source": [
        "from sklearn.metrics import confusion_matrix"
      ]
    },
    {
      "cell_type": "code",
      "execution_count": null,
      "metadata": {
        "colab": {
          "base_uri": "https://localhost:8080/"
        },
        "id": "4vw5lIpg-hxk",
        "outputId": "e8529af1-6c4f-4f85-fef3-a0194b60aa0d"
      },
      "outputs": [
        {
          "name": "stdout",
          "output_type": "stream",
          "text": [
            "\u001b[1m313/313\u001b[0m \u001b[32m━━━━━━━━━━━━━━━━━━━━\u001b[0m\u001b[37m\u001b[0m \u001b[1m2s\u001b[0m 7ms/step\n",
            "model1:\n",
            " [[ 975    0    0    0    1    0    2    1    1    0]\n",
            " [   0 1132    1    0    0    0    1    1    0    0]\n",
            " [   0    3 1019    0    2    0    1    5    2    0]\n",
            " [   0    0    2 1002    0    2    0    4    0    0]\n",
            " [   0    0    0    0  974    0    1    0    2    5]\n",
            " [   1    0    0    4    0  884    1    1    1    0]\n",
            " [   1    2    0    0    1    1  953    0    0    0]\n",
            " [   0    1    4    3    0    1    0 1018    1    0]\n",
            " [   2    1    2    1    1    0    2    3  958    4]\n",
            " [   1    0    0    1    3    5    0    5    2  992]]\n"
          ]
        }
      ],
      "source": [
        "y_pred1 = model1.predict(x_test)\n",
        "ypred_class = np.argmax(y_pred1, axis=1)\n",
        "ytest_class = np.argmax(y_test, axis=1)\n",
        "\n",
        "cf1 = confusion_matrix(ytest_class, ypred_class)\n",
        "print('model1:\\n', cf1)"
      ]
    },
    {
      "cell_type": "code",
      "execution_count": null,
      "metadata": {
        "colab": {
          "base_uri": "https://localhost:8080/"
        },
        "id": "_d_VSK8e-9fq",
        "outputId": "496a1d5d-1b36-42e3-c093-22c5a313f246"
      },
      "outputs": [
        {
          "name": "stdout",
          "output_type": "stream",
          "text": [
            "\u001b[1m313/313\u001b[0m \u001b[32m━━━━━━━━━━━━━━━━━━━━\u001b[0m\u001b[37m\u001b[0m \u001b[1m2s\u001b[0m 6ms/step\n",
            "model1:\n",
            " [[ 972    0    3    0    0    2    1    1    0    1]\n",
            " [   0 1129    1    1    1    0    1    1    1    0]\n",
            " [   2    4  999   13    2    0    2    7    2    1]\n",
            " [   0    0    0 1006    0    1    0    2    1    0]\n",
            " [   0    0    0    0  975    0    0    0    0    7]\n",
            " [   1    0    0    6    0  883    1    0    1    0]\n",
            " [   8    2    1    1    1    3  940    0    2    0]\n",
            " [   0    2    8    1    1    0    0 1007    1    8]\n",
            " [   6    0    2    7    3    4    0    2  938   12]\n",
            " [   1    1    0    2    7    1    0    2    0  995]]\n"
          ]
        }
      ],
      "source": [
        "y_pred2 = model2.predict(x_test)\n",
        "ypred_class = np.argmax(y_pred2, axis=1)\n",
        "ytest_class = np.argmax(y_test, axis=1)\n",
        "\n",
        "cf2 = confusion_matrix(ytest_class, ypred_class)\n",
        "print('model1:\\n', cf2)"
      ]
    },
    {
      "cell_type": "code",
      "execution_count": null,
      "metadata": {
        "colab": {
          "base_uri": "https://localhost:8080/"
        },
        "id": "K6yisiJY_Bu3",
        "outputId": "e00c69f7-5b7a-495b-8b57-c4fee5902aaa"
      },
      "outputs": [
        {
          "name": "stdout",
          "output_type": "stream",
          "text": [
            "\u001b[1m313/313\u001b[0m \u001b[32m━━━━━━━━━━━━━━━━━━━━\u001b[0m\u001b[37m\u001b[0m \u001b[1m5s\u001b[0m 15ms/step\n",
            "model1:\n",
            " [[ 974    0    2    0    0    0    1    1    2    0]\n",
            " [   0 1123    0    3    0    0    3    4    2    0]\n",
            " [   0    0 1017    3    0    0    0    3    9    0]\n",
            " [   0    0    1 1005    0    0    0    0    3    1]\n",
            " [   0    0    1    0  966    0    3    1    4    7]\n",
            " [   1    0    1   11    0  867    4    0    5    3]\n",
            " [   3    1    1    0    1    1  948    0    3    0]\n",
            " [   0    0    7    2    0    0    0 1013    2    4]\n",
            " [   1    0    1    4    0    2    0    2  964    0]\n",
            " [   2    0    0    4    1    3    0    0    8  991]]\n"
          ]
        }
      ],
      "source": [
        "y_pred3 = model3.predict(x_test)\n",
        "ypred_class = np.argmax(y_pred3, axis=1)\n",
        "ytest_class = np.argmax(y_test, axis=1)\n",
        "\n",
        "cf3 = confusion_matrix(ytest_class, ypred_class)\n",
        "print('model1:\\n', cf3)"
      ]
    },
    {
      "cell_type": "code",
      "execution_count": null,
      "metadata": {
        "colab": {
          "base_uri": "https://localhost:8080/"
        },
        "id": "_EkN0b0W_F5a",
        "outputId": "b53dc51b-a3e1-489d-d0c5-7e61e3626fc9"
      },
      "outputs": [
        {
          "name": "stdout",
          "output_type": "stream",
          "text": [
            "\u001b[1m313/313\u001b[0m \u001b[32m━━━━━━━━━━━━━━━━━━━━\u001b[0m\u001b[37m\u001b[0m \u001b[1m2s\u001b[0m 5ms/step\n",
            "model1:\n",
            " [[ 976    1    0    0    0    0    1    1    1    0]\n",
            " [   0 1131    2    0    0    0    2    0    0    0]\n",
            " [   1    3 1018    1    1    0    1    6    1    0]\n",
            " [   0    0    0  999    0    3    0    5    3    0]\n",
            " [   0    0    0    0  973    0    4    0    1    4]\n",
            " [   1    0    0    5    0  883    3    0    0    0]\n",
            " [   5    2    0    1    3    1  945    0    1    0]\n",
            " [   1    2    8    0    0    0    0 1015    1    1]\n",
            " [   3    1    1    3    2    0    0    3  956    5]\n",
            " [   3    2    0    5   12    5    0    5    2  975]]\n"
          ]
        }
      ],
      "source": [
        "y_pred4 = model4.predict(x_test)\n",
        "ypred_class = np.argmax(y_pred4, axis=1)\n",
        "ytest_class = np.argmax(y_test, axis=1)\n",
        "\n",
        "cf4 = confusion_matrix(ytest_class, ypred_class)\n",
        "print('model1:\\n', cf4)"
      ]
    },
    {
      "cell_type": "code",
      "execution_count": null,
      "metadata": {
        "colab": {
          "base_uri": "https://localhost:8080/"
        },
        "id": "IKKSOJdJ_Ll3",
        "outputId": "28abd5bb-39dd-45c5-e416-d8d8c683aff3"
      },
      "outputs": [
        {
          "name": "stdout",
          "output_type": "stream",
          "text": [
            "\u001b[1m313/313\u001b[0m \u001b[32m━━━━━━━━━━━━━━━━━━━━\u001b[0m\u001b[37m\u001b[0m \u001b[1m1s\u001b[0m 4ms/step\n",
            "model1:\n",
            " [[ 965    0    2    1    0    2    6    2    1    1]\n",
            " [   0 1116    5    3    1    1    4    0    5    0]\n",
            " [   6    1  971   15    5    1    5    9   16    3]\n",
            " [   1    0   25  940    1    5    3   11   12   12]\n",
            " [   1    1    7    0  931    0    8    4    2   28]\n",
            " [   7    0    1   26    8  797   15    8   20   10]\n",
            " [   6    2    3    1    3    4  935    2    2    0]\n",
            " [   3    5   27    4    3    0    0  964    2   20]\n",
            " [   6    1    9   11    6    5   10    6  913    7]\n",
            " [   6    5    1    7   23    2    1   12    5  947]]\n"
          ]
        }
      ],
      "source": [
        "y_pred5 = model5.predict(x_test)\n",
        "ypred_class = np.argmax(y_pred5, axis=1)\n",
        "ytest_class = np.argmax(y_test, axis=1)\n",
        "\n",
        "cf5 = confusion_matrix(ytest_class, ypred_class)\n",
        "print('model1:\\n', cf5)"
      ]
    },
    {
      "cell_type": "markdown",
      "metadata": {
        "id": "-DGGUjajAIUQ"
      },
      "source": [
        "confusion matrix를 확인했을 때, model1의 성능이 가장 뛰어난 것으로 확인할 수 있다."
      ]
    },
    {
      "cell_type": "markdown",
      "metadata": {
        "id": "N73wUTe5wbu5"
      },
      "source": [
        "**(f) (d)에서 정의한 모델 중 하나를 선택하여 callback option을 설정하여 학습을 진행할 것이다.\n",
        "epoch=100, batch_size=32으로 설정한 후, Call back option을 사용하여 model의 accuracy가 20\n",
        "번 동안 좋아지지 않으면 학습을 멈추도록 설정하시오. 또한, training history를 시각화하여\n",
        "plot을 첨부하시오.**"
      ]
    },
    {
      "cell_type": "code",
      "execution_count": null,
      "metadata": {
        "colab": {
          "base_uri": "https://localhost:8080/"
        },
        "id": "reMsAypSAqm7",
        "outputId": "41cae60c-7c6e-4a5b-98eb-994b68954694"
      },
      "outputs": [
        {
          "name": "stderr",
          "output_type": "stream",
          "text": [
            "/usr/local/lib/python3.11/dist-packages/keras/src/layers/convolutional/base_conv.py:107: UserWarning: Do not pass an `input_shape`/`input_dim` argument to a layer. When using Sequential models, prefer using an `Input(shape)` object as the first layer in the model instead.\n",
            "  super().__init__(activity_regularizer=activity_regularizer, **kwargs)\n"
          ]
        },
        {
          "name": "stdout",
          "output_type": "stream",
          "text": [
            "Epoch 1/10\n",
            "\u001b[1m469/469\u001b[0m \u001b[32m━━━━━━━━━━━━━━━━━━━━\u001b[0m\u001b[37m\u001b[0m \u001b[1m39s\u001b[0m 81ms/step - accuracy: 0.7497 - loss: 0.7904 - val_accuracy: 0.9759 - val_loss: 0.0824\n",
            "Epoch 2/10\n",
            "\u001b[1m469/469\u001b[0m \u001b[32m━━━━━━━━━━━━━━━━━━━━\u001b[0m\u001b[37m\u001b[0m \u001b[1m43s\u001b[0m 85ms/step - accuracy: 0.9652 - loss: 0.1139 - val_accuracy: 0.9838 - val_loss: 0.0519\n",
            "Epoch 3/10\n",
            "\u001b[1m469/469\u001b[0m \u001b[32m━━━━━━━━━━━━━━━━━━━━\u001b[0m\u001b[37m\u001b[0m \u001b[1m38s\u001b[0m 79ms/step - accuracy: 0.9759 - loss: 0.0823 - val_accuracy: 0.9856 - val_loss: 0.0446\n",
            "Epoch 4/10\n",
            "\u001b[1m469/469\u001b[0m \u001b[32m━━━━━━━━━━━━━━━━━━━━\u001b[0m\u001b[37m\u001b[0m \u001b[1m38s\u001b[0m 82ms/step - accuracy: 0.9794 - loss: 0.0660 - val_accuracy: 0.9882 - val_loss: 0.0381\n",
            "Epoch 5/10\n",
            "\u001b[1m469/469\u001b[0m \u001b[32m━━━━━━━━━━━━━━━━━━━━\u001b[0m\u001b[37m\u001b[0m \u001b[1m41s\u001b[0m 81ms/step - accuracy: 0.9818 - loss: 0.0603 - val_accuracy: 0.9882 - val_loss: 0.0358\n",
            "Epoch 6/10\n",
            "\u001b[1m469/469\u001b[0m \u001b[32m━━━━━━━━━━━━━━━━━━━━\u001b[0m\u001b[37m\u001b[0m \u001b[1m41s\u001b[0m 81ms/step - accuracy: 0.9832 - loss: 0.0535 - val_accuracy: 0.9900 - val_loss: 0.0322\n",
            "Epoch 7/10\n",
            "\u001b[1m469/469\u001b[0m \u001b[32m━━━━━━━━━━━━━━━━━━━━\u001b[0m\u001b[37m\u001b[0m \u001b[1m38s\u001b[0m 81ms/step - accuracy: 0.9841 - loss: 0.0506 - val_accuracy: 0.9896 - val_loss: 0.0309\n",
            "Epoch 8/10\n",
            "\u001b[1m469/469\u001b[0m \u001b[32m━━━━━━━━━━━━━━━━━━━━\u001b[0m\u001b[37m\u001b[0m \u001b[1m40s\u001b[0m 79ms/step - accuracy: 0.9854 - loss: 0.0446 - val_accuracy: 0.9903 - val_loss: 0.0293\n",
            "Epoch 9/10\n",
            "\u001b[1m469/469\u001b[0m \u001b[32m━━━━━━━━━━━━━━━━━━━━\u001b[0m\u001b[37m\u001b[0m \u001b[1m37s\u001b[0m 79ms/step - accuracy: 0.9853 - loss: 0.0455 - val_accuracy: 0.9902 - val_loss: 0.0289\n",
            "Epoch 10/10\n",
            "\u001b[1m469/469\u001b[0m \u001b[32m━━━━━━━━━━━━━━━━━━━━\u001b[0m\u001b[37m\u001b[0m \u001b[1m37s\u001b[0m 80ms/step - accuracy: 0.9878 - loss: 0.0375 - val_accuracy: 0.9905 - val_loss: 0.0272\n"
          ]
        },
        {
          "data": {
            "text/plain": [
              "<keras.src.callbacks.history.History at 0x7b26e014f890>"
            ]
          },
          "execution_count": 17,
          "metadata": {},
          "output_type": "execute_result"
        }
      ],
      "source": [
        "model1 = keras.Sequential([\n",
        "  layers.Conv2D(32, kernel_size = (5, 5), strides = 1, activation = 'relu',\n",
        "                input_shape = input_shape),\n",
        "  layers.MaxPooling2D(pool_size = (2, 2), strides = 2),\n",
        "  layers.Conv2D(64, kernel_size = (2, 2), activation = 'relu'),\n",
        "  layers.MaxPooling2D(pool_size = (2, 2), strides = 2),\n",
        "  layers.Flatten(),\n",
        "  layers.Dropout(0.5),\n",
        "  layers.Dense(10, activation = 'softmax')\n",
        "])\n",
        "\n",
        "model1.compile(loss='categorical_crossentropy', optimizer='adam', metrics=['accuracy'])\n",
        "\n",
        "model1.fit(x_train, y_train, batch_size=128, epochs=10, verbose=1,\n",
        "                 validation_data=(x_test, y_test))"
      ]
    },
    {
      "cell_type": "code",
      "execution_count": null,
      "metadata": {
        "colab": {
          "base_uri": "https://localhost:8080/"
        },
        "id": "AZWNfg4tA8WB",
        "outputId": "f4db84a2-3a70-4169-8be1-89d655e489dd"
      },
      "outputs": [
        {
          "name": "stdout",
          "output_type": "stream",
          "text": [
            "Epoch 1/100\n",
            "\u001b[1m1875/1875\u001b[0m \u001b[32m━━━━━━━━━━━━━━━━━━━━\u001b[0m\u001b[37m\u001b[0m \u001b[1m45s\u001b[0m 23ms/step - accuracy: 0.9851 - loss: 0.0487 - val_accuracy: 0.9893 - val_loss: 0.0316\n",
            "Epoch 2/100\n",
            "\u001b[1m1875/1875\u001b[0m \u001b[32m━━━━━━━━━━━━━━━━━━━━\u001b[0m\u001b[37m\u001b[0m \u001b[1m83s\u001b[0m 24ms/step - accuracy: 0.9853 - loss: 0.0451 - val_accuracy: 0.9917 - val_loss: 0.0246\n",
            "Epoch 3/100\n",
            "\u001b[1m1875/1875\u001b[0m \u001b[32m━━━━━━━━━━━━━━━━━━━━\u001b[0m\u001b[37m\u001b[0m \u001b[1m43s\u001b[0m 23ms/step - accuracy: 0.9860 - loss: 0.0424 - val_accuracy: 0.9904 - val_loss: 0.0279\n",
            "Epoch 4/100\n",
            "\u001b[1m1875/1875\u001b[0m \u001b[32m━━━━━━━━━━━━━━━━━━━━\u001b[0m\u001b[37m\u001b[0m \u001b[1m82s\u001b[0m 23ms/step - accuracy: 0.9870 - loss: 0.0410 - val_accuracy: 0.9923 - val_loss: 0.0241\n",
            "Epoch 5/100\n",
            "\u001b[1m1875/1875\u001b[0m \u001b[32m━━━━━━━━━━━━━━━━━━━━\u001b[0m\u001b[37m\u001b[0m \u001b[1m83s\u001b[0m 24ms/step - accuracy: 0.9875 - loss: 0.0389 - val_accuracy: 0.9897 - val_loss: 0.0300\n",
            "Epoch 6/100\n",
            "\u001b[1m1875/1875\u001b[0m \u001b[32m━━━━━━━━━━━━━━━━━━━━\u001b[0m\u001b[37m\u001b[0m \u001b[1m43s\u001b[0m 23ms/step - accuracy: 0.9887 - loss: 0.0351 - val_accuracy: 0.9921 - val_loss: 0.0214\n",
            "Epoch 7/100\n",
            "\u001b[1m1875/1875\u001b[0m \u001b[32m━━━━━━━━━━━━━━━━━━━━\u001b[0m\u001b[37m\u001b[0m \u001b[1m43s\u001b[0m 23ms/step - accuracy: 0.9887 - loss: 0.0360 - val_accuracy: 0.9922 - val_loss: 0.0251\n",
            "Epoch 8/100\n",
            "\u001b[1m1875/1875\u001b[0m \u001b[32m━━━━━━━━━━━━━━━━━━━━\u001b[0m\u001b[37m\u001b[0m \u001b[1m83s\u001b[0m 23ms/step - accuracy: 0.9892 - loss: 0.0329 - val_accuracy: 0.9918 - val_loss: 0.0239\n",
            "Epoch 9/100\n",
            "\u001b[1m1875/1875\u001b[0m \u001b[32m━━━━━━━━━━━━━━━━━━━━\u001b[0m\u001b[37m\u001b[0m \u001b[1m82s\u001b[0m 24ms/step - accuracy: 0.9909 - loss: 0.0301 - val_accuracy: 0.9922 - val_loss: 0.0251\n",
            "Epoch 10/100\n",
            "\u001b[1m1875/1875\u001b[0m \u001b[32m━━━━━━━━━━━━━━━━━━━━\u001b[0m\u001b[37m\u001b[0m \u001b[1m44s\u001b[0m 23ms/step - accuracy: 0.9894 - loss: 0.0319 - val_accuracy: 0.9909 - val_loss: 0.0270\n",
            "Epoch 11/100\n",
            "\u001b[1m1875/1875\u001b[0m \u001b[32m━━━━━━━━━━━━━━━━━━━━\u001b[0m\u001b[37m\u001b[0m \u001b[1m44s\u001b[0m 23ms/step - accuracy: 0.9900 - loss: 0.0296 - val_accuracy: 0.9938 - val_loss: 0.0200\n",
            "Epoch 12/100\n",
            "\u001b[1m1875/1875\u001b[0m \u001b[32m━━━━━━━━━━━━━━━━━━━━\u001b[0m\u001b[37m\u001b[0m \u001b[1m81s\u001b[0m 23ms/step - accuracy: 0.9912 - loss: 0.0270 - val_accuracy: 0.9931 - val_loss: 0.0229\n",
            "Epoch 13/100\n",
            "\u001b[1m1875/1875\u001b[0m \u001b[32m━━━━━━━━━━━━━━━━━━━━\u001b[0m\u001b[37m\u001b[0m \u001b[1m82s\u001b[0m 23ms/step - accuracy: 0.9911 - loss: 0.0284 - val_accuracy: 0.9925 - val_loss: 0.0226\n",
            "Epoch 14/100\n",
            "\u001b[1m1875/1875\u001b[0m \u001b[32m━━━━━━━━━━━━━━━━━━━━\u001b[0m\u001b[37m\u001b[0m \u001b[1m43s\u001b[0m 23ms/step - accuracy: 0.9908 - loss: 0.0256 - val_accuracy: 0.9931 - val_loss: 0.0211\n",
            "Epoch 15/100\n",
            "\u001b[1m1875/1875\u001b[0m \u001b[32m━━━━━━━━━━━━━━━━━━━━\u001b[0m\u001b[37m\u001b[0m \u001b[1m81s\u001b[0m 23ms/step - accuracy: 0.9917 - loss: 0.0251 - val_accuracy: 0.9925 - val_loss: 0.0240\n",
            "Epoch 16/100\n",
            "\u001b[1m1875/1875\u001b[0m \u001b[32m━━━━━━━━━━━━━━━━━━━━\u001b[0m\u001b[37m\u001b[0m \u001b[1m83s\u001b[0m 23ms/step - accuracy: 0.9929 - loss: 0.0244 - val_accuracy: 0.9925 - val_loss: 0.0214\n",
            "Epoch 17/100\n",
            "\u001b[1m1875/1875\u001b[0m \u001b[32m━━━━━━━━━━━━━━━━━━━━\u001b[0m\u001b[37m\u001b[0m \u001b[1m81s\u001b[0m 23ms/step - accuracy: 0.9917 - loss: 0.0240 - val_accuracy: 0.9933 - val_loss: 0.0228\n",
            "Epoch 18/100\n",
            "\u001b[1m1875/1875\u001b[0m \u001b[32m━━━━━━━━━━━━━━━━━━━━\u001b[0m\u001b[37m\u001b[0m \u001b[1m82s\u001b[0m 23ms/step - accuracy: 0.9917 - loss: 0.0251 - val_accuracy: 0.9929 - val_loss: 0.0224\n",
            "Epoch 19/100\n",
            "\u001b[1m1875/1875\u001b[0m \u001b[32m━━━━━━━━━━━━━━━━━━━━\u001b[0m\u001b[37m\u001b[0m \u001b[1m82s\u001b[0m 23ms/step - accuracy: 0.9920 - loss: 0.0240 - val_accuracy: 0.9918 - val_loss: 0.0256\n",
            "Epoch 20/100\n",
            "\u001b[1m1875/1875\u001b[0m \u001b[32m━━━━━━━━━━━━━━━━━━━━\u001b[0m\u001b[37m\u001b[0m \u001b[1m42s\u001b[0m 23ms/step - accuracy: 0.9919 - loss: 0.0240 - val_accuracy: 0.9919 - val_loss: 0.0226\n",
            "Epoch 21/100\n",
            "\u001b[1m1875/1875\u001b[0m \u001b[32m━━━━━━━━━━━━━━━━━━━━\u001b[0m\u001b[37m\u001b[0m \u001b[1m44s\u001b[0m 23ms/step - accuracy: 0.9925 - loss: 0.0216 - val_accuracy: 0.9927 - val_loss: 0.0226\n",
            "Epoch 22/100\n",
            "\u001b[1m1875/1875\u001b[0m \u001b[32m━━━━━━━━━━━━━━━━━━━━\u001b[0m\u001b[37m\u001b[0m \u001b[1m42s\u001b[0m 23ms/step - accuracy: 0.9924 - loss: 0.0240 - val_accuracy: 0.9932 - val_loss: 0.0232\n",
            "Epoch 23/100\n",
            "\u001b[1m1875/1875\u001b[0m \u001b[32m━━━━━━━━━━━━━━━━━━━━\u001b[0m\u001b[37m\u001b[0m \u001b[1m43s\u001b[0m 23ms/step - accuracy: 0.9929 - loss: 0.0210 - val_accuracy: 0.9933 - val_loss: 0.0222\n",
            "Epoch 24/100\n",
            "\u001b[1m1875/1875\u001b[0m \u001b[32m━━━━━━━━━━━━━━━━━━━━\u001b[0m\u001b[37m\u001b[0m \u001b[1m46s\u001b[0m 25ms/step - accuracy: 0.9935 - loss: 0.0220 - val_accuracy: 0.9933 - val_loss: 0.0239\n",
            "Epoch 25/100\n",
            "\u001b[1m1875/1875\u001b[0m \u001b[32m━━━━━━━━━━━━━━━━━━━━\u001b[0m\u001b[37m\u001b[0m \u001b[1m79s\u001b[0m 23ms/step - accuracy: 0.9929 - loss: 0.0219 - val_accuracy: 0.9923 - val_loss: 0.0258\n",
            "Epoch 26/100\n",
            "\u001b[1m1875/1875\u001b[0m \u001b[32m━━━━━━━━━━━━━━━━━━━━\u001b[0m\u001b[37m\u001b[0m \u001b[1m82s\u001b[0m 23ms/step - accuracy: 0.9930 - loss: 0.0208 - val_accuracy: 0.9933 - val_loss: 0.0224\n",
            "Epoch 27/100\n",
            "\u001b[1m1875/1875\u001b[0m \u001b[32m━━━━━━━━━━━━━━━━━━━━\u001b[0m\u001b[37m\u001b[0m \u001b[1m43s\u001b[0m 23ms/step - accuracy: 0.9931 - loss: 0.0213 - val_accuracy: 0.9928 - val_loss: 0.0246\n",
            "Epoch 28/100\n",
            "\u001b[1m1875/1875\u001b[0m \u001b[32m━━━━━━━━━━━━━━━━━━━━\u001b[0m\u001b[37m\u001b[0m \u001b[1m43s\u001b[0m 23ms/step - accuracy: 0.9938 - loss: 0.0180 - val_accuracy: 0.9928 - val_loss: 0.0238\n",
            "Epoch 29/100\n",
            "\u001b[1m1875/1875\u001b[0m \u001b[32m━━━━━━━━━━━━━━━━━━━━\u001b[0m\u001b[37m\u001b[0m \u001b[1m82s\u001b[0m 23ms/step - accuracy: 0.9938 - loss: 0.0197 - val_accuracy: 0.9929 - val_loss: 0.0244\n",
            "Epoch 30/100\n",
            "\u001b[1m1875/1875\u001b[0m \u001b[32m━━━━━━━━━━━━━━━━━━━━\u001b[0m\u001b[37m\u001b[0m \u001b[1m82s\u001b[0m 23ms/step - accuracy: 0.9935 - loss: 0.0196 - val_accuracy: 0.9930 - val_loss: 0.0242\n",
            "Epoch 31/100\n",
            "\u001b[1m1875/1875\u001b[0m \u001b[32m━━━━━━━━━━━━━━━━━━━━\u001b[0m\u001b[37m\u001b[0m \u001b[1m82s\u001b[0m 23ms/step - accuracy: 0.9945 - loss: 0.0161 - val_accuracy: 0.9933 - val_loss: 0.0248\n"
          ]
        }
      ],
      "source": [
        "from tensorflow.keras.callbacks import EarlyStopping, ModelCheckpoint\n",
        "import matplotlib.pyplot as plt\n",
        "\n",
        "es = EarlyStopping(monitor='val_accuracy', patience=20)\n",
        "\n",
        "mc = ModelCheckpoint('best_model.h5', monitor='val_accuracy', mode='max', verbose=1, save_best_only=True)\n",
        "\n",
        "model1.compile(optimizer='adam', loss='categorical_crossentropy', metrics=['accuracy'])\n",
        "\n",
        "history = model1.fit(x_train, y_train, epochs=100, batch_size=32, validation_data=(x_test, y_test),\n",
        "                     callbacks=[es], verbose=1)"
      ]
    },
    {
      "cell_type": "code",
      "execution_count": null,
      "metadata": {
        "colab": {
          "base_uri": "https://localhost:8080/",
          "height": 472
        },
        "id": "8ww7oQRxBjKM",
        "outputId": "89cea58b-b23c-4a22-cad1-247916477daf"
      },
      "outputs": [
        {
          "data": {
            "image/png": "[encoded data removed]",
            "text/plain": [
              "<Figure size 640x480 with 1 Axes>"
            ]
          },
          "metadata": {},
          "output_type": "display_data"
        }
      ],
      "source": [
        "plt.plot(history.history['accuracy'], label='Train Accuracy')\n",
        "plt.plot(history.history['val_accuracy'], label='Validation Accuracy')\n",
        "plt.xlabel('Epochs')\n",
        "plt.ylabel('Accuracy')\n",
        "plt.title('Model Accuracy with EarlyStopping')\n",
        "plt.legend()\n",
        "plt.grid(True)\n",
        "plt.show()"
      ]
    }
  ],
  "metadata": {
    "colab": {
      "provenance": [],
      "authorship_tag": "ABX9TyPZZAbwRcgxv6Pqm6+9GEij",
      "include_colab_link": true
    },
    "kernelspec": {
      "display_name": "Python 3",
      "name": "python3"
    },
    "language_info": {
      "name": "python"
    }
  },
  "nbformat": 4,
  "nbformat_minor": 0
}