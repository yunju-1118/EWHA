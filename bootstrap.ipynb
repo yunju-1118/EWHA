{
  "cells": [
    {
      "cell_type": "markdown",
      "metadata": {
        "id": "view-in-github",
        "colab_type": "text"
      },
      "source": [
        "<a href=\"https://colab.research.google.com/github/yunju-1118/EWHA/blob/2025-1-Statistical-Methods-for-Big-Data-Analysis/bootstrap.ipynb\" target=\"_parent\"><img src=\"https://colab.research.google.com/assets/colab-badge.svg\" alt=\"Open In Colab\"/></a>"
      ]
    },
    {
      "cell_type": "code",
      "execution_count": 1,
      "id": "da655fbb-08ba-4c53-bfcf-8b219367dc51",
      "metadata": {
        "colab": {
          "base_uri": "https://localhost:8080/"
        },
        "id": "da655fbb-08ba-4c53-bfcf-8b219367dc51",
        "outputId": "62cf8721-6caf-4b29-9598-d2c68e883114"
      },
      "outputs": [
        {
          "output_type": "stream",
          "name": "stdout",
          "text": [
            "원본 데이터: [1, 2, 3, 4, 5]\n",
            "부트스트랩 샘플: [2 5 4 1 1]\n"
          ]
        }
      ],
      "source": [
        "import numpy as np\n",
        "\n",
        "# 원래 데이터 (예: 관측치 1~5)\n",
        "data = [1, 2, 3, 4, 5]\n",
        "\n",
        "# 부트스트랩 샘플링: 복원 추출 (with replacement)\n",
        "# numpy 사용\n",
        "bootstrap_sample = np.random.choice(data, size=len(data), replace=True)\n",
        "\n",
        "print(\"원본 데이터:\", data)\n",
        "print(\"부트스트랩 샘플:\", bootstrap_sample)\n"
      ]
    },
    {
      "cell_type": "code",
      "execution_count": 2,
      "id": "7e612216-3676-47dd-9f62-1955b548d85b",
      "metadata": {
        "colab": {
          "base_uri": "https://localhost:8080/"
        },
        "id": "7e612216-3676-47dd-9f62-1955b548d85b",
        "outputId": "92335930-3405-4f33-f36d-317666e50081"
      },
      "outputs": [
        {
          "output_type": "stream",
          "name": "stdout",
          "text": [
            "원본 데이터: [1, 2, 3, 4, 5]\n",
            "부트스트랩 샘플: [4, 2, 2, 1, 3]\n"
          ]
        }
      ],
      "source": [
        "import random\n",
        "\n",
        "data = [1, 2, 3, 4, 5]\n",
        "\n",
        "# random.choices도 복원 추출을 기본으로 합니다\n",
        "bootstrap_sample = random.choices(data, k=len(data))\n",
        "\n",
        "print(\"원본 데이터:\", data)\n",
        "print(\"부트스트랩 샘플:\", bootstrap_sample)\n"
      ]
    },
    {
      "cell_type": "code",
      "execution_count": 3,
      "id": "98c625a3-5ff8-4600-b04b-5202d4b7575b",
      "metadata": {
        "colab": {
          "base_uri": "https://localhost:8080/",
          "height": 509
        },
        "id": "98c625a3-5ff8-4600-b04b-5202d4b7575b",
        "outputId": "482340e6-c812-4e67-e53f-00035639f6c1"
      },
      "outputs": [
        {
          "output_type": "stream",
          "name": "stdout",
          "text": [
            "Bootstrap된 중앙값들의 평균: 11.5129\n",
            "Bootstrap된 중앙값들의 표준편차: 1.8738\n"
          ]
        },
        {
          "output_type": "display_data",
          "data": {
            "text/plain": [
              "<Figure size 640x480 with 1 Axes>"
            ],
            "image/png": "[encoded data removed]"
          },
          "metadata": {}
        }
      ],
      "source": [
        "import numpy as np\n",
        "import matplotlib.pyplot as plt\n",
        "\n",
        "# 1. 모집단 생성: 카이제곱 분포 (df=10이면 right-skewed)\n",
        "population = np.random.chisquare(df=10, size=10000)\n",
        "\n",
        "# 2. 모집단에서 랜덤하게 20개 샘플 추출 (비복원추출)\n",
        "sample = np.random.choice(population, size=20, replace=False)\n",
        "\n",
        "# 3. 부트스트랩: 100개의 샘플, 각 샘플은 20개 원소\n",
        "n_bootstrap = 100\n",
        "bootstrap_medians = []\n",
        "\n",
        "for _ in range(n_bootstrap):\n",
        "    bootstrap_sample = np.random.choice(sample, size=20, replace=True)\n",
        "    median = np.median(bootstrap_sample)\n",
        "    bootstrap_medians.append(median)\n",
        "\n",
        "median_mean = np.mean(bootstrap_medians)\n",
        "median_std = np.std(bootstrap_medians)\n",
        "\n",
        "print(f\"Bootstrap된 중앙값들의 평균: {median_mean:.4f}\")\n",
        "print(f\"Bootstrap된 중앙값들의 표준편차: {median_std:.4f}\")\n",
        "\n",
        "# 4. 시각화: 부트스트랩된 중앙값 분포\n",
        "plt.hist(bootstrap_medians, bins=20, edgecolor='black', alpha=0.7)\n",
        "plt.axvline(np.median(sample), color='red', linestyle='dashed', label='Original Sample Median')\n",
        "plt.title('Bootstrap Distribution of the Median')\n",
        "plt.xlabel('Median')\n",
        "plt.ylabel('Frequency')\n",
        "plt.legend()\n",
        "plt.show()\n"
      ]
    },
    {
      "cell_type": "code",
      "execution_count": 4,
      "id": "0aad8fb4-9c1a-4b17-ac9f-7024b9c96be6",
      "metadata": {
        "colab": {
          "base_uri": "https://localhost:8080/"
        },
        "id": "0aad8fb4-9c1a-4b17-ac9f-7024b9c96be6",
        "outputId": "e9608598-1a06-4cbe-888b-a1c358cc7be8"
      },
      "outputs": [
        {
          "output_type": "stream",
          "name": "stdout",
          "text": [
            "=== Bagged Linear Regression ===\n",
            "RMSE: 2.0689\n",
            "R^2 : -0.0800\n",
            "\n",
            "=== Bagged Decision Tree ===\n",
            "RMSE: 1.2938\n",
            "R^2 : 0.5777\n"
          ]
        }
      ],
      "source": [
        "import numpy as np\n",
        "from sklearn.datasets import make_regression\n",
        "from sklearn.linear_model import LinearRegression\n",
        "from sklearn.tree import DecisionTreeRegressor\n",
        "from sklearn.utils import resample\n",
        "from sklearn.metrics import mean_squared_error, r2_score\n",
        "from sklearn.model_selection import train_test_split\n",
        "\n",
        "# 1. 데이터 생성\n",
        "#X, y = make_regression(n_samples=200, n_features=5, noise=10, random_state=42)\n",
        "# 비선형 구조 포함한 y 생성\n",
        "X, _ = make_regression(n_samples=200, n_features=5, noise=5, random_state=42)\n",
        "y = X[:, 0] ** 2 + np.sin(X[:, 1]) + X[:, 2] * X[:, 3] + np.random.normal(0, 1, size=200)\n",
        "\n",
        "# 2. Train/Test 분할\n",
        "X_train, X_test, y_train, y_test = train_test_split(X, y, test_size=0.3, random_state=42)\n",
        "\n",
        "# 예측 결과 저장용 리스트\n",
        "lr_test_preds = []\n",
        "tree_test_preds = []\n",
        "\n",
        "# 3. 부트스트랩 샘플링 & 모델 학습/예측\n",
        "n_bootstrap = 100\n",
        "for _ in range(n_bootstrap):\n",
        "    # Train set에서 부트스트랩 샘플 생성\n",
        "    X_sample, y_sample = resample(X_train, y_train, replace=True)\n",
        "\n",
        "    # 선형 회귀 모델 학습 및 테스트셋 예측\n",
        "    lr = LinearRegression()\n",
        "    lr.fit(X_sample, y_sample)\n",
        "    lr_pred = lr.predict(X_test)\n",
        "    lr_test_preds.append(lr_pred)\n",
        "\n",
        "    # 결정 트리 회귀 모델 학습 및 테스트셋 예측\n",
        "    tree = DecisionTreeRegressor()\n",
        "    tree.fit(X_sample, y_sample)\n",
        "    tree_pred = tree.predict(X_test)\n",
        "    tree_test_preds.append(tree_pred)\n",
        "\n",
        "# 4. 평균 예측값 계산 (Bagging 결과)\n",
        "lr_bagged_preds = np.mean(lr_test_preds, axis=0)\n",
        "tree_bagged_preds = np.mean(tree_test_preds, axis=0)\n",
        "\n",
        "# 5. 성능 평가 (Test Set 기준)\n",
        "lr_rmse = np.sqrt(mean_squared_error(y_test, lr_bagged_preds))\n",
        "lr_r2 = r2_score(y_test, lr_bagged_preds)\n",
        "\n",
        "tree_rmse = np.sqrt(mean_squared_error(y_test, tree_bagged_preds))\n",
        "tree_r2 = r2_score(y_test, tree_bagged_preds)\n",
        "\n",
        "# 6. 결과 출력\n",
        "print(\"=== Bagged Linear Regression ===\")\n",
        "print(f\"RMSE: {lr_rmse:.4f}\")\n",
        "print(f\"R^2 : {lr_r2:.4f}\")\n",
        "\n",
        "print(\"\\n=== Bagged Decision Tree ===\")\n",
        "print(f\"RMSE: {tree_rmse:.4f}\")\n",
        "print(f\"R^2 : {tree_r2:.4f}\")\n"
      ]
    },
    {
      "cell_type": "code",
      "execution_count": 5,
      "id": "651ec80d-d28b-4cf1-89ff-a4c919163742",
      "metadata": {
        "colab": {
          "base_uri": "https://localhost:8080/"
        },
        "id": "651ec80d-d28b-4cf1-89ff-a4c919163742",
        "outputId": "a63c2dbd-cc8a-4bc6-8293-10dad6a7fd1e"
      },
      "outputs": [
        {
          "output_type": "stream",
          "name": "stdout",
          "text": [
            "=== Bagged Linear Regression ===\n",
            "RMSE: 0.7282\n",
            "R^2 : 0.5960\n",
            "\n",
            "=== Bagged Decision Tree ===\n",
            "RMSE: 0.5066\n",
            "R^2 : 0.8045\n",
            "\n"
          ]
        }
      ],
      "source": [
        "import numpy as np\n",
        "from sklearn.datasets import fetch_california_housing\n",
        "from sklearn.linear_model import LinearRegression\n",
        "from sklearn.tree import DecisionTreeRegressor\n",
        "from sklearn.model_selection import train_test_split\n",
        "from sklearn.utils import resample\n",
        "from sklearn.metrics import mean_squared_error, r2_score\n",
        "\n",
        "# 1. 데이터 로딩\n",
        "data = fetch_california_housing()\n",
        "X, y = data.data, data.target\n",
        "\n",
        "# 2. Train/Test 분할\n",
        "X_train, X_test, y_train, y_test = train_test_split(X, y, test_size=0.3, random_state=42)\n",
        "\n",
        "# 3. Bagging 수행\n",
        "n_bootstrap = 100\n",
        "lr_preds, tree_preds = [], []\n",
        "\n",
        "for _ in range(n_bootstrap):\n",
        "    # 부트스트랩 샘플링\n",
        "    X_sample, y_sample = resample(X_train, y_train, replace=True)\n",
        "\n",
        "    # 선형 회귀\n",
        "    lr = LinearRegression()\n",
        "    lr.fit(X_sample, y_sample)\n",
        "    lr_preds.append(lr.predict(X_test))\n",
        "\n",
        "    # 결정 트리\n",
        "    tree = DecisionTreeRegressor()\n",
        "    tree.fit(X_sample, y_sample)\n",
        "    tree_preds.append(tree.predict(X_test))\n",
        "\n",
        "# 4. Bagging 결과 (평균 예측)\n",
        "lr_bagged = np.mean(lr_preds, axis=0)\n",
        "tree_bagged = np.mean(tree_preds, axis=0)\n",
        "\n",
        "# 5. 성능 평가\n",
        "def evaluate_model(y_true, y_pred, label):\n",
        "    rmse = np.sqrt(mean_squared_error(y_true, y_pred))\n",
        "    r2 = r2_score(y_true, y_pred)\n",
        "    print(f\"=== {label} ===\")\n",
        "    print(f\"RMSE: {rmse:.4f}\")\n",
        "    print(f\"R^2 : {r2:.4f}\\n\")\n",
        "\n",
        "evaluate_model(y_test, lr_bagged, \"Bagged Linear Regression\")\n",
        "evaluate_model(y_test, tree_bagged, \"Bagged Decision Tree\")\n"
      ]
    },
    {
      "cell_type": "code",
      "execution_count": 6,
      "id": "dd0ab2b2-37b6-4bf0-bf68-57266b5c6422",
      "metadata": {
        "colab": {
          "base_uri": "https://localhost:8080/"
        },
        "id": "dd0ab2b2-37b6-4bf0-bf68-57266b5c6422",
        "outputId": "cc276db0-46ee-4061-b22c-6971f79797a8"
      },
      "outputs": [
        {
          "output_type": "stream",
          "name": "stdout",
          "text": [
            "=== Bagged Linear Regression ===\n",
            "RMSE: 0.7286\n",
            "R^2 : 0.5956\n",
            "\n",
            "=== Bagged Decision Tree ===\n",
            "RMSE: 0.5038\n",
            "R^2 : 0.8066\n",
            "\n",
            "=== Random Forest ===\n",
            "RMSE: 0.5065\n",
            "R^2 : 0.8046\n",
            "\n"
          ]
        }
      ],
      "source": [
        "import numpy as np\n",
        "from sklearn.datasets import fetch_california_housing\n",
        "from sklearn.linear_model import LinearRegression\n",
        "from sklearn.tree import DecisionTreeRegressor\n",
        "from sklearn.ensemble import RandomForestRegressor\n",
        "from sklearn.model_selection import train_test_split\n",
        "from sklearn.utils import resample\n",
        "from sklearn.metrics import mean_squared_error, r2_score\n",
        "\n",
        "# 1. 데이터 로딩 및 분할\n",
        "data = fetch_california_housing()\n",
        "X, y = data.data, data.target\n",
        "\n",
        "X_train, X_test, y_train, y_test = train_test_split(X, y, test_size=0.3, random_state=42)\n",
        "\n",
        "# 2. Bagging 구현 (Linear & Tree)\n",
        "n_bootstrap = 100\n",
        "lr_preds, tree_preds = [], []\n",
        "\n",
        "for _ in range(n_bootstrap):\n",
        "    X_sample, y_sample = resample(X_train, y_train, replace=True)\n",
        "\n",
        "    # 선형 회귀\n",
        "    lr = LinearRegression()\n",
        "    lr.fit(X_sample, y_sample)\n",
        "    lr_preds.append(lr.predict(X_test))\n",
        "\n",
        "    # 결정 트리\n",
        "    tree = DecisionTreeRegressor()\n",
        "    tree.fit(X_sample, y_sample)\n",
        "    tree_preds.append(tree.predict(X_test))\n",
        "\n",
        "# 평균 예측\n",
        "lr_bagged = np.mean(lr_preds, axis=0)\n",
        "tree_bagged = np.mean(tree_preds, axis=0)\n",
        "\n",
        "# 3. Random Forest 학습 및 예측\n",
        "rf = RandomForestRegressor(n_estimators=100, random_state=42)\n",
        "rf.fit(X_train, y_train)\n",
        "rf_pred = rf.predict(X_test)\n",
        "\n",
        "# 4. 성능 비교 함수\n",
        "def evaluate_model(y_true, y_pred, label):\n",
        "    rmse = np.sqrt(mean_squared_error(y_true, y_pred))\n",
        "    r2 = r2_score(y_true, y_pred)\n",
        "    print(f\"=== {label} ===\")\n",
        "    print(f\"RMSE: {rmse:.4f}\")\n",
        "    print(f\"R^2 : {r2:.4f}\\n\")\n",
        "\n",
        "# 5. 결과 출력\n",
        "evaluate_model(y_test, lr_bagged, \"Bagged Linear Regression\")\n",
        "evaluate_model(y_test, tree_bagged, \"Bagged Decision Tree\")\n",
        "evaluate_model(y_test, rf_pred, \"Random Forest\")\n"
      ]
    },
    {
      "cell_type": "code",
      "execution_count": 7,
      "id": "92e6b793-16f8-4717-82d2-b3f85132c9e8",
      "metadata": {
        "colab": {
          "base_uri": "https://localhost:8080/"
        },
        "id": "92e6b793-16f8-4717-82d2-b3f85132c9e8",
        "outputId": "41d028d8-d28c-4798-bfbf-44df590c3c8f"
      },
      "outputs": [
        {
          "output_type": "stream",
          "name": "stdout",
          "text": [
            "Fitting 5 folds for each of 30 candidates, totalling 150 fits\n"
          ]
        },
        {
          "output_type": "stream",
          "name": "stderr",
          "text": [
            "/usr/local/lib/python3.11/dist-packages/sklearn/model_selection/_validation.py:528: FitFailedWarning: \n",
            "50 fits failed out of a total of 150.\n",
            "The score on these train-test partitions for these parameters will be set to nan.\n",
            "If these failures are not expected, you can try to debug them by setting error_score='raise'.\n",
            "\n",
            "Below are more details about the failures:\n",
            "--------------------------------------------------------------------------------\n",
            "30 fits failed with the following error:\n",
            "Traceback (most recent call last):\n",
            "  File \"/usr/local/lib/python3.11/dist-packages/sklearn/model_selection/_validation.py\", line 866, in _fit_and_score\n",
            "    estimator.fit(X_train, y_train, **fit_params)\n",
            "  File \"/usr/local/lib/python3.11/dist-packages/sklearn/base.py\", line 1382, in wrapper\n",
            "    estimator._validate_params()\n",
            "  File \"/usr/local/lib/python3.11/dist-packages/sklearn/base.py\", line 436, in _validate_params\n",
            "    validate_parameter_constraints(\n",
            "  File \"/usr/local/lib/python3.11/dist-packages/sklearn/utils/_param_validation.py\", line 98, in validate_parameter_constraints\n",
            "    raise InvalidParameterError(\n",
            "sklearn.utils._param_validation.InvalidParameterError: The 'max_features' parameter of RandomForestRegressor must be an int in the range [1, inf), a float in the range (0.0, 1.0], a str among {'log2', 'sqrt'} or None. Got 'auto' instead.\n",
            "\n",
            "--------------------------------------------------------------------------------\n",
            "20 fits failed with the following error:\n",
            "Traceback (most recent call last):\n",
            "  File \"/usr/local/lib/python3.11/dist-packages/sklearn/model_selection/_validation.py\", line 866, in _fit_and_score\n",
            "    estimator.fit(X_train, y_train, **fit_params)\n",
            "  File \"/usr/local/lib/python3.11/dist-packages/sklearn/base.py\", line 1382, in wrapper\n",
            "    estimator._validate_params()\n",
            "  File \"/usr/local/lib/python3.11/dist-packages/sklearn/base.py\", line 436, in _validate_params\n",
            "    validate_parameter_constraints(\n",
            "  File \"/usr/local/lib/python3.11/dist-packages/sklearn/utils/_param_validation.py\", line 98, in validate_parameter_constraints\n",
            "    raise InvalidParameterError(\n",
            "sklearn.utils._param_validation.InvalidParameterError: The 'max_features' parameter of RandomForestRegressor must be an int in the range [1, inf), a float in the range (0.0, 1.0], a str among {'sqrt', 'log2'} or None. Got 'auto' instead.\n",
            "\n",
            "  warnings.warn(some_fits_failed_message, FitFailedWarning)\n",
            "/usr/local/lib/python3.11/dist-packages/sklearn/model_selection/_search.py:1108: UserWarning: One or more of the test scores are non-finite: [-0.30998786 -0.30683086 -0.29110333         nan         nan -0.308858\n",
            " -0.25861177 -0.26044124         nan -0.29184063         nan         nan\n",
            " -0.25757197 -0.30445172         nan -0.25518052 -0.26666044 -0.30561776\n",
            "         nan         nan -0.26122082 -0.25212872 -0.26476229         nan\n",
            "         nan -0.29236695 -0.26430934 -0.2646819  -0.25832326 -0.2630968 ]\n",
            "  warnings.warn(\n"
          ]
        },
        {
          "output_type": "stream",
          "name": "stdout",
          "text": [
            "=== Tuned Random Forest ===\n",
            "Best Params: {'n_estimators': 300, 'min_samples_split': 2, 'min_samples_leaf': 1, 'max_features': 'sqrt', 'max_depth': 30}\n",
            "RMSE: 0.4934\n",
            "R^2 : 0.8145\n"
          ]
        }
      ],
      "source": [
        "import numpy as np\n",
        "from sklearn.datasets import fetch_california_housing\n",
        "from sklearn.model_selection import train_test_split, RandomizedSearchCV\n",
        "from sklearn.ensemble import RandomForestRegressor\n",
        "from sklearn.metrics import mean_squared_error, r2_score\n",
        "\n",
        "# 1. 데이터 로딩 및 분할\n",
        "data = fetch_california_housing()\n",
        "X, y = data.data, data.target\n",
        "\n",
        "X_train, X_test, y_train, y_test = train_test_split(X, y, test_size=0.3, random_state=42)\n",
        "\n",
        "# 2. 하이퍼파라미터 그리드 정의\n",
        "param_dist = {\n",
        "    'n_estimators': [100, 200, 300],\n",
        "    'max_depth': [None, 10, 20, 30],\n",
        "    'max_features': ['auto', 'sqrt', 0.5],\n",
        "    'min_samples_split': [2, 5, 10],\n",
        "    'min_samples_leaf': [1, 2, 4]\n",
        "}\n",
        "\n",
        "# 3. RandomForest 모델과 RandomizedSearchCV 설정\n",
        "rf = RandomForestRegressor(random_state=42)\n",
        "random_search = RandomizedSearchCV(\n",
        "    estimator=rf,\n",
        "    param_distributions=param_dist,\n",
        "    n_iter=30,\n",
        "    cv=5,\n",
        "    scoring='neg_mean_squared_error',\n",
        "    verbose=1,\n",
        "    n_jobs=-1,\n",
        "    random_state=42\n",
        ")\n",
        "\n",
        "# 4. 튜닝 수행\n",
        "random_search.fit(X_train, y_train)\n",
        "\n",
        "# 5. 베스트 모델로 예측\n",
        "best_rf = random_search.best_estimator_\n",
        "y_pred = best_rf.predict(X_test)\n",
        "\n",
        "# 6. 평가\n",
        "rmse = np.sqrt(mean_squared_error(y_test, y_pred))\n",
        "r2 = r2_score(y_test, y_pred)\n",
        "\n",
        "print(\"=== Tuned Random Forest ===\")\n",
        "print(\"Best Params:\", random_search.best_params_)\n",
        "print(f\"RMSE: {rmse:.4f}\")\n",
        "print(f\"R^2 : {r2:.4f}\")\n"
      ]
    }
  ],
  "metadata": {
    "kernelspec": {
      "display_name": "Python 3 (ipykernel)",
      "language": "python",
      "name": "python3"
    },
    "language_info": {
      "codemirror_mode": {
        "name": "ipython",
        "version": 3
      },
      "file_extension": ".py",
      "mimetype": "text/x-python",
      "name": "python",
      "nbconvert_exporter": "python",
      "pygments_lexer": "ipython3",
      "version": "3.8.15"
    },
    "colab": {
      "provenance": [],
      "include_colab_link": true
    }
  },
  "nbformat": 4,
  "nbformat_minor": 5
}