{
  "cells": [
    {
      "cell_type": "markdown",
      "metadata": {
        "id": "view-in-github",
        "colab_type": "text"
      },
      "source": [
        "<a href=\"https://colab.research.google.com/github/yunju-1118/EWHA/blob/main/OB2_Project1_SCV_CatBoost_%EC%8B%A0%EC%9A%B0_ipynb%EC%9D%98_%EC%82%AC%EB%B3%B8.ipynb\" target=\"_parent\"><img src=\"https://colab.research.google.com/assets/colab-badge.svg\" alt=\"Open In Colab\"/></a>"
      ]
    },
    {
      "cell_type": "markdown",
      "metadata": {
        "id": "SAOUVGm1Jte6"
      },
      "source": [
        "random_seed = 42, test_size = 0.2, dataset: hotel\n",
        "\n",
        "전처리: 현경 (~ 9/18)\n",
        "\n",
        "LGBM: 윤주\n",
        "\n",
        "CatBoost & SVM: 신우\n",
        "\n",
        "Logistic: 재선"
      ]
    },
    {
      "cell_type": "markdown",
      "metadata": {
        "id": "s7HdHh6jZTFP"
      },
      "source": [
        "https://www.kaggle.com/datasets/ahsan81/hotel-reservations-classification-dataset\n",
        "\n",
        "### **Data Dictionary**\n",
        "\n",
        "- Booking_ID: unique identifier of each booking\n",
        "\n",
        "- no_of_adults: Number of adults\n",
        "- no_of_children: Number of Children\n",
        "- no_of_weekend_nights: Number of weekend nights (Saturday or Sunday) the guest stayed or booked to stay at the hotel\n",
        "- no_of_week_nights: Number of week nights (Monday to Friday) the guest stayed or booked to stay at the hotel\n",
        "- type_of_meal_plan: Type of meal plan booked by the customer:\n",
        "- required_car_parking_space: Does the customer require a car parking space? (0 - No, 1- Yes)\n",
        "- room_type_reserved: Type of room reserved by the customer. The values are ciphered (encoded) by INN Hotels.\n",
        "- lead_time: Number of days between the date of booking and the arrival date\n",
        "- arrival_year: Year of arrival date\n",
        "- arrival_month: Month of arrival date\n",
        "- arrival_date: Date of the month\n",
        "- market_segment_type: Market segment designation.\n",
        "- repeated_guest: Is the customer a repeated guest? (0 - No, 1- Yes)\n",
        "- no_of_previous_cancellations: Number of previous bookings that were canceled by the customer prior to the current booking\n",
        "- no_of_previous_bookings_not_canceled: Number of previous bookings not canceled by the customer prior to the current booking\n",
        "- avg_price_per_room: Average price per day of the reservation; prices of the rooms are dynamic. (in euros)\n",
        "- no_of_special_requests: Total number of special requests made by the customer (e.g. high floor, view from the room, etc)\n",
        "- **booking_status** (target): Flag indicating if the booking was canceled or not."
      ]
    },
    {
      "cell_type": "markdown",
      "metadata": {
        "id": "zPF-E4VnZvLN"
      },
      "source": [
        "## **Import libraries and dataset**"
      ]
    },
    {
      "cell_type": "code",
      "execution_count": null,
      "metadata": {
        "colab": {
          "base_uri": "https://localhost:8080/"
        },
        "id": "vah9GdOKaC6b",
        "outputId": "19e311ad-631a-43f9-8a52-175333b52678"
      },
      "outputs": [
        {
          "name": "stdout",
          "output_type": "stream",
          "text": [
            "Mounted at /content/drive\n"
          ]
        }
      ],
      "source": [
        "from google.colab import drive\n",
        "drive.mount('/content/drive')"
      ]
    },
    {
      "cell_type": "code",
      "execution_count": null,
      "metadata": {
        "id": "nv0iW7TcZz6b"
      },
      "outputs": [],
      "source": [
        "import numpy as np\n",
        "import pandas as pd\n",
        "import matplotlib.pyplot as plt\n",
        "import seaborn as sns"
      ]
    },
    {
      "cell_type": "code",
      "execution_count": null,
      "metadata": {
        "id": "CKIc585CaFLo"
      },
      "outputs": [],
      "source": [
        "hotel = pd.read_csv('/content/drive/MyDrive/Hotel Reservations.csv')"
      ]
    },
    {
      "cell_type": "markdown",
      "metadata": {
        "id": "phHQbsBj8DBK"
      },
      "source": [
        "## 전처리"
      ]
    },
    {
      "cell_type": "markdown",
      "metadata": {
        "id": "WPbYmmGn8Gqs"
      },
      "source": [
        "각 모델별로 다르게 접근\n",
        "\n",
        "1. Logistic Regression\n",
        "\n",
        "2. LGBM\n",
        "\n",
        "3. SVC\n",
        "\n",
        "4. CatBoost"
      ]
    },
    {
      "cell_type": "markdown",
      "metadata": {
        "id": "E__Eng5P83Oi"
      },
      "source": [
        "### 전체 모델 공통 처리 사항\n",
        "1. datetime  변환\n",
        "2. 범주형 변수 Label Encoding\n",
        "3. binary 변수\n",
        "4. 파생 변수\n",
        "5. 필요 없는 변수 drop\n",
        "\n",
        "\n",
        "++ KNN을 이용해서 거리가 비슷한 데이터 활용하는 방식은 tree 기반보다는 Logistic Regressiong, SVC 같이 조금 더 단순한 모델에 좋다고 해서 일단 두 모델에만 추가해놨어요!\n",
        "\n",
        "그리고 KNN 이용한거는 무조건 train/test를 나누고 적용을 해야 한다고 해서 일단\n",
        "train/test split도 제가 코드 작성해 둿어요!"
      ]
    },
    {
      "cell_type": "markdown",
      "metadata": {
        "id": "XNC8FvEgH4of"
      },
      "source": [
        "날짜 이상한거 체크하기"
      ]
    },
    {
      "cell_type": "code",
      "execution_count": null,
      "metadata": {
        "colab": {
          "base_uri": "https://localhost:8080/"
        },
        "id": "3DpbQBiIH62S",
        "outputId": "928f13c8-26b6-4a91-ab30-1224c51e165c"
      },
      "outputs": [
        {
          "name": "stdout",
          "output_type": "stream",
          "text": [
            "      arrival_year  arrival_month  arrival_date\n",
            "2626          2018              2            29\n",
            "3677          2018              2            29\n",
            "5600          2018              2            29\n",
            "6343          2018              2            29\n",
            "7648          2018              2            29\n",
            "8000          2018              2            29\n",
            "8989          2018              2            29\n",
            "9153          2018              2            29\n",
            "9245          2018              2            29\n",
            "9664          2018              2            29\n",
            "문제 행 수: 37  / 전체: 36275\n"
          ]
        }
      ],
      "source": [
        "import pandas as pd\n",
        "import numpy as np\n",
        "\n",
        "for c in [\"arrival_year\",\"arrival_month\",\"arrival_date\"]:\n",
        "    hotel[c] = pd.to_numeric(hotel[c], errors=\"coerce\")\n",
        "\n",
        "ym = pd.to_datetime(\n",
        "    hotel[\"arrival_year\"].astype(\"Int64\").astype(str) + \"-\" +\n",
        "    hotel[\"arrival_month\"].astype(\"Int64\").astype(str).str.zfill(2) + \"-01\",\n",
        "    errors=\"coerce\"\n",
        ")\n",
        "last_day = (ym + pd.offsets.MonthEnd(0)).dt.day\n",
        "\n",
        "invalid_month = ~hotel[\"arrival_month\"].between(1, 12)\n",
        "invalid_day_low = hotel[\"arrival_date\"] < 1\n",
        "invalid_day_high = hotel[\"arrival_date\"] > last_day\n",
        "invalid_yearmonth = ym.isna()\n",
        "bad_mask = invalid_month | invalid_day_low | invalid_day_high | invalid_yearmonth\n",
        "\n",
        "ok = ~bad_mask\n",
        "hotel.loc[ok, \"arrival_date_full\"] = pd.to_datetime({\n",
        "    \"year\":  hotel.loc[ok, \"arrival_year\"],\n",
        "    \"month\": hotel.loc[ok, \"arrival_month\"],\n",
        "    \"day\":   hotel.loc[ok, \"arrival_date\"],\n",
        "}, errors=\"coerce\")\n",
        "\n",
        "hotel.loc[bad_mask, \"arrival_date_full\"] = pd.NaT\n",
        "\n",
        "problem_preview = hotel.loc[bad_mask, [\"arrival_year\",\"arrival_month\",\"arrival_date\"]].head(10)\n",
        "print(problem_preview)\n",
        "print(\"문제 행 수:\", bad_mask.sum(), \" / 전체:\", len(hotel))"
      ]
    },
    {
      "cell_type": "code",
      "execution_count": null,
      "metadata": {
        "colab": {
          "base_uri": "https://localhost:8080/"
        },
        "id": "0lrmST0yHH9Y",
        "outputId": "b96f47b8-97c5-4def-b464-0294466ae5b6"
      },
      "outputs": [
        {
          "name": "stdout",
          "output_type": "stream",
          "text": [
            "남은 행 개수: 36238\n"
          ]
        }
      ],
      "source": [
        "import pandas as pd\n",
        "\n",
        "for c in [\"arrival_year\", \"arrival_month\", \"arrival_date\"]:\n",
        "    hotel[c] = pd.to_numeric(hotel[c], errors=\"coerce\")\n",
        "\n",
        "hotel[\"arrival_date_full\"] = pd.to_datetime({\n",
        "    \"year\": hotel[\"arrival_year\"],\n",
        "    \"month\": hotel[\"arrival_month\"],\n",
        "    \"day\": hotel[\"arrival_date\"]\n",
        "}, errors=\"coerce\")\n",
        "\n",
        "hotel = hotel.dropna(subset=[\"arrival_date_full\"]).reset_index(drop=True)\n",
        "\n",
        "print(\"남은 행 개수:\", len(hotel))"
      ]
    },
    {
      "cell_type": "code",
      "execution_count": null,
      "metadata": {
        "id": "NY-C-eB9KCoy"
      },
      "outputs": [],
      "source": [
        "import pandas as pd\n",
        "import numpy as np\n",
        "from sklearn.preprocessing import LabelEncoder\n",
        "\n",
        "## datetime 하나로 합치는 코드\n",
        "tmp = hotel.rename(columns={\n",
        "    \"arrival_year\": \"year\",\n",
        "    \"arrival_month\": \"month\",\n",
        "    \"arrival_date\": \"day\"\n",
        "})\n",
        "\n",
        "hotel[\"arrival_date_full\"] = pd.to_datetime(tmp[[\"year\",\"month\",\"day\"]])\n"
      ]
    },
    {
      "cell_type": "code",
      "execution_count": null,
      "metadata": {
        "id": "9GGlZRPLGvhA"
      },
      "outputs": [],
      "source": [
        "## 범주형 변수 처리하는 코드 (binary였던 거는 그대로 냅뒀어용)\n",
        "cat_cols = [\"type_of_meal_plan\", \"room_type_reserved\", \"market_segment_type\"]\n",
        "le_dict = {}\n",
        "for col in cat_cols:\n",
        "    le = LabelEncoder()\n",
        "    hotel[col] = le.fit_transform(hotel[col])\n",
        "    le_dict[col] = le\n",
        "\n",
        "\n",
        "## 변수 drop\n",
        "hotel = hotel.drop(columns=[\"Booking_ID\",\"arrival_year\", \"arrival_date\"])"
      ]
    },
    {
      "cell_type": "code",
      "execution_count": null,
      "metadata": {
        "id": "gP2PEEw3KGPn"
      },
      "outputs": [],
      "source": [
        "## 파생 변수\n",
        "## 총 숙박일수\n",
        "hotel[\"total_nights\"] = hotel[\"no_of_weekend_nights\"] + hotel[\"no_of_week_nights\"]\n",
        "\n",
        "## 리드타임 그룹화 -- 구간은 일주일, 한달, 세달, 반년, 일년, 일년 이상으로 나눴습니다!\n",
        "hotel[\"lead_time_group\"] = pd.cut(hotel[\"lead_time\"],\n",
        "                                  bins=[-1,7,30,90,180,365,800],\n",
        "                                  labels=[\"<1w\",\"1w-1m\",\"1-3m\",\"3-6m\",\"6-12m\",\">1y\"])\n",
        "\n",
        "## 평균 1박당 가격 (NaN은 0으로)\n",
        "hotel[\"avg_price_per_night\"] = hotel[\"avg_price_per_room\"] / hotel[\"total_nights\"].replace(0, np.nan)\n",
        "hotel[\"avg_price_per_night\"] = hotel[\"avg_price_per_night\"].fillna(0)\n",
        "\n",
        "## 동반 인원\n",
        "hotel[\"total_guests\"] = hotel[\"no_of_adults\"] + hotel[\"no_of_children\"]\n",
        "\n",
        "## 자녀\n",
        "hotel[\"has_children\"] = (hotel[\"no_of_children\"] > 0).astype(int)\n",
        "\n",
        "## 취소 비율\n",
        "hotel[\"cancel_ratio\"] = hotel[\"no_of_previous_cancellations\"] / (\n",
        "    hotel[\"no_of_previous_cancellations\"] + hotel[\"no_of_previous_bookings_not_canceled\"] + 1\n",
        ")\n",
        "\n",
        "## 이전 예약 경험\n",
        "hotel[\"has_prev_booking\"] = (\n",
        "    (hotel[\"no_of_previous_cancellations\"] + hotel[\"no_of_previous_bookings_not_canceled\"]) > 0\n",
        ").astype(int)\n",
        "\n",
        "## 성수기\n",
        "hotel[\"is_peak\"] = hotel[\"arrival_month\"].isin([6,7,8,12]).astype(int)\n",
        "\n",
        "## 식사 플랜\n",
        "hotel[\"no_meal_plan\"] = (hotel[\"type_of_meal_plan\"] == le_dict[\"type_of_meal_plan\"].transform([\"Not Selected\"])[0]).astype(int)"
      ]
    },
    {
      "cell_type": "markdown",
      "metadata": {
        "id": "Y4oKIpopu2ex"
      },
      "source": [
        "## 2차 전처리 -- 추가 파생 변수"
      ]
    },
    {
      "cell_type": "markdown",
      "metadata": {
        "id": "ZynLeM-Lv12x"
      },
      "source": [
        "(sin, cos 처리 관련) & 요일 관련 변수 추가"
      ]
    },
    {
      "cell_type": "code",
      "execution_count": null,
      "metadata": {
        "id": "IJg4Cdm8xT40"
      },
      "outputs": [],
      "source": [
        "if \"arrival_date_full\" in hotel.columns:\n",
        "    hotel[\"arrival_date_full\"] = pd.to_datetime(hotel[\"arrival_date_full\"], errors=\"coerce\")\n",
        "\n",
        "    hotel[\"arrival_day_of_week\"] = hotel[\"arrival_date_full\"].dt.dayofweek"
      ]
    },
    {
      "cell_type": "code",
      "execution_count": null,
      "metadata": {
        "id": "VSytzbJhu10f"
      },
      "outputs": [],
      "source": [
        "hotel[\"month_sin\"] = np.sin(2 * np.pi * hotel[\"arrival_month\"] / 12)\n",
        "hotel[\"month_cos\"] = np.cos(2 * np.pi * hotel[\"arrival_month\"] / 12)\n",
        "\n",
        "hotel[\"dow_sin\"] = np.sin(2 * np.pi * hotel[\"arrival_day_of_week\"] / 7)\n",
        "hotel[\"dow_cos\"] = np.cos(2 * np.pi * hotel[\"arrival_day_of_week\"] / 7)"
      ]
    },
    {
      "cell_type": "markdown",
      "metadata": {
        "id": "WePLzQnOv2rQ"
      },
      "source": [
        "가격 관련 추가 변수\n",
        "- 1인당 가격, 성수기일 경우의 방 가격"
      ]
    },
    {
      "cell_type": "code",
      "execution_count": null,
      "metadata": {
        "id": "QF5dZ8D9vB8J"
      },
      "outputs": [],
      "source": [
        "hotel[\"price_per_guest\"] = hotel[\"avg_price_per_room\"] / (hotel[\"total_guests\"].replace(0, np.nan))\n",
        "hotel[\"price_per_guest\"] = hotel[\"price_per_guest\"].fillna(0)\n",
        "\n",
        "hotel[\"peak_price\"] = hotel[\"avg_price_per_room\"] * hotel[\"is_peak\"]"
      ]
    },
    {
      "cell_type": "markdown",
      "metadata": {
        "id": "khVJTSqtv9Si"
      },
      "source": [
        "lead_time 비선형성 + month랑 곱해서 시즌 별 lead_Time 패턴 고려"
      ]
    },
    {
      "cell_type": "code",
      "execution_count": null,
      "metadata": {
        "id": "sbtGy9pcvPVf"
      },
      "outputs": [],
      "source": [
        "hotel[\"log_lead_time\"] = np.log1p(hotel[\"lead_time\"])\n",
        "\n",
        "hotel[\"lead_x_month\"] = hotel[\"lead_time\"] * hotel[\"arrival_month\"]"
      ]
    },
    {
      "cell_type": "markdown",
      "metadata": {
        "id": "fRGkzxUjwFuU"
      },
      "source": [
        "취소 경험 여부"
      ]
    },
    {
      "cell_type": "code",
      "execution_count": null,
      "metadata": {
        "id": "280_HkDtvrYe"
      },
      "outputs": [],
      "source": [
        "hotel[\"ever_canceled\"] = (hotel[\"no_of_previous_cancellations\"] > 0).astype(int)"
      ]
    },
    {
      "cell_type": "markdown",
      "metadata": {
        "id": "gkzjHTDJvQEE"
      },
      "source": [
        "## 1차 전처리 코드 -- KNN 적용 관련"
      ]
    },
    {
      "cell_type": "code",
      "execution_count": null,
      "metadata": {
        "id": "FktWVw5i_ypT"
      },
      "outputs": [],
      "source": [
        "from sklearn.neighbors import KNeighborsClassifier, KNeighborsRegressor\n",
        "\n",
        "def transform_with_knn_env(\n",
        "    X_train: pd.DataFrame, y_train: pd.Series,\n",
        "    X_test: pd.DataFrame,\n",
        "    env_features = [\"type_of_meal_plan\", \"required_car_parking_space\",\n",
        "                    \"room_type_reserved\", \"no_of_special_requests\"],\n",
        "    k: int = 10\n",
        "):\n",
        "    ## 이웃 취소율\n",
        "    knn_cls = KNeighborsClassifier(n_neighbors=k)\n",
        "    knn_cls.fit(X_train[env_features], y_train)\n",
        "    tr_env_cancel = knn_cls.predict_proba(X_train[env_features])[:, 1]\n",
        "    te_env_cancel = knn_cls.predict_proba(X_test[env_features])[:, 1]\n",
        "\n",
        "    ## 이웃 평균 1박 가격\n",
        "    knn_reg = KNeighborsRegressor(n_neighbors=k)\n",
        "    knn_reg.fit(X_train[env_features], X_train[\"avg_price_per_night\"])\n",
        "    tr_env_price = knn_reg.predict(X_train[env_features])\n",
        "    te_env_price = knn_reg.predict(X_test[env_features])\n",
        "\n",
        "    X_train_knn = X_train.copy()\n",
        "    X_test_knn  = X_test.copy()\n",
        "\n",
        "    X_train_knn[\"env_cancel_rate\"] = tr_env_cancel\n",
        "    X_test_knn[\"env_cancel_rate\"]  = te_env_cancel\n",
        "    X_train_knn[\"env_avg_price\"]   = tr_env_price\n",
        "    X_test_knn[\"env_avg_price\"]    = te_env_price\n",
        "\n",
        "    return X_train_knn, X_test_knn"
      ]
    },
    {
      "cell_type": "markdown",
      "metadata": {
        "id": "IBdjmmzc9ypN"
      },
      "source": [
        "### SVC\n",
        "\n",
        "1. 스케일링, 로그 변환\n",
        "2. 이상치 제거!\n"
      ]
    },
    {
      "cell_type": "code",
      "execution_count": null,
      "metadata": {
        "colab": {
          "base_uri": "https://localhost:8080/",
          "height": 211
        },
        "id": "iwD2WnB-KPOA",
        "outputId": "845a6f4b-1aad-4d9a-dfc6-1dbc75686c73"
      },
      "outputs": [
        {
          "ename": "NameError",
          "evalue": "name 'train_test_split' is not defined",
          "output_type": "error",
          "traceback": [
            "\u001b[0;31m---------------------------------------------------------------------------\u001b[0m",
            "\u001b[0;31mNameError\u001b[0m                                 Traceback (most recent call last)",
            "\u001b[0;32m/tmp/ipython-input-244587835.py\u001b[0m in \u001b[0;36m<cell line: 0>\u001b[0;34m()\u001b[0m\n\u001b[1;32m     11\u001b[0m \u001b[0my_svc\u001b[0m \u001b[0;34m=\u001b[0m \u001b[0;34m(\u001b[0m\u001b[0mdf_svc\u001b[0m\u001b[0;34m[\u001b[0m\u001b[0;34m\"booking_status\"\u001b[0m\u001b[0;34m]\u001b[0m \u001b[0;34m==\u001b[0m \u001b[0;34m\"Canceled\"\u001b[0m\u001b[0;34m)\u001b[0m\u001b[0;34m.\u001b[0m\u001b[0mastype\u001b[0m\u001b[0;34m(\u001b[0m\u001b[0mint\u001b[0m\u001b[0;34m)\u001b[0m\u001b[0;34m\u001b[0m\u001b[0;34m\u001b[0m\u001b[0m\n\u001b[1;32m     12\u001b[0m \u001b[0;34m\u001b[0m\u001b[0m\n\u001b[0;32m---> 13\u001b[0;31m \u001b[0mX_tr_svc\u001b[0m\u001b[0;34m,\u001b[0m \u001b[0mX_te_svc\u001b[0m\u001b[0;34m,\u001b[0m \u001b[0my_tr_svc\u001b[0m\u001b[0;34m,\u001b[0m \u001b[0my_te_svc\u001b[0m \u001b[0;34m=\u001b[0m \u001b[0mtrain_test_split\u001b[0m\u001b[0;34m(\u001b[0m\u001b[0mX_svc\u001b[0m\u001b[0;34m,\u001b[0m \u001b[0my_svc\u001b[0m\u001b[0;34m,\u001b[0m \u001b[0mtest_size\u001b[0m\u001b[0;34m=\u001b[0m\u001b[0;36m0.2\u001b[0m\u001b[0;34m,\u001b[0m \u001b[0mrandom_state\u001b[0m\u001b[0;34m=\u001b[0m\u001b[0;36m42\u001b[0m\u001b[0;34m)\u001b[0m\u001b[0;34m\u001b[0m\u001b[0;34m\u001b[0m\u001b[0m\n\u001b[0m\u001b[1;32m     14\u001b[0m \u001b[0;34m\u001b[0m\u001b[0m\n\u001b[1;32m     15\u001b[0m X_tr_svc, X_te_svc = transform_with_knn_env(\n",
            "\u001b[0;31mNameError\u001b[0m: name 'train_test_split' is not defined"
          ]
        }
      ],
      "source": [
        "df_svc = hotel.copy()\n",
        "\n",
        " ## 이상치 제거\n",
        "df_svc = df_svc[df_svc[\"avg_price_per_room\"] < 500]\n",
        "\n",
        "## 로그 변환\n",
        "for col in [\"lead_time\", \"no_of_previous_cancellations\", \"no_of_previous_bookings_not_canceled\", \"no_of_children\"]:\n",
        "    df_svc[col] = np.log1p(df_svc[col])\n",
        "\n",
        "X_svc = df_svc.drop(columns=[\"booking_status\",\"arrival_date_full\"])\n",
        "y_svc = (df_svc[\"booking_status\"] == \"Canceled\").astype(int)\n",
        "\n",
        "X_tr_svc, X_te_svc, y_tr_svc, y_te_svc = train_test_split(X_svc, y_svc, test_size=0.2, random_state=42)\n",
        "\n",
        "X_tr_svc, X_te_svc = transform_with_knn_env(\n",
        "    X_tr_svc, y_tr_svc, X_te_svc,\n",
        "    env_features=[\"type_of_meal_plan\",\"required_car_parking_space\",\"room_type_reserved\",\"no_of_special_requests\"],\n",
        "    k=10\n",
        ")\n",
        "\n",
        "## 스케일링\n",
        "scaler = StandardScaler()\n",
        "\n",
        "num_cols_svc = [\n",
        "    \"no_of_adults\",\"no_of_children\",\"no_of_weekend_nights\",\"no_of_week_nights\",\n",
        "    \"lead_time\",\"avg_price_per_room\",\"total_nights\",\"avg_price_per_night\",\n",
        "    \"total_guests\",\"cancel_ratio\",\"no_of_special_requests\"\n",
        "]\n",
        "\n",
        "for c in [\"env_cancel_rate\", \"env_avg_price\"]:\n",
        "    if c in X_tr_svc.columns:\n",
        "        num_cols_svc.append(c)\n",
        "\n",
        "num_cols_svc = [c for c in num_cols_svc if c in X_tr_svc.columns]\n",
        "\n",
        "X_tr_svc.loc[:, num_cols_svc] = scaler.fit_transform(X_tr_svc[num_cols_svc])\n",
        "X_te_svc.loc[:, num_cols_svc] = scaler.transform(X_te_svc[num_cols_svc])\n",
        "\n",
        "X_svc_train, X_svc_test, y_svc_train, y_svc_test = X_tr_svc, X_te_svc, y_tr_svc, y_te_svc"
      ]
    },
    {
      "cell_type": "code",
      "execution_count": null,
      "metadata": {
        "id": "4Z4dQSqZj8YP"
      },
      "outputs": [],
      "source": [
        "import numpy as np\n",
        "import pandas as pd\n",
        "\n",
        "from sklearn.model_selection import train_test_split\n",
        "from sklearn.preprocessing import StandardScaler\n",
        "from sklearn.neighbors import KNeighborsClassifier, KNeighborsRegressor\n",
        "from sklearn.svm import SVC\n",
        "from sklearn.metrics import (\n",
        "    roc_auc_score, average_precision_score, log_loss,\n",
        "    accuracy_score, precision_recall_fscore_support, confusion_matrix\n",
        ")"
      ]
    },
    {
      "cell_type": "markdown",
      "metadata": {
        "id": "-0GKnyDUoDh_"
      },
      "source": [
        "SVC가 수치형만 받는데, lead_time_group 같은 문자열(예: '3-6m')이 그대로 남아 있어서\n",
        "→ 문자열/카테고리 컬럼을 원-핫 인코딩(또는 드롭)한 뒤 학습"
      ]
    },
    {
      "cell_type": "code",
      "execution_count": null,
      "metadata": {
        "colab": {
          "base_uri": "https://localhost:8080/"
        },
        "id": "uEF1xFzZoTRD",
        "outputId": "63573536-c0d5-42bb-d42e-0482fae99418"
      },
      "outputs": [
        {
          "name": "stderr",
          "output_type": "stream",
          "text": [
            "/tmp/ipython-input-1552819731.py:35: FutureWarning: Setting an item of incompatible dtype is deprecated and will raise in a future error of pandas. Value '[ 0.3001581   0.3001581   0.3001581  ... -1.62447875  0.3001581\n",
            "  0.3001581 ]' has dtype incompatible with int64, please explicitly cast to a compatible dtype first.\n",
            "  X_tr_svc.loc[:, num_cols_svc] = scaler.fit_transform(X_tr_svc[num_cols_svc])\n",
            "/tmp/ipython-input-1552819731.py:35: FutureWarning: Setting an item of incompatible dtype is deprecated and will raise in a future error of pandas. Value '[ 0.21682289 -0.92974381  0.21682289 ... -0.92974381  0.21682289\n",
            "  1.36338958]' has dtype incompatible with int64, please explicitly cast to a compatible dtype first.\n",
            "  X_tr_svc.loc[:, num_cols_svc] = scaler.fit_transform(X_tr_svc[num_cols_svc])\n",
            "/tmp/ipython-input-1552819731.py:35: FutureWarning: Setting an item of incompatible dtype is deprecated and will raise in a future error of pandas. Value '[ 1.27051627  0.56176447  0.56176447 ... -0.14698733 -0.14698733\n",
            " -0.85573914]' has dtype incompatible with int64, please explicitly cast to a compatible dtype first.\n",
            "  X_tr_svc.loc[:, num_cols_svc] = scaler.fit_transform(X_tr_svc[num_cols_svc])\n",
            "/tmp/ipython-input-1552819731.py:35: FutureWarning: Setting an item of incompatible dtype is deprecated and will raise in a future error of pandas. Value '[ 1.10607705 -0.01020437  0.54793634 ... -0.56834509 -0.01020437\n",
            " -0.01020437]' has dtype incompatible with int64, please explicitly cast to a compatible dtype first.\n",
            "  X_tr_svc.loc[:, num_cols_svc] = scaler.fit_transform(X_tr_svc[num_cols_svc])\n",
            "/tmp/ipython-input-1552819731.py:35: FutureWarning: Setting an item of incompatible dtype is deprecated and will raise in a future error of pandas. Value '[ 0.07802324  0.07802324  0.07802324 ... -1.45333466  0.07802324\n",
            "  0.07802324]' has dtype incompatible with int64, please explicitly cast to a compatible dtype first.\n",
            "  X_tr_svc.loc[:, num_cols_svc] = scaler.fit_transform(X_tr_svc[num_cols_svc])\n",
            "/tmp/ipython-input-1552819731.py:35: FutureWarning: Setting an item of incompatible dtype is deprecated and will raise in a future error of pandas. Value '[-0.78783636 -0.78783636 -0.78783636 ... -0.78783636 -0.78783636\n",
            " -0.78783636]' has dtype incompatible with int64, please explicitly cast to a compatible dtype first.\n",
            "  X_tr_svc.loc[:, num_cols_svc] = scaler.fit_transform(X_tr_svc[num_cols_svc])\n",
            "/tmp/ipython-input-1552819731.py:36: FutureWarning: Setting an item of incompatible dtype is deprecated and will raise in a future error of pandas. Value '[ 0.3001581  -1.62447875  0.3001581  ...  0.3001581   0.3001581\n",
            "  0.3001581 ]' has dtype incompatible with int64, please explicitly cast to a compatible dtype first.\n",
            "  X_te_svc.loc[:, num_cols_svc] = scaler.transform(X_te_svc[num_cols_svc])\n",
            "/tmp/ipython-input-1552819731.py:36: FutureWarning: Setting an item of incompatible dtype is deprecated and will raise in a future error of pandas. Value '[ 0.21682289 -0.92974381 -0.92974381 ...  0.21682289  0.21682289\n",
            " -0.92974381]' has dtype incompatible with int64, please explicitly cast to a compatible dtype first.\n",
            "  X_te_svc.loc[:, num_cols_svc] = scaler.transform(X_te_svc[num_cols_svc])\n",
            "/tmp/ipython-input-1552819731.py:36: FutureWarning: Setting an item of incompatible dtype is deprecated and will raise in a future error of pandas. Value '[ 0.56176447 -0.14698733  0.56176447 ... -1.56449094 -0.85573914\n",
            "  1.27051627]' has dtype incompatible with int64, please explicitly cast to a compatible dtype first.\n",
            "  X_te_svc.loc[:, num_cols_svc] = scaler.transform(X_te_svc[num_cols_svc])\n",
            "/tmp/ipython-input-1552819731.py:36: FutureWarning: Setting an item of incompatible dtype is deprecated and will raise in a future error of pandas. Value '[ 0.54793634 -0.56834509 -0.01020437 ... -1.1264858  -0.56834509\n",
            "  0.54793634]' has dtype incompatible with int64, please explicitly cast to a compatible dtype first.\n",
            "  X_te_svc.loc[:, num_cols_svc] = scaler.transform(X_te_svc[num_cols_svc])\n",
            "/tmp/ipython-input-1552819731.py:36: FutureWarning: Setting an item of incompatible dtype is deprecated and will raise in a future error of pandas. Value '[ 0.07802324 -1.45333466  0.07802324 ...  0.07802324  3.14073904\n",
            "  3.14073904]' has dtype incompatible with int64, please explicitly cast to a compatible dtype first.\n",
            "  X_te_svc.loc[:, num_cols_svc] = scaler.transform(X_te_svc[num_cols_svc])\n",
            "/tmp/ipython-input-1552819731.py:36: FutureWarning: Setting an item of incompatible dtype is deprecated and will raise in a future error of pandas. Value '[ 0.4881337   0.4881337  -0.78783636 ...  0.4881337  -0.78783636\n",
            "  0.4881337 ]' has dtype incompatible with int64, please explicitly cast to a compatible dtype first.\n",
            "  X_te_svc.loc[:, num_cols_svc] = scaler.transform(X_te_svc[num_cols_svc])\n"
          ]
        },
        {
          "name": "stdout",
          "output_type": "stream",
          "text": [
            "OHE 대상: ['lead_time_group']\n",
            "AUC      : 0.7784200620048323\n",
            "PR-AUC   : 0.6112044935787763\n",
            "LogLoss  : 0.5457381975053482\n",
            "Accuracy : 0.7437913907284768\n",
            "Precision: 0.6343863283272916 Recall: 0.5155723905723906 F1: 0.5688414209426514\n",
            "Confusion\n",
            " [[4166  706]\n",
            " [1151 1225]]\n"
          ]
        }
      ],
      "source": [
        "df_svc = hotel.copy()\n",
        "df_svc = df_svc[df_svc[\"avg_price_per_room\"] < 500].copy()\n",
        "\n",
        "# 로그변환(왜도 완화)\n",
        "for col in [\"lead_time\",\"no_of_previous_cancellations\",\n",
        "            \"no_of_previous_bookings_not_canceled\",\"no_of_children\"]:\n",
        "    df_svc[col] = np.log1p(df_svc[col])\n",
        "\n",
        "X_svc = df_svc.drop(columns=[\"booking_status\",\"arrival_date_full\"])\n",
        "y_svc = (df_svc[\"booking_status\"] == \"Canceled\").astype(int)\n",
        "\n",
        "#train/test 분리\n",
        "X_tr_svc, X_te_svc, y_tr_svc, y_te_svc = train_test_split(\n",
        "    X_svc, y_svc, test_size=0.2, stratify=y_svc, random_state=42\n",
        ")\n",
        "\n",
        "# KNN 환경특성 추가\n",
        "X_tr_svc, X_te_svc = transform_with_knn_env(\n",
        "    X_tr_svc, y_tr_svc, X_te_svc,\n",
        "    env_features=[\"type_of_meal_plan\",\"required_car_parking_space\",\n",
        "                  \"room_type_reserved\",\"no_of_special_requests\"],\n",
        "    k=10\n",
        ")\n",
        "\n",
        "# 스케일링(수치형만)\n",
        "scaler = StandardScaler()\n",
        "num_cols_svc = [\n",
        "    \"no_of_adults\",\"no_of_children\",\"no_of_weekend_nights\",\"no_of_week_nights\",\n",
        "    \"lead_time\",\"avg_price_per_room\",\"total_nights\",\"avg_price_per_night\",\n",
        "    \"total_guests\",\"cancel_ratio\",\"no_of_special_requests\",\n",
        "    \"env_cancel_rate\",\"env_avg_price\"\n",
        "]\n",
        "num_cols_svc = [c for c in num_cols_svc if c in X_tr_svc.columns]\n",
        "X_tr_svc.loc[:, num_cols_svc] = scaler.fit_transform(X_tr_svc[num_cols_svc])\n",
        "X_te_svc.loc[:, num_cols_svc] = scaler.transform(X_te_svc[num_cols_svc])\n",
        "\n",
        "# One-Hot 인코딩 (scikit-learn 버전 안전 처리)\n",
        "# 문자열/카테고리 컬럼 감지 (예: 'lead_time_group' 등)\n",
        "cat_cols_for_ohe = X_tr_svc.select_dtypes(include=[\"object\",\"category\"]).columns.tolist()\n",
        "print(\"OHE 대상:\", cat_cols_for_ohe)\n",
        "\n",
        "if len(cat_cols_for_ohe) > 0:\n",
        "    try:\n",
        "        ohe = OneHotEncoder(handle_unknown=\"ignore\", sparse_output=False)\n",
        "    except TypeError:\n",
        "        ohe = OneHotEncoder(handle_unknown=\"ignore\", sparse=False)\n",
        "\n",
        "    ohe.fit(X_tr_svc[cat_cols_for_ohe])\n",
        "    Z_tr = ohe.transform(X_tr_svc[cat_cols_for_ohe])\n",
        "    Z_te = ohe.transform(X_te_svc[cat_cols_for_ohe])\n",
        "    Z_cols = ohe.get_feature_names_out(cat_cols_for_ohe)\n",
        "\n",
        "    X_tr_enc = pd.concat(\n",
        "        [X_tr_svc.drop(columns=cat_cols_for_ohe).reset_index(drop=True),\n",
        "         pd.DataFrame(Z_tr, columns=Z_cols, index=X_tr_svc.index).reset_index(drop=True)],\n",
        "        axis=1\n",
        "    )\n",
        "    X_te_enc = pd.concat(\n",
        "        [X_te_svc.drop(columns=cat_cols_for_ohe).reset_index(drop=True),\n",
        "         pd.DataFrame(Z_te, columns=Z_cols, index=X_te_svc.index).reset_index(drop=True)],\n",
        "        axis=1\n",
        "    )\n",
        "else:\n",
        "    X_tr_enc, X_te_enc = X_tr_svc, X_te_svc\n",
        "\n",
        "# SVC 학습\n",
        "svc = SVC(kernel=\"rbf\", C=2.0, gamma=\"scale\",\n",
        "          probability=True, class_weight=\"balanced\", random_state=42)\n",
        "svc.fit(X_tr_enc, y_tr_svc)\n",
        "\n",
        "# 평가\n",
        "proba = svc.predict_proba(X_te_enc)[:, 1]\n",
        "pred05 = (proba >= 0.50).astype(int)\n",
        "\n",
        "print(\"AUC      :\", roc_auc_score(y_te_svc, proba))\n",
        "print(\"PR-AUC   :\", average_precision_score(y_te_svc, proba))\n",
        "print(\"LogLoss  :\", log_loss(y_te_svc, proba))\n",
        "print(\"Accuracy :\", accuracy_score(y_te_svc, pred05))\n",
        "p, r, f, _ = precision_recall_fscore_support(y_te_svc, pred05, average=\"binary\")\n",
        "print(\"Precision:\", p, \"Recall:\", r, \"F1:\", f)\n",
        "print(\"Confusion\\n\", confusion_matrix(y_te_svc, pred05))"
      ]
    },
    {
      "cell_type": "markdown",
      "metadata": {
        "id": "eBWkVbiVsKFw"
      },
      "source": [
        "**<결과 해석 (t=0.50 기준)>**\n",
        "\n",
        "- AUC 0.778 / PR-AUC 0.611: 랭킹/탐지력이 CatBoost(≈0.95 / 0.92) 대비 꽤 낮음.\n",
        "\n",
        "- Accuracy 0.744: 보통 수준. (불균형 문제에선 단독 판단 X)\n",
        "\n",
        "- Precision 0.634 / Recall 0.516 / F1 0.569\n",
        "→ 실제 취소의 약 48%를 놓침\n",
        "\n",
        "- Confusion\n",
        "\n",
        "[[TN  FP],\n",
        "\n",
        " [FN  TP]]    \n",
        "\n",
        " [[4166  706],\n",
        "\n",
        " [1151 1225]]\n",
        "\n",
        "\n",
        "- FN=1151 (실제 취소 놓침), FP=706 (과잉 경보).\n",
        "\n",
        "- TPR(Recall)=0.516, TNR=0.855, FPR=0.145.\n",
        "\n",
        "**현재 SVC 파이프라인은 취소 탐지력이 부족하고, CatBoost 대비 상당히 뒤처짐**"
      ]
    },
    {
      "cell_type": "markdown",
      "metadata": {
        "id": "qcqNnE6lulPs"
      },
      "source": [
        "###2. 점수 가져오기 & F1 기준 임계값 튜닝"
      ]
    },
    {
      "cell_type": "code",
      "execution_count": null,
      "metadata": {
        "colab": {
          "base_uri": "https://localhost:8080/"
        },
        "id": "6rWmfoF0oTOB",
        "outputId": "2f5b9cc6-ab77-46f7-97ad-ce0db417030c"
      },
      "outputs": [
        {
          "name": "stdout",
          "output_type": "stream",
          "text": [
            "[F1 기준] Best t=0.1900  P=0.466  R=0.892  F1=0.613\n",
            "Confusion @ best_t\n",
            " [[2447 2425]\n",
            " [ 256 2120]]\n"
          ]
        }
      ],
      "source": [
        "import numpy as np\n",
        "from sklearn.metrics import (precision_recall_fscore_support, confusion_matrix,\n",
        "                             roc_auc_score, average_precision_score,\n",
        "                             roc_curve, precision_recall_curve, auc, classification_report)\n",
        "import matplotlib.pyplot as plt\n",
        "\n",
        "# 확률(proba) 있으면 그걸, 없으면 decision_function 점수 사용\n",
        "if getattr(svc, \"probability\", False):\n",
        "    scores = proba  # 앞 셀에서 계산됨: svc.predict_proba(X_te_enc)[:,1]\n",
        "    ths = np.linspace(0.0, 1.0, 201)\n",
        "else:\n",
        "    scores = svc.decision_function(X_te_enc)\n",
        "    ths = np.linspace(scores.min(), scores.max(), 201)\n",
        "\n",
        "# F1 최대 임계값\n",
        "best = None\n",
        "for t in ths:\n",
        "    pred = (scores >= t).astype(int)\n",
        "    p, r, f, _ = precision_recall_fscore_support(y_te_svc, pred, average=\"binary\", zero_division=0)\n",
        "    if (best is None) or (f > best[3]):\n",
        "        tn, fp, fn, tp = confusion_matrix(y_te_svc, pred).ravel()\n",
        "        best = (t, p, r, f, tn, fp, fn, tp)\n",
        "\n",
        "best_t, bp, br, bf, tn, fp, fn, tp = best\n",
        "print(f\"[F1 기준] Best t={best_t:.4f}  P={bp:.3f}  R={br:.3f}  F1={bf:.3f}\")\n",
        "print(\"Confusion @ best_t\\n\", np.array([[tn, fp],[fn, tp]]))\n"
      ]
    },
    {
      "cell_type": "markdown",
      "metadata": {
        "id": "XqA0bC42xqWw"
      },
      "source": [
        "임계값을 0.5 → 0.10으로 낮추니\n",
        "\n",
        "재현율(Recall) ↑: 0.516 → 0.892 (미탐 대폭 감소)\n",
        "\n",
        "정밀도(Precision) ↓: 0.634 → 0.466 (오탐 크게 증가)\n",
        "\n",
        "F1: 0.569 → 0.613 (P·R 균형 지표는 개선)\n",
        "\n",
        "테스트셋 중 취소로 분류된 비율: (TP+FP)/N = (2120+2425)/7248 ≈ 62.7%\n",
        "→ 운영상 과잉 경보가 많이 발생."
      ]
    },
    {
      "cell_type": "markdown",
      "metadata": {
        "id": "L4-J1bdeumN2"
      },
      "source": [
        "###3. 리포트 (best F1 임계값 기준)"
      ]
    },
    {
      "cell_type": "code",
      "execution_count": null,
      "metadata": {
        "colab": {
          "base_uri": "https://localhost:8080/"
        },
        "id": "CggPwZFDoTLq",
        "outputId": "b9833573-6681-44b9-afef-0cb23023016d"
      },
      "outputs": [
        {
          "name": "stdout",
          "output_type": "stream",
          "text": [
            "\n",
            "Classification report @ best_t\n",
            "              precision    recall  f1-score   support\n",
            "\n",
            "           0      0.905     0.502     0.646      4872\n",
            "           1      0.466     0.892     0.613      2376\n",
            "\n",
            "    accuracy                          0.630      7248\n",
            "   macro avg      0.686     0.697     0.629      7248\n",
            "weighted avg      0.761     0.630     0.635      7248\n",
            "\n"
          ]
        }
      ],
      "source": [
        "y_pred_best = (scores >= best_t).astype(int)\n",
        "print(\"\\nClassification report @ best_t\")\n",
        "print(classification_report(y_te_svc, y_pred_best, digits=3))"
      ]
    },
    {
      "cell_type": "markdown",
      "metadata": {
        "id": "Az9eUYS_uo36"
      },
      "source": [
        "###4. ROC / PR 곡선"
      ]
    },
    {
      "cell_type": "code",
      "execution_count": null,
      "metadata": {
        "colab": {
          "base_uri": "https://localhost:8080/",
          "height": 814
        },
        "id": "vjES1saQoTJ1",
        "outputId": "cd2498c6-ccbc-4b54-cc9e-62740bc99c26"
      },
      "outputs": [
        {
          "name": "stdout",
          "output_type": "stream",
          "text": [
            "ROC-AUC=0.778  PR-AUC=0.611\n"
          ]
        },
        {
          "data": {
            "image/png": "[encoded data removed]",
            "text/plain": [
              "<Figure size 500x400 with 1 Axes>"
            ]
          },
          "metadata": {},
          "output_type": "display_data"
        },
        {
          "data": {
            "image/png": "[encoded data removed]",
            "text/plain": [
              "<Figure size 500x400 with 1 Axes>"
            ]
          },
          "metadata": {},
          "output_type": "display_data"
        }
      ],
      "source": [
        "fpr, tpr, _ = roc_curve(y_te_svc, scores)\n",
        "prec, rec, _ = precision_recall_curve(y_te_svc, scores)\n",
        "print(f\"ROC-AUC={auc(fpr,tpr):.3f}  PR-AUC={auc(rec,prec):.3f}\")\n",
        "\n",
        "plt.figure(figsize=(5,4))\n",
        "plt.plot(fpr, tpr)\n",
        "plt.plot([0,1],[0,1],'--', linewidth=1)\n",
        "plt.xlabel(\"False Positive Rate\"); plt.ylabel(\"True Positive Rate\")\n",
        "plt.title(\"SVC ROC curve\"); plt.tight_layout(); plt.show()\n",
        "\n",
        "plt.figure(figsize=(5,4))\n",
        "plt.plot(rec, prec)\n",
        "plt.xlabel(\"Recall\"); plt.ylabel(\"Precision\")\n",
        "plt.title(\"SVC Precision-Recall curve\"); plt.tight_layout(); plt.show()\n"
      ]
    },
    {
      "cell_type": "markdown",
      "metadata": {
        "id": "KVrhEeKoykHi"
      },
      "source": [
        "**<ROC 곡선>**\n",
        "\n",
        "대각선(무작위) 위로 꽤 올라가 있지만 완만한 곡선 → 중간 수준의 판별력.\n",
        "\n",
        "FPR을 0.2로 허용해도 TPR(재현율)이 ~0.6대 정도로 보임\n",
        "\n",
        "**<PR 곡선>**\n",
        "\n",
        "좌측 상단에서 정밀도 ~0.75 수준으로 시작하지만 Recall이 커질수록 Precision이 급격히 하락.\n",
        "\n",
        "Recall 0.8 근처에선 Precision이 ~0.5 전후로 떨어짐\n",
        "\n",
        "**<요약>**\n",
        "\n",
        "ROC-AUC = 0.778, PR-AUC = 0.611 → SVC가 랜덤(ROC 0.5)보다는 확실히 좋지만, 같은 데이터의 CatBoost(≈0.95/0.92)보단 꽤 약함\n",
        "\n",
        "양성 비율(취소율) ≈ 0.33이므로 PR-AUC 0.611은 베이스라인(0.33) 대비 의미 있는 향상"
      ]
    },
    {
      "cell_type": "code",
      "execution_count": null,
      "metadata": {
        "id": "bOV9H31BwGbW"
      },
      "outputs": [],
      "source": [
        "import numpy as np\n",
        "import pandas as pd\n",
        "\n",
        "# OHE 대상 자동 감지(없을 때 대비)\n",
        "try:\n",
        "    cat_cols_for_ohe\n",
        "except NameError:\n",
        "    cat_cols_for_ohe = X_tr_enc.select_dtypes(include=[\"object\",\"category\"]).columns.tolist()\n",
        "\n",
        "# 원-핫 피처를 \"원 변수\" 단위로 묶기 위한 베이스 이름 추출 함수\n",
        "def base_name(col: str) -> str:\n",
        "    # scikit-learn 1.2+의 get_feature_names_out: \"col_value\" 형태\n",
        "    # 일부 버전/설정은 \"col=value\"도 가능하므로 둘 다 처리\n",
        "    # 없으면 그대로 반환(수치 변수 등)\n",
        "    for c in cat_cols_for_ohe:\n",
        "        if col.startswith(c + \"_\") or col.startswith(c + \"=\"):\n",
        "            return c\n",
        "    return col\n"
      ]
    },
    {
      "cell_type": "code",
      "execution_count": null,
      "metadata": {
        "colab": {
          "background_save": true
        },
        "id": "QUt6Pj7lwGV5",
        "outputId": "a9df0f54-c5b3-47be-9f2c-35c4a6027bbd"
      },
      "outputs": [
        {
          "name": "stdout",
          "output_type": "stream",
          "text": [
            "=== Permutation importance (Top 20, 원-핫 피처 포함) ===\n"
          ]
        },
        {
          "data": {
            "application/vnd.google.colaboratory.intrinsic+json": {
              "summary": "{\n  \"name\": \"display(pi_group\",\n  \"rows\": 20,\n  \"fields\": [\n    {\n      \"column\": \"feature\",\n      \"properties\": {\n        \"dtype\": \"string\",\n        \"num_unique_values\": 20,\n        \"samples\": [\n          \"lead_x_month\",\n          \"arrival_day_of_week\",\n          \"total_nights\"\n        ],\n        \"semantic_type\": \"\",\n        \"description\": \"\"\n      }\n    },\n    {\n      \"column\": \"imp_mean\",\n      \"properties\": {\n        \"dtype\": \"number\",\n        \"std\": 0.057465920408845725,\n        \"min\": 0.0003512765443890453,\n        \"max\": 0.25945294447385425,\n        \"num_unique_values\": 20,\n        \"samples\": [\n          0.25945294447385425,\n          0.0004434871114860295,\n          0.0005936647009163298\n        ],\n        \"semantic_type\": \"\",\n        \"description\": \"\"\n      }\n    },\n    {\n      \"column\": \"imp_std\",\n      \"properties\": {\n        \"dtype\": \"number\",\n        \"std\": 0.001937090572364354,\n        \"min\": 3.418123252951716e-05,\n        \"max\": 0.007541473914901507,\n        \"num_unique_values\": 20,\n        \"samples\": [\n          0.007541473914901507,\n          0.00013465195485949568,\n          8.172427145111222e-05\n        ],\n        \"semantic_type\": \"\",\n        \"description\": \"\"\n      }\n    }\n  ]\n}",
              "type": "dataframe"
            },
            "text/html": [
              "\n",
              "  <div id=\"df-bf191200-d10b-4451-b556-7966080ad3d5\" class=\"colab-df-container\">\n",
              "    <div>\n",
              "<style scoped>\n",
              "    .dataframe tbody tr th:only-of-type {\n",
              "        vertical-align: middle;\n",
              "    }\n",
              "\n",
              "    .dataframe tbody tr th {\n",
              "        vertical-align: top;\n",
              "    }\n",
              "\n",
              "    .dataframe thead th {\n",
              "        text-align: right;\n",
              "    }\n",
              "</style>\n",
              "<table border=\"1\" class=\"dataframe\">\n",
              "  <thead>\n",
              "    <tr style=\"text-align: right;\">\n",
              "      <th></th>\n",
              "      <th>feature</th>\n",
              "      <th>imp_mean</th>\n",
              "      <th>imp_std</th>\n",
              "    </tr>\n",
              "  </thead>\n",
              "  <tbody>\n",
              "    <tr>\n",
              "      <th>0</th>\n",
              "      <td>lead_x_month</td>\n",
              "      <td>0.259453</td>\n",
              "      <td>0.007541</td>\n",
              "    </tr>\n",
              "    <tr>\n",
              "      <th>1</th>\n",
              "      <td>price_per_guest</td>\n",
              "      <td>0.020510</td>\n",
              "      <td>0.004729</td>\n",
              "    </tr>\n",
              "    <tr>\n",
              "      <th>2</th>\n",
              "      <td>arrival_month</td>\n",
              "      <td>0.016882</td>\n",
              "      <td>0.002815</td>\n",
              "    </tr>\n",
              "    <tr>\n",
              "      <th>3</th>\n",
              "      <td>no_of_special_requests</td>\n",
              "      <td>0.008819</td>\n",
              "      <td>0.000761</td>\n",
              "    </tr>\n",
              "    <tr>\n",
              "      <th>4</th>\n",
              "      <td>env_cancel_rate</td>\n",
              "      <td>0.006223</td>\n",
              "      <td>0.000276</td>\n",
              "    </tr>\n",
              "    <tr>\n",
              "      <th>5</th>\n",
              "      <td>peak_price</td>\n",
              "      <td>0.005929</td>\n",
              "      <td>0.001383</td>\n",
              "    </tr>\n",
              "    <tr>\n",
              "      <th>6</th>\n",
              "      <td>avg_price_per_room</td>\n",
              "      <td>0.002555</td>\n",
              "      <td>0.000192</td>\n",
              "    </tr>\n",
              "    <tr>\n",
              "      <th>7</th>\n",
              "      <td>total_guests</td>\n",
              "      <td>0.001394</td>\n",
              "      <td>0.000196</td>\n",
              "    </tr>\n",
              "    <tr>\n",
              "      <th>8</th>\n",
              "      <td>month_cos</td>\n",
              "      <td>0.001046</td>\n",
              "      <td>0.000159</td>\n",
              "    </tr>\n",
              "    <tr>\n",
              "      <th>9</th>\n",
              "      <td>no_of_adults</td>\n",
              "      <td>0.001035</td>\n",
              "      <td>0.000119</td>\n",
              "    </tr>\n",
              "    <tr>\n",
              "      <th>10</th>\n",
              "      <td>market_segment_type</td>\n",
              "      <td>0.001010</td>\n",
              "      <td>0.000154</td>\n",
              "    </tr>\n",
              "    <tr>\n",
              "      <th>11</th>\n",
              "      <td>avg_price_per_night</td>\n",
              "      <td>0.000811</td>\n",
              "      <td>0.000172</td>\n",
              "    </tr>\n",
              "    <tr>\n",
              "      <th>12</th>\n",
              "      <td>no_of_weekend_nights</td>\n",
              "      <td>0.000713</td>\n",
              "      <td>0.000042</td>\n",
              "    </tr>\n",
              "    <tr>\n",
              "      <th>13</th>\n",
              "      <td>month_sin</td>\n",
              "      <td>0.000620</td>\n",
              "      <td>0.000082</td>\n",
              "    </tr>\n",
              "    <tr>\n",
              "      <th>14</th>\n",
              "      <td>type_of_meal_plan</td>\n",
              "      <td>0.000612</td>\n",
              "      <td>0.000236</td>\n",
              "    </tr>\n",
              "    <tr>\n",
              "      <th>15</th>\n",
              "      <td>total_nights</td>\n",
              "      <td>0.000594</td>\n",
              "      <td>0.000082</td>\n",
              "    </tr>\n",
              "    <tr>\n",
              "      <th>16</th>\n",
              "      <td>env_avg_price</td>\n",
              "      <td>0.000563</td>\n",
              "      <td>0.000130</td>\n",
              "    </tr>\n",
              "    <tr>\n",
              "      <th>17</th>\n",
              "      <td>arrival_day_of_week</td>\n",
              "      <td>0.000443</td>\n",
              "      <td>0.000135</td>\n",
              "    </tr>\n",
              "    <tr>\n",
              "      <th>18</th>\n",
              "      <td>no_of_children</td>\n",
              "      <td>0.000394</td>\n",
              "      <td>0.000114</td>\n",
              "    </tr>\n",
              "    <tr>\n",
              "      <th>19</th>\n",
              "      <td>no_of_week_nights</td>\n",
              "      <td>0.000351</td>\n",
              "      <td>0.000034</td>\n",
              "    </tr>\n",
              "  </tbody>\n",
              "</table>\n",
              "</div>\n",
              "    <div class=\"colab-df-buttons\">\n",
              "\n",
              "  <div class=\"colab-df-container\">\n",
              "    <button class=\"colab-df-convert\" onclick=\"convertToInteractive('df-bf191200-d10b-4451-b556-7966080ad3d5')\"\n",
              "            title=\"Convert this dataframe to an interactive table.\"\n",
              "            style=\"display:none;\">\n",
              "\n",
              "  <svg xmlns=\"http://www.w3.org/2000/svg\" height=\"24px\" viewBox=\"0 -960 960 960\">\n",
              "    <path d=\"M120-120v-720h720v720H120Zm60-500h600v-160H180v160Zm220 220h160v-160H400v160Zm0 220h160v-160H400v160ZM180-400h160v-160H180v160Zm440 0h160v-160H620v160ZM180-180h160v-160H180v160Zm440 0h160v-160H620v160Z\"/>\n",
              "  </svg>\n",
              "    </button>\n",
              "\n",
              "  <style>\n",
              "    .colab-df-container {\n",
              "      display:flex;\n",
              "      gap: 12px;\n",
              "    }\n",
              "\n",
              "    .colab-df-convert {\n",
              "      background-color: #E8F0FE;\n",
              "      border: none;\n",
              "      border-radius: 50%;\n",
              "      cursor: pointer;\n",
              "      display: none;\n",
              "      fill: #1967D2;\n",
              "      height: 32px;\n",
              "      padding: 0 0 0 0;\n",
              "      width: 32px;\n",
              "    }\n",
              "\n",
              "    .colab-df-convert:hover {\n",
              "      background-color: #E2EBFA;\n",
              "      box-shadow: 0px 1px 2px rgba(60, 64, 67, 0.3), 0px 1px 3px 1px rgba(60, 64, 67, 0.15);\n",
              "      fill: #174EA6;\n",
              "    }\n",
              "\n",
              "    .colab-df-buttons div {\n",
              "      margin-bottom: 4px;\n",
              "    }\n",
              "\n",
              "    [theme=dark] .colab-df-convert {\n",
              "      background-color: #3B4455;\n",
              "      fill: #D2E3FC;\n",
              "    }\n",
              "\n",
              "    [theme=dark] .colab-df-convert:hover {\n",
              "      background-color: #434B5C;\n",
              "      box-shadow: 0px 1px 3px 1px rgba(0, 0, 0, 0.15);\n",
              "      filter: drop-shadow(0px 1px 2px rgba(0, 0, 0, 0.3));\n",
              "      fill: #FFFFFF;\n",
              "    }\n",
              "  </style>\n",
              "\n",
              "    <script>\n",
              "      const buttonEl =\n",
              "        document.querySelector('#df-bf191200-d10b-4451-b556-7966080ad3d5 button.colab-df-convert');\n",
              "      buttonEl.style.display =\n",
              "        google.colab.kernel.accessAllowed ? 'block' : 'none';\n",
              "\n",
              "      async function convertToInteractive(key) {\n",
              "        const element = document.querySelector('#df-bf191200-d10b-4451-b556-7966080ad3d5');\n",
              "        const dataTable =\n",
              "          await google.colab.kernel.invokeFunction('convertToInteractive',\n",
              "                                                    [key], {});\n",
              "        if (!dataTable) return;\n",
              "\n",
              "        const docLinkHtml = 'Like what you see? Visit the ' +\n",
              "          '<a target=\"_blank\" href=https://colab.research.google.com/notebooks/data_table.ipynb>data table notebook</a>'\n",
              "          + ' to learn more about interactive tables.';\n",
              "        element.innerHTML = '';\n",
              "        dataTable['output_type'] = 'display_data';\n",
              "        await google.colab.output.renderOutput(dataTable, element);\n",
              "        const docLink = document.createElement('div');\n",
              "        docLink.innerHTML = docLinkHtml;\n",
              "        element.appendChild(docLink);\n",
              "      }\n",
              "    </script>\n",
              "  </div>\n",
              "\n",
              "\n",
              "    <div id=\"df-b0c4f4f1-0b25-4969-b225-3a3547752baf\">\n",
              "      <button class=\"colab-df-quickchart\" onclick=\"quickchart('df-b0c4f4f1-0b25-4969-b225-3a3547752baf')\"\n",
              "                title=\"Suggest charts\"\n",
              "                style=\"display:none;\">\n",
              "\n",
              "<svg xmlns=\"http://www.w3.org/2000/svg\" height=\"24px\"viewBox=\"0 0 24 24\"\n",
              "     width=\"24px\">\n",
              "    <g>\n",
              "        <path d=\"M19 3H5c-1.1 0-2 .9-2 2v14c0 1.1.9 2 2 2h14c1.1 0 2-.9 2-2V5c0-1.1-.9-2-2-2zM9 17H7v-7h2v7zm4 0h-2V7h2v10zm4 0h-2v-4h2v4z\"/>\n",
              "    </g>\n",
              "</svg>\n",
              "      </button>\n",
              "\n",
              "<style>\n",
              "  .colab-df-quickchart {\n",
              "      --bg-color: #E8F0FE;\n",
              "      --fill-color: #1967D2;\n",
              "      --hover-bg-color: #E2EBFA;\n",
              "      --hover-fill-color: #174EA6;\n",
              "      --disabled-fill-color: #AAA;\n",
              "      --disabled-bg-color: #DDD;\n",
              "  }\n",
              "\n",
              "  [theme=dark] .colab-df-quickchart {\n",
              "      --bg-color: #3B4455;\n",
              "      --fill-color: #D2E3FC;\n",
              "      --hover-bg-color: #434B5C;\n",
              "      --hover-fill-color: #FFFFFF;\n",
              "      --disabled-bg-color: #3B4455;\n",
              "      --disabled-fill-color: #666;\n",
              "  }\n",
              "\n",
              "  .colab-df-quickchart {\n",
              "    background-color: var(--bg-color);\n",
              "    border: none;\n",
              "    border-radius: 50%;\n",
              "    cursor: pointer;\n",
              "    display: none;\n",
              "    fill: var(--fill-color);\n",
              "    height: 32px;\n",
              "    padding: 0;\n",
              "    width: 32px;\n",
              "  }\n",
              "\n",
              "  .colab-df-quickchart:hover {\n",
              "    background-color: var(--hover-bg-color);\n",
              "    box-shadow: 0 1px 2px rgba(60, 64, 67, 0.3), 0 1px 3px 1px rgba(60, 64, 67, 0.15);\n",
              "    fill: var(--button-hover-fill-color);\n",
              "  }\n",
              "\n",
              "  .colab-df-quickchart-complete:disabled,\n",
              "  .colab-df-quickchart-complete:disabled:hover {\n",
              "    background-color: var(--disabled-bg-color);\n",
              "    fill: var(--disabled-fill-color);\n",
              "    box-shadow: none;\n",
              "  }\n",
              "\n",
              "  .colab-df-spinner {\n",
              "    border: 2px solid var(--fill-color);\n",
              "    border-color: transparent;\n",
              "    border-bottom-color: var(--fill-color);\n",
              "    animation:\n",
              "      spin 1s steps(1) infinite;\n",
              "  }\n",
              "\n",
              "  @keyframes spin {\n",
              "    0% {\n",
              "      border-color: transparent;\n",
              "      border-bottom-color: var(--fill-color);\n",
              "      border-left-color: var(--fill-color);\n",
              "    }\n",
              "    20% {\n",
              "      border-color: transparent;\n",
              "      border-left-color: var(--fill-color);\n",
              "      border-top-color: var(--fill-color);\n",
              "    }\n",
              "    30% {\n",
              "      border-color: transparent;\n",
              "      border-left-color: var(--fill-color);\n",
              "      border-top-color: var(--fill-color);\n",
              "      border-right-color: var(--fill-color);\n",
              "    }\n",
              "    40% {\n",
              "      border-color: transparent;\n",
              "      border-right-color: var(--fill-color);\n",
              "      border-top-color: var(--fill-color);\n",
              "    }\n",
              "    60% {\n",
              "      border-color: transparent;\n",
              "      border-right-color: var(--fill-color);\n",
              "    }\n",
              "    80% {\n",
              "      border-color: transparent;\n",
              "      border-right-color: var(--fill-color);\n",
              "      border-bottom-color: var(--fill-color);\n",
              "    }\n",
              "    90% {\n",
              "      border-color: transparent;\n",
              "      border-bottom-color: var(--fill-color);\n",
              "    }\n",
              "  }\n",
              "</style>\n",
              "\n",
              "      <script>\n",
              "        async function quickchart(key) {\n",
              "          const quickchartButtonEl =\n",
              "            document.querySelector('#' + key + ' button');\n",
              "          quickchartButtonEl.disabled = true;  // To prevent multiple clicks.\n",
              "          quickchartButtonEl.classList.add('colab-df-spinner');\n",
              "          try {\n",
              "            const charts = await google.colab.kernel.invokeFunction(\n",
              "                'suggestCharts', [key], {});\n",
              "          } catch (error) {\n",
              "            console.error('Error during call to suggestCharts:', error);\n",
              "          }\n",
              "          quickchartButtonEl.classList.remove('colab-df-spinner');\n",
              "          quickchartButtonEl.classList.add('colab-df-quickchart-complete');\n",
              "        }\n",
              "        (() => {\n",
              "          let quickchartButtonEl =\n",
              "            document.querySelector('#df-b0c4f4f1-0b25-4969-b225-3a3547752baf button');\n",
              "          quickchartButtonEl.style.display =\n",
              "            google.colab.kernel.accessAllowed ? 'block' : 'none';\n",
              "        })();\n",
              "      </script>\n",
              "    </div>\n",
              "\n",
              "    </div>\n",
              "  </div>\n"
            ],
            "text/plain": [
              "                   feature  imp_mean   imp_std\n",
              "0             lead_x_month  0.259453  0.007541\n",
              "1          price_per_guest  0.020510  0.004729\n",
              "2            arrival_month  0.016882  0.002815\n",
              "3   no_of_special_requests  0.008819  0.000761\n",
              "4          env_cancel_rate  0.006223  0.000276\n",
              "5               peak_price  0.005929  0.001383\n",
              "6       avg_price_per_room  0.002555  0.000192\n",
              "7             total_guests  0.001394  0.000196\n",
              "8                month_cos  0.001046  0.000159\n",
              "9             no_of_adults  0.001035  0.000119\n",
              "10     market_segment_type  0.001010  0.000154\n",
              "11     avg_price_per_night  0.000811  0.000172\n",
              "12    no_of_weekend_nights  0.000713  0.000042\n",
              "13               month_sin  0.000620  0.000082\n",
              "14       type_of_meal_plan  0.000612  0.000236\n",
              "15            total_nights  0.000594  0.000082\n",
              "16           env_avg_price  0.000563  0.000130\n",
              "17     arrival_day_of_week  0.000443  0.000135\n",
              "18          no_of_children  0.000394  0.000114\n",
              "19       no_of_week_nights  0.000351  0.000034"
            ]
          },
          "metadata": {},
          "output_type": "display_data"
        },
        {
          "name": "stdout",
          "output_type": "stream",
          "text": [
            "\n",
            "=== Grouped importance by ORIGINAL feature (Top 20) ===\n"
          ]
        },
        {
          "data": {
            "application/vnd.google.colaboratory.intrinsic+json": {
              "summary": "{\n  \"name\": \"display(pi_group\",\n  \"rows\": 20,\n  \"fields\": [\n    {\n      \"column\": \"base\",\n      \"properties\": {\n        \"dtype\": \"string\",\n        \"num_unique_values\": 20,\n        \"samples\": [\n          \"lead_x_month\",\n          \"arrival_day_of_week\",\n          \"total_nights\"\n        ],\n        \"semantic_type\": \"\",\n        \"description\": \"\"\n      }\n    },\n    {\n      \"column\": \"imp_mean\",\n      \"properties\": {\n        \"dtype\": \"number\",\n        \"std\": 0.057465543893218736,\n        \"min\": 0.00037675613088690164,\n        \"max\": 0.25945294447385425,\n        \"num_unique_values\": 20,\n        \"samples\": [\n          0.25945294447385425,\n          0.0004434871114860295,\n          0.0005936647009163298\n        ],\n        \"semantic_type\": \"\",\n        \"description\": \"\"\n      }\n    }\n  ]\n}",
              "type": "dataframe"
            },
            "text/html": [
              "\n",
              "  <div id=\"df-1a6eee93-0b6f-4f0d-9897-2a0047e7a899\" class=\"colab-df-container\">\n",
              "    <div>\n",
              "<style scoped>\n",
              "    .dataframe tbody tr th:only-of-type {\n",
              "        vertical-align: middle;\n",
              "    }\n",
              "\n",
              "    .dataframe tbody tr th {\n",
              "        vertical-align: top;\n",
              "    }\n",
              "\n",
              "    .dataframe thead th {\n",
              "        text-align: right;\n",
              "    }\n",
              "</style>\n",
              "<table border=\"1\" class=\"dataframe\">\n",
              "  <thead>\n",
              "    <tr style=\"text-align: right;\">\n",
              "      <th></th>\n",
              "      <th>base</th>\n",
              "      <th>imp_mean</th>\n",
              "    </tr>\n",
              "  </thead>\n",
              "  <tbody>\n",
              "    <tr>\n",
              "      <th>0</th>\n",
              "      <td>lead_x_month</td>\n",
              "      <td>0.259453</td>\n",
              "    </tr>\n",
              "    <tr>\n",
              "      <th>1</th>\n",
              "      <td>price_per_guest</td>\n",
              "      <td>0.020510</td>\n",
              "    </tr>\n",
              "    <tr>\n",
              "      <th>2</th>\n",
              "      <td>arrival_month</td>\n",
              "      <td>0.016882</td>\n",
              "    </tr>\n",
              "    <tr>\n",
              "      <th>3</th>\n",
              "      <td>no_of_special_requests</td>\n",
              "      <td>0.008819</td>\n",
              "    </tr>\n",
              "    <tr>\n",
              "      <th>4</th>\n",
              "      <td>env_cancel_rate</td>\n",
              "      <td>0.006223</td>\n",
              "    </tr>\n",
              "    <tr>\n",
              "      <th>5</th>\n",
              "      <td>peak_price</td>\n",
              "      <td>0.005929</td>\n",
              "    </tr>\n",
              "    <tr>\n",
              "      <th>6</th>\n",
              "      <td>avg_price_per_room</td>\n",
              "      <td>0.002555</td>\n",
              "    </tr>\n",
              "    <tr>\n",
              "      <th>7</th>\n",
              "      <td>total_guests</td>\n",
              "      <td>0.001394</td>\n",
              "    </tr>\n",
              "    <tr>\n",
              "      <th>8</th>\n",
              "      <td>month_cos</td>\n",
              "      <td>0.001046</td>\n",
              "    </tr>\n",
              "    <tr>\n",
              "      <th>9</th>\n",
              "      <td>no_of_adults</td>\n",
              "      <td>0.001035</td>\n",
              "    </tr>\n",
              "    <tr>\n",
              "      <th>10</th>\n",
              "      <td>market_segment_type</td>\n",
              "      <td>0.001010</td>\n",
              "    </tr>\n",
              "    <tr>\n",
              "      <th>11</th>\n",
              "      <td>avg_price_per_night</td>\n",
              "      <td>0.000811</td>\n",
              "    </tr>\n",
              "    <tr>\n",
              "      <th>12</th>\n",
              "      <td>no_of_weekend_nights</td>\n",
              "      <td>0.000713</td>\n",
              "    </tr>\n",
              "    <tr>\n",
              "      <th>13</th>\n",
              "      <td>month_sin</td>\n",
              "      <td>0.000620</td>\n",
              "    </tr>\n",
              "    <tr>\n",
              "      <th>14</th>\n",
              "      <td>type_of_meal_plan</td>\n",
              "      <td>0.000612</td>\n",
              "    </tr>\n",
              "    <tr>\n",
              "      <th>15</th>\n",
              "      <td>total_nights</td>\n",
              "      <td>0.000594</td>\n",
              "    </tr>\n",
              "    <tr>\n",
              "      <th>16</th>\n",
              "      <td>env_avg_price</td>\n",
              "      <td>0.000563</td>\n",
              "    </tr>\n",
              "    <tr>\n",
              "      <th>17</th>\n",
              "      <td>arrival_day_of_week</td>\n",
              "      <td>0.000443</td>\n",
              "    </tr>\n",
              "    <tr>\n",
              "      <th>18</th>\n",
              "      <td>no_of_children</td>\n",
              "      <td>0.000394</td>\n",
              "    </tr>\n",
              "    <tr>\n",
              "      <th>19</th>\n",
              "      <td>lead_time_group</td>\n",
              "      <td>0.000377</td>\n",
              "    </tr>\n",
              "  </tbody>\n",
              "</table>\n",
              "</div>\n",
              "    <div class=\"colab-df-buttons\">\n",
              "\n",
              "  <div class=\"colab-df-container\">\n",
              "    <button class=\"colab-df-convert\" onclick=\"convertToInteractive('df-1a6eee93-0b6f-4f0d-9897-2a0047e7a899')\"\n",
              "            title=\"Convert this dataframe to an interactive table.\"\n",
              "            style=\"display:none;\">\n",
              "\n",
              "  <svg xmlns=\"http://www.w3.org/2000/svg\" height=\"24px\" viewBox=\"0 -960 960 960\">\n",
              "    <path d=\"M120-120v-720h720v720H120Zm60-500h600v-160H180v160Zm220 220h160v-160H400v160Zm0 220h160v-160H400v160ZM180-400h160v-160H180v160Zm440 0h160v-160H620v160ZM180-180h160v-160H180v160Zm440 0h160v-160H620v160Z\"/>\n",
              "  </svg>\n",
              "    </button>\n",
              "\n",
              "  <style>\n",
              "    .colab-df-container {\n",
              "      display:flex;\n",
              "      gap: 12px;\n",
              "    }\n",
              "\n",
              "    .colab-df-convert {\n",
              "      background-color: #E8F0FE;\n",
              "      border: none;\n",
              "      border-radius: 50%;\n",
              "      cursor: pointer;\n",
              "      display: none;\n",
              "      fill: #1967D2;\n",
              "      height: 32px;\n",
              "      padding: 0 0 0 0;\n",
              "      width: 32px;\n",
              "    }\n",
              "\n",
              "    .colab-df-convert:hover {\n",
              "      background-color: #E2EBFA;\n",
              "      box-shadow: 0px 1px 2px rgba(60, 64, 67, 0.3), 0px 1px 3px 1px rgba(60, 64, 67, 0.15);\n",
              "      fill: #174EA6;\n",
              "    }\n",
              "\n",
              "    .colab-df-buttons div {\n",
              "      margin-bottom: 4px;\n",
              "    }\n",
              "\n",
              "    [theme=dark] .colab-df-convert {\n",
              "      background-color: #3B4455;\n",
              "      fill: #D2E3FC;\n",
              "    }\n",
              "\n",
              "    [theme=dark] .colab-df-convert:hover {\n",
              "      background-color: #434B5C;\n",
              "      box-shadow: 0px 1px 3px 1px rgba(0, 0, 0, 0.15);\n",
              "      filter: drop-shadow(0px 1px 2px rgba(0, 0, 0, 0.3));\n",
              "      fill: #FFFFFF;\n",
              "    }\n",
              "  </style>\n",
              "\n",
              "    <script>\n",
              "      const buttonEl =\n",
              "        document.querySelector('#df-1a6eee93-0b6f-4f0d-9897-2a0047e7a899 button.colab-df-convert');\n",
              "      buttonEl.style.display =\n",
              "        google.colab.kernel.accessAllowed ? 'block' : 'none';\n",
              "\n",
              "      async function convertToInteractive(key) {\n",
              "        const element = document.querySelector('#df-1a6eee93-0b6f-4f0d-9897-2a0047e7a899');\n",
              "        const dataTable =\n",
              "          await google.colab.kernel.invokeFunction('convertToInteractive',\n",
              "                                                    [key], {});\n",
              "        if (!dataTable) return;\n",
              "\n",
              "        const docLinkHtml = 'Like what you see? Visit the ' +\n",
              "          '<a target=\"_blank\" href=https://colab.research.google.com/notebooks/data_table.ipynb>data table notebook</a>'\n",
              "          + ' to learn more about interactive tables.';\n",
              "        element.innerHTML = '';\n",
              "        dataTable['output_type'] = 'display_data';\n",
              "        await google.colab.output.renderOutput(dataTable, element);\n",
              "        const docLink = document.createElement('div');\n",
              "        docLink.innerHTML = docLinkHtml;\n",
              "        element.appendChild(docLink);\n",
              "      }\n",
              "    </script>\n",
              "  </div>\n",
              "\n",
              "\n",
              "    <div id=\"df-6ed56cb8-cb78-47b5-b8fc-5ba972207776\">\n",
              "      <button class=\"colab-df-quickchart\" onclick=\"quickchart('df-6ed56cb8-cb78-47b5-b8fc-5ba972207776')\"\n",
              "                title=\"Suggest charts\"\n",
              "                style=\"display:none;\">\n",
              "\n",
              "<svg xmlns=\"http://www.w3.org/2000/svg\" height=\"24px\"viewBox=\"0 0 24 24\"\n",
              "     width=\"24px\">\n",
              "    <g>\n",
              "        <path d=\"M19 3H5c-1.1 0-2 .9-2 2v14c0 1.1.9 2 2 2h14c1.1 0 2-.9 2-2V5c0-1.1-.9-2-2-2zM9 17H7v-7h2v7zm4 0h-2V7h2v10zm4 0h-2v-4h2v4z\"/>\n",
              "    </g>\n",
              "</svg>\n",
              "      </button>\n",
              "\n",
              "<style>\n",
              "  .colab-df-quickchart {\n",
              "      --bg-color: #E8F0FE;\n",
              "      --fill-color: #1967D2;\n",
              "      --hover-bg-color: #E2EBFA;\n",
              "      --hover-fill-color: #174EA6;\n",
              "      --disabled-fill-color: #AAA;\n",
              "      --disabled-bg-color: #DDD;\n",
              "  }\n",
              "\n",
              "  [theme=dark] .colab-df-quickchart {\n",
              "      --bg-color: #3B4455;\n",
              "      --fill-color: #D2E3FC;\n",
              "      --hover-bg-color: #434B5C;\n",
              "      --hover-fill-color: #FFFFFF;\n",
              "      --disabled-bg-color: #3B4455;\n",
              "      --disabled-fill-color: #666;\n",
              "  }\n",
              "\n",
              "  .colab-df-quickchart {\n",
              "    background-color: var(--bg-color);\n",
              "    border: none;\n",
              "    border-radius: 50%;\n",
              "    cursor: pointer;\n",
              "    display: none;\n",
              "    fill: var(--fill-color);\n",
              "    height: 32px;\n",
              "    padding: 0;\n",
              "    width: 32px;\n",
              "  }\n",
              "\n",
              "  .colab-df-quickchart:hover {\n",
              "    background-color: var(--hover-bg-color);\n",
              "    box-shadow: 0 1px 2px rgba(60, 64, 67, 0.3), 0 1px 3px 1px rgba(60, 64, 67, 0.15);\n",
              "    fill: var(--button-hover-fill-color);\n",
              "  }\n",
              "\n",
              "  .colab-df-quickchart-complete:disabled,\n",
              "  .colab-df-quickchart-complete:disabled:hover {\n",
              "    background-color: var(--disabled-bg-color);\n",
              "    fill: var(--disabled-fill-color);\n",
              "    box-shadow: none;\n",
              "  }\n",
              "\n",
              "  .colab-df-spinner {\n",
              "    border: 2px solid var(--fill-color);\n",
              "    border-color: transparent;\n",
              "    border-bottom-color: var(--fill-color);\n",
              "    animation:\n",
              "      spin 1s steps(1) infinite;\n",
              "  }\n",
              "\n",
              "  @keyframes spin {\n",
              "    0% {\n",
              "      border-color: transparent;\n",
              "      border-bottom-color: var(--fill-color);\n",
              "      border-left-color: var(--fill-color);\n",
              "    }\n",
              "    20% {\n",
              "      border-color: transparent;\n",
              "      border-left-color: var(--fill-color);\n",
              "      border-top-color: var(--fill-color);\n",
              "    }\n",
              "    30% {\n",
              "      border-color: transparent;\n",
              "      border-left-color: var(--fill-color);\n",
              "      border-top-color: var(--fill-color);\n",
              "      border-right-color: var(--fill-color);\n",
              "    }\n",
              "    40% {\n",
              "      border-color: transparent;\n",
              "      border-right-color: var(--fill-color);\n",
              "      border-top-color: var(--fill-color);\n",
              "    }\n",
              "    60% {\n",
              "      border-color: transparent;\n",
              "      border-right-color: var(--fill-color);\n",
              "    }\n",
              "    80% {\n",
              "      border-color: transparent;\n",
              "      border-right-color: var(--fill-color);\n",
              "      border-bottom-color: var(--fill-color);\n",
              "    }\n",
              "    90% {\n",
              "      border-color: transparent;\n",
              "      border-bottom-color: var(--fill-color);\n",
              "    }\n",
              "  }\n",
              "</style>\n",
              "\n",
              "      <script>\n",
              "        async function quickchart(key) {\n",
              "          const quickchartButtonEl =\n",
              "            document.querySelector('#' + key + ' button');\n",
              "          quickchartButtonEl.disabled = true;  // To prevent multiple clicks.\n",
              "          quickchartButtonEl.classList.add('colab-df-spinner');\n",
              "          try {\n",
              "            const charts = await google.colab.kernel.invokeFunction(\n",
              "                'suggestCharts', [key], {});\n",
              "          } catch (error) {\n",
              "            console.error('Error during call to suggestCharts:', error);\n",
              "          }\n",
              "          quickchartButtonEl.classList.remove('colab-df-spinner');\n",
              "          quickchartButtonEl.classList.add('colab-df-quickchart-complete');\n",
              "        }\n",
              "        (() => {\n",
              "          let quickchartButtonEl =\n",
              "            document.querySelector('#df-6ed56cb8-cb78-47b5-b8fc-5ba972207776 button');\n",
              "          quickchartButtonEl.style.display =\n",
              "            google.colab.kernel.accessAllowed ? 'block' : 'none';\n",
              "        })();\n",
              "      </script>\n",
              "    </div>\n",
              "\n",
              "    </div>\n",
              "  </div>\n"
            ],
            "text/plain": [
              "                      base  imp_mean\n",
              "0             lead_x_month  0.259453\n",
              "1          price_per_guest  0.020510\n",
              "2            arrival_month  0.016882\n",
              "3   no_of_special_requests  0.008819\n",
              "4          env_cancel_rate  0.006223\n",
              "5               peak_price  0.005929\n",
              "6       avg_price_per_room  0.002555\n",
              "7             total_guests  0.001394\n",
              "8                month_cos  0.001046\n",
              "9             no_of_adults  0.001035\n",
              "10     market_segment_type  0.001010\n",
              "11     avg_price_per_night  0.000811\n",
              "12    no_of_weekend_nights  0.000713\n",
              "13               month_sin  0.000620\n",
              "14       type_of_meal_plan  0.000612\n",
              "15            total_nights  0.000594\n",
              "16           env_avg_price  0.000563\n",
              "17     arrival_day_of_week  0.000443\n",
              "18          no_of_children  0.000394\n",
              "19         lead_time_group  0.000377"
            ]
          },
          "metadata": {},
          "output_type": "display_data"
        }
      ],
      "source": [
        "from sklearn.inspection import permutation_importance\n",
        "\n",
        "# 점수 기준: 불균형 대응을 위해 average_precision(=PR-AUC)을 사용\n",
        "r = permutation_importance(\n",
        "    estimator=svc,\n",
        "    X=X_te_enc,\n",
        "    y=y_te_svc,\n",
        "    n_repeats=5,\n",
        "    scoring=\"average_precision\",\n",
        "    random_state=42,\n",
        "    n_jobs=-1\n",
        ")\n",
        "\n",
        "# 개별(원-핫 포함) 중요도 표\n",
        "pi = (pd.DataFrame({\n",
        "        \"feature\": X_te_enc.columns,\n",
        "        \"imp_mean\": r.importances_mean,\n",
        "        \"imp_std\":  r.importances_std\n",
        "     })\n",
        "     .sort_values(\"imp_mean\", ascending=False)\n",
        "     .reset_index(drop=True))\n",
        "\n",
        "print(\"=== Permutation importance (Top 20, 원-핫 피처 포함) ===\")\n",
        "display(pi.head(20))\n",
        "\n",
        "# 원 변수 단위로 그룹핑(원-핫 합계)\n",
        "pi_group = (pi.assign(base=pi[\"feature\"].map(base_name))\n",
        "              .groupby(\"base\", as_index=False)[\"imp_mean\"].sum()\n",
        "              .sort_values(\"imp_mean\", ascending=False)\n",
        "              .reset_index(drop=True))\n",
        "\n",
        "print(\"\\n=== Grouped importance by ORIGINAL feature (Top 20) ===\")\n",
        "display(pi_group.head(20))\n"
      ]
    },
    {
      "cell_type": "code",
      "execution_count": null,
      "metadata": {
        "colab": {
          "background_save": true
        },
        "id": "W79bvkzqwGSN",
        "outputId": "6a71650a-5028-4d82-b207-1afa1bb48c0f"
      },
      "outputs": [
        {
          "data": {
            "image/png": "[encoded data removed]",
            "text/plain": [
              "<Figure size 800x600 with 1 Axes>"
            ]
          },
          "metadata": {},
          "output_type": "display_data"
        },
        {
          "data": {
            "image/png": "[encoded data removed]",
            "text/plain": [
              "<Figure size 800x600 with 1 Axes>"
            ]
          },
          "metadata": {},
          "output_type": "display_data"
        }
      ],
      "source": [
        "import matplotlib.pyplot as plt\n",
        "\n",
        "# Top-K 설정\n",
        "K = 20\n",
        "\n",
        "# 1) 개별(원-핫 포함)\n",
        "pi_top = pi.head(K).iloc[::-1]\n",
        "plt.figure(figsize=(8, 6))\n",
        "plt.barh(pi_top[\"feature\"], pi_top[\"imp_mean\"])\n",
        "plt.xlabel(\"Permutation Importance (mean Δ PR-AUC)\")\n",
        "plt.title(\"Permutation Importance (One-Hot features, Top 20)\")\n",
        "plt.tight_layout()\n",
        "plt.show()\n",
        "\n",
        "# 2) 원 변수 그룹\n",
        "pg_top = pi_group.head(K).iloc[::-1]\n",
        "plt.figure(figsize=(8, 6))\n",
        "plt.barh(pg_top[\"base\"], pg_top[\"imp_mean\"])\n",
        "plt.xlabel(\"Permutation Importance (grouped by original)\")\n",
        "plt.title(\"Grouped Permutation Importance (Top 20)\")\n",
        "plt.tight_layout()\n",
        "plt.show()\n"
      ]
    }
  ],
  "metadata": {
    "colab": {
      "provenance": [],
      "toc_visible": true,
      "include_colab_link": true
    },
    "kernelspec": {
      "display_name": "Python 3",
      "name": "python3"
    },
    "language_info": {
      "name": "python"
    }
  },
  "nbformat": 4,
  "nbformat_minor": 0
}