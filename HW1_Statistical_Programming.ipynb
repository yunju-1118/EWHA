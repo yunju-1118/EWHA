{
  "nbformat": 4,
  "nbformat_minor": 0,
  "metadata": {
    "colab": {
      "provenance": [],
      "authorship_tag": "ABX9TyN6gxESyckBEEU79yDjr7Hk",
      "include_colab_link": true
    },
    "kernelspec": {
      "name": "python3",
      "display_name": "Python 3"
    },
    "language_info": {
      "name": "python"
    }
  },
  "cells": [
    {
      "cell_type": "markdown",
      "metadata": {
        "id": "view-in-github",
        "colab_type": "text"
      },
      "source": [
        "<a href=\"https://colab.research.google.com/github/yunju-1118/EWHA/blob/main/HW1_Statistical_Programming.ipynb\" target=\"_parent\"><img src=\"https://colab.research.google.com/assets/colab-badge.svg\" alt=\"Open In Colab\"/></a>"
      ]
    },
    {
      "cell_type": "code",
      "source": [
        "import numpy as np"
      ],
      "metadata": {
        "id": "3TsVeTjdLZlX"
      },
      "execution_count": 1,
      "outputs": []
    },
    {
      "cell_type": "markdown",
      "source": [
        "### **Problem 1**"
      ],
      "metadata": {
        "id": "YQRULAkRLPdg"
      }
    },
    {
      "cell_type": "code",
      "execution_count": 2,
      "metadata": {
        "id": "QFei1WRvLJbZ"
      },
      "outputs": [],
      "source": [
        "A = np.array([[1,2,5,1],[3,4,1,0]])"
      ]
    },
    {
      "cell_type": "code",
      "source": [
        "def mean_row(a):\n",
        "    b = a.mean(axis=1)\n",
        "    b = b.reshape(2,-1)\n",
        "    return a-b"
      ],
      "metadata": {
        "id": "6Aew3dDLUbgT"
      },
      "execution_count": 3,
      "outputs": []
    },
    {
      "cell_type": "code",
      "source": [
        "mean_row(A)"
      ],
      "metadata": {
        "colab": {
          "base_uri": "https://localhost:8080/"
        },
        "id": "5XNDJwEELXu_",
        "outputId": "5f4cfdea-1651-456e-ac04-617f56ae593f"
      },
      "execution_count": 4,
      "outputs": [
        {
          "output_type": "execute_result",
          "data": {
            "text/plain": [
              "array([[-1.25, -0.25,  2.75, -1.25],\n",
              "       [ 1.  ,  2.  , -1.  , -2.  ]])"
            ]
          },
          "metadata": {},
          "execution_count": 4
        }
      ]
    },
    {
      "cell_type": "markdown",
      "source": [
        "### **Problem 2**"
      ],
      "metadata": {
        "id": "nbFpqNuyU9dT"
      }
    },
    {
      "cell_type": "code",
      "source": [
        "A = np.array([[1,2,5,1],[3,4,1,0]])"
      ],
      "metadata": {
        "id": "fMhmvuydU_Ru"
      },
      "execution_count": 5,
      "outputs": []
    },
    {
      "cell_type": "code",
      "source": [
        "def mean_col(a):\n",
        "    b = a.mean(axis=0)\n",
        "    b = b.reshape(-1,4)\n",
        "    return a-b"
      ],
      "metadata": {
        "id": "hq5eOm2mVD6E"
      },
      "execution_count": 6,
      "outputs": []
    },
    {
      "cell_type": "code",
      "source": [
        "mean_col(A)"
      ],
      "metadata": {
        "colab": {
          "base_uri": "https://localhost:8080/"
        },
        "id": "85DYqbTRVGtx",
        "outputId": "0a8a7340-b987-4161-bee3-6514c8de8f2c"
      },
      "execution_count": 7,
      "outputs": [
        {
          "output_type": "execute_result",
          "data": {
            "text/plain": [
              "array([[-1. , -1. ,  2. ,  0.5],\n",
              "       [ 1. ,  1. , -2. , -0.5]])"
            ]
          },
          "metadata": {},
          "execution_count": 7
        }
      ]
    },
    {
      "cell_type": "markdown",
      "source": [
        "### **Problem 3**"
      ],
      "metadata": {
        "id": "RFtxHs0aVWeM"
      }
    },
    {
      "cell_type": "code",
      "source": [
        "A = np.array([[4.5, 3.5], [5.1, 2.3]])\n",
        "B = np.array([[1],[2]])\n",
        "print(A.shape, B.shape)"
      ],
      "metadata": {
        "colab": {
          "base_uri": "https://localhost:8080/"
        },
        "id": "zMz_k-RfVnOG",
        "outputId": "bdbaf308-be63-47ff-e1e6-77b55e200fd0"
      },
      "execution_count": 8,
      "outputs": [
        {
          "output_type": "stream",
          "name": "stdout",
          "text": [
            "(2, 2) (2, 1)\n"
          ]
        }
      ]
    },
    {
      "cell_type": "code",
      "source": [
        "C = np.concatenate((A,B), axis=1)\n",
        "print(C, C.shape)"
      ],
      "metadata": {
        "colab": {
          "base_uri": "https://localhost:8080/"
        },
        "id": "3SHRlBxvWAwj",
        "outputId": "d330ff00-4019-480b-e566-ee372546a31c"
      },
      "execution_count": 9,
      "outputs": [
        {
          "output_type": "stream",
          "name": "stdout",
          "text": [
            "[[4.5 3.5 1. ]\n",
            " [5.1 2.3 2. ]] (2, 3)\n"
          ]
        }
      ]
    },
    {
      "cell_type": "markdown",
      "source": [
        "### **Problem 4**"
      ],
      "metadata": {
        "id": "ewruM9fdW1e0"
      }
    },
    {
      "cell_type": "code",
      "source": [
        "A = np.array([[4.5, 3.5], [5.1, 2.3]])\n",
        "B = np.array([[4,3],[5,2],[1,1]])\n",
        "print(A.shape, B.shape)"
      ],
      "metadata": {
        "colab": {
          "base_uri": "https://localhost:8080/"
        },
        "id": "5U2gS1iRW6RC",
        "outputId": "44a7906d-ed11-406a-c6df-2b15d9c8f886"
      },
      "execution_count": 10,
      "outputs": [
        {
          "output_type": "stream",
          "name": "stdout",
          "text": [
            "(2, 2) (3, 2)\n"
          ]
        }
      ]
    },
    {
      "cell_type": "code",
      "source": [
        "C = np.concatenate((A,B), axis=0)\n",
        "print(C, C.shape)"
      ],
      "metadata": {
        "colab": {
          "base_uri": "https://localhost:8080/"
        },
        "id": "xEY6-eyaXCTG",
        "outputId": "c4454d20-3825-4ed5-f74f-fcfe955972ab"
      },
      "execution_count": 11,
      "outputs": [
        {
          "output_type": "stream",
          "name": "stdout",
          "text": [
            "[[4.5 3.5]\n",
            " [5.1 2.3]\n",
            " [4.  3. ]\n",
            " [5.  2. ]\n",
            " [1.  1. ]] (5, 2)\n"
          ]
        }
      ]
    },
    {
      "cell_type": "markdown",
      "source": [
        "### **Problem 5**"
      ],
      "metadata": {
        "id": "U8uX6lN5XRdj"
      }
    },
    {
      "cell_type": "code",
      "source": [
        "def my_function(a,b):\n",
        "    mat = np.zeros([a,b])\n",
        "    mat[0,:] = 1\n",
        "    mat[-1,:] = 1\n",
        "    mat[:,0] = 1\n",
        "    mat[:,-1] = 1\n",
        "    return mat"
      ],
      "metadata": {
        "id": "hjc3AlnVXTZe"
      },
      "execution_count": 12,
      "outputs": []
    },
    {
      "cell_type": "code",
      "source": [
        "my_function(10,10)"
      ],
      "metadata": {
        "colab": {
          "base_uri": "https://localhost:8080/"
        },
        "id": "poGFYUtKYTLn",
        "outputId": "a1f60a39-8ffd-4342-cd4f-e9d5c12ae6db"
      },
      "execution_count": 13,
      "outputs": [
        {
          "output_type": "execute_result",
          "data": {
            "text/plain": [
              "array([[1., 1., 1., 1., 1., 1., 1., 1., 1., 1.],\n",
              "       [1., 0., 0., 0., 0., 0., 0., 0., 0., 1.],\n",
              "       [1., 0., 0., 0., 0., 0., 0., 0., 0., 1.],\n",
              "       [1., 0., 0., 0., 0., 0., 0., 0., 0., 1.],\n",
              "       [1., 0., 0., 0., 0., 0., 0., 0., 0., 1.],\n",
              "       [1., 0., 0., 0., 0., 0., 0., 0., 0., 1.],\n",
              "       [1., 0., 0., 0., 0., 0., 0., 0., 0., 1.],\n",
              "       [1., 0., 0., 0., 0., 0., 0., 0., 0., 1.],\n",
              "       [1., 0., 0., 0., 0., 0., 0., 0., 0., 1.],\n",
              "       [1., 1., 1., 1., 1., 1., 1., 1., 1., 1.]])"
            ]
          },
          "metadata": {},
          "execution_count": 13
        }
      ]
    },
    {
      "cell_type": "markdown",
      "source": [
        "### **Problem 6**"
      ],
      "metadata": {
        "id": "NnygzoRhXW5E"
      }
    },
    {
      "cell_type": "code",
      "source": [
        "def window(x,k):\n",
        "    x = np.array(x)\n",
        "    mat = np.zeros(len(x)-k+1)\n",
        "    for i in range(len(mat)):\n",
        "        mat[i] = x[i:i+k].mean()\n",
        "    return mat"
      ],
      "metadata": {
        "id": "UCEnOfdsYtzv"
      },
      "execution_count": 14,
      "outputs": []
    },
    {
      "cell_type": "code",
      "source": [
        "a = [3,5,7,2,8,10,11,65,72,81,99,100,150]\n",
        "window(a,3)"
      ],
      "metadata": {
        "colab": {
          "base_uri": "https://localhost:8080/"
        },
        "id": "9G8XuI6vZOtW",
        "outputId": "493804e2-1e07-4536-c1c9-455a0e336af7"
      },
      "execution_count": 15,
      "outputs": [
        {
          "output_type": "execute_result",
          "data": {
            "text/plain": [
              "array([  5.        ,   4.66666667,   5.66666667,   6.66666667,\n",
              "         9.66666667,  28.66666667,  49.33333333,  72.66666667,\n",
              "        84.        ,  93.33333333, 116.33333333])"
            ]
          },
          "metadata": {},
          "execution_count": 15
        }
      ]
    },
    {
      "cell_type": "markdown",
      "source": [
        "### **Problem 7**"
      ],
      "metadata": {
        "id": "LNRLacGQcIQu"
      }
    },
    {
      "cell_type": "markdown",
      "source": [
        "#### **(a)**"
      ],
      "metadata": {
        "id": "_Orezowo2TLv"
      }
    },
    {
      "cell_type": "code",
      "source": [
        "N = np.array([[0,1,0,1,2],\n",
        "              [1,3,2,1,0],\n",
        "              [0,0,0,1,3]])\n",
        "\n",
        "print(N, N.shape)"
      ],
      "metadata": {
        "id": "ykuGSBkscKz9",
        "colab": {
          "base_uri": "https://localhost:8080/"
        },
        "outputId": "649ced6a-812e-49a1-fe19-0a84925dd6ab"
      },
      "execution_count": 16,
      "outputs": [
        {
          "output_type": "stream",
          "name": "stdout",
          "text": [
            "[[0 1 0 1 2]\n",
            " [1 3 2 1 0]\n",
            " [0 0 0 1 3]] (3, 5)\n"
          ]
        }
      ]
    },
    {
      "cell_type": "code",
      "source": [
        "S = np.array([[157,167,130,145,170],\n",
        "              [250,260,263,273,290],\n",
        "              [301,120,30,100,502]])\n",
        "\n",
        "print(S, S.shape)"
      ],
      "metadata": {
        "colab": {
          "base_uri": "https://localhost:8080/"
        },
        "id": "eQrAakozGwxh",
        "outputId": "494f9865-00b1-49cc-852a-5924d0559764"
      },
      "execution_count": 17,
      "outputs": [
        {
          "output_type": "stream",
          "name": "stdout",
          "text": [
            "[[157 167 130 145 170]\n",
            " [250 260 263 273 290]\n",
            " [301 120  30 100 502]] (3, 5)\n"
          ]
        }
      ]
    },
    {
      "cell_type": "code",
      "source": [
        "SC = np.array([[1,1,1,1,1],\n",
        "               [0,0,0,0,0],\n",
        "               [0,0,0,0,0]])\n",
        "\n",
        "print(SC, SC.shape)"
      ],
      "metadata": {
        "colab": {
          "base_uri": "https://localhost:8080/"
        },
        "id": "YA6U44mGHkeb",
        "outputId": "90518754-9822-4fed-bd98-590ce048ff92"
      },
      "execution_count": 18,
      "outputs": [
        {
          "output_type": "stream",
          "name": "stdout",
          "text": [
            "[[1 1 1 1 1]\n",
            " [0 0 0 0 0]\n",
            " [0 0 0 0 0]] (3, 5)\n"
          ]
        }
      ]
    },
    {
      "cell_type": "markdown",
      "source": [
        "#### **(b)**"
      ],
      "metadata": {
        "id": "OYClPtg14pQK"
      }
    },
    {
      "cell_type": "code",
      "source": [
        "Y = np.array([[[0,157,1],[1,167,1],[0,130,1],[1,145,1],[2,170,1]],\n",
        "              [[1,250,0],[3,260,0],[2,263,0],[1,273,0],[0,290,0]],\n",
        "              [[0,301,0],[0,120,0],[0,30,0],[1,100,0],[3,502,0]]])\n",
        "\n",
        "\n",
        "print(Y,Y.shape)"
      ],
      "metadata": {
        "colab": {
          "base_uri": "https://localhost:8080/"
        },
        "id": "e5h3y3qA4z2O",
        "outputId": "cbeaed9e-baf1-403d-d68e-044d2c9463ff"
      },
      "execution_count": 19,
      "outputs": [
        {
          "output_type": "stream",
          "name": "stdout",
          "text": [
            "[[[  0 157   1]\n",
            "  [  1 167   1]\n",
            "  [  0 130   1]\n",
            "  [  1 145   1]\n",
            "  [  2 170   1]]\n",
            "\n",
            " [[  1 250   0]\n",
            "  [  3 260   0]\n",
            "  [  2 263   0]\n",
            "  [  1 273   0]\n",
            "  [  0 290   0]]\n",
            "\n",
            " [[  0 301   0]\n",
            "  [  0 120   0]\n",
            "  [  0  30   0]\n",
            "  [  1 100   0]\n",
            "  [  3 502   0]]] (3, 5, 3)\n"
          ]
        }
      ]
    },
    {
      "cell_type": "markdown",
      "source": [
        "#### **(c)**"
      ],
      "metadata": {
        "id": "0JNcykSF5-c4"
      }
    },
    {
      "cell_type": "code",
      "source": [
        "Y_new = np.stack((N,S,SC),axis=2)\n",
        "print(Y_new)"
      ],
      "metadata": {
        "colab": {
          "base_uri": "https://localhost:8080/"
        },
        "id": "YIrZ2YAh6A2s",
        "outputId": "511f3c67-31b1-46e1-d2db-11d1a5219a83"
      },
      "execution_count": 20,
      "outputs": [
        {
          "output_type": "stream",
          "name": "stdout",
          "text": [
            "[[[  0 157   1]\n",
            "  [  1 167   1]\n",
            "  [  0 130   1]\n",
            "  [  1 145   1]\n",
            "  [  2 170   1]]\n",
            "\n",
            " [[  1 250   0]\n",
            "  [  3 260   0]\n",
            "  [  2 263   0]\n",
            "  [  1 273   0]\n",
            "  [  0 290   0]]\n",
            "\n",
            " [[  0 301   0]\n",
            "  [  0 120   0]\n",
            "  [  0  30   0]\n",
            "  [  1 100   0]\n",
            "  [  3 502   0]]]\n"
          ]
        }
      ]
    },
    {
      "cell_type": "markdown",
      "source": [
        "#### **(d)**"
      ],
      "metadata": {
        "id": "pkpFqqw-6Vps"
      }
    },
    {
      "cell_type": "code",
      "source": [
        "Y2 = np.array([[[0,1,0,1,2],[157,167,130,145,170],[1,1,1,1,1]],\n",
        "               [[1,3,2,1,0],[250,260,263,273,290],[0,0,0,0,0]],\n",
        "               [[0,0,0,1,3],[301,120,30,100,502],[0,0,0,0,0]]])\n",
        "\n",
        "print(Y2, Y2.shape)"
      ],
      "metadata": {
        "colab": {
          "base_uri": "https://localhost:8080/"
        },
        "id": "Dw2X9vVi6W2W",
        "outputId": "23329440-dd22-4f16-fbdb-4e98a36d5796"
      },
      "execution_count": 21,
      "outputs": [
        {
          "output_type": "stream",
          "name": "stdout",
          "text": [
            "[[[  0   1   0   1   2]\n",
            "  [157 167 130 145 170]\n",
            "  [  1   1   1   1   1]]\n",
            "\n",
            " [[  1   3   2   1   0]\n",
            "  [250 260 263 273 290]\n",
            "  [  0   0   0   0   0]]\n",
            "\n",
            " [[  0   0   0   1   3]\n",
            "  [301 120  30 100 502]\n",
            "  [  0   0   0   0   0]]] (3, 3, 5)\n"
          ]
        }
      ]
    },
    {
      "cell_type": "markdown",
      "source": [
        "#### **(e)**"
      ],
      "metadata": {
        "id": "Jnenf9jJ6vqd"
      }
    },
    {
      "cell_type": "code",
      "source": [
        "Y2_new = np.swapaxes(Y,2,1)\n",
        "print(Y2_new, Y2_new.shape)"
      ],
      "metadata": {
        "colab": {
          "base_uri": "https://localhost:8080/"
        },
        "id": "isINwHtk6z_0",
        "outputId": "c718874e-d2ca-437c-85a0-42c770280cc1"
      },
      "execution_count": 22,
      "outputs": [
        {
          "output_type": "stream",
          "name": "stdout",
          "text": [
            "[[[  0   1   0   1   2]\n",
            "  [157 167 130 145 170]\n",
            "  [  1   1   1   1   1]]\n",
            "\n",
            " [[  1   3   2   1   0]\n",
            "  [250 260 263 273 290]\n",
            "  [  0   0   0   0   0]]\n",
            "\n",
            " [[  0   0   0   1   3]\n",
            "  [301 120  30 100 502]\n",
            "  [  0   0   0   0   0]]] (3, 3, 5)\n"
          ]
        }
      ]
    },
    {
      "cell_type": "markdown",
      "source": [
        "#### **(f)**"
      ],
      "metadata": {
        "id": "XQzx5ZMH7JNU"
      }
    },
    {
      "cell_type": "code",
      "source": [
        "Y2_new2 = np.stack((N,S,SC),axis=1)\n",
        "print(Y2_new2, Y2_new2.shape)"
      ],
      "metadata": {
        "colab": {
          "base_uri": "https://localhost:8080/"
        },
        "id": "PUSHZJye7KTJ",
        "outputId": "a21df9e8-5a36-4ded-db05-ff0ed04df7d8"
      },
      "execution_count": 23,
      "outputs": [
        {
          "output_type": "stream",
          "name": "stdout",
          "text": [
            "[[[  0   1   0   1   2]\n",
            "  [157 167 130 145 170]\n",
            "  [  1   1   1   1   1]]\n",
            "\n",
            " [[  1   3   2   1   0]\n",
            "  [250 260 263 273 290]\n",
            "  [  0   0   0   0   0]]\n",
            "\n",
            " [[  0   0   0   1   3]\n",
            "  [301 120  30 100 502]\n",
            "  [  0   0   0   0   0]]] (3, 3, 5)\n"
          ]
        }
      ]
    },
    {
      "cell_type": "markdown",
      "source": [
        "### **Problem 8**"
      ],
      "metadata": {
        "id": "OkEvgfCq74JE"
      }
    },
    {
      "cell_type": "markdown",
      "source": [
        "#### **(1)**"
      ],
      "metadata": {
        "id": "0QUwMHuS8VmO"
      }
    },
    {
      "cell_type": "code",
      "source": [
        "import pandas as pd\n",
        "data = pd.read_csv('HW_1_Problem_8.csv')\n",
        "data.head()"
      ],
      "metadata": {
        "colab": {
          "base_uri": "https://localhost:8080/",
          "height": 0
        },
        "id": "fcZCyJUb7TvQ",
        "outputId": "7e587d1c-39ea-4d5f-d004-45373b432184"
      },
      "execution_count": 24,
      "outputs": [
        {
          "output_type": "execute_result",
          "data": {
            "text/plain": [
              "   ID  Year  Income  Loss  Stock  House\n",
              "0   1     1     330   164     92    105\n",
              "1   1     2     340   170     99    107\n",
              "2   1     3     350   176    106    109\n",
              "3   1     4     360   182    113    111\n",
              "4   1     5     370   188    120    113"
            ],
            "text/html": [
              "\n",
              "  <div id=\"df-cc7e17f4-8546-4336-b3ed-885c0d9e9072\" class=\"colab-df-container\">\n",
              "    <div>\n",
              "<style scoped>\n",
              "    .dataframe tbody tr th:only-of-type {\n",
              "        vertical-align: middle;\n",
              "    }\n",
              "\n",
              "    .dataframe tbody tr th {\n",
              "        vertical-align: top;\n",
              "    }\n",
              "\n",
              "    .dataframe thead th {\n",
              "        text-align: right;\n",
              "    }\n",
              "</style>\n",
              "<table border=\"1\" class=\"dataframe\">\n",
              "  <thead>\n",
              "    <tr style=\"text-align: right;\">\n",
              "      <th></th>\n",
              "      <th>ID</th>\n",
              "      <th>Year</th>\n",
              "      <th>Income</th>\n",
              "      <th>Loss</th>\n",
              "      <th>Stock</th>\n",
              "      <th>House</th>\n",
              "    </tr>\n",
              "  </thead>\n",
              "  <tbody>\n",
              "    <tr>\n",
              "      <th>0</th>\n",
              "      <td>1</td>\n",
              "      <td>1</td>\n",
              "      <td>330</td>\n",
              "      <td>164</td>\n",
              "      <td>92</td>\n",
              "      <td>105</td>\n",
              "    </tr>\n",
              "    <tr>\n",
              "      <th>1</th>\n",
              "      <td>1</td>\n",
              "      <td>2</td>\n",
              "      <td>340</td>\n",
              "      <td>170</td>\n",
              "      <td>99</td>\n",
              "      <td>107</td>\n",
              "    </tr>\n",
              "    <tr>\n",
              "      <th>2</th>\n",
              "      <td>1</td>\n",
              "      <td>3</td>\n",
              "      <td>350</td>\n",
              "      <td>176</td>\n",
              "      <td>106</td>\n",
              "      <td>109</td>\n",
              "    </tr>\n",
              "    <tr>\n",
              "      <th>3</th>\n",
              "      <td>1</td>\n",
              "      <td>4</td>\n",
              "      <td>360</td>\n",
              "      <td>182</td>\n",
              "      <td>113</td>\n",
              "      <td>111</td>\n",
              "    </tr>\n",
              "    <tr>\n",
              "      <th>4</th>\n",
              "      <td>1</td>\n",
              "      <td>5</td>\n",
              "      <td>370</td>\n",
              "      <td>188</td>\n",
              "      <td>120</td>\n",
              "      <td>113</td>\n",
              "    </tr>\n",
              "  </tbody>\n",
              "</table>\n",
              "</div>\n",
              "    <div class=\"colab-df-buttons\">\n",
              "\n",
              "  <div class=\"colab-df-container\">\n",
              "    <button class=\"colab-df-convert\" onclick=\"convertToInteractive('df-cc7e17f4-8546-4336-b3ed-885c0d9e9072')\"\n",
              "            title=\"Convert this dataframe to an interactive table.\"\n",
              "            style=\"display:none;\">\n",
              "\n",
              "  <svg xmlns=\"http://www.w3.org/2000/svg\" height=\"24px\" viewBox=\"0 -960 960 960\">\n",
              "    <path d=\"M120-120v-720h720v720H120Zm60-500h600v-160H180v160Zm220 220h160v-160H400v160Zm0 220h160v-160H400v160ZM180-400h160v-160H180v160Zm440 0h160v-160H620v160ZM180-180h160v-160H180v160Zm440 0h160v-160H620v160Z\"/>\n",
              "  </svg>\n",
              "    </button>\n",
              "\n",
              "  <style>\n",
              "    .colab-df-container {\n",
              "      display:flex;\n",
              "      gap: 12px;\n",
              "    }\n",
              "\n",
              "    .colab-df-convert {\n",
              "      background-color: #E8F0FE;\n",
              "      border: none;\n",
              "      border-radius: 50%;\n",
              "      cursor: pointer;\n",
              "      display: none;\n",
              "      fill: #1967D2;\n",
              "      height: 32px;\n",
              "      padding: 0 0 0 0;\n",
              "      width: 32px;\n",
              "    }\n",
              "\n",
              "    .colab-df-convert:hover {\n",
              "      background-color: #E2EBFA;\n",
              "      box-shadow: 0px 1px 2px rgba(60, 64, 67, 0.3), 0px 1px 3px 1px rgba(60, 64, 67, 0.15);\n",
              "      fill: #174EA6;\n",
              "    }\n",
              "\n",
              "    .colab-df-buttons div {\n",
              "      margin-bottom: 4px;\n",
              "    }\n",
              "\n",
              "    [theme=dark] .colab-df-convert {\n",
              "      background-color: #3B4455;\n",
              "      fill: #D2E3FC;\n",
              "    }\n",
              "\n",
              "    [theme=dark] .colab-df-convert:hover {\n",
              "      background-color: #434B5C;\n",
              "      box-shadow: 0px 1px 3px 1px rgba(0, 0, 0, 0.15);\n",
              "      filter: drop-shadow(0px 1px 2px rgba(0, 0, 0, 0.3));\n",
              "      fill: #FFFFFF;\n",
              "    }\n",
              "  </style>\n",
              "\n",
              "    <script>\n",
              "      const buttonEl =\n",
              "        document.querySelector('#df-cc7e17f4-8546-4336-b3ed-885c0d9e9072 button.colab-df-convert');\n",
              "      buttonEl.style.display =\n",
              "        google.colab.kernel.accessAllowed ? 'block' : 'none';\n",
              "\n",
              "      async function convertToInteractive(key) {\n",
              "        const element = document.querySelector('#df-cc7e17f4-8546-4336-b3ed-885c0d9e9072');\n",
              "        const dataTable =\n",
              "          await google.colab.kernel.invokeFunction('convertToInteractive',\n",
              "                                                    [key], {});\n",
              "        if (!dataTable) return;\n",
              "\n",
              "        const docLinkHtml = 'Like what you see? Visit the ' +\n",
              "          '<a target=\"_blank\" href=https://colab.research.google.com/notebooks/data_table.ipynb>data table notebook</a>'\n",
              "          + ' to learn more about interactive tables.';\n",
              "        element.innerHTML = '';\n",
              "        dataTable['output_type'] = 'display_data';\n",
              "        await google.colab.output.renderOutput(dataTable, element);\n",
              "        const docLink = document.createElement('div');\n",
              "        docLink.innerHTML = docLinkHtml;\n",
              "        element.appendChild(docLink);\n",
              "      }\n",
              "    </script>\n",
              "  </div>\n",
              "\n",
              "\n",
              "    <div id=\"df-936d0dbe-8de5-4bbe-beba-f55cc85adb27\">\n",
              "      <button class=\"colab-df-quickchart\" onclick=\"quickchart('df-936d0dbe-8de5-4bbe-beba-f55cc85adb27')\"\n",
              "                title=\"Suggest charts\"\n",
              "                style=\"display:none;\">\n",
              "\n",
              "<svg xmlns=\"http://www.w3.org/2000/svg\" height=\"24px\"viewBox=\"0 0 24 24\"\n",
              "     width=\"24px\">\n",
              "    <g>\n",
              "        <path d=\"M19 3H5c-1.1 0-2 .9-2 2v14c0 1.1.9 2 2 2h14c1.1 0 2-.9 2-2V5c0-1.1-.9-2-2-2zM9 17H7v-7h2v7zm4 0h-2V7h2v10zm4 0h-2v-4h2v4z\"/>\n",
              "    </g>\n",
              "</svg>\n",
              "      </button>\n",
              "\n",
              "<style>\n",
              "  .colab-df-quickchart {\n",
              "      --bg-color: #E8F0FE;\n",
              "      --fill-color: #1967D2;\n",
              "      --hover-bg-color: #E2EBFA;\n",
              "      --hover-fill-color: #174EA6;\n",
              "      --disabled-fill-color: #AAA;\n",
              "      --disabled-bg-color: #DDD;\n",
              "  }\n",
              "\n",
              "  [theme=dark] .colab-df-quickchart {\n",
              "      --bg-color: #3B4455;\n",
              "      --fill-color: #D2E3FC;\n",
              "      --hover-bg-color: #434B5C;\n",
              "      --hover-fill-color: #FFFFFF;\n",
              "      --disabled-bg-color: #3B4455;\n",
              "      --disabled-fill-color: #666;\n",
              "  }\n",
              "\n",
              "  .colab-df-quickchart {\n",
              "    background-color: var(--bg-color);\n",
              "    border: none;\n",
              "    border-radius: 50%;\n",
              "    cursor: pointer;\n",
              "    display: none;\n",
              "    fill: var(--fill-color);\n",
              "    height: 32px;\n",
              "    padding: 0;\n",
              "    width: 32px;\n",
              "  }\n",
              "\n",
              "  .colab-df-quickchart:hover {\n",
              "    background-color: var(--hover-bg-color);\n",
              "    box-shadow: 0 1px 2px rgba(60, 64, 67, 0.3), 0 1px 3px 1px rgba(60, 64, 67, 0.15);\n",
              "    fill: var(--button-hover-fill-color);\n",
              "  }\n",
              "\n",
              "  .colab-df-quickchart-complete:disabled,\n",
              "  .colab-df-quickchart-complete:disabled:hover {\n",
              "    background-color: var(--disabled-bg-color);\n",
              "    fill: var(--disabled-fill-color);\n",
              "    box-shadow: none;\n",
              "  }\n",
              "\n",
              "  .colab-df-spinner {\n",
              "    border: 2px solid var(--fill-color);\n",
              "    border-color: transparent;\n",
              "    border-bottom-color: var(--fill-color);\n",
              "    animation:\n",
              "      spin 1s steps(1) infinite;\n",
              "  }\n",
              "\n",
              "  @keyframes spin {\n",
              "    0% {\n",
              "      border-color: transparent;\n",
              "      border-bottom-color: var(--fill-color);\n",
              "      border-left-color: var(--fill-color);\n",
              "    }\n",
              "    20% {\n",
              "      border-color: transparent;\n",
              "      border-left-color: var(--fill-color);\n",
              "      border-top-color: var(--fill-color);\n",
              "    }\n",
              "    30% {\n",
              "      border-color: transparent;\n",
              "      border-left-color: var(--fill-color);\n",
              "      border-top-color: var(--fill-color);\n",
              "      border-right-color: var(--fill-color);\n",
              "    }\n",
              "    40% {\n",
              "      border-color: transparent;\n",
              "      border-right-color: var(--fill-color);\n",
              "      border-top-color: var(--fill-color);\n",
              "    }\n",
              "    60% {\n",
              "      border-color: transparent;\n",
              "      border-right-color: var(--fill-color);\n",
              "    }\n",
              "    80% {\n",
              "      border-color: transparent;\n",
              "      border-right-color: var(--fill-color);\n",
              "      border-bottom-color: var(--fill-color);\n",
              "    }\n",
              "    90% {\n",
              "      border-color: transparent;\n",
              "      border-bottom-color: var(--fill-color);\n",
              "    }\n",
              "  }\n",
              "</style>\n",
              "\n",
              "      <script>\n",
              "        async function quickchart(key) {\n",
              "          const quickchartButtonEl =\n",
              "            document.querySelector('#' + key + ' button');\n",
              "          quickchartButtonEl.disabled = true;  // To prevent multiple clicks.\n",
              "          quickchartButtonEl.classList.add('colab-df-spinner');\n",
              "          try {\n",
              "            const charts = await google.colab.kernel.invokeFunction(\n",
              "                'suggestCharts', [key], {});\n",
              "          } catch (error) {\n",
              "            console.error('Error during call to suggestCharts:', error);\n",
              "          }\n",
              "          quickchartButtonEl.classList.remove('colab-df-spinner');\n",
              "          quickchartButtonEl.classList.add('colab-df-quickchart-complete');\n",
              "        }\n",
              "        (() => {\n",
              "          let quickchartButtonEl =\n",
              "            document.querySelector('#df-936d0dbe-8de5-4bbe-beba-f55cc85adb27 button');\n",
              "          quickchartButtonEl.style.display =\n",
              "            google.colab.kernel.accessAllowed ? 'block' : 'none';\n",
              "        })();\n",
              "      </script>\n",
              "    </div>\n",
              "\n",
              "    </div>\n",
              "  </div>\n"
            ],
            "application/vnd.google.colaboratory.intrinsic+json": {
              "type": "dataframe",
              "variable_name": "data",
              "summary": "{\n  \"name\": \"data\",\n  \"rows\": 50,\n  \"fields\": [\n    {\n      \"column\": \"ID\",\n      \"properties\": {\n        \"dtype\": \"number\",\n        \"std\": 2,\n        \"min\": 1,\n        \"max\": 10,\n        \"num_unique_values\": 10,\n        \"samples\": [\n          9,\n          2,\n          6\n        ],\n        \"semantic_type\": \"\",\n        \"description\": \"\"\n      }\n    },\n    {\n      \"column\": \"Year\",\n      \"properties\": {\n        \"dtype\": \"number\",\n        \"std\": 1,\n        \"min\": 1,\n        \"max\": 5,\n        \"num_unique_values\": 5,\n        \"samples\": [\n          2,\n          5,\n          3\n        ],\n        \"semantic_type\": \"\",\n        \"description\": \"\"\n      }\n    },\n    {\n      \"column\": \"Income\",\n      \"properties\": {\n        \"dtype\": \"number\",\n        \"std\": 59,\n        \"min\": 330,\n        \"max\": 550,\n        \"num_unique_values\": 23,\n        \"samples\": [\n          480,\n          420,\n          330\n        ],\n        \"semantic_type\": \"\",\n        \"description\": \"\"\n      }\n    },\n    {\n      \"column\": \"Loss\",\n      \"properties\": {\n        \"dtype\": \"number\",\n        \"std\": 24,\n        \"min\": 164,\n        \"max\": 260,\n        \"num_unique_values\": 43,\n        \"samples\": [\n          246,\n          216,\n          222\n        ],\n        \"semantic_type\": \"\",\n        \"description\": \"\"\n      }\n    },\n    {\n      \"column\": \"Stock\",\n      \"properties\": {\n        \"dtype\": \"number\",\n        \"std\": 17,\n        \"min\": 92,\n        \"max\": 165,\n        \"num_unique_values\": 50,\n        \"samples\": [\n          123,\n          155,\n          122\n        ],\n        \"semantic_type\": \"\",\n        \"description\": \"\"\n      }\n    },\n    {\n      \"column\": \"House\",\n      \"properties\": {\n        \"dtype\": \"number\",\n        \"std\": 9,\n        \"min\": 105,\n        \"max\": 140,\n        \"num_unique_values\": 34,\n        \"samples\": [\n          122,\n          124,\n          134\n        ],\n        \"semantic_type\": \"\",\n        \"description\": \"\"\n      }\n    }\n  ]\n}"
            }
          },
          "metadata": {},
          "execution_count": 24
        }
      ]
    },
    {
      "cell_type": "code",
      "source": [
        "data = data.sort_values(by=[\"ID\",\"Year\"]).reset_index(drop=True)\n",
        "data.head()"
      ],
      "metadata": {
        "colab": {
          "base_uri": "https://localhost:8080/",
          "height": 0
        },
        "id": "gFUZ_-pl7TGT",
        "outputId": "39831406-ee45-4809-a498-d98a1bfb69e4"
      },
      "execution_count": 25,
      "outputs": [
        {
          "output_type": "execute_result",
          "data": {
            "text/plain": [
              "   ID  Year  Income  Loss  Stock  House\n",
              "0   1     1     330   164     92    105\n",
              "1   1     2     340   170     99    107\n",
              "2   1     3     350   176    106    109\n",
              "3   1     4     360   182    113    111\n",
              "4   1     5     370   188    120    113"
            ],
            "text/html": [
              "\n",
              "  <div id=\"df-5c37d0c9-fe25-4aca-9a78-8a9bb6be5059\" class=\"colab-df-container\">\n",
              "    <div>\n",
              "<style scoped>\n",
              "    .dataframe tbody tr th:only-of-type {\n",
              "        vertical-align: middle;\n",
              "    }\n",
              "\n",
              "    .dataframe tbody tr th {\n",
              "        vertical-align: top;\n",
              "    }\n",
              "\n",
              "    .dataframe thead th {\n",
              "        text-align: right;\n",
              "    }\n",
              "</style>\n",
              "<table border=\"1\" class=\"dataframe\">\n",
              "  <thead>\n",
              "    <tr style=\"text-align: right;\">\n",
              "      <th></th>\n",
              "      <th>ID</th>\n",
              "      <th>Year</th>\n",
              "      <th>Income</th>\n",
              "      <th>Loss</th>\n",
              "      <th>Stock</th>\n",
              "      <th>House</th>\n",
              "    </tr>\n",
              "  </thead>\n",
              "  <tbody>\n",
              "    <tr>\n",
              "      <th>0</th>\n",
              "      <td>1</td>\n",
              "      <td>1</td>\n",
              "      <td>330</td>\n",
              "      <td>164</td>\n",
              "      <td>92</td>\n",
              "      <td>105</td>\n",
              "    </tr>\n",
              "    <tr>\n",
              "      <th>1</th>\n",
              "      <td>1</td>\n",
              "      <td>2</td>\n",
              "      <td>340</td>\n",
              "      <td>170</td>\n",
              "      <td>99</td>\n",
              "      <td>107</td>\n",
              "    </tr>\n",
              "    <tr>\n",
              "      <th>2</th>\n",
              "      <td>1</td>\n",
              "      <td>3</td>\n",
              "      <td>350</td>\n",
              "      <td>176</td>\n",
              "      <td>106</td>\n",
              "      <td>109</td>\n",
              "    </tr>\n",
              "    <tr>\n",
              "      <th>3</th>\n",
              "      <td>1</td>\n",
              "      <td>4</td>\n",
              "      <td>360</td>\n",
              "      <td>182</td>\n",
              "      <td>113</td>\n",
              "      <td>111</td>\n",
              "    </tr>\n",
              "    <tr>\n",
              "      <th>4</th>\n",
              "      <td>1</td>\n",
              "      <td>5</td>\n",
              "      <td>370</td>\n",
              "      <td>188</td>\n",
              "      <td>120</td>\n",
              "      <td>113</td>\n",
              "    </tr>\n",
              "  </tbody>\n",
              "</table>\n",
              "</div>\n",
              "    <div class=\"colab-df-buttons\">\n",
              "\n",
              "  <div class=\"colab-df-container\">\n",
              "    <button class=\"colab-df-convert\" onclick=\"convertToInteractive('df-5c37d0c9-fe25-4aca-9a78-8a9bb6be5059')\"\n",
              "            title=\"Convert this dataframe to an interactive table.\"\n",
              "            style=\"display:none;\">\n",
              "\n",
              "  <svg xmlns=\"http://www.w3.org/2000/svg\" height=\"24px\" viewBox=\"0 -960 960 960\">\n",
              "    <path d=\"M120-120v-720h720v720H120Zm60-500h600v-160H180v160Zm220 220h160v-160H400v160Zm0 220h160v-160H400v160ZM180-400h160v-160H180v160Zm440 0h160v-160H620v160ZM180-180h160v-160H180v160Zm440 0h160v-160H620v160Z\"/>\n",
              "  </svg>\n",
              "    </button>\n",
              "\n",
              "  <style>\n",
              "    .colab-df-container {\n",
              "      display:flex;\n",
              "      gap: 12px;\n",
              "    }\n",
              "\n",
              "    .colab-df-convert {\n",
              "      background-color: #E8F0FE;\n",
              "      border: none;\n",
              "      border-radius: 50%;\n",
              "      cursor: pointer;\n",
              "      display: none;\n",
              "      fill: #1967D2;\n",
              "      height: 32px;\n",
              "      padding: 0 0 0 0;\n",
              "      width: 32px;\n",
              "    }\n",
              "\n",
              "    .colab-df-convert:hover {\n",
              "      background-color: #E2EBFA;\n",
              "      box-shadow: 0px 1px 2px rgba(60, 64, 67, 0.3), 0px 1px 3px 1px rgba(60, 64, 67, 0.15);\n",
              "      fill: #174EA6;\n",
              "    }\n",
              "\n",
              "    .colab-df-buttons div {\n",
              "      margin-bottom: 4px;\n",
              "    }\n",
              "\n",
              "    [theme=dark] .colab-df-convert {\n",
              "      background-color: #3B4455;\n",
              "      fill: #D2E3FC;\n",
              "    }\n",
              "\n",
              "    [theme=dark] .colab-df-convert:hover {\n",
              "      background-color: #434B5C;\n",
              "      box-shadow: 0px 1px 3px 1px rgba(0, 0, 0, 0.15);\n",
              "      filter: drop-shadow(0px 1px 2px rgba(0, 0, 0, 0.3));\n",
              "      fill: #FFFFFF;\n",
              "    }\n",
              "  </style>\n",
              "\n",
              "    <script>\n",
              "      const buttonEl =\n",
              "        document.querySelector('#df-5c37d0c9-fe25-4aca-9a78-8a9bb6be5059 button.colab-df-convert');\n",
              "      buttonEl.style.display =\n",
              "        google.colab.kernel.accessAllowed ? 'block' : 'none';\n",
              "\n",
              "      async function convertToInteractive(key) {\n",
              "        const element = document.querySelector('#df-5c37d0c9-fe25-4aca-9a78-8a9bb6be5059');\n",
              "        const dataTable =\n",
              "          await google.colab.kernel.invokeFunction('convertToInteractive',\n",
              "                                                    [key], {});\n",
              "        if (!dataTable) return;\n",
              "\n",
              "        const docLinkHtml = 'Like what you see? Visit the ' +\n",
              "          '<a target=\"_blank\" href=https://colab.research.google.com/notebooks/data_table.ipynb>data table notebook</a>'\n",
              "          + ' to learn more about interactive tables.';\n",
              "        element.innerHTML = '';\n",
              "        dataTable['output_type'] = 'display_data';\n",
              "        await google.colab.output.renderOutput(dataTable, element);\n",
              "        const docLink = document.createElement('div');\n",
              "        docLink.innerHTML = docLinkHtml;\n",
              "        element.appendChild(docLink);\n",
              "      }\n",
              "    </script>\n",
              "  </div>\n",
              "\n",
              "\n",
              "    <div id=\"df-1df1de2f-d8d9-40cd-8714-4e30416b55c8\">\n",
              "      <button class=\"colab-df-quickchart\" onclick=\"quickchart('df-1df1de2f-d8d9-40cd-8714-4e30416b55c8')\"\n",
              "                title=\"Suggest charts\"\n",
              "                style=\"display:none;\">\n",
              "\n",
              "<svg xmlns=\"http://www.w3.org/2000/svg\" height=\"24px\"viewBox=\"0 0 24 24\"\n",
              "     width=\"24px\">\n",
              "    <g>\n",
              "        <path d=\"M19 3H5c-1.1 0-2 .9-2 2v14c0 1.1.9 2 2 2h14c1.1 0 2-.9 2-2V5c0-1.1-.9-2-2-2zM9 17H7v-7h2v7zm4 0h-2V7h2v10zm4 0h-2v-4h2v4z\"/>\n",
              "    </g>\n",
              "</svg>\n",
              "      </button>\n",
              "\n",
              "<style>\n",
              "  .colab-df-quickchart {\n",
              "      --bg-color: #E8F0FE;\n",
              "      --fill-color: #1967D2;\n",
              "      --hover-bg-color: #E2EBFA;\n",
              "      --hover-fill-color: #174EA6;\n",
              "      --disabled-fill-color: #AAA;\n",
              "      --disabled-bg-color: #DDD;\n",
              "  }\n",
              "\n",
              "  [theme=dark] .colab-df-quickchart {\n",
              "      --bg-color: #3B4455;\n",
              "      --fill-color: #D2E3FC;\n",
              "      --hover-bg-color: #434B5C;\n",
              "      --hover-fill-color: #FFFFFF;\n",
              "      --disabled-bg-color: #3B4455;\n",
              "      --disabled-fill-color: #666;\n",
              "  }\n",
              "\n",
              "  .colab-df-quickchart {\n",
              "    background-color: var(--bg-color);\n",
              "    border: none;\n",
              "    border-radius: 50%;\n",
              "    cursor: pointer;\n",
              "    display: none;\n",
              "    fill: var(--fill-color);\n",
              "    height: 32px;\n",
              "    padding: 0;\n",
              "    width: 32px;\n",
              "  }\n",
              "\n",
              "  .colab-df-quickchart:hover {\n",
              "    background-color: var(--hover-bg-color);\n",
              "    box-shadow: 0 1px 2px rgba(60, 64, 67, 0.3), 0 1px 3px 1px rgba(60, 64, 67, 0.15);\n",
              "    fill: var(--button-hover-fill-color);\n",
              "  }\n",
              "\n",
              "  .colab-df-quickchart-complete:disabled,\n",
              "  .colab-df-quickchart-complete:disabled:hover {\n",
              "    background-color: var(--disabled-bg-color);\n",
              "    fill: var(--disabled-fill-color);\n",
              "    box-shadow: none;\n",
              "  }\n",
              "\n",
              "  .colab-df-spinner {\n",
              "    border: 2px solid var(--fill-color);\n",
              "    border-color: transparent;\n",
              "    border-bottom-color: var(--fill-color);\n",
              "    animation:\n",
              "      spin 1s steps(1) infinite;\n",
              "  }\n",
              "\n",
              "  @keyframes spin {\n",
              "    0% {\n",
              "      border-color: transparent;\n",
              "      border-bottom-color: var(--fill-color);\n",
              "      border-left-color: var(--fill-color);\n",
              "    }\n",
              "    20% {\n",
              "      border-color: transparent;\n",
              "      border-left-color: var(--fill-color);\n",
              "      border-top-color: var(--fill-color);\n",
              "    }\n",
              "    30% {\n",
              "      border-color: transparent;\n",
              "      border-left-color: var(--fill-color);\n",
              "      border-top-color: var(--fill-color);\n",
              "      border-right-color: var(--fill-color);\n",
              "    }\n",
              "    40% {\n",
              "      border-color: transparent;\n",
              "      border-right-color: var(--fill-color);\n",
              "      border-top-color: var(--fill-color);\n",
              "    }\n",
              "    60% {\n",
              "      border-color: transparent;\n",
              "      border-right-color: var(--fill-color);\n",
              "    }\n",
              "    80% {\n",
              "      border-color: transparent;\n",
              "      border-right-color: var(--fill-color);\n",
              "      border-bottom-color: var(--fill-color);\n",
              "    }\n",
              "    90% {\n",
              "      border-color: transparent;\n",
              "      border-bottom-color: var(--fill-color);\n",
              "    }\n",
              "  }\n",
              "</style>\n",
              "\n",
              "      <script>\n",
              "        async function quickchart(key) {\n",
              "          const quickchartButtonEl =\n",
              "            document.querySelector('#' + key + ' button');\n",
              "          quickchartButtonEl.disabled = true;  // To prevent multiple clicks.\n",
              "          quickchartButtonEl.classList.add('colab-df-spinner');\n",
              "          try {\n",
              "            const charts = await google.colab.kernel.invokeFunction(\n",
              "                'suggestCharts', [key], {});\n",
              "          } catch (error) {\n",
              "            console.error('Error during call to suggestCharts:', error);\n",
              "          }\n",
              "          quickchartButtonEl.classList.remove('colab-df-spinner');\n",
              "          quickchartButtonEl.classList.add('colab-df-quickchart-complete');\n",
              "        }\n",
              "        (() => {\n",
              "          let quickchartButtonEl =\n",
              "            document.querySelector('#df-1df1de2f-d8d9-40cd-8714-4e30416b55c8 button');\n",
              "          quickchartButtonEl.style.display =\n",
              "            google.colab.kernel.accessAllowed ? 'block' : 'none';\n",
              "        })();\n",
              "      </script>\n",
              "    </div>\n",
              "\n",
              "    </div>\n",
              "  </div>\n"
            ],
            "application/vnd.google.colaboratory.intrinsic+json": {
              "type": "dataframe",
              "variable_name": "data",
              "summary": "{\n  \"name\": \"data\",\n  \"rows\": 50,\n  \"fields\": [\n    {\n      \"column\": \"ID\",\n      \"properties\": {\n        \"dtype\": \"number\",\n        \"std\": 2,\n        \"min\": 1,\n        \"max\": 10,\n        \"num_unique_values\": 10,\n        \"samples\": [\n          9,\n          2,\n          6\n        ],\n        \"semantic_type\": \"\",\n        \"description\": \"\"\n      }\n    },\n    {\n      \"column\": \"Year\",\n      \"properties\": {\n        \"dtype\": \"number\",\n        \"std\": 1,\n        \"min\": 1,\n        \"max\": 5,\n        \"num_unique_values\": 5,\n        \"samples\": [\n          2,\n          5,\n          3\n        ],\n        \"semantic_type\": \"\",\n        \"description\": \"\"\n      }\n    },\n    {\n      \"column\": \"Income\",\n      \"properties\": {\n        \"dtype\": \"number\",\n        \"std\": 59,\n        \"min\": 330,\n        \"max\": 550,\n        \"num_unique_values\": 23,\n        \"samples\": [\n          480,\n          420,\n          330\n        ],\n        \"semantic_type\": \"\",\n        \"description\": \"\"\n      }\n    },\n    {\n      \"column\": \"Loss\",\n      \"properties\": {\n        \"dtype\": \"number\",\n        \"std\": 24,\n        \"min\": 164,\n        \"max\": 260,\n        \"num_unique_values\": 43,\n        \"samples\": [\n          246,\n          216,\n          222\n        ],\n        \"semantic_type\": \"\",\n        \"description\": \"\"\n      }\n    },\n    {\n      \"column\": \"Stock\",\n      \"properties\": {\n        \"dtype\": \"number\",\n        \"std\": 17,\n        \"min\": 92,\n        \"max\": 165,\n        \"num_unique_values\": 50,\n        \"samples\": [\n          123,\n          155,\n          122\n        ],\n        \"semantic_type\": \"\",\n        \"description\": \"\"\n      }\n    },\n    {\n      \"column\": \"House\",\n      \"properties\": {\n        \"dtype\": \"number\",\n        \"std\": 9,\n        \"min\": 105,\n        \"max\": 140,\n        \"num_unique_values\": 34,\n        \"samples\": [\n          122,\n          124,\n          134\n        ],\n        \"semantic_type\": \"\",\n        \"description\": \"\"\n      }\n    }\n  ]\n}"
            }
          },
          "metadata": {},
          "execution_count": 25
        }
      ]
    },
    {
      "cell_type": "code",
      "source": [
        "X = data[[\"Income\",\"Loss\",\"Stock\",\"House\"]].to_numpy().reshape(10,5,4)\n",
        "print(X,X.shape)"
      ],
      "metadata": {
        "colab": {
          "base_uri": "https://localhost:8080/"
        },
        "id": "8onSeYLV9BtB",
        "outputId": "af4b9e36-7576-40e9-a5f4-73dd3ab089ab"
      },
      "execution_count": 26,
      "outputs": [
        {
          "output_type": "stream",
          "name": "stdout",
          "text": [
            "[[[330 164  92 105]\n",
            "  [340 170  99 107]\n",
            "  [350 176 106 109]\n",
            "  [360 182 113 111]\n",
            "  [370 188 120 113]]\n",
            "\n",
            " [[350 172  97 108]\n",
            "  [360 178 104 110]\n",
            "  [370 184 111 112]\n",
            "  [380 190 118 114]\n",
            "  [390 196 125 116]]\n",
            "\n",
            " [[370 180 102 111]\n",
            "  [380 186 109 113]\n",
            "  [390 192 116 115]\n",
            "  [400 198 123 117]\n",
            "  [410 204 130 119]]\n",
            "\n",
            " [[390 188 107 114]\n",
            "  [400 194 114 116]\n",
            "  [410 200 121 118]\n",
            "  [420 206 128 120]\n",
            "  [430 212 135 122]]\n",
            "\n",
            " [[410 196 112 117]\n",
            "  [420 202 119 119]\n",
            "  [430 208 126 121]\n",
            "  [440 214 133 123]\n",
            "  [450 220 140 125]]\n",
            "\n",
            " [[430 204 117 120]\n",
            "  [440 210 124 122]\n",
            "  [450 216 131 124]\n",
            "  [460 222 138 126]\n",
            "  [470 228 145 128]]\n",
            "\n",
            " [[450 212 122 123]\n",
            "  [460 218 129 125]\n",
            "  [470 224 136 127]\n",
            "  [480 230 143 129]\n",
            "  [490 236 150 131]]\n",
            "\n",
            " [[470 220 127 126]\n",
            "  [480 226 134 128]\n",
            "  [490 232 141 130]\n",
            "  [500 238 148 132]\n",
            "  [510 244 155 134]]\n",
            "\n",
            " [[490 228 132 129]\n",
            "  [500 234 139 131]\n",
            "  [510 240 146 133]\n",
            "  [520 246 153 135]\n",
            "  [530 252 160 137]]\n",
            "\n",
            " [[510 236 137 132]\n",
            "  [520 242 144 134]\n",
            "  [530 248 151 136]\n",
            "  [540 254 158 138]\n",
            "  [550 260 165 140]]] (10, 5, 4)\n"
          ]
        }
      ]
    },
    {
      "cell_type": "markdown",
      "source": [
        "#### **(2)**"
      ],
      "metadata": {
        "id": "bVWND9EC9BCX"
      }
    },
    {
      "cell_type": "code",
      "source": [
        "Y = np.zeros((10,5,2))\n",
        "\n",
        "for i in range(10):\n",
        "    for j in range(5):\n",
        "        net_asset = X[i,j,0] - X[i,j,1] + X[i,j,2]  # Income-Loss+Stock\n",
        "        wealth = X[i,j,2] + X[i,j,3]    # Stock+House\n",
        "        Y[i,j,0] = net_asset\n",
        "        Y[i,j,1] = wealth\n",
        "\n",
        "print(Y,Y.shape)"
      ],
      "metadata": {
        "colab": {
          "base_uri": "https://localhost:8080/"
        },
        "id": "OQoljEnq9cmv",
        "outputId": "472f105a-4322-4e83-b973-2b1484c24cb0"
      },
      "execution_count": 27,
      "outputs": [
        {
          "output_type": "stream",
          "name": "stdout",
          "text": [
            "[[[258. 197.]\n",
            "  [269. 206.]\n",
            "  [280. 215.]\n",
            "  [291. 224.]\n",
            "  [302. 233.]]\n",
            "\n",
            " [[275. 205.]\n",
            "  [286. 214.]\n",
            "  [297. 223.]\n",
            "  [308. 232.]\n",
            "  [319. 241.]]\n",
            "\n",
            " [[292. 213.]\n",
            "  [303. 222.]\n",
            "  [314. 231.]\n",
            "  [325. 240.]\n",
            "  [336. 249.]]\n",
            "\n",
            " [[309. 221.]\n",
            "  [320. 230.]\n",
            "  [331. 239.]\n",
            "  [342. 248.]\n",
            "  [353. 257.]]\n",
            "\n",
            " [[326. 229.]\n",
            "  [337. 238.]\n",
            "  [348. 247.]\n",
            "  [359. 256.]\n",
            "  [370. 265.]]\n",
            "\n",
            " [[343. 237.]\n",
            "  [354. 246.]\n",
            "  [365. 255.]\n",
            "  [376. 264.]\n",
            "  [387. 273.]]\n",
            "\n",
            " [[360. 245.]\n",
            "  [371. 254.]\n",
            "  [382. 263.]\n",
            "  [393. 272.]\n",
            "  [404. 281.]]\n",
            "\n",
            " [[377. 253.]\n",
            "  [388. 262.]\n",
            "  [399. 271.]\n",
            "  [410. 280.]\n",
            "  [421. 289.]]\n",
            "\n",
            " [[394. 261.]\n",
            "  [405. 270.]\n",
            "  [416. 279.]\n",
            "  [427. 288.]\n",
            "  [438. 297.]]\n",
            "\n",
            " [[411. 269.]\n",
            "  [422. 278.]\n",
            "  [433. 287.]\n",
            "  [444. 296.]\n",
            "  [455. 305.]]] (10, 5, 2)\n"
          ]
        }
      ]
    },
    {
      "cell_type": "markdown",
      "source": [
        "#### **(3)**"
      ],
      "metadata": {
        "id": "ypJVLoUl9913"
      }
    },
    {
      "cell_type": "code",
      "source": [
        "result = pd.DataFrame({\n",
        "    \"ID\": data[\"ID\"],\n",
        "    \"Year\": data[\"Year\"],\n",
        "    \"Net asset\": Y[:,:,0].reshape(-1),\n",
        "    \"Wealth\": Y[:,:,1].reshape(-1)\n",
        "})\n",
        "\n",
        "result.head()"
      ],
      "metadata": {
        "colab": {
          "base_uri": "https://localhost:8080/",
          "height": 0
        },
        "id": "gmGULHjV-AAs",
        "outputId": "2c35cae6-6e4d-4066-9984-c6da2697336e"
      },
      "execution_count": 28,
      "outputs": [
        {
          "output_type": "execute_result",
          "data": {
            "text/plain": [
              "   ID  Year  Net asset  Wealth\n",
              "0   1     1      258.0   197.0\n",
              "1   1     2      269.0   206.0\n",
              "2   1     3      280.0   215.0\n",
              "3   1     4      291.0   224.0\n",
              "4   1     5      302.0   233.0"
            ],
            "text/html": [
              "\n",
              "  <div id=\"df-ad1477f7-9984-4a13-b633-77472a17feaa\" class=\"colab-df-container\">\n",
              "    <div>\n",
              "<style scoped>\n",
              "    .dataframe tbody tr th:only-of-type {\n",
              "        vertical-align: middle;\n",
              "    }\n",
              "\n",
              "    .dataframe tbody tr th {\n",
              "        vertical-align: top;\n",
              "    }\n",
              "\n",
              "    .dataframe thead th {\n",
              "        text-align: right;\n",
              "    }\n",
              "</style>\n",
              "<table border=\"1\" class=\"dataframe\">\n",
              "  <thead>\n",
              "    <tr style=\"text-align: right;\">\n",
              "      <th></th>\n",
              "      <th>ID</th>\n",
              "      <th>Year</th>\n",
              "      <th>Net asset</th>\n",
              "      <th>Wealth</th>\n",
              "    </tr>\n",
              "  </thead>\n",
              "  <tbody>\n",
              "    <tr>\n",
              "      <th>0</th>\n",
              "      <td>1</td>\n",
              "      <td>1</td>\n",
              "      <td>258.0</td>\n",
              "      <td>197.0</td>\n",
              "    </tr>\n",
              "    <tr>\n",
              "      <th>1</th>\n",
              "      <td>1</td>\n",
              "      <td>2</td>\n",
              "      <td>269.0</td>\n",
              "      <td>206.0</td>\n",
              "    </tr>\n",
              "    <tr>\n",
              "      <th>2</th>\n",
              "      <td>1</td>\n",
              "      <td>3</td>\n",
              "      <td>280.0</td>\n",
              "      <td>215.0</td>\n",
              "    </tr>\n",
              "    <tr>\n",
              "      <th>3</th>\n",
              "      <td>1</td>\n",
              "      <td>4</td>\n",
              "      <td>291.0</td>\n",
              "      <td>224.0</td>\n",
              "    </tr>\n",
              "    <tr>\n",
              "      <th>4</th>\n",
              "      <td>1</td>\n",
              "      <td>5</td>\n",
              "      <td>302.0</td>\n",
              "      <td>233.0</td>\n",
              "    </tr>\n",
              "  </tbody>\n",
              "</table>\n",
              "</div>\n",
              "    <div class=\"colab-df-buttons\">\n",
              "\n",
              "  <div class=\"colab-df-container\">\n",
              "    <button class=\"colab-df-convert\" onclick=\"convertToInteractive('df-ad1477f7-9984-4a13-b633-77472a17feaa')\"\n",
              "            title=\"Convert this dataframe to an interactive table.\"\n",
              "            style=\"display:none;\">\n",
              "\n",
              "  <svg xmlns=\"http://www.w3.org/2000/svg\" height=\"24px\" viewBox=\"0 -960 960 960\">\n",
              "    <path d=\"M120-120v-720h720v720H120Zm60-500h600v-160H180v160Zm220 220h160v-160H400v160Zm0 220h160v-160H400v160ZM180-400h160v-160H180v160Zm440 0h160v-160H620v160ZM180-180h160v-160H180v160Zm440 0h160v-160H620v160Z\"/>\n",
              "  </svg>\n",
              "    </button>\n",
              "\n",
              "  <style>\n",
              "    .colab-df-container {\n",
              "      display:flex;\n",
              "      gap: 12px;\n",
              "    }\n",
              "\n",
              "    .colab-df-convert {\n",
              "      background-color: #E8F0FE;\n",
              "      border: none;\n",
              "      border-radius: 50%;\n",
              "      cursor: pointer;\n",
              "      display: none;\n",
              "      fill: #1967D2;\n",
              "      height: 32px;\n",
              "      padding: 0 0 0 0;\n",
              "      width: 32px;\n",
              "    }\n",
              "\n",
              "    .colab-df-convert:hover {\n",
              "      background-color: #E2EBFA;\n",
              "      box-shadow: 0px 1px 2px rgba(60, 64, 67, 0.3), 0px 1px 3px 1px rgba(60, 64, 67, 0.15);\n",
              "      fill: #174EA6;\n",
              "    }\n",
              "\n",
              "    .colab-df-buttons div {\n",
              "      margin-bottom: 4px;\n",
              "    }\n",
              "\n",
              "    [theme=dark] .colab-df-convert {\n",
              "      background-color: #3B4455;\n",
              "      fill: #D2E3FC;\n",
              "    }\n",
              "\n",
              "    [theme=dark] .colab-df-convert:hover {\n",
              "      background-color: #434B5C;\n",
              "      box-shadow: 0px 1px 3px 1px rgba(0, 0, 0, 0.15);\n",
              "      filter: drop-shadow(0px 1px 2px rgba(0, 0, 0, 0.3));\n",
              "      fill: #FFFFFF;\n",
              "    }\n",
              "  </style>\n",
              "\n",
              "    <script>\n",
              "      const buttonEl =\n",
              "        document.querySelector('#df-ad1477f7-9984-4a13-b633-77472a17feaa button.colab-df-convert');\n",
              "      buttonEl.style.display =\n",
              "        google.colab.kernel.accessAllowed ? 'block' : 'none';\n",
              "\n",
              "      async function convertToInteractive(key) {\n",
              "        const element = document.querySelector('#df-ad1477f7-9984-4a13-b633-77472a17feaa');\n",
              "        const dataTable =\n",
              "          await google.colab.kernel.invokeFunction('convertToInteractive',\n",
              "                                                    [key], {});\n",
              "        if (!dataTable) return;\n",
              "\n",
              "        const docLinkHtml = 'Like what you see? Visit the ' +\n",
              "          '<a target=\"_blank\" href=https://colab.research.google.com/notebooks/data_table.ipynb>data table notebook</a>'\n",
              "          + ' to learn more about interactive tables.';\n",
              "        element.innerHTML = '';\n",
              "        dataTable['output_type'] = 'display_data';\n",
              "        await google.colab.output.renderOutput(dataTable, element);\n",
              "        const docLink = document.createElement('div');\n",
              "        docLink.innerHTML = docLinkHtml;\n",
              "        element.appendChild(docLink);\n",
              "      }\n",
              "    </script>\n",
              "  </div>\n",
              "\n",
              "\n",
              "    <div id=\"df-75b09806-ec37-4b2b-b138-6147add88e79\">\n",
              "      <button class=\"colab-df-quickchart\" onclick=\"quickchart('df-75b09806-ec37-4b2b-b138-6147add88e79')\"\n",
              "                title=\"Suggest charts\"\n",
              "                style=\"display:none;\">\n",
              "\n",
              "<svg xmlns=\"http://www.w3.org/2000/svg\" height=\"24px\"viewBox=\"0 0 24 24\"\n",
              "     width=\"24px\">\n",
              "    <g>\n",
              "        <path d=\"M19 3H5c-1.1 0-2 .9-2 2v14c0 1.1.9 2 2 2h14c1.1 0 2-.9 2-2V5c0-1.1-.9-2-2-2zM9 17H7v-7h2v7zm4 0h-2V7h2v10zm4 0h-2v-4h2v4z\"/>\n",
              "    </g>\n",
              "</svg>\n",
              "      </button>\n",
              "\n",
              "<style>\n",
              "  .colab-df-quickchart {\n",
              "      --bg-color: #E8F0FE;\n",
              "      --fill-color: #1967D2;\n",
              "      --hover-bg-color: #E2EBFA;\n",
              "      --hover-fill-color: #174EA6;\n",
              "      --disabled-fill-color: #AAA;\n",
              "      --disabled-bg-color: #DDD;\n",
              "  }\n",
              "\n",
              "  [theme=dark] .colab-df-quickchart {\n",
              "      --bg-color: #3B4455;\n",
              "      --fill-color: #D2E3FC;\n",
              "      --hover-bg-color: #434B5C;\n",
              "      --hover-fill-color: #FFFFFF;\n",
              "      --disabled-bg-color: #3B4455;\n",
              "      --disabled-fill-color: #666;\n",
              "  }\n",
              "\n",
              "  .colab-df-quickchart {\n",
              "    background-color: var(--bg-color);\n",
              "    border: none;\n",
              "    border-radius: 50%;\n",
              "    cursor: pointer;\n",
              "    display: none;\n",
              "    fill: var(--fill-color);\n",
              "    height: 32px;\n",
              "    padding: 0;\n",
              "    width: 32px;\n",
              "  }\n",
              "\n",
              "  .colab-df-quickchart:hover {\n",
              "    background-color: var(--hover-bg-color);\n",
              "    box-shadow: 0 1px 2px rgba(60, 64, 67, 0.3), 0 1px 3px 1px rgba(60, 64, 67, 0.15);\n",
              "    fill: var(--button-hover-fill-color);\n",
              "  }\n",
              "\n",
              "  .colab-df-quickchart-complete:disabled,\n",
              "  .colab-df-quickchart-complete:disabled:hover {\n",
              "    background-color: var(--disabled-bg-color);\n",
              "    fill: var(--disabled-fill-color);\n",
              "    box-shadow: none;\n",
              "  }\n",
              "\n",
              "  .colab-df-spinner {\n",
              "    border: 2px solid var(--fill-color);\n",
              "    border-color: transparent;\n",
              "    border-bottom-color: var(--fill-color);\n",
              "    animation:\n",
              "      spin 1s steps(1) infinite;\n",
              "  }\n",
              "\n",
              "  @keyframes spin {\n",
              "    0% {\n",
              "      border-color: transparent;\n",
              "      border-bottom-color: var(--fill-color);\n",
              "      border-left-color: var(--fill-color);\n",
              "    }\n",
              "    20% {\n",
              "      border-color: transparent;\n",
              "      border-left-color: var(--fill-color);\n",
              "      border-top-color: var(--fill-color);\n",
              "    }\n",
              "    30% {\n",
              "      border-color: transparent;\n",
              "      border-left-color: var(--fill-color);\n",
              "      border-top-color: var(--fill-color);\n",
              "      border-right-color: var(--fill-color);\n",
              "    }\n",
              "    40% {\n",
              "      border-color: transparent;\n",
              "      border-right-color: var(--fill-color);\n",
              "      border-top-color: var(--fill-color);\n",
              "    }\n",
              "    60% {\n",
              "      border-color: transparent;\n",
              "      border-right-color: var(--fill-color);\n",
              "    }\n",
              "    80% {\n",
              "      border-color: transparent;\n",
              "      border-right-color: var(--fill-color);\n",
              "      border-bottom-color: var(--fill-color);\n",
              "    }\n",
              "    90% {\n",
              "      border-color: transparent;\n",
              "      border-bottom-color: var(--fill-color);\n",
              "    }\n",
              "  }\n",
              "</style>\n",
              "\n",
              "      <script>\n",
              "        async function quickchart(key) {\n",
              "          const quickchartButtonEl =\n",
              "            document.querySelector('#' + key + ' button');\n",
              "          quickchartButtonEl.disabled = true;  // To prevent multiple clicks.\n",
              "          quickchartButtonEl.classList.add('colab-df-spinner');\n",
              "          try {\n",
              "            const charts = await google.colab.kernel.invokeFunction(\n",
              "                'suggestCharts', [key], {});\n",
              "          } catch (error) {\n",
              "            console.error('Error during call to suggestCharts:', error);\n",
              "          }\n",
              "          quickchartButtonEl.classList.remove('colab-df-spinner');\n",
              "          quickchartButtonEl.classList.add('colab-df-quickchart-complete');\n",
              "        }\n",
              "        (() => {\n",
              "          let quickchartButtonEl =\n",
              "            document.querySelector('#df-75b09806-ec37-4b2b-b138-6147add88e79 button');\n",
              "          quickchartButtonEl.style.display =\n",
              "            google.colab.kernel.accessAllowed ? 'block' : 'none';\n",
              "        })();\n",
              "      </script>\n",
              "    </div>\n",
              "\n",
              "    </div>\n",
              "  </div>\n"
            ],
            "application/vnd.google.colaboratory.intrinsic+json": {
              "type": "dataframe",
              "variable_name": "result",
              "summary": "{\n  \"name\": \"result\",\n  \"rows\": 50,\n  \"fields\": [\n    {\n      \"column\": \"ID\",\n      \"properties\": {\n        \"dtype\": \"number\",\n        \"std\": 2,\n        \"min\": 1,\n        \"max\": 10,\n        \"num_unique_values\": 10,\n        \"samples\": [\n          9,\n          2,\n          6\n        ],\n        \"semantic_type\": \"\",\n        \"description\": \"\"\n      }\n    },\n    {\n      \"column\": \"Year\",\n      \"properties\": {\n        \"dtype\": \"number\",\n        \"std\": 1,\n        \"min\": 1,\n        \"max\": 5,\n        \"num_unique_values\": 5,\n        \"samples\": [\n          2,\n          5,\n          3\n        ],\n        \"semantic_type\": \"\",\n        \"description\": \"\"\n      }\n    },\n    {\n      \"column\": \"Net asset\",\n      \"properties\": {\n        \"dtype\": \"number\",\n        \"std\": 51.76723808332361,\n        \"min\": 258.0,\n        \"max\": 455.0,\n        \"num_unique_values\": 50,\n        \"samples\": [\n          325.0,\n          421.0,\n          360.0\n        ],\n        \"semantic_type\": \"\",\n        \"description\": \"\"\n      }\n    },\n    {\n      \"column\": \"Wealth\",\n      \"properties\": {\n        \"dtype\": \"number\",\n        \"std\": 26.534536601438155,\n        \"min\": 197.0,\n        \"max\": 305.0,\n        \"num_unique_values\": 50,\n        \"samples\": [\n          240.0,\n          289.0,\n          245.0\n        ],\n        \"semantic_type\": \"\",\n        \"description\": \"\"\n      }\n    }\n  ]\n}"
            }
          },
          "metadata": {},
          "execution_count": 28
        }
      ]
    },
    {
      "cell_type": "code",
      "source": [
        "result.to_csv(\"HW_Problem8-3.csv\", index=False)"
      ],
      "metadata": {
        "id": "ocM9p-FT-YvY"
      },
      "execution_count": 29,
      "outputs": []
    },
    {
      "cell_type": "markdown",
      "source": [
        "#### **(4)**"
      ],
      "metadata": {
        "id": "MEZF6cv8-sl6"
      }
    },
    {
      "cell_type": "code",
      "source": [
        "W = np.array([\n",
        "    [1,0],\n",
        "    [-1,0],\n",
        "    [1,1],\n",
        "    [0,1]\n",
        "])\n",
        "\n",
        "Y2 = X@W\n",
        "print(Y2)"
      ],
      "metadata": {
        "colab": {
          "base_uri": "https://localhost:8080/"
        },
        "id": "ArqjkSjQ-uqB",
        "outputId": "481f418a-1e86-43e5-b865-b62d245b9ee6"
      },
      "execution_count": 30,
      "outputs": [
        {
          "output_type": "stream",
          "name": "stdout",
          "text": [
            "[[[258 197]\n",
            "  [269 206]\n",
            "  [280 215]\n",
            "  [291 224]\n",
            "  [302 233]]\n",
            "\n",
            " [[275 205]\n",
            "  [286 214]\n",
            "  [297 223]\n",
            "  [308 232]\n",
            "  [319 241]]\n",
            "\n",
            " [[292 213]\n",
            "  [303 222]\n",
            "  [314 231]\n",
            "  [325 240]\n",
            "  [336 249]]\n",
            "\n",
            " [[309 221]\n",
            "  [320 230]\n",
            "  [331 239]\n",
            "  [342 248]\n",
            "  [353 257]]\n",
            "\n",
            " [[326 229]\n",
            "  [337 238]\n",
            "  [348 247]\n",
            "  [359 256]\n",
            "  [370 265]]\n",
            "\n",
            " [[343 237]\n",
            "  [354 246]\n",
            "  [365 255]\n",
            "  [376 264]\n",
            "  [387 273]]\n",
            "\n",
            " [[360 245]\n",
            "  [371 254]\n",
            "  [382 263]\n",
            "  [393 272]\n",
            "  [404 281]]\n",
            "\n",
            " [[377 253]\n",
            "  [388 262]\n",
            "  [399 271]\n",
            "  [410 280]\n",
            "  [421 289]]\n",
            "\n",
            " [[394 261]\n",
            "  [405 270]\n",
            "  [416 279]\n",
            "  [427 288]\n",
            "  [438 297]]\n",
            "\n",
            " [[411 269]\n",
            "  [422 278]\n",
            "  [433 287]\n",
            "  [444 296]\n",
            "  [455 305]]]\n"
          ]
        }
      ]
    },
    {
      "cell_type": "markdown",
      "source": [
        "### **Problem 9**"
      ],
      "metadata": {
        "id": "2f3oXTLb_AM1"
      }
    },
    {
      "cell_type": "markdown",
      "source": [
        "#### **(a)**"
      ],
      "metadata": {
        "id": "Z-yvXdOq_8AQ"
      }
    },
    {
      "cell_type": "code",
      "source": [
        "M = np.array([\n",
        "    [500,520,540,560],\n",
        "    [3.0,np.nan,2.5,2.0],\n",
        "    [50,52,55,57],\n",
        "    [90,100,100,110]\n",
        "])\n",
        "\n",
        "M"
      ],
      "metadata": {
        "colab": {
          "base_uri": "https://localhost:8080/"
        },
        "id": "j6HLuyk-_GHl",
        "outputId": "ee7acb60-c263-4fdc-bea5-70cd6648268d"
      },
      "execution_count": 31,
      "outputs": [
        {
          "output_type": "execute_result",
          "data": {
            "text/plain": [
              "array([[500. , 520. , 540. , 560. ],\n",
              "       [  3. ,   nan,   2.5,   2. ],\n",
              "       [ 50. ,  52. ,  55. ,  57. ],\n",
              "       [ 90. , 100. , 100. , 110. ]])"
            ]
          },
          "metadata": {},
          "execution_count": 31
        }
      ]
    },
    {
      "cell_type": "code",
      "source": [
        "mu = np.nanmean(M,axis=1)\n",
        "print(mu, mu.shape)"
      ],
      "metadata": {
        "colab": {
          "base_uri": "https://localhost:8080/"
        },
        "id": "hc9B3_0V_Zav",
        "outputId": "c369b2d1-1e16-46dc-eb54-17d0dcf8f7e1"
      },
      "execution_count": 32,
      "outputs": [
        {
          "output_type": "stream",
          "name": "stdout",
          "text": [
            "[530.    2.5  53.5 100. ] (4,)\n"
          ]
        }
      ]
    },
    {
      "cell_type": "code",
      "source": [
        "std = np.nanstd(M,axis=1)\n",
        "print(std, std.shape)"
      ],
      "metadata": {
        "colab": {
          "base_uri": "https://localhost:8080/"
        },
        "id": "eoMXrfJy_hYB",
        "outputId": "791f5ebc-efd5-4eb4-fd39-e78f9af14b02"
      },
      "execution_count": 33,
      "outputs": [
        {
          "output_type": "stream",
          "name": "stdout",
          "text": [
            "[22.36067977  0.40824829  2.6925824   7.07106781] (4,)\n"
          ]
        }
      ]
    },
    {
      "cell_type": "markdown",
      "source": [
        "#### **(b)**"
      ],
      "metadata": {
        "id": "OLhj8AwI_r9-"
      }
    },
    {
      "cell_type": "code",
      "source": [
        "mu = mu.reshape([mu.shape[0],1])\n",
        "print(mu, mu.shape)"
      ],
      "metadata": {
        "colab": {
          "base_uri": "https://localhost:8080/"
        },
        "id": "SjbB_xL2_-PN",
        "outputId": "f6c01fd2-4e57-4aed-8857-ac420036cff1"
      },
      "execution_count": 34,
      "outputs": [
        {
          "output_type": "stream",
          "name": "stdout",
          "text": [
            "[[530. ]\n",
            " [  2.5]\n",
            " [ 53.5]\n",
            " [100. ]] (4, 1)\n"
          ]
        }
      ]
    },
    {
      "cell_type": "code",
      "source": [
        "std = std.reshape([std.shape[0],1])\n",
        "print(std, std.shape)"
      ],
      "metadata": {
        "colab": {
          "base_uri": "https://localhost:8080/"
        },
        "id": "OOqluOyBANx7",
        "outputId": "d0349329-82c6-4ac3-8dae-474ad78949b6"
      },
      "execution_count": 35,
      "outputs": [
        {
          "output_type": "stream",
          "name": "stdout",
          "text": [
            "[[22.36067977]\n",
            " [ 0.40824829]\n",
            " [ 2.6925824 ]\n",
            " [ 7.07106781]] (4, 1)\n"
          ]
        }
      ]
    },
    {
      "cell_type": "code",
      "source": [
        "M_norm = (M-mu)/std\n",
        "M_norm"
      ],
      "metadata": {
        "colab": {
          "base_uri": "https://localhost:8080/"
        },
        "id": "9nYGV0UtAaSk",
        "outputId": "ec7aff63-9fa5-44f7-e970-ad2d3dc5f44b"
      },
      "execution_count": 36,
      "outputs": [
        {
          "output_type": "execute_result",
          "data": {
            "text/plain": [
              "array([[-1.34164079, -0.4472136 ,  0.4472136 ,  1.34164079],\n",
              "       [ 1.22474487,         nan,  0.        , -1.22474487],\n",
              "       [-1.29986737, -0.55708601,  0.55708601,  1.29986737],\n",
              "       [-1.41421356,  0.        ,  0.        ,  1.41421356]])"
            ]
          },
          "metadata": {},
          "execution_count": 36
        }
      ]
    },
    {
      "cell_type": "markdown",
      "source": [
        "#### **(d)**"
      ],
      "metadata": {
        "id": "Db6aDFqpAkJZ"
      }
    },
    {
      "cell_type": "code",
      "source": [
        "M_rec = std*M_norm + mu\n",
        "M_rec"
      ],
      "metadata": {
        "colab": {
          "base_uri": "https://localhost:8080/"
        },
        "id": "2a3GGZk9AmoT",
        "outputId": "37f06f00-02c1-42b2-f405-8da0d63bb0cb"
      },
      "execution_count": 37,
      "outputs": [
        {
          "output_type": "execute_result",
          "data": {
            "text/plain": [
              "array([[500. , 520. , 540. , 560. ],\n",
              "       [  3. ,   nan,   2.5,   2. ],\n",
              "       [ 50. ,  52. ,  55. ,  57. ],\n",
              "       [ 90. , 100. , 100. , 110. ]])"
            ]
          },
          "metadata": {},
          "execution_count": 37
        }
      ]
    },
    {
      "cell_type": "code",
      "source": [
        "M"
      ],
      "metadata": {
        "colab": {
          "base_uri": "https://localhost:8080/"
        },
        "id": "kXB8hStRAmdD",
        "outputId": "631eb7c2-b75a-4738-b690-33b9f6448a54"
      },
      "execution_count": 38,
      "outputs": [
        {
          "output_type": "execute_result",
          "data": {
            "text/plain": [
              "array([[500. , 520. , 540. , 560. ],\n",
              "       [  3. ,   nan,   2.5,   2. ],\n",
              "       [ 50. ,  52. ,  55. ,  57. ],\n",
              "       [ 90. , 100. , 100. , 110. ]])"
            ]
          },
          "metadata": {},
          "execution_count": 38
        }
      ]
    },
    {
      "cell_type": "markdown",
      "source": [
        "### **Problem 10**"
      ],
      "metadata": {
        "id": "rwHfPZw4Az-k"
      }
    },
    {
      "cell_type": "markdown",
      "source": [
        "#### **(a)**"
      ],
      "metadata": {
        "id": "3XwBIW5mBFSe"
      }
    },
    {
      "cell_type": "code",
      "source": [
        "X=np.array([\n",
        "    [160,55,170,65],\n",
        "    [165,60,175,70],\n",
        "    [170,58,180,72]\n",
        "])\n",
        "\n",
        "print(X,X.shape)"
      ],
      "metadata": {
        "colab": {
          "base_uri": "https://localhost:8080/"
        },
        "id": "J40i3xFOBEKM",
        "outputId": "d7b00f26-10d4-46e1-9129-da0f80460244"
      },
      "execution_count": 39,
      "outputs": [
        {
          "output_type": "stream",
          "name": "stdout",
          "text": [
            "[[160  55 170  65]\n",
            " [165  60 175  70]\n",
            " [170  58 180  72]] (3, 4)\n"
          ]
        }
      ]
    },
    {
      "cell_type": "code",
      "source": [
        "W = np.array([[0.5,0.1],[0.2,0.3],[0.4,0.2],[0.1,0.4]])\n",
        "print(W,W.shape)"
      ],
      "metadata": {
        "colab": {
          "base_uri": "https://localhost:8080/"
        },
        "id": "wnn-1BJoBVKq",
        "outputId": "60a5a8fe-3605-4758-bf1d-9e87b65040f7"
      },
      "execution_count": 40,
      "outputs": [
        {
          "output_type": "stream",
          "name": "stdout",
          "text": [
            "[[0.5 0.1]\n",
            " [0.2 0.3]\n",
            " [0.4 0.2]\n",
            " [0.1 0.4]] (4, 2)\n"
          ]
        }
      ]
    },
    {
      "cell_type": "code",
      "source": [
        "c = np.array([1.0,2.0])\n",
        "print(c,c.shape)"
      ],
      "metadata": {
        "colab": {
          "base_uri": "https://localhost:8080/"
        },
        "id": "nlINPk6PBd17",
        "outputId": "e07a772a-5274-4c4b-e05f-0008ee5ead7d"
      },
      "execution_count": 41,
      "outputs": [
        {
          "output_type": "stream",
          "name": "stdout",
          "text": [
            "[1. 2.] (2,)\n"
          ]
        }
      ]
    },
    {
      "cell_type": "code",
      "source": [
        "y_hat = X@W+c\n",
        "print(y_hat, y_hat.shape)"
      ],
      "metadata": {
        "colab": {
          "base_uri": "https://localhost:8080/"
        },
        "id": "SUbd6jpYBr_f",
        "outputId": "30fe1e0c-735b-4a91-94fe-ac6924ffd55a"
      },
      "execution_count": 42,
      "outputs": [
        {
          "output_type": "stream",
          "name": "stdout",
          "text": [
            "[[166.5  94.5]\n",
            " [172.5  99.5]\n",
            " [176.8 101.2]] (3, 2)\n"
          ]
        }
      ]
    },
    {
      "cell_type": "markdown",
      "source": [
        "#### **(b)**"
      ],
      "metadata": {
        "id": "-Ue-fCYOCWQ1"
      }
    },
    {
      "cell_type": "code",
      "source": [
        "ones = np.array([[1],[1],[1]])\n",
        "X_a = np.concatenate((ones,X),axis=1)\n",
        "print(X_a, X_a.shape)"
      ],
      "metadata": {
        "colab": {
          "base_uri": "https://localhost:8080/"
        },
        "id": "IYrU4t-RCX6U",
        "outputId": "954c50ca-72fa-487b-da03-f281c660edfb"
      },
      "execution_count": 43,
      "outputs": [
        {
          "output_type": "stream",
          "name": "stdout",
          "text": [
            "[[  1 160  55 170  65]\n",
            " [  1 165  60 175  70]\n",
            " [  1 170  58 180  72]] (3, 5)\n"
          ]
        }
      ]
    },
    {
      "cell_type": "code",
      "source": [
        "c = c.reshape(-1,2)"
      ],
      "metadata": {
        "id": "Y6vtG9msCxB3"
      },
      "execution_count": 44,
      "outputs": []
    },
    {
      "cell_type": "code",
      "source": [
        "W_a = np.concatenate((c,W),axis=0)\n",
        "print(W_a, W_a.shape)"
      ],
      "metadata": {
        "colab": {
          "base_uri": "https://localhost:8080/"
        },
        "id": "6yG2pd5YCpgv",
        "outputId": "35da4ca1-dbb8-4b19-9774-0cc7f126545c"
      },
      "execution_count": 45,
      "outputs": [
        {
          "output_type": "stream",
          "name": "stdout",
          "text": [
            "[[1.  2. ]\n",
            " [0.5 0.1]\n",
            " [0.2 0.3]\n",
            " [0.4 0.2]\n",
            " [0.1 0.4]] (5, 2)\n"
          ]
        }
      ]
    },
    {
      "cell_type": "code",
      "source": [
        "y_hat2 = X_a@W_a\n",
        "print(y_hat2, y_hat2.shape)"
      ],
      "metadata": {
        "colab": {
          "base_uri": "https://localhost:8080/"
        },
        "id": "mHCeO4nCC7Ar",
        "outputId": "1fcd96ce-37f1-4626-a01c-3217ff541986"
      },
      "execution_count": 46,
      "outputs": [
        {
          "output_type": "stream",
          "name": "stdout",
          "text": [
            "[[166.5  94.5]\n",
            " [172.5  99.5]\n",
            " [176.8 101.2]] (3, 2)\n"
          ]
        }
      ]
    },
    {
      "cell_type": "markdown",
      "source": [
        "### **Problem 11**"
      ],
      "metadata": {
        "id": "SyTp_fI4DMHO"
      }
    },
    {
      "cell_type": "code",
      "source": [
        "A = np.array([[1,2,3],[4,5,6]])\n",
        "b_row = np.array([10,20,30])\n",
        "b_col = np.array([[10],[100]])\n",
        "E = np.array([[1],[2]])\n",
        "F = np.array([[10,20,30]])"
      ],
      "metadata": {
        "id": "aLzNClozDOni"
      },
      "execution_count": 47,
      "outputs": []
    },
    {
      "cell_type": "markdown",
      "source": [
        "#### **(a)** - possible"
      ],
      "metadata": {
        "id": "Y_-Rh32eDutV"
      }
    },
    {
      "cell_type": "code",
      "source": [
        "A+b_row"
      ],
      "metadata": {
        "colab": {
          "base_uri": "https://localhost:8080/"
        },
        "id": "SrJHlJ4UDxMp",
        "outputId": "b15d41e9-a781-4f46-c04c-52d45ac517fe"
      },
      "execution_count": 48,
      "outputs": [
        {
          "output_type": "execute_result",
          "data": {
            "text/plain": [
              "array([[11, 22, 33],\n",
              "       [14, 25, 36]])"
            ]
          },
          "metadata": {},
          "execution_count": 48
        }
      ]
    },
    {
      "cell_type": "markdown",
      "source": [
        "#### **(b)** - possible"
      ],
      "metadata": {
        "id": "4-wkuidsD1dL"
      }
    },
    {
      "cell_type": "code",
      "source": [
        "A+b_col"
      ],
      "metadata": {
        "colab": {
          "base_uri": "https://localhost:8080/"
        },
        "id": "RlVWjD7WD7Fg",
        "outputId": "33a83dd3-5b77-44e4-c319-2e1fc07f1d1e"
      },
      "execution_count": 49,
      "outputs": [
        {
          "output_type": "execute_result",
          "data": {
            "text/plain": [
              "array([[ 11,  12,  13],\n",
              "       [104, 105, 106]])"
            ]
          },
          "metadata": {},
          "execution_count": 49
        }
      ]
    },
    {
      "cell_type": "markdown",
      "source": [
        "#### **(c)** - Possible"
      ],
      "metadata": {
        "id": "arV-BuQvEA1F"
      }
    },
    {
      "cell_type": "code",
      "source": [
        "E+F"
      ],
      "metadata": {
        "colab": {
          "base_uri": "https://localhost:8080/"
        },
        "id": "bI7zYe94EDZu",
        "outputId": "f8225be6-10f9-4941-8d91-56d4e31d0673"
      },
      "execution_count": 50,
      "outputs": [
        {
          "output_type": "execute_result",
          "data": {
            "text/plain": [
              "array([[11, 21, 31],\n",
              "       [12, 22, 32]])"
            ]
          },
          "metadata": {},
          "execution_count": 50
        }
      ]
    },
    {
      "cell_type": "markdown",
      "source": [
        "#### **(d)** - not possible"
      ],
      "metadata": {
        "id": "SPXhh7AAEHoj"
      }
    },
    {
      "cell_type": "code",
      "source": [
        "d = np.array([10,20])\n",
        "A+d"
      ],
      "metadata": {
        "colab": {
          "base_uri": "https://localhost:8080/",
          "height": 168
        },
        "id": "Cu2dIJaJEJdf",
        "outputId": "d684a039-1e6c-42d5-979a-8baa77148224"
      },
      "execution_count": 51,
      "outputs": [
        {
          "output_type": "error",
          "ename": "ValueError",
          "evalue": "operands could not be broadcast together with shapes (2,3) (2,) ",
          "traceback": [
            "\u001b[0;31m---------------------------------------------------------------------------\u001b[0m",
            "\u001b[0;31mValueError\u001b[0m                                Traceback (most recent call last)",
            "\u001b[0;32m/tmp/ipython-input-184098524.py\u001b[0m in \u001b[0;36m<cell line: 0>\u001b[0;34m()\u001b[0m\n\u001b[1;32m      1\u001b[0m \u001b[0md\u001b[0m \u001b[0;34m=\u001b[0m \u001b[0mnp\u001b[0m\u001b[0;34m.\u001b[0m\u001b[0marray\u001b[0m\u001b[0;34m(\u001b[0m\u001b[0;34m[\u001b[0m\u001b[0;36m10\u001b[0m\u001b[0;34m,\u001b[0m\u001b[0;36m20\u001b[0m\u001b[0;34m]\u001b[0m\u001b[0;34m)\u001b[0m\u001b[0;34m\u001b[0m\u001b[0;34m\u001b[0m\u001b[0m\n\u001b[0;32m----> 2\u001b[0;31m \u001b[0mA\u001b[0m\u001b[0;34m+\u001b[0m\u001b[0md\u001b[0m\u001b[0;34m\u001b[0m\u001b[0;34m\u001b[0m\u001b[0m\n\u001b[0m",
            "\u001b[0;31mValueError\u001b[0m: operands could not be broadcast together with shapes (2,3) (2,) "
          ]
        }
      ]
    }
  ]
}