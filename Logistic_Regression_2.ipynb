{
  "nbformat": 4,
  "nbformat_minor": 0,
  "metadata": {
    "colab": {
      "provenance": [],
      "include_colab_link": true
    },
    "kernelspec": {
      "name": "python3",
      "display_name": "Python 3"
    },
    "language_info": {
      "name": "python"
    }
  },
  "cells": [
    {
      "cell_type": "markdown",
      "metadata": {
        "id": "view-in-github",
        "colab_type": "text"
      },
      "source": [
        "<a href=\"https://colab.research.google.com/github/yunju-1118/EWHA/blob/main/Logistic_Regression_2.ipynb\" target=\"_parent\"><img src=\"https://colab.research.google.com/assets/colab-badge.svg\" alt=\"Open In Colab\"/></a>"
      ]
    },
    {
      "cell_type": "code",
      "execution_count": null,
      "metadata": {
        "colab": {
          "base_uri": "https://localhost:8080/"
        },
        "id": "32Uj98Q7ltPW",
        "outputId": "f0a383c3-6944-412b-e755-ec4133f6e56f"
      },
      "outputs": [
        {
          "output_type": "stream",
          "name": "stdout",
          "text": [
            "Mounted at /content/drive\n"
          ]
        }
      ],
      "source": [
        "from google.colab import drive\n",
        "drive.mount('/content/drive')"
      ]
    },
    {
      "cell_type": "code",
      "source": [
        "import numpy as np\n",
        "import pandas as pd\n",
        "import matplotlib.pyplot as plt\n",
        "import seaborn as sns"
      ],
      "metadata": {
        "id": "-Ru2grthpnqh"
      },
      "execution_count": null,
      "outputs": []
    },
    {
      "cell_type": "code",
      "source": [
        "hotel = pd.read_csv('/content/drive/MyDrive/Hotel_Reservations.csv')"
      ],
      "metadata": {
        "id": "SN-nip7XppCY"
      },
      "execution_count": null,
      "outputs": []
    },
    {
      "cell_type": "markdown",
      "source": [
        "**기존 전처리**"
      ],
      "metadata": {
        "id": "EDHsfTKZpfvG"
      }
    },
    {
      "cell_type": "code",
      "source": [
        "for c in [\"arrival_year\",\"arrival_month\",\"arrival_date\"]:\n",
        "    hotel[c] = pd.to_numeric(hotel[c], errors=\"coerce\")\n",
        "\n",
        "ym = pd.to_datetime(\n",
        "    hotel[\"arrival_year\"].astype(\"Int64\").astype(str) + \"-\" +\n",
        "    hotel[\"arrival_month\"].astype(\"Int64\").astype(str).str.zfill(2) + \"-01\",\n",
        "    errors=\"coerce\"\n",
        ")\n",
        "last_day = (ym + pd.offsets.MonthEnd(0)).dt.day\n",
        "\n",
        "invalid_month = ~hotel[\"arrival_month\"].between(1, 12)\n",
        "invalid_day_low = hotel[\"arrival_date\"] < 1\n",
        "invalid_day_high = hotel[\"arrival_date\"] > last_day\n",
        "invalid_yearmonth = ym.isna()\n",
        "bad_mask = invalid_month | invalid_day_low | invalid_day_high | invalid_yearmonth\n",
        "\n",
        "ok = ~bad_mask\n",
        "hotel.loc[ok, \"arrival_date_full\"] = pd.to_datetime({\n",
        "    \"year\":  hotel.loc[ok, \"arrival_year\"],\n",
        "    \"month\": hotel.loc[ok, \"arrival_month\"],\n",
        "    \"day\":   hotel.loc[ok, \"arrival_date\"],\n",
        "}, errors=\"coerce\")\n",
        "\n",
        "hotel.loc[bad_mask, \"arrival_date_full\"] = pd.NaT\n",
        "\n",
        "problem_preview = hotel.loc[bad_mask, [\"arrival_year\",\"arrival_month\",\"arrival_date\"]].head(10)\n",
        "print(problem_preview)\n",
        "print(\"문제 행 수:\", bad_mask.sum(), \" / 전체:\", len(hotel))"
      ],
      "metadata": {
        "colab": {
          "base_uri": "https://localhost:8080/"
        },
        "id": "nI8_Fc23pvvL",
        "outputId": "703309f9-70a4-4f11-d4a5-14e6eb899148"
      },
      "execution_count": null,
      "outputs": [
        {
          "output_type": "stream",
          "name": "stdout",
          "text": [
            "      arrival_year  arrival_month  arrival_date\n",
            "2626          2018              2            29\n",
            "3677          2018              2            29\n",
            "5600          2018              2            29\n",
            "6343          2018              2            29\n",
            "7648          2018              2            29\n",
            "8000          2018              2            29\n",
            "8989          2018              2            29\n",
            "9153          2018              2            29\n",
            "9245          2018              2            29\n",
            "9664          2018              2            29\n",
            "문제 행 수: 37  / 전체: 36275\n"
          ]
        }
      ]
    },
    {
      "cell_type": "code",
      "source": [
        "for c in [\"arrival_year\", \"arrival_month\", \"arrival_date\"]:\n",
        "    hotel[c] = pd.to_numeric(hotel[c], errors=\"coerce\")\n",
        "\n",
        "hotel[\"arrival_date_full\"] = pd.to_datetime({\n",
        "    \"year\": hotel[\"arrival_year\"],\n",
        "    \"month\": hotel[\"arrival_month\"],\n",
        "    \"day\": hotel[\"arrival_date\"]\n",
        "}, errors=\"coerce\")\n",
        "\n",
        "hotel = hotel.dropna(subset=[\"arrival_date_full\"]).reset_index(drop=True)\n",
        "\n",
        "print(\"남은 행 개수:\", len(hotel))"
      ],
      "metadata": {
        "colab": {
          "base_uri": "https://localhost:8080/"
        },
        "id": "ETMhWum1pyLo",
        "outputId": "afdc2fab-6f31-4e9d-ba06-7ea9d617baa3"
      },
      "execution_count": null,
      "outputs": [
        {
          "output_type": "stream",
          "name": "stdout",
          "text": [
            "남은 행 개수: 36238\n"
          ]
        }
      ]
    },
    {
      "cell_type": "code",
      "source": [
        "from sklearn.preprocessing import LabelEncoder\n",
        "\n",
        "## datetime 하나로 합치는 코드\n",
        "tmp = hotel.rename(columns={\n",
        "    \"arrival_year\": \"year\",\n",
        "    \"arrival_month\": \"month\",\n",
        "    \"arrival_date\": \"day\"\n",
        "})\n",
        "\n",
        "hotel[\"arrival_date_full\"] = pd.to_datetime(tmp[[\"year\",\"month\",\"day\"]])"
      ],
      "metadata": {
        "id": "yflVVBc7p0N0"
      },
      "execution_count": null,
      "outputs": []
    },
    {
      "cell_type": "code",
      "source": [
        "## 범주형 변수 처리하는 코드 (binary였던 거는 그대로 냅뒀어용)\n",
        "cat_cols = [\"type_of_meal_plan\", \"room_type_reserved\", \"market_segment_type\"]\n",
        "le_dict = {}\n",
        "for col in cat_cols:\n",
        "    le = LabelEncoder()\n",
        "    hotel[col] = le.fit_transform(hotel[col])\n",
        "    le_dict[col] = le\n",
        "\n",
        "\n",
        "## 변수 drop\n",
        "hotel = hotel.drop(columns=[\"Booking_ID\",\"arrival_year\", \"arrival_date\"])"
      ],
      "metadata": {
        "id": "urHI4pYvp2FD"
      },
      "execution_count": null,
      "outputs": []
    },
    {
      "cell_type": "code",
      "source": [
        "## 파생 변수\n",
        "## 총 숙박일수\n",
        "hotel[\"total_nights\"] = hotel[\"no_of_weekend_nights\"] + hotel[\"no_of_week_nights\"]\n",
        "\n",
        "## 리드타임 그룹화 -- 구간은 일주일, 한달, 세달, 반년, 일년, 일년 이상으로 나눴습니다!\n",
        "hotel[\"lead_time_group\"] = pd.cut(hotel[\"lead_time\"],\n",
        "                                  bins=[-1,7,30,90,180,365,800],\n",
        "                                  labels=[\"<1w\",\"1w-1m\",\"1-3m\",\"3-6m\",\"6-12m\",\">1y\"])\n",
        "\n",
        "## 평균 1박당 가격 (NaN은 0으로)\n",
        "hotel[\"avg_price_per_night\"] = hotel[\"avg_price_per_room\"] / hotel[\"total_nights\"].replace(0, np.nan)\n",
        "hotel[\"avg_price_per_night\"] = hotel[\"avg_price_per_night\"].fillna(0)\n",
        "\n",
        "## 동반 인원\n",
        "hotel[\"total_guests\"] = hotel[\"no_of_adults\"] + hotel[\"no_of_children\"]\n",
        "\n",
        "## 자녀\n",
        "hotel[\"has_children\"] = (hotel[\"no_of_children\"] > 0).astype(int)\n",
        "\n",
        "## 취소 비율\n",
        "hotel[\"cancel_ratio\"] = hotel[\"no_of_previous_cancellations\"] / (\n",
        "    hotel[\"no_of_previous_cancellations\"] + hotel[\"no_of_previous_bookings_not_canceled\"] + 1\n",
        ")\n",
        "\n",
        "## 이전 예약 경험\n",
        "hotel[\"has_prev_booking\"] = (\n",
        "    (hotel[\"no_of_previous_cancellations\"] + hotel[\"no_of_previous_bookings_not_canceled\"]) > 0\n",
        ").astype(int)\n",
        "\n",
        "## 성수기\n",
        "hotel[\"is_peak\"] = hotel[\"arrival_month\"].isin([6,7,8,12]).astype(int)\n",
        "\n",
        "## 식사 플랜\n",
        "hotel[\"no_meal_plan\"] = (hotel[\"type_of_meal_plan\"] == le_dict[\"type_of_meal_plan\"].transform([\"Not Selected\"])[0]).astype(int)"
      ],
      "metadata": {
        "id": "ofHlJgeUp4YW"
      },
      "execution_count": null,
      "outputs": []
    },
    {
      "cell_type": "markdown",
      "source": [
        "**2차 전처리**\n",
        "\n",
        "(sin,cos 처리), 요일 관련 변수 추가"
      ],
      "metadata": {
        "id": "Lzb6ZNB1p7IA"
      }
    },
    {
      "cell_type": "code",
      "source": [
        "if \"arrival_date_full\" in hotel.columns:\n",
        "    hotel[\"arrival_date_full\"] = pd.to_datetime(hotel[\"arrival_date_full\"], errors=\"coerce\")\n",
        "\n",
        "    hotel[\"arrival_day_of_week\"] = hotel[\"arrival_date_full\"].dt.dayofweek"
      ],
      "metadata": {
        "id": "YuoUDQwEqAqi"
      },
      "execution_count": null,
      "outputs": []
    },
    {
      "cell_type": "code",
      "source": [
        "hotel[\"month_sin\"] = np.sin(2 * np.pi * hotel[\"arrival_month\"] / 12)\n",
        "hotel[\"month_cos\"] = np.cos(2 * np.pi * hotel[\"arrival_month\"] / 12)\n",
        "\n",
        "hotel[\"dow_sin\"] = np.sin(2 * np.pi * hotel[\"arrival_day_of_week\"] / 7)\n",
        "hotel[\"dow_cos\"] = np.cos(2 * np.pi * hotel[\"arrival_day_of_week\"] / 7)"
      ],
      "metadata": {
        "id": "zcWtEGpSqDBp"
      },
      "execution_count": null,
      "outputs": []
    },
    {
      "cell_type": "markdown",
      "source": [
        "가격 관련 추가 변수\n",
        "- 1인당 가격, 성수기일 경우의 방 가격"
      ],
      "metadata": {
        "id": "vLa7_RtoqO-O"
      }
    },
    {
      "cell_type": "code",
      "source": [
        "hotel[\"price_per_guest\"] = hotel[\"avg_price_per_room\"] / (hotel[\"total_guests\"].replace(0, np.nan))\n",
        "hotel[\"price_per_guest\"] = hotel[\"price_per_guest\"].fillna(0)\n",
        "\n",
        "hotel[\"peak_price\"] = hotel[\"avg_price_per_room\"] * hotel[\"is_peak\"]"
      ],
      "metadata": {
        "id": "aD243Ew0qSgJ"
      },
      "execution_count": null,
      "outputs": []
    },
    {
      "cell_type": "markdown",
      "source": [
        "lead_time 비선형성 + month랑 곱해서 시즌 별 lead_Time 패턴 고려"
      ],
      "metadata": {
        "id": "vzTwiifqqUBo"
      }
    },
    {
      "cell_type": "code",
      "source": [
        "hotel[\"log_lead_time\"] = np.log1p(hotel[\"lead_time\"])\n",
        "\n",
        "hotel[\"lead_x_month\"] = hotel[\"lead_time\"] * hotel[\"arrival_month\"]"
      ],
      "metadata": {
        "id": "2mi73zPuqUPM"
      },
      "execution_count": null,
      "outputs": []
    },
    {
      "cell_type": "markdown",
      "source": [
        "취소 경험 여부"
      ],
      "metadata": {
        "id": "nEKRKqunqXMW"
      }
    },
    {
      "cell_type": "code",
      "source": [
        "hotel[\"ever_canceled\"] = (hotel[\"no_of_previous_cancellations\"] > 0).astype(int)"
      ],
      "metadata": {
        "id": "z48RVPXfqXX1"
      },
      "execution_count": null,
      "outputs": []
    },
    {
      "cell_type": "markdown",
      "source": [
        "**기존 전처리(KNN)**"
      ],
      "metadata": {
        "id": "fMHPiSZEqZTn"
      }
    },
    {
      "cell_type": "code",
      "source": [
        "from sklearn.neighbors import KNeighborsClassifier, KNeighborsRegressor\n",
        "\n",
        "def transform_with_knn_env(\n",
        "    X_train: pd.DataFrame, y_train: pd.Series,\n",
        "    X_test: pd.DataFrame,\n",
        "    env_features = [\"type_of_meal_plan\", \"required_car_parking_space\",\n",
        "                    \"room_type_reserved\", \"no_of_special_requests\"],\n",
        "    k: int = 10\n",
        "):\n",
        "    ## 이웃 취소율\n",
        "    knn_cls = KNeighborsClassifier(n_neighbors=k)\n",
        "    knn_cls.fit(X_train[env_features], y_train)\n",
        "    tr_env_cancel = knn_cls.predict_proba(X_train[env_features])[:, 1]\n",
        "    te_env_cancel = knn_cls.predict_proba(X_test[env_features])[:, 1]\n",
        "\n",
        "    ## 이웃 평균 1박 가격\n",
        "    knn_reg = KNeighborsRegressor(n_neighbors=k)\n",
        "    knn_reg.fit(X_train[env_features], X_train[\"avg_price_per_night\"])\n",
        "    tr_env_price = knn_reg.predict(X_train[env_features])\n",
        "    te_env_price = knn_reg.predict(X_test[env_features])\n",
        "\n",
        "    X_train_knn = X_train.copy()\n",
        "    X_test_knn  = X_test.copy()\n",
        "\n",
        "    X_train_knn[\"env_cancel_rate\"] = tr_env_cancel\n",
        "    X_test_knn[\"env_cancel_rate\"]  = te_env_cancel\n",
        "    X_train_knn[\"env_avg_price\"]   = tr_env_price\n",
        "    X_test_knn[\"env_avg_price\"]    = te_env_price\n",
        "\n",
        "    return X_train_knn, X_test_knn"
      ],
      "metadata": {
        "id": "ogaPOjsKqYzB"
      },
      "execution_count": null,
      "outputs": []
    },
    {
      "cell_type": "markdown",
      "source": [
        "**Logistic Regression 전처리**"
      ],
      "metadata": {
        "id": "7pHP7e9RqhaS"
      }
    },
    {
      "cell_type": "code",
      "source": [
        "from sklearn.preprocessing import StandardScaler\n",
        "import numpy as np\n",
        "from sklearn.model_selection import train_test_split\n",
        "\n",
        "\n",
        "df_lr = hotel.copy()\n",
        "\n",
        "## 이상치 제거\n",
        "df_lr = df_lr[df_lr[\"avg_price_per_room\"] < 500]\n",
        "\n",
        "## 로그 변환\n",
        "for col in [\"lead_time\", \"no_of_previous_cancellations\", \"no_of_previous_bookings_not_canceled\", \"no_of_children\"]:\n",
        "    df_lr[col] = np.log1p(df_lr[col])\n",
        "\n",
        "X_lr = df_lr.drop(columns=[\"booking_status\",\"arrival_date_full\"])\n",
        "y_lr = (df_lr[\"booking_status\"] == \"Canceled\").astype(int)\n",
        "\n",
        "X_tr, X_te, y_tr, y_te = train_test_split(X_lr, y_lr, test_size=0.2, random_state=42)\n",
        "\n",
        "## KNN 적용\n",
        "X_tr, X_te = transform_with_knn_env(\n",
        "    X_train=X_tr, y_train=y_tr, X_test=X_te,\n",
        "    env_features=[\"type_of_meal_plan\",\"required_car_parking_space\",\"room_type_reserved\",\"no_of_special_requests\"],\n",
        "    k=10\n",
        ")\n",
        "\n",
        "\n",
        "## 스케일링\n",
        "scaler = StandardScaler()\n",
        "num_cols = [\n",
        "    \"no_of_adults\",\"no_of_children\",\"no_of_weekend_nights\",\"no_of_week_nights\",\n",
        "    \"lead_time\",\"avg_price_per_room\",\"total_nights\",\"avg_price_per_night\",\n",
        "    \"total_guests\",\"cancel_ratio\",\"no_of_special_requests\",\n",
        "]\n",
        "\n",
        "for c in [\"env_cancel_rate\", \"env_avg_price\"]:\n",
        "    if c in X_tr.columns:\n",
        "        num_cols.append(c)\n",
        "\n",
        "num_cols = [c for c in num_cols if c in X_tr.columns]\n",
        "\n",
        "X_tr[num_cols] = scaler.fit_transform(X_tr[num_cols])\n",
        "X_te[num_cols] = scaler.transform(X_te[num_cols])"
      ],
      "metadata": {
        "id": "Sv76iNmeqjSU"
      },
      "execution_count": null,
      "outputs": []
    },
    {
      "cell_type": "code",
      "source": [
        "X_lr_train, X_lr_test, y_lr_train, y_lr_test = X_tr, X_te, y_tr, y_te"
      ],
      "metadata": {
        "id": "tqqqlf_SqnWH"
      },
      "execution_count": null,
      "outputs": []
    },
    {
      "cell_type": "markdown",
      "source": [
        "**모델 적합**"
      ],
      "metadata": {
        "id": "tJ6uP2ZHqqpn"
      }
    },
    {
      "cell_type": "markdown",
      "source": [
        "1) 규제 강도\n",
        "\n",
        "- c가 유의미한지 확인"
      ],
      "metadata": {
        "id": "O3rsrrPOqyLE"
      }
    },
    {
      "cell_type": "markdown",
      "source": [
        "c = 0.5"
      ],
      "metadata": {
        "id": "9VCRS_hnrDoU"
      }
    },
    {
      "cell_type": "code",
      "source": [
        "from sklearn.linear_model import LogisticRegression\n",
        "from sklearn.preprocessing import OneHotEncoder\n",
        "from sklearn.compose import ColumnTransformer\n",
        "from sklearn.pipeline import Pipeline\n",
        "\n",
        "categorical_features = ['lead_time_group']\n",
        "\n",
        "preprocessor = ColumnTransformer(\n",
        "    transformers=[\n",
        "        ('cat', OneHotEncoder(handle_unknown='ignore'), categorical_features)\n",
        "    ],\n",
        "    remainder='passthrough'\n",
        ")\n",
        "\n",
        "log_reg = LogisticRegression(\n",
        "    C=0.5,\n",
        "    penalty='l2',\n",
        "    solver='lbfgs',\n",
        "    max_iter=1000,\n",
        "    random_state=42\n",
        ")\n",
        "\n",
        "pipeline = Pipeline(steps=[('preprocessor', preprocessor),\n",
        "                           ('classifier', log_reg)])\n",
        "\n",
        "# 모델 학습\n",
        "pipeline.fit(X_tr, y_tr)\n",
        "\n",
        "# 예측\n",
        "y_pred = pipeline.predict(X_te)"
      ],
      "metadata": {
        "colab": {
          "base_uri": "https://localhost:8080/"
        },
        "id": "exG6c7nFq89i",
        "outputId": "d4c55647-8942-49c5-83b3-0f337f0a112e"
      },
      "execution_count": null,
      "outputs": [
        {
          "output_type": "stream",
          "name": "stderr",
          "text": [
            "/usr/local/lib/python3.12/dist-packages/sklearn/linear_model/_logistic.py:465: ConvergenceWarning: lbfgs failed to converge (status=1):\n",
            "STOP: TOTAL NO. OF ITERATIONS REACHED LIMIT.\n",
            "\n",
            "Increase the number of iterations (max_iter) or scale the data as shown in:\n",
            "    https://scikit-learn.org/stable/modules/preprocessing.html\n",
            "Please also refer to the documentation for alternative solver options:\n",
            "    https://scikit-learn.org/stable/modules/linear_model.html#logistic-regression\n",
            "  n_iter_i = _check_optimize_result(\n"
          ]
        }
      ]
    },
    {
      "cell_type": "code",
      "source": [
        "from sklearn.metrics import accuracy_score, f1_score, roc_auc_score\n",
        "\n",
        "print(\"Accuracy:\", accuracy_score(y_te, y_pred))\n",
        "\n",
        "# 예측\n",
        "y_pred = pipeline.predict(X_te)\n",
        "y_proba = pipeline.predict_proba(X_te)[:, 1]  # 클래스 1에 대한 확률\n",
        "\n",
        "# 1. F1 점수\n",
        "f1 = f1_score(y_te, y_pred)\n",
        "print(\"F1-score:\", f1)\n",
        "\n",
        "# 2. AUC score\n",
        "auc = roc_auc_score(y_te, y_proba)\n",
        "print(\"AUC:\", auc)"
      ],
      "metadata": {
        "colab": {
          "base_uri": "https://localhost:8080/"
        },
        "id": "auMPPb9vrV2f",
        "outputId": "4653f89e-a1d3-4b50-984f-4a4603595c17"
      },
      "execution_count": null,
      "outputs": [
        {
          "output_type": "stream",
          "name": "stdout",
          "text": [
            "Accuracy: 0.8119481236203091\n",
            "F1-score: 0.6939142151358635\n",
            "AUC: 0.8618031678884964\n"
          ]
        }
      ]
    },
    {
      "cell_type": "markdown",
      "source": [
        "전처리 변경 후, 모든 지표 0.01 좋아짐.."
      ],
      "metadata": {
        "id": "dtjlar3Jr2ik"
      }
    },
    {
      "cell_type": "markdown",
      "source": [
        "c = 1"
      ],
      "metadata": {
        "id": "U25yHoG-rgGh"
      }
    },
    {
      "cell_type": "code",
      "source": [
        "log_reg = LogisticRegression(\n",
        "    C=1,\n",
        "    penalty='l2',\n",
        "    solver='lbfgs',\n",
        "    max_iter=1000,\n",
        "    random_state=42\n",
        ")\n",
        "\n",
        "pipeline = Pipeline(steps=[('preprocessor', preprocessor),\n",
        "                           ('classifier', log_reg)])\n",
        "\n",
        "# 모델 학습\n",
        "pipeline.fit(X_tr, y_tr)\n",
        "\n",
        "# 예측\n",
        "y_pred = pipeline.predict(X_te)"
      ],
      "metadata": {
        "colab": {
          "base_uri": "https://localhost:8080/"
        },
        "id": "s60o7JPErsdA",
        "outputId": "c8399604-c659-48ed-babf-8d7e7170ff08"
      },
      "execution_count": null,
      "outputs": [
        {
          "output_type": "stream",
          "name": "stderr",
          "text": [
            "/usr/local/lib/python3.12/dist-packages/sklearn/linear_model/_logistic.py:465: ConvergenceWarning: lbfgs failed to converge (status=1):\n",
            "STOP: TOTAL NO. OF ITERATIONS REACHED LIMIT.\n",
            "\n",
            "Increase the number of iterations (max_iter) or scale the data as shown in:\n",
            "    https://scikit-learn.org/stable/modules/preprocessing.html\n",
            "Please also refer to the documentation for alternative solver options:\n",
            "    https://scikit-learn.org/stable/modules/linear_model.html#logistic-regression\n",
            "  n_iter_i = _check_optimize_result(\n"
          ]
        }
      ]
    },
    {
      "cell_type": "code",
      "source": [
        "print(\"Accuracy:\", accuracy_score(y_te, y_pred))\n",
        "\n",
        "# 예측\n",
        "y_pred = pipeline.predict(X_te)\n",
        "y_proba = pipeline.predict_proba(X_te)[:, 1]  # 클래스 1에 대한 확률\n",
        "\n",
        "# 1. F1 점수\n",
        "f1 = f1_score(y_te, y_pred)\n",
        "print(\"F1-score:\", f1)\n",
        "\n",
        "# 2. AUC score\n",
        "auc = roc_auc_score(y_te, y_proba)\n",
        "print(\"AUC:\", auc)"
      ],
      "metadata": {
        "colab": {
          "base_uri": "https://localhost:8080/"
        },
        "id": "WOWYXPJqsS38",
        "outputId": "462ca716-0f79-4996-f264-44655f26632b"
      },
      "execution_count": null,
      "outputs": [
        {
          "output_type": "stream",
          "name": "stdout",
          "text": [
            "Accuracy: 0.8134657836644592\n",
            "F1-score: 0.6943942133815552\n",
            "AUC: 0.861556075622657\n"
          ]
        }
      ]
    },
    {
      "cell_type": "markdown",
      "source": [
        "전처리 변경 후, 모든 지표 0.01 좋아짐..\n",
        "\n",
        "-> 규제 강도를 조절하는 하이퍼 파라미터 c는 유의미하지 않음."
      ],
      "metadata": {
        "id": "Lo6qMX87scrc"
      }
    },
    {
      "cell_type": "markdown",
      "source": [
        "2. 규제 종류"
      ],
      "metadata": {
        "id": "vyuySEE_sjre"
      }
    },
    {
      "cell_type": "markdown",
      "source": [
        "- l1 규제"
      ],
      "metadata": {
        "id": "B4aHOkhLslg6"
      }
    },
    {
      "cell_type": "code",
      "source": [
        "log_reg = LogisticRegression(\n",
        "    C=1,\n",
        "    penalty='l1',\n",
        "    solver='liblinear',\n",
        "    max_iter=1000,\n",
        "    random_state=42\n",
        ")\n",
        "\n",
        "pipeline = Pipeline(steps=[('preprocessor', preprocessor),\n",
        "                           ('classifier', log_reg)])\n",
        "\n",
        "# 모델 학습\n",
        "pipeline.fit(X_tr, y_tr)\n",
        "\n",
        "# 예측\n",
        "y_pred = pipeline.predict(X_te)"
      ],
      "metadata": {
        "id": "MIXMCRFksiEE"
      },
      "execution_count": null,
      "outputs": []
    },
    {
      "cell_type": "code",
      "source": [
        "print(\"Accuracy:\", accuracy_score(y_te, y_pred))\n",
        "\n",
        "# 예측\n",
        "y_pred = pipeline.predict(X_te)\n",
        "y_proba = pipeline.predict_proba(X_te)[:, 1]  # 클래스 1에 대한 확률\n",
        "\n",
        "# 1. F1 점수\n",
        "f1 = f1_score(y_te, y_pred)\n",
        "print(\"F1-score:\", f1)\n",
        "\n",
        "# 2. AUC score\n",
        "auc = roc_auc_score(y_te, y_proba)\n",
        "print(\"AUC:\", auc)"
      ],
      "metadata": {
        "colab": {
          "base_uri": "https://localhost:8080/"
        },
        "id": "HNsHzbBgsykG",
        "outputId": "6079117c-5ac9-45bc-9249-004c30ae3a7a"
      },
      "execution_count": null,
      "outputs": [
        {
          "output_type": "stream",
          "name": "stdout",
          "text": [
            "Accuracy: 0.8115342163355408\n",
            "F1-score: 0.6926192619261926\n",
            "AUC: 0.8628021488054504\n"
          ]
        }
      ]
    },
    {
      "cell_type": "markdown",
      "source": [
        "전체적으로 0.01 좋아짐"
      ],
      "metadata": {
        "id": "yV9yoPNjs0Ps"
      }
    },
    {
      "cell_type": "markdown",
      "source": [
        "- l2 규제"
      ],
      "metadata": {
        "id": "mh2xB26Zs5Cp"
      }
    },
    {
      "cell_type": "code",
      "source": [
        "log_reg = LogisticRegression(\n",
        "    C=1,\n",
        "    penalty='l2',\n",
        "    solver='lbfgs',\n",
        "    max_iter=1000,\n",
        "    random_state=42\n",
        ")\n",
        "\n",
        "pipeline = Pipeline(steps=[('preprocessor', preprocessor),\n",
        "                           ('classifier', log_reg)])\n",
        "\n",
        "# 모델 학습\n",
        "pipeline.fit(X_tr, y_tr)\n",
        "\n",
        "# 예측\n",
        "y_pred = pipeline.predict(X_te)"
      ],
      "metadata": {
        "colab": {
          "base_uri": "https://localhost:8080/"
        },
        "id": "2xjRttY7s2Gm",
        "outputId": "bb560a4d-546b-440c-cdd0-7f08858a76d6"
      },
      "execution_count": null,
      "outputs": [
        {
          "output_type": "stream",
          "name": "stderr",
          "text": [
            "/usr/local/lib/python3.12/dist-packages/sklearn/linear_model/_logistic.py:465: ConvergenceWarning: lbfgs failed to converge (status=1):\n",
            "STOP: TOTAL NO. OF ITERATIONS REACHED LIMIT.\n",
            "\n",
            "Increase the number of iterations (max_iter) or scale the data as shown in:\n",
            "    https://scikit-learn.org/stable/modules/preprocessing.html\n",
            "Please also refer to the documentation for alternative solver options:\n",
            "    https://scikit-learn.org/stable/modules/linear_model.html#logistic-regression\n",
            "  n_iter_i = _check_optimize_result(\n"
          ]
        }
      ]
    },
    {
      "cell_type": "code",
      "source": [
        "print(\"Accuracy:\", accuracy_score(y_te, y_pred))\n",
        "\n",
        "# 예측\n",
        "y_pred = pipeline.predict(X_te)\n",
        "y_proba = pipeline.predict_proba(X_te)[:, 1]  # 클래스 1에 대한 확률\n",
        "\n",
        "# 1. F1 점수\n",
        "f1 = f1_score(y_te, y_pred)\n",
        "print(\"F1-score:\", f1)\n",
        "\n",
        "# 2. AUC score\n",
        "auc = roc_auc_score(y_te, y_proba)\n",
        "print(\"AUC:\", auc)"
      ],
      "metadata": {
        "colab": {
          "base_uri": "https://localhost:8080/"
        },
        "id": "CoQfIlcLs9B3",
        "outputId": "36899366-ec5e-4da6-a1b7-3c2e22e735f7"
      },
      "execution_count": null,
      "outputs": [
        {
          "output_type": "stream",
          "name": "stdout",
          "text": [
            "Accuracy: 0.8134657836644592\n",
            "F1-score: 0.6943942133815552\n",
            "AUC: 0.861556075622657\n"
          ]
        }
      ]
    },
    {
      "cell_type": "markdown",
      "source": [
        "- ElasticNet"
      ],
      "metadata": {
        "id": "qWj4VN5Ss93x"
      }
    },
    {
      "cell_type": "markdown",
      "source": [
        "ElasticNet 1 -> l1_ratio = 0.5"
      ],
      "metadata": {
        "id": "EEdi1gO2tRUy"
      }
    },
    {
      "cell_type": "code",
      "source": [
        "log_reg = LogisticRegression(\n",
        "    C=1,\n",
        "    penalty='elasticnet',\n",
        "    solver='saga',\n",
        "    max_iter=1000,\n",
        "    random_state=42,\n",
        "    l1_ratio=0.5\n",
        ")\n",
        "\n",
        "pipeline = Pipeline(steps=[('preprocessor', preprocessor),\n",
        "                           ('classifier', log_reg)])\n",
        "\n",
        "# 모델 학습\n",
        "pipeline.fit(X_tr, y_tr)\n",
        "\n",
        "# 예측\n",
        "y_pred = pipeline.predict(X_te)"
      ],
      "metadata": {
        "colab": {
          "base_uri": "https://localhost:8080/"
        },
        "id": "lmKSI0h1s_L5",
        "outputId": "8fccd434-fa48-4f15-b67d-1f6cac473466"
      },
      "execution_count": null,
      "outputs": [
        {
          "output_type": "stream",
          "name": "stderr",
          "text": [
            "/usr/local/lib/python3.12/dist-packages/sklearn/linear_model/_sag.py:348: ConvergenceWarning: The max_iter was reached which means the coef_ did not converge\n",
            "  warnings.warn(\n"
          ]
        }
      ]
    },
    {
      "cell_type": "code",
      "source": [
        "print(\"Accuracy:\", accuracy_score(y_te, y_pred))\n",
        "\n",
        "# 예측\n",
        "y_pred = pipeline.predict(X_te)\n",
        "y_proba = pipeline.predict_proba(X_te)[:, 1]  # 클래스 1에 대한 확률\n",
        "\n",
        "# 1. F1 점수\n",
        "f1 = f1_score(y_te, y_pred)\n",
        "print(\"F1-score:\", f1)\n",
        "\n",
        "# 2. AUC score\n",
        "auc = roc_auc_score(y_te, y_proba)\n",
        "print(\"AUC:\", auc)"
      ],
      "metadata": {
        "colab": {
          "base_uri": "https://localhost:8080/"
        },
        "id": "twf3vbYUtJFw",
        "outputId": "dc1d25b0-6685-458e-a742-c9316a6ec66b"
      },
      "execution_count": null,
      "outputs": [
        {
          "output_type": "stream",
          "name": "stdout",
          "text": [
            "Accuracy: 0.7719370860927153\n",
            "F1-score: 0.5738592420726991\n",
            "AUC: 0.8171126837360487\n"
          ]
        }
      ]
    },
    {
      "cell_type": "markdown",
      "source": [
        "ElasticNet에서는 오히려 약 0.03씩 성능 감소"
      ],
      "metadata": {
        "id": "RvqrBUIKtbag"
      }
    },
    {
      "cell_type": "markdown",
      "source": [
        "ElasticNet 2 -> l1_ratio = 0.2"
      ],
      "metadata": {
        "id": "1NYJwwcytWhC"
      }
    },
    {
      "cell_type": "code",
      "source": [
        "log_reg = LogisticRegression(\n",
        "    C=1,\n",
        "    penalty='elasticnet',\n",
        "    solver='saga',\n",
        "    max_iter=1000,\n",
        "    random_state=42,\n",
        "    l1_ratio=0.2\n",
        ")\n",
        "\n",
        "pipeline = Pipeline(steps=[('preprocessor', preprocessor),\n",
        "                           ('classifier', log_reg)])\n",
        "\n",
        "# 모델 학습\n",
        "pipeline.fit(X_tr, y_tr)\n",
        "\n",
        "# 예측\n",
        "y_pred = pipeline.predict(X_te)"
      ],
      "metadata": {
        "colab": {
          "base_uri": "https://localhost:8080/"
        },
        "id": "NeO29WkltXLK",
        "outputId": "3d5e10c0-1711-481c-9994-f38c5101fa5a"
      },
      "execution_count": null,
      "outputs": [
        {
          "output_type": "stream",
          "name": "stderr",
          "text": [
            "/usr/local/lib/python3.12/dist-packages/sklearn/linear_model/_sag.py:348: ConvergenceWarning: The max_iter was reached which means the coef_ did not converge\n",
            "  warnings.warn(\n"
          ]
        }
      ]
    },
    {
      "cell_type": "code",
      "source": [
        "print(\"Accuracy:\", accuracy_score(y_te, y_pred))\n",
        "\n",
        "# 예측\n",
        "y_pred = pipeline.predict(X_te)\n",
        "y_proba = pipeline.predict_proba(X_te)[:, 1]  # 클래스 1에 대한 확률\n",
        "\n",
        "# 1. F1 점수\n",
        "f1 = f1_score(y_te, y_pred)\n",
        "print(\"F1-score:\", f1)\n",
        "\n",
        "# 2. AUC score\n",
        "auc = roc_auc_score(y_te, y_proba)\n",
        "print(\"AUC:\", auc)"
      ],
      "metadata": {
        "colab": {
          "base_uri": "https://localhost:8080/"
        },
        "id": "FitIRsGKtj1r",
        "outputId": "9f63cdd7-e8c3-47b5-9eab-4bfa62f6b2af"
      },
      "execution_count": null,
      "outputs": [
        {
          "output_type": "stream",
          "name": "stdout",
          "text": [
            "Accuracy: 0.7719370860927153\n",
            "F1-score: 0.5738592420726991\n",
            "AUC: 0.8171176014243006\n"
          ]
        }
      ]
    },
    {
      "cell_type": "markdown",
      "source": [
        "l1_ratio 조절해도 성능은 약 0.03 감소했음.\n",
        "\n",
        "l1_ratio도 유의미하지 않음."
      ],
      "metadata": {
        "id": "jx5dy1jHtwQF"
      }
    },
    {
      "cell_type": "markdown",
      "source": [
        "- None (규제 x)"
      ],
      "metadata": {
        "id": "9xhx7WBjt4Gv"
      }
    },
    {
      "cell_type": "code",
      "source": [
        "log_reg = LogisticRegression(\n",
        "    C=1,\n",
        "    penalty=None,\n",
        "    solver='lbfgs',\n",
        "    max_iter=1000,\n",
        "    random_state=42\n",
        ")\n",
        "\n",
        "pipeline = Pipeline(steps=[('preprocessor', preprocessor),\n",
        "                           ('classifier', log_reg)])\n",
        "\n",
        "# 모델 학습\n",
        "pipeline.fit(X_tr, y_tr)\n",
        "\n",
        "# 예측\n",
        "y_pred = pipeline.predict(X_te)"
      ],
      "metadata": {
        "colab": {
          "base_uri": "https://localhost:8080/"
        },
        "id": "qD8dh8Bbt1ZQ",
        "outputId": "ac0e1b0e-8066-443c-be6e-634180d15e68"
      },
      "execution_count": null,
      "outputs": [
        {
          "output_type": "stream",
          "name": "stderr",
          "text": [
            "/usr/local/lib/python3.12/dist-packages/sklearn/linear_model/_logistic.py:465: ConvergenceWarning: lbfgs failed to converge (status=1):\n",
            "STOP: TOTAL NO. OF ITERATIONS REACHED LIMIT.\n",
            "\n",
            "Increase the number of iterations (max_iter) or scale the data as shown in:\n",
            "    https://scikit-learn.org/stable/modules/preprocessing.html\n",
            "Please also refer to the documentation for alternative solver options:\n",
            "    https://scikit-learn.org/stable/modules/linear_model.html#logistic-regression\n",
            "  n_iter_i = _check_optimize_result(\n"
          ]
        }
      ]
    },
    {
      "cell_type": "code",
      "source": [
        "print(\"Accuracy:\", accuracy_score(y_te, y_pred))\n",
        "\n",
        "# 예측\n",
        "y_pred = pipeline.predict(X_te)\n",
        "y_proba = pipeline.predict_proba(X_te)[:, 1]  # 클래스 1에 대한 확률\n",
        "\n",
        "# 1. F1 점수\n",
        "f1 = f1_score(y_te, y_pred)\n",
        "print(\"F1-score:\", f1)\n",
        "\n",
        "# 2. AUC score\n",
        "auc = roc_auc_score(y_te, y_proba)\n",
        "print(\"AUC:\", auc)"
      ],
      "metadata": {
        "colab": {
          "base_uri": "https://localhost:8080/"
        },
        "id": "1oBetiD3uCMs",
        "outputId": "32942dd6-9a30-445a-859a-c3b06d1966e7"
      },
      "execution_count": null,
      "outputs": [
        {
          "output_type": "stream",
          "name": "stdout",
          "text": [
            "Accuracy: 0.8102924944812362\n",
            "F1-score: 0.6923249049004252\n",
            "AUC: 0.8615740208710141\n"
          ]
        }
      ]
    },
    {
      "cell_type": "markdown",
      "source": [
        "비슷\n",
        "\n",
        "-> 규제 종류를 바꾸는 것도 유의미하지 않음."
      ],
      "metadata": {
        "id": "FSMZZGmquKMf"
      }
    },
    {
      "cell_type": "markdown",
      "source": [
        "3. 반복 횟수 조절\n",
        "\n",
        "비슷하니 l1 규제 기준"
      ],
      "metadata": {
        "id": "rtvWdc7WuPOg"
      }
    },
    {
      "cell_type": "markdown",
      "source": [
        "- max_iter = 100"
      ],
      "metadata": {
        "id": "FldWRm8MumVx"
      }
    },
    {
      "cell_type": "code",
      "source": [
        "log_reg = LogisticRegression(\n",
        "    C=1,\n",
        "    penalty='l1',\n",
        "    solver='liblinear',\n",
        "    max_iter=100,\n",
        "    random_state=42\n",
        ")\n",
        "\n",
        "pipeline = Pipeline(steps=[('preprocessor', preprocessor),\n",
        "                           ('classifier', log_reg)])\n",
        "\n",
        "# 모델 학습\n",
        "pipeline.fit(X_tr, y_tr)\n",
        "\n",
        "# 예측\n",
        "y_pred = pipeline.predict(X_te)"
      ],
      "metadata": {
        "id": "Z-wmY90puqrB"
      },
      "execution_count": null,
      "outputs": []
    },
    {
      "cell_type": "code",
      "source": [
        "print(\"Accuracy:\", accuracy_score(y_te, y_pred))\n",
        "\n",
        "# 예측\n",
        "y_pred = pipeline.predict(X_te)\n",
        "y_proba = pipeline.predict_proba(X_te)[:, 1]  # 클래스 1에 대한 확률\n",
        "\n",
        "# 1. F1 점수\n",
        "f1 = f1_score(y_te, y_pred)\n",
        "print(\"F1-score:\", f1)\n",
        "\n",
        "# 2. AUC score\n",
        "auc = roc_auc_score(y_te, y_proba)\n",
        "print(\"AUC:\", auc)"
      ],
      "metadata": {
        "colab": {
          "base_uri": "https://localhost:8080/"
        },
        "id": "ywuo02_0us1V",
        "outputId": "e083e2ad-7a1e-44e5-c18e-8443648a5e9b"
      },
      "execution_count": null,
      "outputs": [
        {
          "output_type": "stream",
          "name": "stdout",
          "text": [
            "Accuracy: 0.8115342163355408\n",
            "F1-score: 0.6926192619261926\n",
            "AUC: 0.8628021488054504\n"
          ]
        }
      ]
    },
    {
      "cell_type": "markdown",
      "source": [
        "- max_iter = 500"
      ],
      "metadata": {
        "id": "fTvo--6fubPX"
      }
    },
    {
      "cell_type": "code",
      "source": [
        "log_reg = LogisticRegression(\n",
        "    C=1,\n",
        "    penalty='l1',\n",
        "    solver='liblinear',\n",
        "    max_iter=500,\n",
        "    random_state=42\n",
        ")\n",
        "\n",
        "pipeline = Pipeline(steps=[('preprocessor', preprocessor),\n",
        "                           ('classifier', log_reg)])\n",
        "\n",
        "# 모델 학습\n",
        "pipeline.fit(X_tr, y_tr)\n",
        "\n",
        "# 예측\n",
        "y_pred = pipeline.predict(X_te)"
      ],
      "metadata": {
        "id": "gY1AxTI9uO0p"
      },
      "execution_count": null,
      "outputs": []
    },
    {
      "cell_type": "code",
      "source": [
        "print(\"Accuracy:\", accuracy_score(y_te, y_pred))\n",
        "\n",
        "# 예측\n",
        "y_pred = pipeline.predict(X_te)\n",
        "y_proba = pipeline.predict_proba(X_te)[:, 1]  # 클래스 1에 대한 확률\n",
        "\n",
        "# 1. F1 점수\n",
        "f1 = f1_score(y_te, y_pred)\n",
        "print(\"F1-score:\", f1)\n",
        "\n",
        "# 2. AUC score\n",
        "auc = roc_auc_score(y_te, y_proba)\n",
        "print(\"AUC:\", auc)"
      ],
      "metadata": {
        "colab": {
          "base_uri": "https://localhost:8080/"
        },
        "id": "qwVW8iz3ufQC",
        "outputId": "60c87fd8-6304-4c79-9cf4-c25c044b5107"
      },
      "execution_count": null,
      "outputs": [
        {
          "output_type": "stream",
          "name": "stdout",
          "text": [
            "Accuracy: 0.8115342163355408\n",
            "F1-score: 0.6926192619261926\n",
            "AUC: 0.8628021488054504\n"
          ]
        }
      ]
    },
    {
      "cell_type": "markdown",
      "source": [
        "- max_iter = 1000\n",
        "\n",
        "(앞에서 한 모델, 결과는 비슷)"
      ],
      "metadata": {
        "id": "CbSHSJc8ugGn"
      }
    },
    {
      "cell_type": "markdown",
      "source": [
        "규제 강도, 규제 방법, 반복 횟수 모두 유의미하지 않다.\n",
        "\n",
        "Logistic Regression은 유의미하지 않은 것 같다."
      ],
      "metadata": {
        "id": "XDqPkBP4ux0x"
      }
    }
  ]
}