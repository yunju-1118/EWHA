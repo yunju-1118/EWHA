{
  "cells": [
    {
      "cell_type": "markdown",
      "metadata": {
        "id": "view-in-github",
        "colab_type": "text"
      },
      "source": [
        "<a href=\"https://colab.research.google.com/github/yunju-1118/EWHA/blob/main/OB2_Project1_SCV_CatBoost_%EC%8B%A0%EC%9A%B0.ipynb\" target=\"_parent\"><img src=\"https://colab.research.google.com/assets/colab-badge.svg\" alt=\"Open In Colab\"/></a>"
      ]
    },
    {
      "cell_type": "markdown",
      "metadata": {
        "id": "SAOUVGm1Jte6"
      },
      "source": [
        "random_seed = 42, test_size = 0.2, dataset: hotel\n",
        "\n",
        "전처리: 현경 (~ 9/18)\n",
        "\n",
        "LGBM: 윤주\n",
        "\n",
        "CatBoost & SVM: 신우\n",
        "\n",
        "Logistic: 재선"
      ]
    },
    {
      "cell_type": "markdown",
      "metadata": {
        "id": "s7HdHh6jZTFP"
      },
      "source": [
        "https://www.kaggle.com/datasets/ahsan81/hotel-reservations-classification-dataset\n",
        "\n",
        "### **Data Dictionary**\n",
        "\n",
        "- Booking_ID: unique identifier of each booking\n",
        "\n",
        "- no_of_adults: Number of adults\n",
        "- no_of_children: Number of Children\n",
        "- no_of_weekend_nights: Number of weekend nights (Saturday or Sunday) the guest stayed or booked to stay at the hotel\n",
        "- no_of_week_nights: Number of week nights (Monday to Friday) the guest stayed or booked to stay at the hotel\n",
        "- type_of_meal_plan: Type of meal plan booked by the customer:\n",
        "- required_car_parking_space: Does the customer require a car parking space? (0 - No, 1- Yes)\n",
        "- room_type_reserved: Type of room reserved by the customer. The values are ciphered (encoded) by INN Hotels.\n",
        "- lead_time: Number of days between the date of booking and the arrival date\n",
        "- arrival_year: Year of arrival date\n",
        "- arrival_month: Month of arrival date\n",
        "- arrival_date: Date of the month\n",
        "- market_segment_type: Market segment designation.\n",
        "- repeated_guest: Is the customer a repeated guest? (0 - No, 1- Yes)\n",
        "- no_of_previous_cancellations: Number of previous bookings that were canceled by the customer prior to the current booking\n",
        "- no_of_previous_bookings_not_canceled: Number of previous bookings not canceled by the customer prior to the current booking\n",
        "- avg_price_per_room: Average price per day of the reservation; prices of the rooms are dynamic. (in euros)\n",
        "- no_of_special_requests: Total number of special requests made by the customer (e.g. high floor, view from the room, etc)\n",
        "- **booking_status** (target): Flag indicating if the booking was canceled or not."
      ]
    },
    {
      "cell_type": "markdown",
      "metadata": {
        "id": "zPF-E4VnZvLN"
      },
      "source": [
        "## **Import libraries and dataset**"
      ]
    },
    {
      "cell_type": "code",
      "execution_count": null,
      "metadata": {
        "colab": {
          "base_uri": "https://localhost:8080/"
        },
        "id": "vah9GdOKaC6b",
        "outputId": "19e311ad-631a-43f9-8a52-175333b52678"
      },
      "outputs": [
        {
          "name": "stdout",
          "output_type": "stream",
          "text": [
            "Mounted at /content/drive\n"
          ]
        }
      ],
      "source": [
        "from google.colab import drive\n",
        "drive.mount('/content/drive')"
      ]
    },
    {
      "cell_type": "code",
      "execution_count": null,
      "metadata": {
        "id": "nv0iW7TcZz6b"
      },
      "outputs": [],
      "source": [
        "import numpy as np\n",
        "import pandas as pd\n",
        "import matplotlib.pyplot as plt\n",
        "import seaborn as sns"
      ]
    },
    {
      "cell_type": "code",
      "execution_count": null,
      "metadata": {
        "id": "CKIc585CaFLo"
      },
      "outputs": [],
      "source": [
        "hotel = pd.read_csv('/content/drive/MyDrive/Hotel Reservations.csv')"
      ]
    },
    {
      "cell_type": "markdown",
      "metadata": {
        "id": "phHQbsBj8DBK"
      },
      "source": [
        "## 전처리"
      ]
    },
    {
      "cell_type": "markdown",
      "metadata": {
        "id": "WPbYmmGn8Gqs"
      },
      "source": [
        "각 모델별로 다르게 접근\n",
        "\n",
        "1. Logistic Regression\n",
        "\n",
        "2. LGBM\n",
        "\n",
        "3. SVC\n",
        "\n",
        "4. CatBoost"
      ]
    },
    {
      "cell_type": "markdown",
      "metadata": {
        "id": "E__Eng5P83Oi"
      },
      "source": [
        "### 전체 모델 공통 처리 사항\n",
        "1. datetime  변환\n",
        "2. 범주형 변수 Label Encoding\n",
        "3. binary 변수\n",
        "4. 파생 변수\n",
        "5. 필요 없는 변수 drop\n",
        "\n",
        "\n",
        "++ KNN을 이용해서 거리가 비슷한 데이터 활용하는 방식은 tree 기반보다는 Logistic Regressiong, SVC 같이 조금 더 단순한 모델에 좋다고 해서 일단 두 모델에만 추가해놨어요!\n",
        "\n",
        "그리고 KNN 이용한거는 무조건 train/test를 나누고 적용을 해야 한다고 해서 일단\n",
        "train/test split도 제가 코드 작성해 둿어요!"
      ]
    },
    {
      "cell_type": "markdown",
      "metadata": {
        "id": "XNC8FvEgH4of"
      },
      "source": [
        "날짜 이상한거 체크하기"
      ]
    },
    {
      "cell_type": "code",
      "execution_count": null,
      "metadata": {
        "colab": {
          "base_uri": "https://localhost:8080/"
        },
        "id": "3DpbQBiIH62S",
        "outputId": "928f13c8-26b6-4a91-ab30-1224c51e165c"
      },
      "outputs": [
        {
          "name": "stdout",
          "output_type": "stream",
          "text": [
            "      arrival_year  arrival_month  arrival_date\n",
            "2626          2018              2            29\n",
            "3677          2018              2            29\n",
            "5600          2018              2            29\n",
            "6343          2018              2            29\n",
            "7648          2018              2            29\n",
            "8000          2018              2            29\n",
            "8989          2018              2            29\n",
            "9153          2018              2            29\n",
            "9245          2018              2            29\n",
            "9664          2018              2            29\n",
            "문제 행 수: 37  / 전체: 36275\n"
          ]
        }
      ],
      "source": [
        "import pandas as pd\n",
        "import numpy as np\n",
        "\n",
        "for c in [\"arrival_year\",\"arrival_month\",\"arrival_date\"]:\n",
        "    hotel[c] = pd.to_numeric(hotel[c], errors=\"coerce\")\n",
        "\n",
        "ym = pd.to_datetime(\n",
        "    hotel[\"arrival_year\"].astype(\"Int64\").astype(str) + \"-\" +\n",
        "    hotel[\"arrival_month\"].astype(\"Int64\").astype(str).str.zfill(2) + \"-01\",\n",
        "    errors=\"coerce\"\n",
        ")\n",
        "last_day = (ym + pd.offsets.MonthEnd(0)).dt.day\n",
        "\n",
        "invalid_month = ~hotel[\"arrival_month\"].between(1, 12)\n",
        "invalid_day_low = hotel[\"arrival_date\"] < 1\n",
        "invalid_day_high = hotel[\"arrival_date\"] > last_day\n",
        "invalid_yearmonth = ym.isna()\n",
        "bad_mask = invalid_month | invalid_day_low | invalid_day_high | invalid_yearmonth\n",
        "\n",
        "ok = ~bad_mask\n",
        "hotel.loc[ok, \"arrival_date_full\"] = pd.to_datetime({\n",
        "    \"year\":  hotel.loc[ok, \"arrival_year\"],\n",
        "    \"month\": hotel.loc[ok, \"arrival_month\"],\n",
        "    \"day\":   hotel.loc[ok, \"arrival_date\"],\n",
        "}, errors=\"coerce\")\n",
        "\n",
        "hotel.loc[bad_mask, \"arrival_date_full\"] = pd.NaT\n",
        "\n",
        "problem_preview = hotel.loc[bad_mask, [\"arrival_year\",\"arrival_month\",\"arrival_date\"]].head(10)\n",
        "print(problem_preview)\n",
        "print(\"문제 행 수:\", bad_mask.sum(), \" / 전체:\", len(hotel))"
      ]
    },
    {
      "cell_type": "code",
      "execution_count": null,
      "metadata": {
        "colab": {
          "base_uri": "https://localhost:8080/"
        },
        "id": "0lrmST0yHH9Y",
        "outputId": "b96f47b8-97c5-4def-b464-0294466ae5b6"
      },
      "outputs": [
        {
          "name": "stdout",
          "output_type": "stream",
          "text": [
            "남은 행 개수: 36238\n"
          ]
        }
      ],
      "source": [
        "import pandas as pd\n",
        "\n",
        "for c in [\"arrival_year\", \"arrival_month\", \"arrival_date\"]:\n",
        "    hotel[c] = pd.to_numeric(hotel[c], errors=\"coerce\")\n",
        "\n",
        "hotel[\"arrival_date_full\"] = pd.to_datetime({\n",
        "    \"year\": hotel[\"arrival_year\"],\n",
        "    \"month\": hotel[\"arrival_month\"],\n",
        "    \"day\": hotel[\"arrival_date\"]\n",
        "}, errors=\"coerce\")\n",
        "\n",
        "hotel = hotel.dropna(subset=[\"arrival_date_full\"]).reset_index(drop=True)\n",
        "\n",
        "print(\"남은 행 개수:\", len(hotel))"
      ]
    },
    {
      "cell_type": "code",
      "execution_count": null,
      "metadata": {
        "id": "NY-C-eB9KCoy"
      },
      "outputs": [],
      "source": [
        "import pandas as pd\n",
        "import numpy as np\n",
        "from sklearn.preprocessing import LabelEncoder\n",
        "\n",
        "## datetime 하나로 합치는 코드\n",
        "tmp = hotel.rename(columns={\n",
        "    \"arrival_year\": \"year\",\n",
        "    \"arrival_month\": \"month\",\n",
        "    \"arrival_date\": \"day\"\n",
        "})\n",
        "\n",
        "hotel[\"arrival_date_full\"] = pd.to_datetime(tmp[[\"year\",\"month\",\"day\"]])\n"
      ]
    },
    {
      "cell_type": "code",
      "execution_count": null,
      "metadata": {
        "id": "9GGlZRPLGvhA"
      },
      "outputs": [],
      "source": [
        "## 범주형 변수 처리하는 코드 (binary였던 거는 그대로 냅뒀어용)\n",
        "cat_cols = [\"type_of_meal_plan\", \"room_type_reserved\", \"market_segment_type\"]\n",
        "le_dict = {}\n",
        "for col in cat_cols:\n",
        "    le = LabelEncoder()\n",
        "    hotel[col] = le.fit_transform(hotel[col])\n",
        "    le_dict[col] = le\n",
        "\n",
        "\n",
        "## 변수 drop\n",
        "hotel = hotel.drop(columns=[\"Booking_ID\",\"arrival_year\", \"arrival_date\"])"
      ]
    },
    {
      "cell_type": "code",
      "execution_count": null,
      "metadata": {
        "id": "gP2PEEw3KGPn"
      },
      "outputs": [],
      "source": [
        "## 파생 변수\n",
        "## 총 숙박일수\n",
        "hotel[\"total_nights\"] = hotel[\"no_of_weekend_nights\"] + hotel[\"no_of_week_nights\"]\n",
        "\n",
        "## 리드타임 그룹화 -- 구간은 일주일, 한달, 세달, 반년, 일년, 일년 이상으로 나눴습니다!\n",
        "hotel[\"lead_time_group\"] = pd.cut(hotel[\"lead_time\"],\n",
        "                                  bins=[-1,7,30,90,180,365,800],\n",
        "                                  labels=[\"<1w\",\"1w-1m\",\"1-3m\",\"3-6m\",\"6-12m\",\">1y\"])\n",
        "\n",
        "## 평균 1박당 가격 (NaN은 0으로)\n",
        "hotel[\"avg_price_per_night\"] = hotel[\"avg_price_per_room\"] / hotel[\"total_nights\"].replace(0, np.nan)\n",
        "hotel[\"avg_price_per_night\"] = hotel[\"avg_price_per_night\"].fillna(0)\n",
        "\n",
        "## 동반 인원\n",
        "hotel[\"total_guests\"] = hotel[\"no_of_adults\"] + hotel[\"no_of_children\"]\n",
        "\n",
        "## 자녀\n",
        "hotel[\"has_children\"] = (hotel[\"no_of_children\"] > 0).astype(int)\n",
        "\n",
        "## 취소 비율\n",
        "hotel[\"cancel_ratio\"] = hotel[\"no_of_previous_cancellations\"] / (\n",
        "    hotel[\"no_of_previous_cancellations\"] + hotel[\"no_of_previous_bookings_not_canceled\"] + 1\n",
        ")\n",
        "\n",
        "## 이전 예약 경험\n",
        "hotel[\"has_prev_booking\"] = (\n",
        "    (hotel[\"no_of_previous_cancellations\"] + hotel[\"no_of_previous_bookings_not_canceled\"]) > 0\n",
        ").astype(int)\n",
        "\n",
        "## 성수기\n",
        "hotel[\"is_peak\"] = hotel[\"arrival_month\"].isin([6,7,8,12]).astype(int)\n",
        "\n",
        "## 식사 플랜\n",
        "hotel[\"no_meal_plan\"] = (hotel[\"type_of_meal_plan\"] == le_dict[\"type_of_meal_plan\"].transform([\"Not Selected\"])[0]).astype(int)"
      ]
    },
    {
      "cell_type": "markdown",
      "metadata": {
        "id": "Y4oKIpopu2ex"
      },
      "source": [
        "## 2차 전처리 -- 추가 파생 변수"
      ]
    },
    {
      "cell_type": "markdown",
      "metadata": {
        "id": "ZynLeM-Lv12x"
      },
      "source": [
        "(sin, cos 처리 관련) & 요일 관련 변수 추가"
      ]
    },
    {
      "cell_type": "code",
      "execution_count": null,
      "metadata": {
        "id": "IJg4Cdm8xT40"
      },
      "outputs": [],
      "source": [
        "if \"arrival_date_full\" in hotel.columns:\n",
        "    hotel[\"arrival_date_full\"] = pd.to_datetime(hotel[\"arrival_date_full\"], errors=\"coerce\")\n",
        "\n",
        "    hotel[\"arrival_day_of_week\"] = hotel[\"arrival_date_full\"].dt.dayofweek"
      ]
    },
    {
      "cell_type": "code",
      "execution_count": null,
      "metadata": {
        "id": "VSytzbJhu10f"
      },
      "outputs": [],
      "source": [
        "hotel[\"month_sin\"] = np.sin(2 * np.pi * hotel[\"arrival_month\"] / 12)\n",
        "hotel[\"month_cos\"] = np.cos(2 * np.pi * hotel[\"arrival_month\"] / 12)\n",
        "\n",
        "hotel[\"dow_sin\"] = np.sin(2 * np.pi * hotel[\"arrival_day_of_week\"] / 7)\n",
        "hotel[\"dow_cos\"] = np.cos(2 * np.pi * hotel[\"arrival_day_of_week\"] / 7)"
      ]
    },
    {
      "cell_type": "markdown",
      "metadata": {
        "id": "WePLzQnOv2rQ"
      },
      "source": [
        "가격 관련 추가 변수\n",
        "- 1인당 가격, 성수기일 경우의 방 가격"
      ]
    },
    {
      "cell_type": "code",
      "execution_count": null,
      "metadata": {
        "id": "QF5dZ8D9vB8J"
      },
      "outputs": [],
      "source": [
        "hotel[\"price_per_guest\"] = hotel[\"avg_price_per_room\"] / (hotel[\"total_guests\"].replace(0, np.nan))\n",
        "hotel[\"price_per_guest\"] = hotel[\"price_per_guest\"].fillna(0)\n",
        "\n",
        "hotel[\"peak_price\"] = hotel[\"avg_price_per_room\"] * hotel[\"is_peak\"]"
      ]
    },
    {
      "cell_type": "markdown",
      "metadata": {
        "id": "khVJTSqtv9Si"
      },
      "source": [
        "lead_time 비선형성 + month랑 곱해서 시즌 별 lead_Time 패턴 고려"
      ]
    },
    {
      "cell_type": "code",
      "execution_count": null,
      "metadata": {
        "id": "sbtGy9pcvPVf"
      },
      "outputs": [],
      "source": [
        "hotel[\"log_lead_time\"] = np.log1p(hotel[\"lead_time\"])\n",
        "\n",
        "hotel[\"lead_x_month\"] = hotel[\"lead_time\"] * hotel[\"arrival_month\"]"
      ]
    },
    {
      "cell_type": "markdown",
      "metadata": {
        "id": "fRGkzxUjwFuU"
      },
      "source": [
        "취소 경험 여부"
      ]
    },
    {
      "cell_type": "code",
      "execution_count": null,
      "metadata": {
        "id": "280_HkDtvrYe"
      },
      "outputs": [],
      "source": [
        "hotel[\"ever_canceled\"] = (hotel[\"no_of_previous_cancellations\"] > 0).astype(int)"
      ]
    },
    {
      "cell_type": "markdown",
      "metadata": {
        "id": "gkzjHTDJvQEE"
      },
      "source": [
        "## 1차 전처리 코드 -- KNN 적용 관련"
      ]
    },
    {
      "cell_type": "code",
      "execution_count": null,
      "metadata": {
        "id": "FktWVw5i_ypT"
      },
      "outputs": [],
      "source": [
        "from sklearn.neighbors import KNeighborsClassifier, KNeighborsRegressor\n",
        "\n",
        "def transform_with_knn_env(\n",
        "    X_train: pd.DataFrame, y_train: pd.Series,\n",
        "    X_test: pd.DataFrame,\n",
        "    env_features = [\"type_of_meal_plan\", \"required_car_parking_space\",\n",
        "                    \"room_type_reserved\", \"no_of_special_requests\"],\n",
        "    k: int = 10\n",
        "):\n",
        "    ## 이웃 취소율\n",
        "    knn_cls = KNeighborsClassifier(n_neighbors=k)\n",
        "    knn_cls.fit(X_train[env_features], y_train)\n",
        "    tr_env_cancel = knn_cls.predict_proba(X_train[env_features])[:, 1]\n",
        "    te_env_cancel = knn_cls.predict_proba(X_test[env_features])[:, 1]\n",
        "\n",
        "    ## 이웃 평균 1박 가격\n",
        "    knn_reg = KNeighborsRegressor(n_neighbors=k)\n",
        "    knn_reg.fit(X_train[env_features], X_train[\"avg_price_per_night\"])\n",
        "    tr_env_price = knn_reg.predict(X_train[env_features])\n",
        "    te_env_price = knn_reg.predict(X_test[env_features])\n",
        "\n",
        "    X_train_knn = X_train.copy()\n",
        "    X_test_knn  = X_test.copy()\n",
        "\n",
        "    X_train_knn[\"env_cancel_rate\"] = tr_env_cancel\n",
        "    X_test_knn[\"env_cancel_rate\"]  = te_env_cancel\n",
        "    X_train_knn[\"env_avg_price\"]   = tr_env_price\n",
        "    X_test_knn[\"env_avg_price\"]    = te_env_price\n",
        "\n",
        "    return X_train_knn, X_test_knn"
      ]
    },
    {
      "cell_type": "markdown",
      "metadata": {
        "id": "IBdjmmzc9ypN"
      },
      "source": [
        "### SVC\n",
        "\n",
        "1. 스케일링, 로그 변환\n",
        "2. 이상치 제거!\n"
      ]
    },
    {
      "cell_type": "code",
      "execution_count": null,
      "metadata": {
        "colab": {
          "base_uri": "https://localhost:8080/",
          "height": 211
        },
        "id": "iwD2WnB-KPOA",
        "outputId": "845a6f4b-1aad-4d9a-dfc6-1dbc75686c73"
      },
      "outputs": [
        {
          "ename": "NameError",
          "evalue": "name 'train_test_split' is not defined",
          "output_type": "error",
          "traceback": [
            "\u001b[0;31m---------------------------------------------------------------------------\u001b[0m",
            "\u001b[0;31mNameError\u001b[0m                                 Traceback (most recent call last)",
            "\u001b[0;32m/tmp/ipython-input-244587835.py\u001b[0m in \u001b[0;36m<cell line: 0>\u001b[0;34m()\u001b[0m\n\u001b[1;32m     11\u001b[0m \u001b[0my_svc\u001b[0m \u001b[0;34m=\u001b[0m \u001b[0;34m(\u001b[0m\u001b[0mdf_svc\u001b[0m\u001b[0;34m[\u001b[0m\u001b[0;34m\"booking_status\"\u001b[0m\u001b[0;34m]\u001b[0m \u001b[0;34m==\u001b[0m \u001b[0;34m\"Canceled\"\u001b[0m\u001b[0;34m)\u001b[0m\u001b[0;34m.\u001b[0m\u001b[0mastype\u001b[0m\u001b[0;34m(\u001b[0m\u001b[0mint\u001b[0m\u001b[0;34m)\u001b[0m\u001b[0;34m\u001b[0m\u001b[0;34m\u001b[0m\u001b[0m\n\u001b[1;32m     12\u001b[0m \u001b[0;34m\u001b[0m\u001b[0m\n\u001b[0;32m---> 13\u001b[0;31m \u001b[0mX_tr_svc\u001b[0m\u001b[0;34m,\u001b[0m \u001b[0mX_te_svc\u001b[0m\u001b[0;34m,\u001b[0m \u001b[0my_tr_svc\u001b[0m\u001b[0;34m,\u001b[0m \u001b[0my_te_svc\u001b[0m \u001b[0;34m=\u001b[0m \u001b[0mtrain_test_split\u001b[0m\u001b[0;34m(\u001b[0m\u001b[0mX_svc\u001b[0m\u001b[0;34m,\u001b[0m \u001b[0my_svc\u001b[0m\u001b[0;34m,\u001b[0m \u001b[0mtest_size\u001b[0m\u001b[0;34m=\u001b[0m\u001b[0;36m0.2\u001b[0m\u001b[0;34m,\u001b[0m \u001b[0mrandom_state\u001b[0m\u001b[0;34m=\u001b[0m\u001b[0;36m42\u001b[0m\u001b[0;34m)\u001b[0m\u001b[0;34m\u001b[0m\u001b[0;34m\u001b[0m\u001b[0m\n\u001b[0m\u001b[1;32m     14\u001b[0m \u001b[0;34m\u001b[0m\u001b[0m\n\u001b[1;32m     15\u001b[0m X_tr_svc, X_te_svc = transform_with_knn_env(\n",
            "\u001b[0;31mNameError\u001b[0m: name 'train_test_split' is not defined"
          ]
        }
      ],
      "source": [
        "df_svc = hotel.copy()\n",
        "\n",
        " ## 이상치 제거\n",
        "df_svc = df_svc[df_svc[\"avg_price_per_room\"] < 500]\n",
        "\n",
        "## 로그 변환\n",
        "for col in [\"lead_time\", \"no_of_previous_cancellations\", \"no_of_previous_bookings_not_canceled\", \"no_of_children\"]:\n",
        "    df_svc[col] = np.log1p(df_svc[col])\n",
        "\n",
        "X_svc = df_svc.drop(columns=[\"booking_status\",\"arrival_date_full\"])\n",
        "y_svc = (df_svc[\"booking_status\"] == \"Canceled\").astype(int)\n",
        "\n",
        "X_tr_svc, X_te_svc, y_tr_svc, y_te_svc = train_test_split(X_svc, y_svc, test_size=0.2, random_state=42)\n",
        "\n",
        "X_tr_svc, X_te_svc = transform_with_knn_env(\n",
        "    X_tr_svc, y_tr_svc, X_te_svc,\n",
        "    env_features=[\"type_of_meal_plan\",\"required_car_parking_space\",\"room_type_reserved\",\"no_of_special_requests\"],\n",
        "    k=10\n",
        ")\n",
        "\n",
        "## 스케일링\n",
        "scaler = StandardScaler()\n",
        "\n",
        "num_cols_svc = [\n",
        "    \"no_of_adults\",\"no_of_children\",\"no_of_weekend_nights\",\"no_of_week_nights\",\n",
        "    \"lead_time\",\"avg_price_per_room\",\"total_nights\",\"avg_price_per_night\",\n",
        "    \"total_guests\",\"cancel_ratio\",\"no_of_special_requests\"\n",
        "]\n",
        "\n",
        "for c in [\"env_cancel_rate\", \"env_avg_price\"]:\n",
        "    if c in X_tr_svc.columns:\n",
        "        num_cols_svc.append(c)\n",
        "\n",
        "num_cols_svc = [c for c in num_cols_svc if c in X_tr_svc.columns]\n",
        "\n",
        "X_tr_svc.loc[:, num_cols_svc] = scaler.fit_transform(X_tr_svc[num_cols_svc])\n",
        "X_te_svc.loc[:, num_cols_svc] = scaler.transform(X_te_svc[num_cols_svc])\n",
        "\n",
        "X_svc_train, X_svc_test, y_svc_train, y_svc_test = X_tr_svc, X_te_svc, y_tr_svc, y_te_svc"
      ]
    },
    {
      "cell_type": "code",
      "execution_count": null,
      "metadata": {
        "id": "4Z4dQSqZj8YP"
      },
      "outputs": [],
      "source": [
        "import numpy as np\n",
        "import pandas as pd\n",
        "\n",
        "from sklearn.model_selection import train_test_split\n",
        "from sklearn.preprocessing import StandardScaler\n",
        "from sklearn.neighbors import KNeighborsClassifier, KNeighborsRegressor\n",
        "from sklearn.svm import SVC\n",
        "from sklearn.metrics import (\n",
        "    roc_auc_score, average_precision_score, log_loss,\n",
        "    accuracy_score, precision_recall_fscore_support, confusion_matrix\n",
        ")"
      ]
    },
    {
      "cell_type": "markdown",
      "metadata": {
        "id": "-0GKnyDUoDh_"
      },
      "source": [
        "SVC가 수치형만 받는데, lead_time_group 같은 문자열(예: '3-6m')이 그대로 남아 있어서\n",
        "→ 문자열/카테고리 컬럼을 원-핫 인코딩(또는 드롭)한 뒤 학습"
      ]
    },
    {
      "cell_type": "code",
      "execution_count": null,
      "metadata": {
        "colab": {
          "base_uri": "https://localhost:8080/"
        },
        "id": "uEF1xFzZoTRD",
        "outputId": "63573536-c0d5-42bb-d42e-0482fae99418"
      },
      "outputs": [
        {
          "name": "stderr",
          "output_type": "stream",
          "text": [
            "/tmp/ipython-input-1552819731.py:35: FutureWarning: Setting an item of incompatible dtype is deprecated and will raise in a future error of pandas. Value '[ 0.3001581   0.3001581   0.3001581  ... -1.62447875  0.3001581\n",
            "  0.3001581 ]' has dtype incompatible with int64, please explicitly cast to a compatible dtype first.\n",
            "  X_tr_svc.loc[:, num_cols_svc] = scaler.fit_transform(X_tr_svc[num_cols_svc])\n",
            "/tmp/ipython-input-1552819731.py:35: FutureWarning: Setting an item of incompatible dtype is deprecated and will raise in a future error of pandas. Value '[ 0.21682289 -0.92974381  0.21682289 ... -0.92974381  0.21682289\n",
            "  1.36338958]' has dtype incompatible with int64, please explicitly cast to a compatible dtype first.\n",
            "  X_tr_svc.loc[:, num_cols_svc] = scaler.fit_transform(X_tr_svc[num_cols_svc])\n",
            "/tmp/ipython-input-1552819731.py:35: FutureWarning: Setting an item of incompatible dtype is deprecated and will raise in a future error of pandas. Value '[ 1.27051627  0.56176447  0.56176447 ... -0.14698733 -0.14698733\n",
            " -0.85573914]' has dtype incompatible with int64, please explicitly cast to a compatible dtype first.\n",
            "  X_tr_svc.loc[:, num_cols_svc] = scaler.fit_transform(X_tr_svc[num_cols_svc])\n",
            "/tmp/ipython-input-1552819731.py:35: FutureWarning: Setting an item of incompatible dtype is deprecated and will raise in a future error of pandas. Value '[ 1.10607705 -0.01020437  0.54793634 ... -0.56834509 -0.01020437\n",
            " -0.01020437]' has dtype incompatible with int64, please explicitly cast to a compatible dtype first.\n",
            "  X_tr_svc.loc[:, num_cols_svc] = scaler.fit_transform(X_tr_svc[num_cols_svc])\n",
            "/tmp/ipython-input-1552819731.py:35: FutureWarning: Setting an item of incompatible dtype is deprecated and will raise in a future error of pandas. Value '[ 0.07802324  0.07802324  0.07802324 ... -1.45333466  0.07802324\n",
            "  0.07802324]' has dtype incompatible with int64, please explicitly cast to a compatible dtype first.\n",
            "  X_tr_svc.loc[:, num_cols_svc] = scaler.fit_transform(X_tr_svc[num_cols_svc])\n",
            "/tmp/ipython-input-1552819731.py:35: FutureWarning: Setting an item of incompatible dtype is deprecated and will raise in a future error of pandas. Value '[-0.78783636 -0.78783636 -0.78783636 ... -0.78783636 -0.78783636\n",
            " -0.78783636]' has dtype incompatible with int64, please explicitly cast to a compatible dtype first.\n",
            "  X_tr_svc.loc[:, num_cols_svc] = scaler.fit_transform(X_tr_svc[num_cols_svc])\n",
            "/tmp/ipython-input-1552819731.py:36: FutureWarning: Setting an item of incompatible dtype is deprecated and will raise in a future error of pandas. Value '[ 0.3001581  -1.62447875  0.3001581  ...  0.3001581   0.3001581\n",
            "  0.3001581 ]' has dtype incompatible with int64, please explicitly cast to a compatible dtype first.\n",
            "  X_te_svc.loc[:, num_cols_svc] = scaler.transform(X_te_svc[num_cols_svc])\n",
            "/tmp/ipython-input-1552819731.py:36: FutureWarning: Setting an item of incompatible dtype is deprecated and will raise in a future error of pandas. Value '[ 0.21682289 -0.92974381 -0.92974381 ...  0.21682289  0.21682289\n",
            " -0.92974381]' has dtype incompatible with int64, please explicitly cast to a compatible dtype first.\n",
            "  X_te_svc.loc[:, num_cols_svc] = scaler.transform(X_te_svc[num_cols_svc])\n",
            "/tmp/ipython-input-1552819731.py:36: FutureWarning: Setting an item of incompatible dtype is deprecated and will raise in a future error of pandas. Value '[ 0.56176447 -0.14698733  0.56176447 ... -1.56449094 -0.85573914\n",
            "  1.27051627]' has dtype incompatible with int64, please explicitly cast to a compatible dtype first.\n",
            "  X_te_svc.loc[:, num_cols_svc] = scaler.transform(X_te_svc[num_cols_svc])\n",
            "/tmp/ipython-input-1552819731.py:36: FutureWarning: Setting an item of incompatible dtype is deprecated and will raise in a future error of pandas. Value '[ 0.54793634 -0.56834509 -0.01020437 ... -1.1264858  -0.56834509\n",
            "  0.54793634]' has dtype incompatible with int64, please explicitly cast to a compatible dtype first.\n",
            "  X_te_svc.loc[:, num_cols_svc] = scaler.transform(X_te_svc[num_cols_svc])\n",
            "/tmp/ipython-input-1552819731.py:36: FutureWarning: Setting an item of incompatible dtype is deprecated and will raise in a future error of pandas. Value '[ 0.07802324 -1.45333466  0.07802324 ...  0.07802324  3.14073904\n",
            "  3.14073904]' has dtype incompatible with int64, please explicitly cast to a compatible dtype first.\n",
            "  X_te_svc.loc[:, num_cols_svc] = scaler.transform(X_te_svc[num_cols_svc])\n",
            "/tmp/ipython-input-1552819731.py:36: FutureWarning: Setting an item of incompatible dtype is deprecated and will raise in a future error of pandas. Value '[ 0.4881337   0.4881337  -0.78783636 ...  0.4881337  -0.78783636\n",
            "  0.4881337 ]' has dtype incompatible with int64, please explicitly cast to a compatible dtype first.\n",
            "  X_te_svc.loc[:, num_cols_svc] = scaler.transform(X_te_svc[num_cols_svc])\n"
          ]
        },
        {
          "name": "stdout",
          "output_type": "stream",
          "text": [
            "OHE 대상: ['lead_time_group']\n",
            "AUC      : 0.7784200620048323\n",
            "PR-AUC   : 0.6112044935787763\n",
            "LogLoss  : 0.5457381975053482\n",
            "Accuracy : 0.7437913907284768\n",
            "Precision: 0.6343863283272916 Recall: 0.5155723905723906 F1: 0.5688414209426514\n",
            "Confusion\n",
            " [[4166  706]\n",
            " [1151 1225]]\n"
          ]
        }
      ],
      "source": [
        "df_svc = hotel.copy()\n",
        "df_svc = df_svc[df_svc[\"avg_price_per_room\"] < 500].copy()\n",
        "\n",
        "# 로그변환(왜도 완화)\n",
        "for col in [\"lead_time\",\"no_of_previous_cancellations\",\n",
        "            \"no_of_previous_bookings_not_canceled\",\"no_of_children\"]:\n",
        "    df_svc[col] = np.log1p(df_svc[col])\n",
        "\n",
        "X_svc = df_svc.drop(columns=[\"booking_status\",\"arrival_date_full\"])\n",
        "y_svc = (df_svc[\"booking_status\"] == \"Canceled\").astype(int)\n",
        "\n",
        "#train/test 분리\n",
        "X_tr_svc, X_te_svc, y_tr_svc, y_te_svc = train_test_split(\n",
        "    X_svc, y_svc, test_size=0.2, stratify=y_svc, random_state=42\n",
        ")\n",
        "\n",
        "# KNN 환경특성 추가\n",
        "X_tr_svc, X_te_svc = transform_with_knn_env(\n",
        "    X_tr_svc, y_tr_svc, X_te_svc,\n",
        "    env_features=[\"type_of_meal_plan\",\"required_car_parking_space\",\n",
        "                  \"room_type_reserved\",\"no_of_special_requests\"],\n",
        "    k=10\n",
        ")\n",
        "\n",
        "# 스케일링(수치형만)\n",
        "scaler = StandardScaler()\n",
        "num_cols_svc = [\n",
        "    \"no_of_adults\",\"no_of_children\",\"no_of_weekend_nights\",\"no_of_week_nights\",\n",
        "    \"lead_time\",\"avg_price_per_room\",\"total_nights\",\"avg_price_per_night\",\n",
        "    \"total_guests\",\"cancel_ratio\",\"no_of_special_requests\",\n",
        "    \"env_cancel_rate\",\"env_avg_price\"\n",
        "]\n",
        "num_cols_svc = [c for c in num_cols_svc if c in X_tr_svc.columns]\n",
        "X_tr_svc.loc[:, num_cols_svc] = scaler.fit_transform(X_tr_svc[num_cols_svc])\n",
        "X_te_svc.loc[:, num_cols_svc] = scaler.transform(X_te_svc[num_cols_svc])\n",
        "\n",
        "# One-Hot 인코딩 (scikit-learn 버전 안전 처리)\n",
        "# 문자열/카테고리 컬럼 감지 (예: 'lead_time_group' 등)\n",
        "cat_cols_for_ohe = X_tr_svc.select_dtypes(include=[\"object\",\"category\"]).columns.tolist()\n",
        "print(\"OHE 대상:\", cat_cols_for_ohe)\n",
        "\n",
        "if len(cat_cols_for_ohe) > 0:\n",
        "    try:\n",
        "        ohe = OneHotEncoder(handle_unknown=\"ignore\", sparse_output=False)\n",
        "    except TypeError:\n",
        "        ohe = OneHotEncoder(handle_unknown=\"ignore\", sparse=False)\n",
        "\n",
        "    ohe.fit(X_tr_svc[cat_cols_for_ohe])\n",
        "    Z_tr = ohe.transform(X_tr_svc[cat_cols_for_ohe])\n",
        "    Z_te = ohe.transform(X_te_svc[cat_cols_for_ohe])\n",
        "    Z_cols = ohe.get_feature_names_out(cat_cols_for_ohe)\n",
        "\n",
        "    X_tr_enc = pd.concat(\n",
        "        [X_tr_svc.drop(columns=cat_cols_for_ohe).reset_index(drop=True),\n",
        "         pd.DataFrame(Z_tr, columns=Z_cols, index=X_tr_svc.index).reset_index(drop=True)],\n",
        "        axis=1\n",
        "    )\n",
        "    X_te_enc = pd.concat(\n",
        "        [X_te_svc.drop(columns=cat_cols_for_ohe).reset_index(drop=True),\n",
        "         pd.DataFrame(Z_te, columns=Z_cols, index=X_te_svc.index).reset_index(drop=True)],\n",
        "        axis=1\n",
        "    )\n",
        "else:\n",
        "    X_tr_enc, X_te_enc = X_tr_svc, X_te_svc\n",
        "\n",
        "# SVC 학습\n",
        "svc = SVC(kernel=\"rbf\", C=2.0, gamma=\"scale\",\n",
        "          probability=True, class_weight=\"balanced\", random_state=42)\n",
        "svc.fit(X_tr_enc, y_tr_svc)\n",
        "\n",
        "# 평가\n",
        "proba = svc.predict_proba(X_te_enc)[:, 1]\n",
        "pred05 = (proba >= 0.50).astype(int)\n",
        "\n",
        "print(\"AUC      :\", roc_auc_score(y_te_svc, proba))\n",
        "print(\"PR-AUC   :\", average_precision_score(y_te_svc, proba))\n",
        "print(\"LogLoss  :\", log_loss(y_te_svc, proba))\n",
        "print(\"Accuracy :\", accuracy_score(y_te_svc, pred05))\n",
        "p, r, f, _ = precision_recall_fscore_support(y_te_svc, pred05, average=\"binary\")\n",
        "print(\"Precision:\", p, \"Recall:\", r, \"F1:\", f)\n",
        "print(\"Confusion\\n\", confusion_matrix(y_te_svc, pred05))"
      ]
    },
    {
      "cell_type": "markdown",
      "metadata": {
        "id": "eBWkVbiVsKFw"
      },
      "source": [
        "**<결과 해석 (t=0.50 기준)>**\n",
        "\n",
        "- AUC 0.778 / PR-AUC 0.611: 랭킹/탐지력이 CatBoost(≈0.95 / 0.92) 대비 꽤 낮음.\n",
        "\n",
        "- Accuracy 0.744: 보통 수준. (불균형 문제에선 단독 판단 X)\n",
        "\n",
        "- Precision 0.634 / Recall 0.516 / F1 0.569\n",
        "→ 실제 취소의 약 48%를 놓침\n",
        "\n",
        "- Confusion\n",
        "\n",
        "[[TN  FP],\n",
        "\n",
        " [FN  TP]]    \n",
        "\n",
        " [[4166  706],\n",
        "\n",
        " [1151 1225]]\n",
        "\n",
        "\n",
        "- FN=1151 (실제 취소 놓침), FP=706 (과잉 경보).\n",
        "\n",
        "- TPR(Recall)=0.516, TNR=0.855, FPR=0.145.\n",
        "\n",
        "**현재 SVC 파이프라인은 취소 탐지력이 부족하고, CatBoost 대비 상당히 뒤처짐**"
      ]
    },
    {
      "cell_type": "markdown",
      "metadata": {
        "id": "qcqNnE6lulPs"
      },
      "source": [
        "###2. 점수 가져오기 & F1 기준 임계값 튜닝"
      ]
    },
    {
      "cell_type": "code",
      "execution_count": null,
      "metadata": {
        "colab": {
          "base_uri": "https://localhost:8080/"
        },
        "id": "6rWmfoF0oTOB",
        "outputId": "2f5b9cc6-ab77-46f7-97ad-ce0db417030c"
      },
      "outputs": [
        {
          "name": "stdout",
          "output_type": "stream",
          "text": [
            "[F1 기준] Best t=0.1900  P=0.466  R=0.892  F1=0.613\n",
            "Confusion @ best_t\n",
            " [[2447 2425]\n",
            " [ 256 2120]]\n"
          ]
        }
      ],
      "source": [
        "import numpy as np\n",
        "from sklearn.metrics import (precision_recall_fscore_support, confusion_matrix,\n",
        "                             roc_auc_score, average_precision_score,\n",
        "                             roc_curve, precision_recall_curve, auc, classification_report)\n",
        "import matplotlib.pyplot as plt\n",
        "\n",
        "# 확률(proba) 있으면 그걸, 없으면 decision_function 점수 사용\n",
        "if getattr(svc, \"probability\", False):\n",
        "    scores = proba  # 앞 셀에서 계산됨: svc.predict_proba(X_te_enc)[:,1]\n",
        "    ths = np.linspace(0.0, 1.0, 201)\n",
        "else:\n",
        "    scores = svc.decision_function(X_te_enc)\n",
        "    ths = np.linspace(scores.min(), scores.max(), 201)\n",
        "\n",
        "# F1 최대 임계값\n",
        "best = None\n",
        "for t in ths:\n",
        "    pred = (scores >= t).astype(int)\n",
        "    p, r, f, _ = precision_recall_fscore_support(y_te_svc, pred, average=\"binary\", zero_division=0)\n",
        "    if (best is None) or (f > best[3]):\n",
        "        tn, fp, fn, tp = confusion_matrix(y_te_svc, pred).ravel()\n",
        "        best = (t, p, r, f, tn, fp, fn, tp)\n",
        "\n",
        "best_t, bp, br, bf, tn, fp, fn, tp = best\n",
        "print(f\"[F1 기준] Best t={best_t:.4f}  P={bp:.3f}  R={br:.3f}  F1={bf:.3f}\")\n",
        "print(\"Confusion @ best_t\\n\", np.array([[tn, fp],[fn, tp]]))\n"
      ]
    },
    {
      "cell_type": "markdown",
      "metadata": {
        "id": "XqA0bC42xqWw"
      },
      "source": [
        "임계값을 0.5 → 0.10으로 낮추니\n",
        "\n",
        "재현율(Recall) ↑: 0.516 → 0.892 (미탐 대폭 감소)\n",
        "\n",
        "정밀도(Precision) ↓: 0.634 → 0.466 (오탐 크게 증가)\n",
        "\n",
        "F1: 0.569 → 0.613 (P·R 균형 지표는 개선)\n",
        "\n",
        "테스트셋 중 취소로 분류된 비율: (TP+FP)/N = (2120+2425)/7248 ≈ 62.7%\n",
        "→ 운영상 과잉 경보가 많이 발생."
      ]
    },
    {
      "cell_type": "markdown",
      "metadata": {
        "id": "L4-J1bdeumN2"
      },
      "source": [
        "###3. 리포트 (best F1 임계값 기준)"
      ]
    },
    {
      "cell_type": "code",
      "execution_count": null,
      "metadata": {
        "colab": {
          "base_uri": "https://localhost:8080/"
        },
        "id": "CggPwZFDoTLq",
        "outputId": "b9833573-6681-44b9-afef-0cb23023016d"
      },
      "outputs": [
        {
          "name": "stdout",
          "output_type": "stream",
          "text": [
            "\n",
            "Classification report @ best_t\n",
            "              precision    recall  f1-score   support\n",
            "\n",
            "           0      0.905     0.502     0.646      4872\n",
            "           1      0.466     0.892     0.613      2376\n",
            "\n",
            "    accuracy                          0.630      7248\n",
            "   macro avg      0.686     0.697     0.629      7248\n",
            "weighted avg      0.761     0.630     0.635      7248\n",
            "\n"
          ]
        }
      ],
      "source": [
        "y_pred_best = (scores >= best_t).astype(int)\n",
        "print(\"\\nClassification report @ best_t\")\n",
        "print(classification_report(y_te_svc, y_pred_best, digits=3))"
      ]
    },
    {
      "cell_type": "markdown",
      "metadata": {
        "id": "Az9eUYS_uo36"
      },
      "source": [
        "###4. ROC / PR 곡선"
      ]
    },
    {
      "cell_type": "code",
      "execution_count": null,
      "metadata": {
        "colab": {
          "base_uri": "https://localhost:8080/",
          "height": 814
        },
        "id": "vjES1saQoTJ1",
        "outputId": "cd2498c6-ccbc-4b54-cc9e-62740bc99c26"
      },
      "outputs": [
        {
          "name": "stdout",
          "output_type": "stream",
          "text": [
            "ROC-AUC=0.778  PR-AUC=0.611\n"
          ]
        },
        {
          "data": {
            "image/png": "[encoded data removed]",
            "text/plain": [
              "<Figure size 500x400 with 1 Axes>"
            ]
          },
          "metadata": {},
          "output_type": "display_data"
        },
        {
          "data": {
            "image/png": "[encoded data removed]",
            "text/plain": [
              "<Figure size 500x400 with 1 Axes>"
            ]
          },
          "metadata": {},
          "output_type": "display_data"
        }
      ],
      "source": [
        "fpr, tpr, _ = roc_curve(y_te_svc, scores)\n",
        "prec, rec, _ = precision_recall_curve(y_te_svc, scores)\n",
        "print(f\"ROC-AUC={auc(fpr,tpr):.3f}  PR-AUC={auc(rec,prec):.3f}\")\n",
        "\n",
        "plt.figure(figsize=(5,4))\n",
        "plt.plot(fpr, tpr)\n",
        "plt.plot([0,1],[0,1],'--', linewidth=1)\n",
        "plt.xlabel(\"False Positive Rate\"); plt.ylabel(\"True Positive Rate\")\n",
        "plt.title(\"SVC ROC curve\"); plt.tight_layout(); plt.show()\n",
        "\n",
        "plt.figure(figsize=(5,4))\n",
        "plt.plot(rec, prec)\n",
        "plt.xlabel(\"Recall\"); plt.ylabel(\"Precision\")\n",
        "plt.title(\"SVC Precision-Recall curve\"); plt.tight_layout(); plt.show()\n"
      ]
    },
    {
      "cell_type": "markdown",
      "metadata": {
        "id": "KVrhEeKoykHi"
      },
      "source": [
        "**<ROC 곡선>**\n",
        "\n",
        "대각선(무작위) 위로 꽤 올라가 있지만 완만한 곡선 → 중간 수준의 판별력.\n",
        "\n",
        "FPR을 0.2로 허용해도 TPR(재현율)이 ~0.6대 정도로 보임\n",
        "\n",
        "**<PR 곡선>**\n",
        "\n",
        "좌측 상단에서 정밀도 ~0.75 수준으로 시작하지만 Recall이 커질수록 Precision이 급격히 하락.\n",
        "\n",
        "Recall 0.8 근처에선 Precision이 ~0.5 전후로 떨어짐\n",
        "\n",
        "**<요약>**\n",
        "\n",
        "ROC-AUC = 0.778, PR-AUC = 0.611 → SVC가 랜덤(ROC 0.5)보다는 확실히 좋지만, 같은 데이터의 CatBoost(≈0.95/0.92)보단 꽤 약함\n",
        "\n",
        "양성 비율(취소율) ≈ 0.33이므로 PR-AUC 0.611은 베이스라인(0.33) 대비 의미 있는 향상"
      ]
    },
    {
      "cell_type": "code",
      "execution_count": null,
      "metadata": {
        "id": "bOV9H31BwGbW"
      },
      "outputs": [],
      "source": [
        "import numpy as np\n",
        "import pandas as pd\n",
        "\n",
        "# OHE 대상 자동 감지(없을 때 대비)\n",
        "try:\n",
        "    cat_cols_for_ohe\n",
        "except NameError:\n",
        "    cat_cols_for_ohe = X_tr_enc.select_dtypes(include=[\"object\",\"category\"]).columns.tolist()\n",
        "\n",
        "# 원-핫 피처를 \"원 변수\" 단위로 묶기 위한 베이스 이름 추출 함수\n",
        "def base_name(col: str) -> str:\n",
        "    # scikit-learn 1.2+의 get_feature_names_out: \"col_value\" 형태\n",
        "    # 일부 버전/설정은 \"col=value\"도 가능하므로 둘 다 처리\n",
        "    # 없으면 그대로 반환(수치 변수 등)\n",
        "    for c in cat_cols_for_ohe:\n",
        "        if col.startswith(c + \"_\") or col.startswith(c + \"=\"):\n",
        "            return c\n",
        "    return col\n"
      ]
    },
    {
      "cell_type": "code",
      "execution_count": null,
      "metadata": {
        "colab": {
          "background_save": true
        },
        "id": "QUt6Pj7lwGV5",
        "outputId": "a9df0f54-c5b3-47be-9f2c-35c4a6027bbd"
      },
      "outputs": [
        {
          "name": "stdout",
          "output_type": "stream",
          "text": [
            "=== Permutation importance (Top 20, 원-핫 피처 포함) ===\n"
          ]
        },
        {
          "data": {
            "application/vnd.google.colaboratory.intrinsic+json": {
              "summary": "{\n  \"name\": \"display(pi_group\",\n  \"rows\": 20,\n  \"fields\": [\n    {\n      \"column\": \"feature\",\n      \"properties\": {\n        \"dtype\": \"string\",\n        \"num_unique_values\": 20,\n        \"samples\": [\n          \"lead_x_month\",\n          \"arrival_day_of_week\",\n          \"total_nights\"\n        ],\n        \"semantic_type\": \"\",\n        \"description\": \"\"\n      }\n    },\n    {\n      \"column\": \"imp_mean\",\n      \"properties\": {\n        \"dtype\": \"number\",\n        \"std\": 0.057465920408845725,\n        \"min\": 0.0003512765443890453,\n        \"max\": 0.25945294447385425,\n        \"num_unique_values\": 20,\n        \"samples\": [\n          0.25945294447385425,\n          0.0004434871114860295,\n          0.0005936647009163298\n        ],\n        \"semantic_type\": \"\",\n        \"description\": \"\"\n      }\n    },\n    {\n      \"column\": \"imp_std\",\n      \"properties\": {\n        \"dtype\": \"number\",\n        \"std\": 0.001937090572364354,\n        \"min\": 3.418123252951716e-05,\n        \"max\": 0.007541473914901507,\n        \"num_unique_values\": 20,\n        \"samples\": [\n          0.007541473914901507,\n          0.00013465195485949568,\n          8.172427145111222e-05\n        ],\n        \"semantic_type\": \"\",\n        \"description\": \"\"\n      }\n    }\n  ]\n}",
              "type": "dataframe"
            },
            "text/html": [
              "\n",
              "  <div id=\"df-bf191200-d10b-4451-b556-7966080ad3d5\" class=\"colab-df-container\">\n",
              "    <div>\n",
              "<style scoped>\n",
              "    .dataframe tbody tr th:only-of-type {\n",
              "        vertical-align: middle;\n",
              "    }\n",
              "\n",
              "    .dataframe tbody tr th {\n",
              "        vertical-align: top;\n",
              "    }\n",
              "\n",
              "    .dataframe thead th {\n",
              "        text-align: right;\n",
              "    }\n",
              "</style>\n",
              "<table border=\"1\" class=\"dataframe\">\n",
              "  <thead>\n",
              "    <tr style=\"text-align: right;\">\n",
              "      <th></th>\n",
              "      <th>feature</th>\n",
              "      <th>imp_mean</th>\n",
              "      <th>imp_std</th>\n",
              "    </tr>\n",
              "  </thead>\n",
              "  <tbody>\n",
              "    <tr>\n",
              "      <th>0</th>\n",
              "      <td>lead_x_month</td>\n",
              "      <td>0.259453</td>\n",
              "      <td>0.007541</td>\n",
              "    </tr>\n",
              "    <tr>\n",
              "      <th>1</th>\n",
              "      <td>price_per_guest</td>\n",
              "      <td>0.020510</td>\n",
              "      <td>0.004729</td>\n",
              "    </tr>\n",
              "    <tr>\n",
              "      <th>2</th>\n",
              "      <td>arrival_month</td>\n",
              "      <td>0.016882</td>\n",
              "      <td>0.002815</td>\n",
              "    </tr>\n",
              "    <tr>\n",
              "      <th>3</th>\n",
              "      <td>no_of_special_requests</td>\n",
              "      <td>0.008819</td>\n",
              "      <td>0.000761</td>\n",
              "    </tr>\n",
              "    <tr>\n",
              "      <th>4</th>\n",
              "      <td>env_cancel_rate</td>\n",
              "      <td>0.006223</td>\n",
              "      <td>0.000276</td>\n",
              "    </tr>\n",
              "    <tr>\n",
              "      <th>5</th>\n",
              "      <td>peak_price</td>\n",
              "      <td>0.005929</td>\n",
              "      <td>0.001383</td>\n",
              "    </tr>\n",
              "    <tr>\n",
              "      <th>6</th>\n",
              "      <td>avg_price_per_room</td>\n",
              "      <td>0.002555</td>\n",
              "      <td>0.000192</td>\n",
              "    </tr>\n",
              "    <tr>\n",
              "      <th>7</th>\n",
              "      <td>total_guests</td>\n",
              "      <td>0.001394</td>\n",
              "      <td>0.000196</td>\n",
              "    </tr>\n",
              "    <tr>\n",
              "      <th>8</th>\n",
              "      <td>month_cos</td>\n",
              "      <td>0.001046</td>\n",
              "      <td>0.000159</td>\n",
              "    </tr>\n",
              "    <tr>\n",
              "      <th>9</th>\n",
              "      <td>no_of_adults</td>\n",
              "      <td>0.001035</td>\n",
              "      <td>0.000119</td>\n",
              "    </tr>\n",
              "    <tr>\n",
              "      <th>10</th>\n",
              "      <td>market_segment_type</td>\n",
              "      <td>0.001010</td>\n",
              "      <td>0.000154</td>\n",
              "    </tr>\n",
              "    <tr>\n",
              "      <th>11</th>\n",
              "      <td>avg_price_per_night</td>\n",
              "      <td>0.000811</td>\n",
              "      <td>0.000172</td>\n",
              "    </tr>\n",
              "    <tr>\n",
              "      <th>12</th>\n",
              "      <td>no_of_weekend_nights</td>\n",
              "      <td>0.000713</td>\n",
              "      <td>0.000042</td>\n",
              "    </tr>\n",
              "    <tr>\n",
              "      <th>13</th>\n",
              "      <td>month_sin</td>\n",
              "      <td>0.000620</td>\n",
              "      <td>0.000082</td>\n",
              "    </tr>\n",
              "    <tr>\n",
              "      <th>14</th>\n",
              "      <td>type_of_meal_plan</td>\n",
              "      <td>0.000612</td>\n",
              "      <td>0.000236</td>\n",
              "    </tr>\n",
              "    <tr>\n",
              "      <th>15</th>\n",
              "      <td>total_nights</td>\n",
              "      <td>0.000594</td>\n",
              "      <td>0.000082</td>\n",
              "    </tr>\n",
              "    <tr>\n",
              "      <th>16</th>\n",
              "      <td>env_avg_price</td>\n",
              "      <td>0.000563</td>\n",
              "      <td>0.000130</td>\n",
              "    </tr>\n",
              "    <tr>\n",
              "      <th>17</th>\n",
              "      <td>arrival_day_of_week</td>\n",
              "      <td>0.000443</td>\n",
              "      <td>0.000135</td>\n",
              "    </tr>\n",
              "    <tr>\n",
              "      <th>18</th>\n",
              "      <td>no_of_children</td>\n",
              "      <td>0.000394</td>\n",
              "      <td>0.000114</td>\n",
              "    </tr>\n",
              "    <tr>\n",
              "      <th>19</th>\n",
              "      <td>no_of_week_nights</td>\n",
              "      <td>0.000351</td>\n",
              "      <td>0.000034</td>\n",
              "    </tr>\n",
              "  </tbody>\n",
              "</table>\n",
              "</div>\n",
              "    <div class=\"colab-df-buttons\">\n",
              "\n",
              "  <div class=\"colab-df-container\">\n",
              "    <button class=\"colab-df-convert\" onclick=\"convertToInteractive('df-bf191200-d10b-4451-b556-7966080ad3d5')\"\n",
              "            title=\"Convert this dataframe to an interactive table.\"\n",
              "            style=\"display:none;\">\n",
              "\n",
              "  <svg xmlns=\"http://www.w3.org/2000/svg\" height=\"24px\" viewBox=\"0 -960 960 960\">\n",
              "    <path d=\"M120-120v-720h720v720H120Zm60-500h600v-160H180v160Zm220 220h160v-160H400v160Zm0 220h160v-160H400v160ZM180-400h160v-160H180v160Zm440 0h160v-160H620v160ZM180-180h160v-160H180v160Zm440 0h160v-160H620v160Z\"/>\n",
              "  </svg>\n",
              "    </button>\n",
              "\n",
              "  <style>\n",
              "    .colab-df-container {\n",
              "      display:flex;\n",
              "      gap: 12px;\n",
              "    }\n",
              "\n",
              "    .colab-df-convert {\n",
              "      background-color: #E8F0FE;\n",
              "      border: none;\n",
              "      border-radius: 50%;\n",
              "      cursor: pointer;\n",
              "      display: none;\n",
              "      fill: #1967D2;\n",
              "      height: 32px;\n",
              "      padding: 0 0 0 0;\n",
              "      width: 32px;\n",
              "    }\n",
              "\n",
              "    .colab-df-convert:hover {\n",
              "      background-color: #E2EBFA;\n",
              "      box-shadow: 0px 1px 2px rgba(60, 64, 67, 0.3), 0px 1px 3px 1px rgba(60, 64, 67, 0.15);\n",
              "      fill: #174EA6;\n",
              "    }\n",
              "\n",
              "    .colab-df-buttons div {\n",
              "      margin-bottom: 4px;\n",
              "    }\n",
              "\n",
              "    [theme=dark] .colab-df-convert {\n",
              "      background-color: #3B4455;\n",
              "      fill: #D2E3FC;\n",
              "    }\n",
              "\n",
              "    [theme=dark] .colab-df-convert:hover {\n",
              "      background-color: #434B5C;\n",
              "      box-shadow: 0px 1px 3px 1px rgba(0, 0, 0, 0.15);\n",
              "      filter: drop-shadow(0px 1px 2px rgba(0, 0, 0, 0.3));\n",
              "      fill: #FFFFFF;\n",
              "    }\n",
              "  </style>\n",
              "\n",
              "    <script>\n",
              "      const buttonEl =\n",
              "        document.querySelector('#df-bf191200-d10b-4451-b556-7966080ad3d5 button.colab-df-convert');\n",
              "      buttonEl.style.display =\n",
              "        google.colab.kernel.accessAllowed ? 'block' : 'none';\n",
              "\n",
              "      async function convertToInteractive(key) {\n",
              "        const element = document.querySelector('#df-bf191200-d10b-4451-b556-7966080ad3d5');\n",
              "        const dataTable =\n",
              "          await google.colab.kernel.invokeFunction('convertToInteractive',\n",
              "                                                    [key], {});\n",
              "        if (!dataTable) return;\n",
              "\n",
              "        const docLinkHtml = 'Like what you see? Visit the ' +\n",
              "          '<a target=\"_blank\" href=https://colab.research.google.com/notebooks/data_table.ipynb>data table notebook</a>'\n",
              "          + ' to learn more about interactive tables.';\n",
              "        element.innerHTML = '';\n",
              "        dataTable['output_type'] = 'display_data';\n",
              "        await google.colab.output.renderOutput(dataTable, element);\n",
              "        const docLink = document.createElement('div');\n",
              "        docLink.innerHTML = docLinkHtml;\n",
              "        element.appendChild(docLink);\n",
              "      }\n",
              "    </script>\n",
              "  </div>\n",
              "\n",
              "\n",
              "    <div id=\"df-b0c4f4f1-0b25-4969-b225-3a3547752baf\">\n",
              "      <button class=\"colab-df-quickchart\" onclick=\"quickchart('df-b0c4f4f1-0b25-4969-b225-3a3547752baf')\"\n",
              "                title=\"Suggest charts\"\n",
              "                style=\"display:none;\">\n",
              "\n",
              "<svg xmlns=\"http://www.w3.org/2000/svg\" height=\"24px\"viewBox=\"0 0 24 24\"\n",
              "     width=\"24px\">\n",
              "    <g>\n",
              "        <path d=\"M19 3H5c-1.1 0-2 .9-2 2v14c0 1.1.9 2 2 2h14c1.1 0 2-.9 2-2V5c0-1.1-.9-2-2-2zM9 17H7v-7h2v7zm4 0h-2V7h2v10zm4 0h-2v-4h2v4z\"/>\n",
              "    </g>\n",
              "</svg>\n",
              "      </button>\n",
              "\n",
              "<style>\n",
              "  .colab-df-quickchart {\n",
              "      --bg-color: #E8F0FE;\n",
              "      --fill-color: #1967D2;\n",
              "      --hover-bg-color: #E2EBFA;\n",
              "      --hover-fill-color: #174EA6;\n",
              "      --disabled-fill-color: #AAA;\n",
              "      --disabled-bg-color: #DDD;\n",
              "  }\n",
              "\n",
              "  [theme=dark] .colab-df-quickchart {\n",
              "      --bg-color: #3B4455;\n",
              "      --fill-color: #D2E3FC;\n",
              "      --hover-bg-color: #434B5C;\n",
              "      --hover-fill-color: #FFFFFF;\n",
              "      --disabled-bg-color: #3B4455;\n",
              "      --disabled-fill-color: #666;\n",
              "  }\n",
              "\n",
              "  .colab-df-quickchart {\n",
              "    background-color: var(--bg-color);\n",
              "    border: none;\n",
              "    border-radius: 50%;\n",
              "    cursor: pointer;\n",
              "    display: none;\n",
              "    fill: var(--fill-color);\n",
              "    height: 32px;\n",
              "    padding: 0;\n",
              "    width: 32px;\n",
              "  }\n",
              "\n",
              "  .colab-df-quickchart:hover {\n",
              "    background-color: var(--hover-bg-color);\n",
              "    box-shadow: 0 1px 2px rgba(60, 64, 67, 0.3), 0 1px 3px 1px rgba(60, 64, 67, 0.15);\n",
              "    fill: var(--button-hover-fill-color);\n",
              "  }\n",
              "\n",
              "  .colab-df-quickchart-complete:disabled,\n",
              "  .colab-df-quickchart-complete:disabled:hover {\n",
              "    background-color: var(--disabled-bg-color);\n",
              "    fill: var(--disabled-fill-color);\n",
              "    box-shadow: none;\n",
              "  }\n",
              "\n",
              "  .colab-df-spinner {\n",
              "    border: 2px solid var(--fill-color);\n",
              "    border-color: transparent;\n",
              "    border-bottom-color: var(--fill-color);\n",
              "    animation:\n",
              "      spin 1s steps(1) infinite;\n",
              "  }\n",
              "\n",
              "  @keyframes spin {\n",
              "    0% {\n",
              "      border-color: transparent;\n",
              "      border-bottom-color: var(--fill-color);\n",
              "      border-left-color: var(--fill-color);\n",
              "    }\n",
              "    20% {\n",
              "      border-color: transparent;\n",
              "      border-left-color: var(--fill-color);\n",
              "      border-top-color: var(--fill-color);\n",
              "    }\n",
              "    30% {\n",
              "      border-color: transparent;\n",
              "      border-left-color: var(--fill-color);\n",
              "      border-top-color: var(--fill-color);\n",
              "      border-right-color: var(--fill-color);\n",
              "    }\n",
              "    40% {\n",
              "      border-color: transparent;\n",
              "      border-right-color: var(--fill-color);\n",
              "      border-top-color: var(--fill-color);\n",
              "    }\n",
              "    60% {\n",
              "      border-color: transparent;\n",
              "      border-right-color: var(--fill-color);\n",
              "    }\n",
              "    80% {\n",
              "      border-color: transparent;\n",
              "      border-right-color: var(--fill-color);\n",
              "      border-bottom-color: var(--fill-color);\n",
              "    }\n",
              "    90% {\n",
              "      border-color: transparent;\n",
              "      border-bottom-color: var(--fill-color);\n",
              "    }\n",
              "  }\n",
              "</style>\n",
              "\n",
              "      <script>\n",
              "        async function quickchart(key) {\n",
              "          const quickchartButtonEl =\n",
              "            document.querySelector('#' + key + ' button');\n",
              "          quickchartButtonEl.disabled = true;  // To prevent multiple clicks.\n",
              "          quickchartButtonEl.classList.add('colab-df-spinner');\n",
              "          try {\n",
              "            const charts = await google.colab.kernel.invokeFunction(\n",
              "                'suggestCharts', [key], {});\n",
              "          } catch (error) {\n",
              "            console.error('Error during call to suggestCharts:', error);\n",
              "          }\n",
              "          quickchartButtonEl.classList.remove('colab-df-spinner');\n",
              "          quickchartButtonEl.classList.add('colab-df-quickchart-complete');\n",
              "        }\n",
              "        (() => {\n",
              "          let quickchartButtonEl =\n",
              "            document.querySelector('#df-b0c4f4f1-0b25-4969-b225-3a3547752baf button');\n",
              "          quickchartButtonEl.style.display =\n",
              "            google.colab.kernel.accessAllowed ? 'block' : 'none';\n",
              "        })();\n",
              "      </script>\n",
              "    </div>\n",
              "\n",
              "    </div>\n",
              "  </div>\n"
            ],
            "text/plain": [
              "                   feature  imp_mean   imp_std\n",
              "0             lead_x_month  0.259453  0.007541\n",
              "1          price_per_guest  0.020510  0.004729\n",
              "2            arrival_month  0.016882  0.002815\n",
              "3   no_of_special_requests  0.008819  0.000761\n",
              "4          env_cancel_rate  0.006223  0.000276\n",
              "5               peak_price  0.005929  0.001383\n",
              "6       avg_price_per_room  0.002555  0.000192\n",
              "7             total_guests  0.001394  0.000196\n",
              "8                month_cos  0.001046  0.000159\n",
              "9             no_of_adults  0.001035  0.000119\n",
              "10     market_segment_type  0.001010  0.000154\n",
              "11     avg_price_per_night  0.000811  0.000172\n",
              "12    no_of_weekend_nights  0.000713  0.000042\n",
              "13               month_sin  0.000620  0.000082\n",
              "14       type_of_meal_plan  0.000612  0.000236\n",
              "15            total_nights  0.000594  0.000082\n",
              "16           env_avg_price  0.000563  0.000130\n",
              "17     arrival_day_of_week  0.000443  0.000135\n",
              "18          no_of_children  0.000394  0.000114\n",
              "19       no_of_week_nights  0.000351  0.000034"
            ]
          },
          "metadata": {},
          "output_type": "display_data"
        },
        {
          "name": "stdout",
          "output_type": "stream",
          "text": [
            "\n",
            "=== Grouped importance by ORIGINAL feature (Top 20) ===\n"
          ]
        },
        {
          "data": {
            "application/vnd.google.colaboratory.intrinsic+json": {
              "summary": "{\n  \"name\": \"display(pi_group\",\n  \"rows\": 20,\n  \"fields\": [\n    {\n      \"column\": \"base\",\n      \"properties\": {\n        \"dtype\": \"string\",\n        \"num_unique_values\": 20,\n        \"samples\": [\n          \"lead_x_month\",\n          \"arrival_day_of_week\",\n          \"total_nights\"\n        ],\n        \"semantic_type\": \"\",\n        \"description\": \"\"\n      }\n    },\n    {\n      \"column\": \"imp_mean\",\n      \"properties\": {\n        \"dtype\": \"number\",\n        \"std\": 0.057465543893218736,\n        \"min\": 0.00037675613088690164,\n        \"max\": 0.25945294447385425,\n        \"num_unique_values\": 20,\n        \"samples\": [\n          0.25945294447385425,\n          0.0004434871114860295,\n          0.0005936647009163298\n        ],\n        \"semantic_type\": \"\",\n        \"description\": \"\"\n      }\n    }\n  ]\n}",
              "type": "dataframe"
            },
            "text/html": [
              "\n",
              "  <div id=\"df-1a6eee93-0b6f-4f0d-9897-2a0047e7a899\" class=\"colab-df-container\">\n",
              "    <div>\n",
              "<style scoped>\n",
              "    .dataframe tbody tr th:only-of-type {\n",
              "        vertical-align: middle;\n",
              "    }\n",
              "\n",
              "    .dataframe tbody tr th {\n",
              "        vertical-align: top;\n",
              "    }\n",
              "\n",
              "    .dataframe thead th {\n",
              "        text-align: right;\n",
              "    }\n",
              "</style>\n",
              "<table border=\"1\" class=\"dataframe\">\n",
              "  <thead>\n",
              "    <tr style=\"text-align: right;\">\n",
              "      <th></th>\n",
              "      <th>base</th>\n",
              "      <th>imp_mean</th>\n",
              "    </tr>\n",
              "  </thead>\n",
              "  <tbody>\n",
              "    <tr>\n",
              "      <th>0</th>\n",
              "      <td>lead_x_month</td>\n",
              "      <td>0.259453</td>\n",
              "    </tr>\n",
              "    <tr>\n",
              "      <th>1</th>\n",
              "      <td>price_per_guest</td>\n",
              "      <td>0.020510</td>\n",
              "    </tr>\n",
              "    <tr>\n",
              "      <th>2</th>\n",
              "      <td>arrival_month</td>\n",
              "      <td>0.016882</td>\n",
              "    </tr>\n",
              "    <tr>\n",
              "      <th>3</th>\n",
              "      <td>no_of_special_requests</td>\n",
              "      <td>0.008819</td>\n",
              "    </tr>\n",
              "    <tr>\n",
              "      <th>4</th>\n",
              "      <td>env_cancel_rate</td>\n",
              "      <td>0.006223</td>\n",
              "    </tr>\n",
              "    <tr>\n",
              "      <th>5</th>\n",
              "      <td>peak_price</td>\n",
              "      <td>0.005929</td>\n",
              "    </tr>\n",
              "    <tr>\n",
              "      <th>6</th>\n",
              "      <td>avg_price_per_room</td>\n",
              "      <td>0.002555</td>\n",
              "    </tr>\n",
              "    <tr>\n",
              "      <th>7</th>\n",
              "      <td>total_guests</td>\n",
              "      <td>0.001394</td>\n",
              "    </tr>\n",
              "    <tr>\n",
              "      <th>8</th>\n",
              "      <td>month_cos</td>\n",
              "      <td>0.001046</td>\n",
              "    </tr>\n",
              "    <tr>\n",
              "      <th>9</th>\n",
              "      <td>no_of_adults</td>\n",
              "      <td>0.001035</td>\n",
              "    </tr>\n",
              "    <tr>\n",
              "      <th>10</th>\n",
              "      <td>market_segment_type</td>\n",
              "      <td>0.001010</td>\n",
              "    </tr>\n",
              "    <tr>\n",
              "      <th>11</th>\n",
              "      <td>avg_price_per_night</td>\n",
              "      <td>0.000811</td>\n",
              "    </tr>\n",
              "    <tr>\n",
              "      <th>12</th>\n",
              "      <td>no_of_weekend_nights</td>\n",
              "      <td>0.000713</td>\n",
              "    </tr>\n",
              "    <tr>\n",
              "      <th>13</th>\n",
              "      <td>month_sin</td>\n",
              "      <td>0.000620</td>\n",
              "    </tr>\n",
              "    <tr>\n",
              "      <th>14</th>\n",
              "      <td>type_of_meal_plan</td>\n",
              "      <td>0.000612</td>\n",
              "    </tr>\n",
              "    <tr>\n",
              "      <th>15</th>\n",
              "      <td>total_nights</td>\n",
              "      <td>0.000594</td>\n",
              "    </tr>\n",
              "    <tr>\n",
              "      <th>16</th>\n",
              "      <td>env_avg_price</td>\n",
              "      <td>0.000563</td>\n",
              "    </tr>\n",
              "    <tr>\n",
              "      <th>17</th>\n",
              "      <td>arrival_day_of_week</td>\n",
              "      <td>0.000443</td>\n",
              "    </tr>\n",
              "    <tr>\n",
              "      <th>18</th>\n",
              "      <td>no_of_children</td>\n",
              "      <td>0.000394</td>\n",
              "    </tr>\n",
              "    <tr>\n",
              "      <th>19</th>\n",
              "      <td>lead_time_group</td>\n",
              "      <td>0.000377</td>\n",
              "    </tr>\n",
              "  </tbody>\n",
              "</table>\n",
              "</div>\n",
              "    <div class=\"colab-df-buttons\">\n",
              "\n",
              "  <div class=\"colab-df-container\">\n",
              "    <button class=\"colab-df-convert\" onclick=\"convertToInteractive('df-1a6eee93-0b6f-4f0d-9897-2a0047e7a899')\"\n",
              "            title=\"Convert this dataframe to an interactive table.\"\n",
              "            style=\"display:none;\">\n",
              "\n",
              "  <svg xmlns=\"http://www.w3.org/2000/svg\" height=\"24px\" viewBox=\"0 -960 960 960\">\n",
              "    <path d=\"M120-120v-720h720v720H120Zm60-500h600v-160H180v160Zm220 220h160v-160H400v160Zm0 220h160v-160H400v160ZM180-400h160v-160H180v160Zm440 0h160v-160H620v160ZM180-180h160v-160H180v160Zm440 0h160v-160H620v160Z\"/>\n",
              "  </svg>\n",
              "    </button>\n",
              "\n",
              "  <style>\n",
              "    .colab-df-container {\n",
              "      display:flex;\n",
              "      gap: 12px;\n",
              "    }\n",
              "\n",
              "    .colab-df-convert {\n",
              "      background-color: #E8F0FE;\n",
              "      border: none;\n",
              "      border-radius: 50%;\n",
              "      cursor: pointer;\n",
              "      display: none;\n",
              "      fill: #1967D2;\n",
              "      height: 32px;\n",
              "      padding: 0 0 0 0;\n",
              "      width: 32px;\n",
              "    }\n",
              "\n",
              "    .colab-df-convert:hover {\n",
              "      background-color: #E2EBFA;\n",
              "      box-shadow: 0px 1px 2px rgba(60, 64, 67, 0.3), 0px 1px 3px 1px rgba(60, 64, 67, 0.15);\n",
              "      fill: #174EA6;\n",
              "    }\n",
              "\n",
              "    .colab-df-buttons div {\n",
              "      margin-bottom: 4px;\n",
              "    }\n",
              "\n",
              "    [theme=dark] .colab-df-convert {\n",
              "      background-color: #3B4455;\n",
              "      fill: #D2E3FC;\n",
              "    }\n",
              "\n",
              "    [theme=dark] .colab-df-convert:hover {\n",
              "      background-color: #434B5C;\n",
              "      box-shadow: 0px 1px 3px 1px rgba(0, 0, 0, 0.15);\n",
              "      filter: drop-shadow(0px 1px 2px rgba(0, 0, 0, 0.3));\n",
              "      fill: #FFFFFF;\n",
              "    }\n",
              "  </style>\n",
              "\n",
              "    <script>\n",
              "      const buttonEl =\n",
              "        document.querySelector('#df-1a6eee93-0b6f-4f0d-9897-2a0047e7a899 button.colab-df-convert');\n",
              "      buttonEl.style.display =\n",
              "        google.colab.kernel.accessAllowed ? 'block' : 'none';\n",
              "\n",
              "      async function convertToInteractive(key) {\n",
              "        const element = document.querySelector('#df-1a6eee93-0b6f-4f0d-9897-2a0047e7a899');\n",
              "        const dataTable =\n",
              "          await google.colab.kernel.invokeFunction('convertToInteractive',\n",
              "                                                    [key], {});\n",
              "        if (!dataTable) return;\n",
              "\n",
              "        const docLinkHtml = 'Like what you see? Visit the ' +\n",
              "          '<a target=\"_blank\" href=https://colab.research.google.com/notebooks/data_table.ipynb>data table notebook</a>'\n",
              "          + ' to learn more about interactive tables.';\n",
              "        element.innerHTML = '';\n",
              "        dataTable['output_type'] = 'display_data';\n",
              "        await google.colab.output.renderOutput(dataTable, element);\n",
              "        const docLink = document.createElement('div');\n",
              "        docLink.innerHTML = docLinkHtml;\n",
              "        element.appendChild(docLink);\n",
              "      }\n",
              "    </script>\n",
              "  </div>\n",
              "\n",
              "\n",
              "    <div id=\"df-6ed56cb8-cb78-47b5-b8fc-5ba972207776\">\n",
              "      <button class=\"colab-df-quickchart\" onclick=\"quickchart('df-6ed56cb8-cb78-47b5-b8fc-5ba972207776')\"\n",
              "                title=\"Suggest charts\"\n",
              "                style=\"display:none;\">\n",
              "\n",
              "<svg xmlns=\"http://www.w3.org/2000/svg\" height=\"24px\"viewBox=\"0 0 24 24\"\n",
              "     width=\"24px\">\n",
              "    <g>\n",
              "        <path d=\"M19 3H5c-1.1 0-2 .9-2 2v14c0 1.1.9 2 2 2h14c1.1 0 2-.9 2-2V5c0-1.1-.9-2-2-2zM9 17H7v-7h2v7zm4 0h-2V7h2v10zm4 0h-2v-4h2v4z\"/>\n",
              "    </g>\n",
              "</svg>\n",
              "      </button>\n",
              "\n",
              "<style>\n",
              "  .colab-df-quickchart {\n",
              "      --bg-color: #E8F0FE;\n",
              "      --fill-color: #1967D2;\n",
              "      --hover-bg-color: #E2EBFA;\n",
              "      --hover-fill-color: #174EA6;\n",
              "      --disabled-fill-color: #AAA;\n",
              "      --disabled-bg-color: #DDD;\n",
              "  }\n",
              "\n",
              "  [theme=dark] .colab-df-quickchart {\n",
              "      --bg-color: #3B4455;\n",
              "      --fill-color: #D2E3FC;\n",
              "      --hover-bg-color: #434B5C;\n",
              "      --hover-fill-color: #FFFFFF;\n",
              "      --disabled-bg-color: #3B4455;\n",
              "      --disabled-fill-color: #666;\n",
              "  }\n",
              "\n",
              "  .colab-df-quickchart {\n",
              "    background-color: var(--bg-color);\n",
              "    border: none;\n",
              "    border-radius: 50%;\n",
              "    cursor: pointer;\n",
              "    display: none;\n",
              "    fill: var(--fill-color);\n",
              "    height: 32px;\n",
              "    padding: 0;\n",
              "    width: 32px;\n",
              "  }\n",
              "\n",
              "  .colab-df-quickchart:hover {\n",
              "    background-color: var(--hover-bg-color);\n",
              "    box-shadow: 0 1px 2px rgba(60, 64, 67, 0.3), 0 1px 3px 1px rgba(60, 64, 67, 0.15);\n",
              "    fill: var(--button-hover-fill-color);\n",
              "  }\n",
              "\n",
              "  .colab-df-quickchart-complete:disabled,\n",
              "  .colab-df-quickchart-complete:disabled:hover {\n",
              "    background-color: var(--disabled-bg-color);\n",
              "    fill: var(--disabled-fill-color);\n",
              "    box-shadow: none;\n",
              "  }\n",
              "\n",
              "  .colab-df-spinner {\n",
              "    border: 2px solid var(--fill-color);\n",
              "    border-color: transparent;\n",
              "    border-bottom-color: var(--fill-color);\n",
              "    animation:\n",
              "      spin 1s steps(1) infinite;\n",
              "  }\n",
              "\n",
              "  @keyframes spin {\n",
              "    0% {\n",
              "      border-color: transparent;\n",
              "      border-bottom-color: var(--fill-color);\n",
              "      border-left-color: var(--fill-color);\n",
              "    }\n",
              "    20% {\n",
              "      border-color: transparent;\n",
              "      border-left-color: var(--fill-color);\n",
              "      border-top-color: var(--fill-color);\n",
              "    }\n",
              "    30% {\n",
              "      border-color: transparent;\n",
              "      border-left-color: var(--fill-color);\n",
              "      border-top-color: var(--fill-color);\n",
              "      border-right-color: var(--fill-color);\n",
              "    }\n",
              "    40% {\n",
              "      border-color: transparent;\n",
              "      border-right-color: var(--fill-color);\n",
              "      border-top-color: var(--fill-color);\n",
              "    }\n",
              "    60% {\n",
              "      border-color: transparent;\n",
              "      border-right-color: var(--fill-color);\n",
              "    }\n",
              "    80% {\n",
              "      border-color: transparent;\n",
              "      border-right-color: var(--fill-color);\n",
              "      border-bottom-color: var(--fill-color);\n",
              "    }\n",
              "    90% {\n",
              "      border-color: transparent;\n",
              "      border-bottom-color: var(--fill-color);\n",
              "    }\n",
              "  }\n",
              "</style>\n",
              "\n",
              "      <script>\n",
              "        async function quickchart(key) {\n",
              "          const quickchartButtonEl =\n",
              "            document.querySelector('#' + key + ' button');\n",
              "          quickchartButtonEl.disabled = true;  // To prevent multiple clicks.\n",
              "          quickchartButtonEl.classList.add('colab-df-spinner');\n",
              "          try {\n",
              "            const charts = await google.colab.kernel.invokeFunction(\n",
              "                'suggestCharts', [key], {});\n",
              "          } catch (error) {\n",
              "            console.error('Error during call to suggestCharts:', error);\n",
              "          }\n",
              "          quickchartButtonEl.classList.remove('colab-df-spinner');\n",
              "          quickchartButtonEl.classList.add('colab-df-quickchart-complete');\n",
              "        }\n",
              "        (() => {\n",
              "          let quickchartButtonEl =\n",
              "            document.querySelector('#df-6ed56cb8-cb78-47b5-b8fc-5ba972207776 button');\n",
              "          quickchartButtonEl.style.display =\n",
              "            google.colab.kernel.accessAllowed ? 'block' : 'none';\n",
              "        })();\n",
              "      </script>\n",
              "    </div>\n",
              "\n",
              "    </div>\n",
              "  </div>\n"
            ],
            "text/plain": [
              "                      base  imp_mean\n",
              "0             lead_x_month  0.259453\n",
              "1          price_per_guest  0.020510\n",
              "2            arrival_month  0.016882\n",
              "3   no_of_special_requests  0.008819\n",
              "4          env_cancel_rate  0.006223\n",
              "5               peak_price  0.005929\n",
              "6       avg_price_per_room  0.002555\n",
              "7             total_guests  0.001394\n",
              "8                month_cos  0.001046\n",
              "9             no_of_adults  0.001035\n",
              "10     market_segment_type  0.001010\n",
              "11     avg_price_per_night  0.000811\n",
              "12    no_of_weekend_nights  0.000713\n",
              "13               month_sin  0.000620\n",
              "14       type_of_meal_plan  0.000612\n",
              "15            total_nights  0.000594\n",
              "16           env_avg_price  0.000563\n",
              "17     arrival_day_of_week  0.000443\n",
              "18          no_of_children  0.000394\n",
              "19         lead_time_group  0.000377"
            ]
          },
          "metadata": {},
          "output_type": "display_data"
        }
      ],
      "source": [
        "from sklearn.inspection import permutation_importance\n",
        "\n",
        "# 점수 기준: 불균형 대응을 위해 average_precision(=PR-AUC)을 사용\n",
        "r = permutation_importance(\n",
        "    estimator=svc,\n",
        "    X=X_te_enc,\n",
        "    y=y_te_svc,\n",
        "    n_repeats=5,\n",
        "    scoring=\"average_precision\",\n",
        "    random_state=42,\n",
        "    n_jobs=-1\n",
        ")\n",
        "\n",
        "# 개별(원-핫 포함) 중요도 표\n",
        "pi = (pd.DataFrame({\n",
        "        \"feature\": X_te_enc.columns,\n",
        "        \"imp_mean\": r.importances_mean,\n",
        "        \"imp_std\":  r.importances_std\n",
        "     })\n",
        "     .sort_values(\"imp_mean\", ascending=False)\n",
        "     .reset_index(drop=True))\n",
        "\n",
        "print(\"=== Permutation importance (Top 20, 원-핫 피처 포함) ===\")\n",
        "display(pi.head(20))\n",
        "\n",
        "# 원 변수 단위로 그룹핑(원-핫 합계)\n",
        "pi_group = (pi.assign(base=pi[\"feature\"].map(base_name))\n",
        "              .groupby(\"base\", as_index=False)[\"imp_mean\"].sum()\n",
        "              .sort_values(\"imp_mean\", ascending=False)\n",
        "              .reset_index(drop=True))\n",
        "\n",
        "print(\"\\n=== Grouped importance by ORIGINAL feature (Top 20) ===\")\n",
        "display(pi_group.head(20))\n"
      ]
    },
    {
      "cell_type": "code",
      "execution_count": null,
      "metadata": {
        "colab": {
          "background_save": true
        },
        "id": "W79bvkzqwGSN",
        "outputId": "6a71650a-5028-4d82-b207-1afa1bb48c0f"
      },
      "outputs": [
        {
          "data": {
            "image/png": "[encoded data removed]",
            "text/plain": [
              "<Figure size 800x600 with 1 Axes>"
            ]
          },
          "metadata": {},
          "output_type": "display_data"
        },
        {
          "data": {
            "image/png": "[encoded data removed]",
            "text/plain": [
              "<Figure size 800x600 with 1 Axes>"
            ]
          },
          "metadata": {},
          "output_type": "display_data"
        }
      ],
      "source": [
        "import matplotlib.pyplot as plt\n",
        "\n",
        "# Top-K 설정\n",
        "K = 20\n",
        "\n",
        "# 1) 개별(원-핫 포함)\n",
        "pi_top = pi.head(K).iloc[::-1]\n",
        "plt.figure(figsize=(8, 6))\n",
        "plt.barh(pi_top[\"feature\"], pi_top[\"imp_mean\"])\n",
        "plt.xlabel(\"Permutation Importance (mean Δ PR-AUC)\")\n",
        "plt.title(\"Permutation Importance (One-Hot features, Top 20)\")\n",
        "plt.tight_layout()\n",
        "plt.show()\n",
        "\n",
        "# 2) 원 변수 그룹\n",
        "pg_top = pi_group.head(K).iloc[::-1]\n",
        "plt.figure(figsize=(8, 6))\n",
        "plt.barh(pg_top[\"base\"], pg_top[\"imp_mean\"])\n",
        "plt.xlabel(\"Permutation Importance (grouped by original)\")\n",
        "plt.title(\"Grouped Permutation Importance (Top 20)\")\n",
        "plt.tight_layout()\n",
        "plt.show()\n"
      ]
    },
    {
      "cell_type": "markdown",
      "metadata": {
        "id": "6p7FqPSS91Q0"
      },
      "source": [
        "### CatBoost\n",
        "\n",
        "1. 스케일링, 이상치 제거 필요 없음\n",
        "2. 카테고리 변수 자동 처리!\n",
        "3. 파생변수 모두 사용"
      ]
    },
    {
      "cell_type": "markdown",
      "metadata": {
        "id": "-sWKufYfPLbr"
      },
      "source": [
        "⭐️목표(초점을 둔 것): 취소 여부 예측"
      ]
    },
    {
      "cell_type": "code",
      "execution_count": null,
      "metadata": {
        "id": "LDZ2OHLWG8uu"
      },
      "outputs": [],
      "source": [
        "df_cb = hotel.copy()"
      ]
    },
    {
      "cell_type": "code",
      "execution_count": null,
      "metadata": {
        "id": "DRP_b30x93yi"
      },
      "outputs": [],
      "source": [
        "cat_features = [\"type_of_meal_plan\", \"room_type_reserved\", \"market_segment_type\",\n",
        "                \"required_car_parking_space\", \"repeated_guest\", \"lead_time_group\"]\n",
        "\n",
        "\n",
        "X_cb = df_cb.drop(columns=[\"booking_status\",\"arrival_date_full\"])\n",
        "y_cb = (df_cb[\"booking_status\"] == \"Canceled\").astype(int)"
      ]
    },
    {
      "cell_type": "code",
      "execution_count": null,
      "metadata": {
        "colab": {
          "base_uri": "https://localhost:8080/"
        },
        "id": "-zz6IxK1HHL3",
        "outputId": "21c40443-6fc8-4a7f-b1d1-b21903f72292"
      },
      "outputs": [
        {
          "name": "stdout",
          "output_type": "stream",
          "text": [
            "Requirement already satisfied: catboost in /usr/local/lib/python3.12/dist-packages (1.2.8)\n",
            "Requirement already satisfied: graphviz in /usr/local/lib/python3.12/dist-packages (from catboost) (0.21)\n",
            "Requirement already satisfied: matplotlib in /usr/local/lib/python3.12/dist-packages (from catboost) (3.10.0)\n",
            "Requirement already satisfied: numpy<3.0,>=1.16.0 in /usr/local/lib/python3.12/dist-packages (from catboost) (2.0.2)\n",
            "Requirement already satisfied: pandas>=0.24 in /usr/local/lib/python3.12/dist-packages (from catboost) (2.2.2)\n",
            "Requirement already satisfied: scipy in /usr/local/lib/python3.12/dist-packages (from catboost) (1.16.1)\n",
            "Requirement already satisfied: plotly in /usr/local/lib/python3.12/dist-packages (from catboost) (5.24.1)\n",
            "Requirement already satisfied: six in /usr/local/lib/python3.12/dist-packages (from catboost) (1.17.0)\n",
            "Requirement already satisfied: python-dateutil>=2.8.2 in /usr/local/lib/python3.12/dist-packages (from pandas>=0.24->catboost) (2.9.0.post0)\n",
            "Requirement already satisfied: pytz>=2020.1 in /usr/local/lib/python3.12/dist-packages (from pandas>=0.24->catboost) (2025.2)\n",
            "Requirement already satisfied: tzdata>=2022.7 in /usr/local/lib/python3.12/dist-packages (from pandas>=0.24->catboost) (2025.2)\n",
            "Requirement already satisfied: contourpy>=1.0.1 in /usr/local/lib/python3.12/dist-packages (from matplotlib->catboost) (1.3.3)\n",
            "Requirement already satisfied: cycler>=0.10 in /usr/local/lib/python3.12/dist-packages (from matplotlib->catboost) (0.12.1)\n",
            "Requirement already satisfied: fonttools>=4.22.0 in /usr/local/lib/python3.12/dist-packages (from matplotlib->catboost) (4.59.2)\n",
            "Requirement already satisfied: kiwisolver>=1.3.1 in /usr/local/lib/python3.12/dist-packages (from matplotlib->catboost) (1.4.9)\n",
            "Requirement already satisfied: packaging>=20.0 in /usr/local/lib/python3.12/dist-packages (from matplotlib->catboost) (25.0)\n",
            "Requirement already satisfied: pillow>=8 in /usr/local/lib/python3.12/dist-packages (from matplotlib->catboost) (11.3.0)\n",
            "Requirement already satisfied: pyparsing>=2.3.1 in /usr/local/lib/python3.12/dist-packages (from matplotlib->catboost) (3.2.3)\n",
            "Requirement already satisfied: tenacity>=6.2.0 in /usr/local/lib/python3.12/dist-packages (from plotly->catboost) (8.5.0)\n"
          ]
        }
      ],
      "source": [
        "!pip install catboost"
      ]
    },
    {
      "cell_type": "code",
      "execution_count": null,
      "metadata": {
        "colab": {
          "base_uri": "https://localhost:8080/"
        },
        "id": "qnPNieZTJLaD",
        "outputId": "76e85bc0-2c5d-4723-e544-f458e7e94143"
      },
      "outputs": [
        {
          "name": "stdout",
          "output_type": "stream",
          "text": [
            "<class 'pandas.core.frame.DataFrame'>\n",
            "RangeIndex: 36238 entries, 0 to 36237\n",
            "Data columns (total 36 columns):\n",
            " #   Column                                Non-Null Count  Dtype         \n",
            "---  ------                                --------------  -----         \n",
            " 0   no_of_adults                          36238 non-null  int64         \n",
            " 1   no_of_children                        36238 non-null  int64         \n",
            " 2   no_of_weekend_nights                  36238 non-null  int64         \n",
            " 3   no_of_week_nights                     36238 non-null  int64         \n",
            " 4   type_of_meal_plan                     36238 non-null  int64         \n",
            " 5   required_car_parking_space            36238 non-null  int64         \n",
            " 6   room_type_reserved                    36238 non-null  int64         \n",
            " 7   lead_time                             36238 non-null  int64         \n",
            " 8   arrival_month                         36238 non-null  int64         \n",
            " 9   market_segment_type                   36238 non-null  int64         \n",
            " 10  repeated_guest                        36238 non-null  int64         \n",
            " 11  no_of_previous_cancellations          36238 non-null  int64         \n",
            " 12  no_of_previous_bookings_not_canceled  36238 non-null  int64         \n",
            " 13  avg_price_per_room                    36238 non-null  float64       \n",
            " 14  no_of_special_requests                36238 non-null  int64         \n",
            " 15  booking_status                        36238 non-null  object        \n",
            " 16  arrival_date_full                     36238 non-null  datetime64[ns]\n",
            " 17  total_nights                          36238 non-null  int64         \n",
            " 18  lead_time_group                       36238 non-null  category      \n",
            " 19  avg_price_per_night                   36238 non-null  float64       \n",
            " 20  total_guests                          36238 non-null  int64         \n",
            " 21  has_children                          36238 non-null  int64         \n",
            " 22  cancel_ratio                          36238 non-null  float64       \n",
            " 23  has_prev_booking                      36238 non-null  int64         \n",
            " 24  is_peak                               36238 non-null  int64         \n",
            " 25  no_meal_plan                          36238 non-null  int64         \n",
            " 26  arrival_day_of_week                   36238 non-null  int32         \n",
            " 27  month_sin                             36238 non-null  float64       \n",
            " 28  month_cos                             36238 non-null  float64       \n",
            " 29  dow_sin                               36238 non-null  float64       \n",
            " 30  dow_cos                               36238 non-null  float64       \n",
            " 31  price_per_guest                       36238 non-null  float64       \n",
            " 32  peak_price                            36238 non-null  float64       \n",
            " 33  log_lead_time                         36238 non-null  float64       \n",
            " 34  lead_x_month                          36238 non-null  int64         \n",
            " 35  ever_canceled                         36238 non-null  int64         \n",
            "dtypes: category(1), datetime64[ns](1), float64(10), int32(1), int64(22), object(1)\n",
            "memory usage: 9.6+ MB\n"
          ]
        }
      ],
      "source": [
        "hotel.info()"
      ]
    },
    {
      "cell_type": "markdown",
      "metadata": {
        "id": "Cj9j8JT1TXy_"
      },
      "source": [
        "###1. CatBoost 학습"
      ]
    },
    {
      "cell_type": "code",
      "execution_count": null,
      "metadata": {
        "colab": {
          "base_uri": "https://localhost:8080/"
        },
        "id": "TT-zqMq_NW1e",
        "outputId": "b3f491a7-e779-44d0-9165-8ee1f85879d0"
      },
      "outputs": [
        {
          "name": "stdout",
          "output_type": "stream",
          "text": [
            "best iter: 499\n",
            "best score: {'learn': {'Logloss': 0.24829717210138383}, 'validation': {'Logloss': 0.2881138805634168, 'AUC': 0.9494502444394686}}\n"
          ]
        }
      ],
      "source": [
        "from sklearn.model_selection import train_test_split\n",
        "from catboost import CatBoostClassifier, Pool\n",
        "\n",
        "# 타깃\n",
        "y = (hotel[\"booking_status\"] == \"Canceled\").astype(int)\n",
        "\n",
        "# 입력 컬럼 (불필요 컬럼 제외)\n",
        "drop_cols = [\"booking_status\", \"arrival_date_full\"]  # 필요시 \"Booking_ID\",\"arrival_year\",\"arrival_date\"도 제외\n",
        "X = hotel.drop(columns=drop_cols).copy()\n",
        "\n",
        "# 범주형 컬럼 표시\n",
        "cat_cols = [\"type_of_meal_plan\",\"room_type_reserved\",\"market_segment_type\",\"lead_time_group\"]\n",
        "for c in cat_cols:\n",
        "    if c in X.columns:\n",
        "        X[c] = X[c].astype(\"category\")\n",
        "\n",
        "# train/test 분리 (규칙 고정: test_size=0.2, random_state=42)\n",
        "X_train, X_test, y_train, y_test = train_test_split(\n",
        "    X, y, test_size=0.2, stratify=y, random_state=42\n",
        ")\n",
        "\n",
        "# 클래스 가중치 계산\n",
        "N  = len(y_train)\n",
        "n1 = int(y_train.sum())\n",
        "n0 = N - n1\n",
        "class_weights = [N/(2*n0), N/(2*n1)]  # [weight_for_class0, weight_for_class1]\n",
        "\n",
        "# CatBoost Pool 생성\n",
        "cat_idx = [X_train.columns.get_loc(c) for c in cat_cols if c in X_train.columns]\n",
        "train_pool = Pool(X_train, y_train, cat_features=cat_idx)\n",
        "valid_pool = Pool(X_test,  y_test,  cat_features=cat_idx)\n",
        "\n",
        "#학습\n",
        "params = dict(\n",
        "    iterations=500,\n",
        "    depth=6,\n",
        "    learning_rate=0.07,\n",
        "    l2_leaf_reg=3.0,\n",
        "    loss_function=\"Logloss\",\n",
        "    eval_metric=\"AUC\",\n",
        "    random_seed=42,\n",
        "    early_stopping_rounds=100,\n",
        "    verbose=False,\n",
        "    class_weights=class_weights\n",
        ")\n",
        "model = CatBoostClassifier(**params)\n",
        "model.fit(train_pool, eval_set=valid_pool, verbose=False)\n",
        "\n",
        "print(\"best iter:\", model.get_best_iteration())\n",
        "print(\"best score:\", model.get_best_score())\n"
      ]
    },
    {
      "cell_type": "markdown",
      "metadata": {
        "id": "zh3XGDcgKzEW"
      },
      "source": [
        "- 'learn': {'Logloss': 0.248...}\n",
        "\n",
        "→ 학습(train) 데이터에서의 로그손실(Logloss).\n",
        "\n",
        "(0.248 → 꽤 낮음): 모델이 잘 맞췄다\n",
        "\n",
        "- 'validation': {'Logloss': 0.288..., 'AUC': 0.949...}\n",
        "\n",
        "→ 검증(validation) 데이터에서의 성능 지표\n",
        "\n",
        "Logloss = 0.288 : 모델 예측 확률이 정답에 얼마나 잘 맞는지 보여줌 → 낮을수록 좋음.\n",
        "\n",
        "AUC = 0.949 : 매우 높은 성능"
      ]
    },
    {
      "cell_type": "markdown",
      "metadata": {
        "id": "gJ2er_lVOqHi"
      },
      "source": [
        "###2. 테스트셋 성능 평가"
      ]
    },
    {
      "cell_type": "code",
      "execution_count": null,
      "metadata": {
        "colab": {
          "base_uri": "https://localhost:8080/"
        },
        "id": "bbjevBzELbEp",
        "outputId": "588973c5-a904-45c8-fbc1-33e0b8c46e0a"
      },
      "outputs": [
        {
          "name": "stdout",
          "output_type": "stream",
          "text": [
            "AUC       : 0.9494502444394687\n",
            "PR-AUC    : 0.9161922572019766\n",
            "LogLoss   : 0.2872328302057037\n",
            "Accuracy  : 0.8733443708609272\n",
            "Precision : 0.7788829380260138   Recall: 0.8569023569023569   F1: 0.8160320641282565\n",
            "Confusion Matrix\n",
            " [[4294  578]\n",
            " [ 340 2036]]\n"
          ]
        }
      ],
      "source": [
        "from sklearn.metrics import (roc_auc_score, average_precision_score, log_loss,\n",
        "                             accuracy_score, precision_recall_fscore_support,\n",
        "                             confusion_matrix)\n",
        "\n",
        "proba = model.predict_proba(X_test)[:, 1]\n",
        "pred05 = (proba >= 0.50).astype(int)\n",
        "\n",
        "print(\"AUC       :\", roc_auc_score(y_test, proba))\n",
        "print(\"PR-AUC    :\", average_precision_score(y_test, proba))\n",
        "print(\"LogLoss   :\", log_loss(y_test, proba))\n",
        "print(\"Accuracy  :\", accuracy_score(y_test, pred05))\n",
        "p,r,f,_ = precision_recall_fscore_support(y_test, pred05, average=\"binary\")\n",
        "print(\"Precision :\", p, \"  Recall:\", r, \"  F1:\", f)\n",
        "print(\"Confusion Matrix\\n\", confusion_matrix(y_test, pred05))\n"
      ]
    },
    {
      "cell_type": "markdown",
      "metadata": {
        "id": "d2MI9prmPaVy"
      },
      "source": [
        "**<결과 해석(임계값 0.50 기준)>**\n",
        "\n",
        "\n",
        "\n",
        "AUC = 0.949 / PR-AUC = 0.916\n",
        "\n",
        "→ 확률 점수의 순위화 품질이 매우 높음(랜덤 0.5 대비 훨씬 우수). 불균형 상황에서도 양성(취소) 구분을 잘함.\n",
        "\n",
        "LogLoss = 0.287\n",
        "\n",
        "→ 예측 확률이 실제 라벨과 잘 맞음(확률 보정 수준도 양호한 편).\n",
        "\n",
        "Accuracy = 0.873\n",
        "\n",
        "→ 전체의 87.3%를 맞춤(하지만 비용이 다른 문제에선 Accuracy만으론 판단 불가).\n",
        "\n",
        "Precision = 0.779 / Recall = 0.857 / F1 = 0.816\n",
        "\n",
        "→ 취소라고 알린 예약 중 77.9%가 실제 취소, 실제 취소 중 85.7%를 잡아냄.\n",
        "\n",
        "Confusion Matrix (y=0: Not_Canceled, y=1: Canceled)\n",
        "\n",
        "[[TN  FP],\n",
        "\n",
        " [FN  TP]]\n",
        "\n",
        "[[4294  578],\n",
        "\n",
        " [ 340 2036]]\n",
        "\n",
        "\n",
        "TN=4294: 정상 예약을 정상으로 판단\n",
        "\n",
        "FP=578: 정상인데 취소라고 경고(과잉 경보)\n",
        "\n",
        "FN=340: 실제 취소를 놓침\n",
        "\n",
        "TP=2036: 취소를 정확히 잡음\n",
        "\n",
        "**[해석]**\n",
        "\n",
        "“취소를 놓치지 않겠다”가 중요하면 Recall 0.857은 꽤 좋음. 다만 FP=578건의 과잉 경보가 있어 운영비용(불필요한 연락/보증요청 등)을 고려해 임계값을 조정할 수 있음.\n",
        "\n",
        "랭킹 품질(AUC, PR-AUC)이 매우 높으므로, 상위 k% 고객에 집중하는 운영(예: 상위 10%에 사전확인/알림 강화)으로도 효과적."
      ]
    },
    {
      "cell_type": "markdown",
      "metadata": {
        "id": "4TVHhgOOOsnm"
      },
      "source": [
        "###3. 임계값(Threshold) 튜닝 (F1 기준)"
      ]
    },
    {
      "cell_type": "code",
      "execution_count": null,
      "metadata": {
        "colab": {
          "base_uri": "https://localhost:8080/"
        },
        "id": "-NY7pkerOnys",
        "outputId": "a94e0527-ba07-4bcc-a105-9f15ed3c6ac4"
      },
      "outputs": [
        {
          "name": "stdout",
          "output_type": "stream",
          "text": [
            "Best threshold by F1: 0.640  (P=0.846, R=0.806, F1=0.825)\n",
            "Confusion @ best_t\n",
            " [[4524  348]\n",
            " [ 462 1914]]\n"
          ]
        }
      ],
      "source": [
        "import numpy as np\n",
        "from sklearn.metrics import precision_recall_fscore_support\n",
        "\n",
        "ths = np.linspace(0.1, 0.9, 81)\n",
        "stats = []\n",
        "for t in ths:\n",
        "    pred = (proba >= t).astype(int)\n",
        "    p,r,f,_ = precision_recall_fscore_support(y_test, pred, average=\"binary\")\n",
        "    stats.append((t,p,r,f))\n",
        "best_t, best_p, best_r, best_f = sorted(stats, key=lambda x: x[3], reverse=True)[0]\n",
        "print(f\"Best threshold by F1: {best_t:.3f}  (P={best_p:.3f}, R={best_r:.3f}, F1={best_f:.3f})\")\n",
        "\n",
        "# 최적 임계값에서 혼동행렬\n",
        "best_pred = (proba >= best_t).astype(int)\n",
        "print(\"Confusion @ best_t\\n\", confusion_matrix(y_test, best_pred))\n"
      ]
    },
    {
      "cell_type": "markdown",
      "metadata": {
        "id": "YtKX9CYVRtwa"
      },
      "source": [
        "**<의미>**\n",
        "\n",
        "임계값을 0.50 → 0.64로 올리면\n",
        "\n",
        "오탐(FP): 578 → 348 (↓230) → 쓸데없는 경보가 많이 줄었음.\n",
        "\n",
        "미탐(FN): 340 → 462 (↑122) → 실제 취소를 더 많이 놓침.\n",
        "\n",
        "정밀도↑(0.78 ⇒ 0.85), 재현율↓(0.86 ⇒ 0.81), F1 소폭↑(0.816 ⇒ 0.825).\n",
        "\n",
        "특이도 0.881 ⇒ 0.928, FPR 0.119 ⇒ 0.071로 개선.\n",
        "\n",
        "\n",
        "\n",
        "**“과잉 경보를 줄이고 싶다”** 면 t=0.64가 더 적합(Precision↑, FP↓).\n",
        "\n",
        "**“실제 취소를 절대 놓치면 안 된다”** 면 t=0.50처럼 더 낮은 임계값이 낫다(Recall↑, FN↓).\n",
        "\n",
        "F1은 정밀도와 재현율을 동일 가중으로 본 지표라, 두 비용이 비슷하다고 볼 때 t=0.64 채택이 합리적."
      ]
    },
    {
      "cell_type": "markdown",
      "metadata": {
        "id": "vrJ0NuFjOwYW"
      },
      "source": [
        "###4. 변수 중요도 & SHAP (해석)\n",
        "\n",
        "- FeatureImportance: 트리를 분할할 때 손실을 얼마나 줄였는지의 누적 기여도(모델 내부 기준).\n",
        "\n",
        "- SHAP mean_abs_shap: 각 피처가 예측(로짓)에 미친 평균 절대 영향량. 값이 클수록 “영향이 큰 피처”.\n",
        "\n",
        "| 항목        | Feature Importance(CatBoost)    | Global SHAP Importance                     |\n",
        "| --------- | ------------------------------- | ------------------------------------------ |\n",
        "| 기준        | **학습 중 분할 이득(손실 감소)** 누적        | **예측 결과의 기여도(샘플별 SHAP)의 평균 크기**            |\n",
        "| 관점        | **모델이 트리를 어떻게 만들었는가**(학습 과정 중심) | **완성된 모델 예측을 누가 움직였는가**(예측 결과 중심)          |\n",
        "| 국소 vs. 전역 | 일부 구간에서 큰 이득이면 높아질 수 있음         | **전 샘플 평균**이므로 **넓게 고르게** 영향 주면 높아짐        |\n",
        "| 방향(↑/↓)   | 제공 안 함                          | 전역 막대는 방향 X, **개별 SHAP**으로 방향/비선형 확인       |\n",
        "| 상관/중복 변수  | 한 변수에 중요도가 **쏠리거나 분산**될 수 있음    | 상관 변수끼리는 **기여를 나눠 가짐**(완벽하진 않음)            |\n",
        "| 일관성       | 파라미터/시드 변화에 다소 민감할 수 있음         | 대체로 **설명 일관성**이 좋음(트리 모델은 TreeSHAP로 정확 계산) |\n",
        "\n",
        "\n",
        "\n",
        "Feature Importance ↑ & SHAP ↑: 모델도 자주/크게 썼고, 예측에도 넓게 큰 영향 → 핵심 피처.\n",
        "\n",
        "Feature Importance ↑ & SHAP ↓: 일부 구간에서만 큰 이득(스플릿)\n",
        "\n",
        "Feature Importance ↓ & SHAP ↑: 분할 이득은 작게 여러 번이지만 전반에 걸쳐 고르게 영향 → 규칙적으로 넓게 작동하는 피처."
      ]
    },
    {
      "cell_type": "code",
      "execution_count": null,
      "metadata": {
        "colab": {
          "base_uri": "https://localhost:8080/"
        },
        "id": "oIKj2KkBOuVq",
        "outputId": "a2430922-4ced-4bee-b1d0-820820db03cb"
      },
      "outputs": [
        {
          "name": "stdout",
          "output_type": "stream",
          "text": [
            "                       feature  importance\n",
            "14      no_of_special_requests   17.848313\n",
            "13          avg_price_per_room   12.154827\n",
            "7                    lead_time   11.644195\n",
            "9          market_segment_type   10.909389\n",
            "31               log_lead_time    7.147316\n",
            "32                lead_x_month    5.197806\n",
            "8                arrival_month    4.981733\n",
            "26                   month_cos    4.200087\n",
            "16             lead_time_group    3.773147\n",
            "29             price_per_guest    3.234266\n",
            "17         avg_price_per_night    3.068046\n",
            "3            no_of_week_nights    2.295416\n",
            "30                  peak_price    2.004316\n",
            "2         no_of_weekend_nights    1.943269\n",
            "5   required_car_parking_space    1.857147\n",
            "25                   month_sin    1.683130\n",
            "0                 no_of_adults    0.773884\n",
            "27                     dow_sin    0.695861\n",
            "15                total_nights    0.540137\n",
            "4            type_of_meal_plan    0.526304\n",
            "                       feature  mean_abs_shap\n",
            "14      no_of_special_requests       1.262906\n",
            "9          market_segment_type       0.815880\n",
            "7                    lead_time       0.709001\n",
            "13          avg_price_per_room       0.573623\n",
            "31               log_lead_time       0.446362\n",
            "32                lead_x_month       0.286566\n",
            "8                arrival_month       0.262204\n",
            "26                   month_cos       0.215810\n",
            "16             lead_time_group       0.179816\n",
            "5   required_car_parking_space       0.177160\n",
            "29             price_per_guest       0.158052\n",
            "17         avg_price_per_night       0.114845\n",
            "2         no_of_weekend_nights       0.114829\n",
            "3            no_of_week_nights       0.113442\n",
            "25                   month_sin       0.092887\n",
            "0                 no_of_adults       0.075266\n",
            "30                  peak_price       0.071530\n",
            "23                no_meal_plan       0.044614\n",
            "6           room_type_reserved       0.040317\n",
            "18                total_guests       0.037436\n"
          ]
        }
      ],
      "source": [
        "import pandas as pd\n",
        "\n",
        "# 1) 표준 중요도\n",
        "imp = model.get_feature_importance(train_pool, type=\"FeatureImportance\")\n",
        "fi = (pd.DataFrame({\"feature\": X_train.columns, \"importance\": imp})\n",
        "        .sort_values(\"importance\", ascending=False))\n",
        "print(fi.head(20))\n",
        "\n",
        "# 2) SHAP 전역 중요도\n",
        "shap_vals = model.get_feature_importance(data=train_pool, type=\"ShapValues\")\n",
        "shap_abs_mean = np.abs(shap_vals[:, :-1]).mean(axis=0)\n",
        "shap_df = (pd.DataFrame({\"feature\": X_train.columns, \"mean_abs_shap\": shap_abs_mean})\n",
        "             .sort_values(\"mean_abs_shap\", ascending=False))\n",
        "print(shap_df.head(20))\n",
        "\n"
      ]
    },
    {
      "cell_type": "markdown",
      "metadata": {
        "id": "0SpioameSJVB"
      },
      "source": [
        "**핵심 변수 요약(공통 상위권)**\n",
        "\n",
        "(Feature Importance가 높다는 건 그 변수가 취소/비취소를 가르는 데 강한 구분력을 제공한다는 뜻)\n",
        "\n",
        "1. no_of_special_requests\n",
        "\n",
        "- 최상위. “요청을 많이 남긴 예약”이 모델 예측에 큰 영향. (일반적으로는 취소 ↓ 쪽으로 작용하는 경우가 많음—의도/몰입도가 높으니)\n",
        "\n",
        "2. lead_time / log_lead_time (+ lead_time_group)\n",
        "\n",
        "- 리드타임 관련 변수가 모두 상위권 → 비선형성/구간 효과까지 유의미. 보통 리드타임이 길수록 취소 위험 ↑ 경향.\n",
        "\n",
        "3. market_segment_type\n",
        "\n",
        "- 세그먼트(Online/Offline 등)별 취소 패턴 차이가 큼.\n",
        "\n",
        "4. avg_price_per_room / price_per_guest / avg_price_per_night\n",
        "\n",
        "- 가격 수준이 취소에 의미 있게 관여.\n",
        "\n",
        "5. seasonality 변수: arrival_month, month_cos/sin, lead_x_month\n",
        "\n",
        "- 월·시즌 효과가 존재(성수기/비성수기).\n",
        "\n",
        "6. required_car_parking_space\n",
        "\n",
        "- 중상위권. 주차 필요 여부도 신호.\n",
        "\n",
        "- (상대적으로 하위) no_of_adults, total_guests, room_type_reserved 등은 영향이 작음.\n"
      ]
    },
    {
      "cell_type": "markdown",
      "metadata": {
        "id": "aRM6L4Bbfv12"
      },
      "source": [
        "###5. 시각화"
      ]
    },
    {
      "cell_type": "code",
      "execution_count": null,
      "metadata": {
        "colab": {
          "base_uri": "https://localhost:8080/",
          "height": 1000
        },
        "id": "X-MpyBeuTGpq",
        "outputId": "9030db2d-f127-49ee-f494-617b4d21f6b6"
      },
      "outputs": [
        {
          "data": {
            "image/png": "[encoded data removed]",
            "text/plain": [
              "<Figure size 800x600 with 1 Axes>"
            ]
          },
          "metadata": {},
          "output_type": "display_data"
        },
        {
          "data": {
            "image/png": "[encoded data removed]",
            "text/plain": [
              "<Figure size 800x600 with 1 Axes>"
            ]
          },
          "metadata": {},
          "output_type": "display_data"
        }
      ],
      "source": [
        "import numpy as np\n",
        "import pandas as pd\n",
        "import matplotlib.pyplot as plt\n",
        "\n",
        "# 0) 필요 객체 확인 후 준비\n",
        "# FeatureImportance DataFrame(fi) 없으면 새로 계산\n",
        "try:\n",
        "    fi\n",
        "except NameError:\n",
        "    imp = model.get_feature_importance(train_pool, type=\"FeatureImportance\")\n",
        "    fi  = (pd.DataFrame({\"feature\": X_train.columns, \"importance\": imp})\n",
        "             .sort_values(\"importance\", ascending=False))\n",
        "\n",
        "# SHAP 요약 DataFrame(shap_df) 없으면 빠르게 샘플링해서 계산\n",
        "try:\n",
        "    shap_df\n",
        "except NameError:\n",
        "    # 과부하 방지: 학습 데이터 일부만 사용 (최대 3000행)\n",
        "    n = min(len(X_train), 3000)\n",
        "    idx = np.random.RandomState(42).choice(len(X_train), size=n, replace=False)\n",
        "    sub_pool = train_pool.slice(idx)\n",
        "    shap_vals = model.get_feature_importance(data=sub_pool, type=\"ShapValues\")\n",
        "    shap_abs_mean = np.abs(shap_vals[:, :-1]).mean(axis=0)\n",
        "    shap_df = (pd.DataFrame({\"feature\": X_train.columns, \"mean_abs_shap\": shap_abs_mean})\n",
        "                 .sort_values(\"mean_abs_shap\", ascending=False))\n",
        "\n",
        "# 1) Feature Importance (Top 20)\n",
        "topk = 20\n",
        "fi_top = fi.head(topk).iloc[::-1]  # barh 가독성 위해 역순\n",
        "\n",
        "plt.figure(figsize=(8, 6))\n",
        "plt.barh(fi_top[\"feature\"], fi_top[\"importance\"])\n",
        "plt.xlabel(\"Feature Importance\")\n",
        "plt.title(\"CatBoost Feature Importance (Top 20)\")\n",
        "plt.tight_layout()\n",
        "plt.show()\n",
        "\n",
        "# 2) SHAP Mean |value| (Top 20)\n",
        "shap_top = shap_df.head(topk).iloc[::-1]\n",
        "\n",
        "plt.figure(figsize=(8, 6))\n",
        "plt.barh(shap_top[\"feature\"], shap_top[\"mean_abs_shap\"])\n",
        "plt.xlabel(\"Mean |SHAP value|\")\n",
        "plt.title(\"SHAP Importance (Top 20)\")\n",
        "plt.tight_layout()\n",
        "plt.show()\n"
      ]
    }
  ],
  "metadata": {
    "colab": {
      "provenance": [],
      "toc_visible": true,
      "include_colab_link": true
    },
    "kernelspec": {
      "display_name": "Python 3",
      "name": "python3"
    },
    "language_info": {
      "name": "python"
    }
  },
  "nbformat": 4,
  "nbformat_minor": 0
}